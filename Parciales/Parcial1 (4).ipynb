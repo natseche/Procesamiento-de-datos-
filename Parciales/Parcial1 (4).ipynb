{
 "cells": [
  {
   "cell_type": "markdown",
   "id": "9d1d7a99-0a61-4137-9c9e-1e770106aafc",
   "metadata": {},
   "source": [
    "Autores: Natalia Echeverry Salcedo y Sergio Barreto\n",
    "\n",
    "Fecha de Inicio: 03/08/2025\n",
    "\n",
    "Fecha actual: 08/08/2025\n",
    "## **Primer parcial Procesamietno de Datos**\n",
    "\n",
    "## **Problemática**\n",
    " Una compañía esta de fútbol esta en busca de un nuevo equipo, pero para esto necesita analizar tanto los jugadores ( de la liga 17-18) como los equipos para asegurarse que se esta realizando una selección correcta.  \n",
    "\n",
    "## **Objetivo**\n",
    "Implementar modelos de predicción utilizando la biblioteca de aprendizaje automático MLlib PySpark, con el fin de explicar y analizar los datos, para de esta manera lograr una buena selección de jugadores.  \n",
    "\n",
    "## **Metodología**\n",
    "1) Cargar y perfilar datos (resultados, temporadas.json, jugadores).  \n",
    "2) Seleccionar 6 variables clave por dataset y limpiar.  \n",
    "3) Generar descriptivos y  visualizaciones.  \n",
    "4) Hallazgos: equipos más fuertes por goles/victorias y posiciones/jugadores con mejor relación rendimiento–costo.  \n",
    "5) Conclusiones y/o recomendaciones.\n"
   ]
  },
  {
   "cell_type": "markdown",
   "id": "0d9bdfd0-396a-4a9b-8dfb-5e4b45f12d9c",
   "metadata": {},
   "source": [
    "1. Importación de bibliotecas"
   ]
  },
  {
   "cell_type": "code",
   "execution_count": 1,
   "id": "5b16dc12-1898-421b-93af-c230ee07b312",
   "metadata": {},
   "outputs": [],
   "source": [
    "#BIBLIOTECAS INICIALES\n",
    "import os\n",
    "import pandas as pd\n",
    "import numpy as np\n",
    "import matplotlib.pyplot as plt\n",
    "import seaborn as sns\n",
    "import geopandas as gpd\n",
    "import matplotlib.pyplot as plt\n",
    "import json\n",
    "import os\n",
    "import pandas as pd\n",
    "\n",
    "ruta_json = \"/json/temporadas.json\"\n",
    "#Bibliotecas especializadas\n",
    "from pylab import *"
   ]
  },
  {
   "cell_type": "code",
   "execution_count": 2,
   "id": "33a59dfe-53cc-44e8-8f67-7f9a9c1b10cd",
   "metadata": {},
   "outputs": [],
   "source": [
    "#Bibliotecas de PySpark, mllib Y contexto para levantar la sesion de pyspark\n",
    "\n",
    "#Busqueda e inicialización para pyspark\n",
    "import findspark\n",
    "findspark.init()\n",
    "\n",
    "from pyspark import SparkContext, SparkConf\n",
    "from pyspark.sql import SparkSession, SQLContext\n",
    "from pyspark.sql.types import *\n",
    "import pyspark.sql.functions as F #Acceso a todas las funciones\n",
    "from pyspark.ml.evaluation import RegressionEvaluator\n",
    "from pyspark.sql import SparkSession"
   ]
  },
  {
   "cell_type": "code",
   "execution_count": 3,
   "id": "5df3ef77-0fee-4f0e-9651-84753d9454f3",
   "metadata": {},
   "outputs": [
    {
     "name": "stderr",
     "output_type": "stream",
     "text": [
      "Setting default log level to \"WARN\".\n",
      "To adjust logging level use sc.setLogLevel(newLevel). For SparkR, use setLogLevel(newLevel).\n",
      "25/09/08 18:21:19 WARN NativeCodeLoader: Unable to load native-hadoop library for your platform... using builtin-java classes where applicable\n",
      "25/09/08 18:21:19 WARN Utils: Service 'SparkUI' could not bind on port 4040. Attempting port 4041.\n"
     ]
    },
    {
     "name": "stdout",
     "output_type": "stream",
     "text": [
      "Sesión Cluster HPC: ParcialNESB 03/08/2025\n"
     ]
    },
    {
     "data": {
      "text/html": [
       "\n",
       "            <div>\n",
       "                <p><b>SparkSession - in-memory</b></p>\n",
       "                \n",
       "        <div>\n",
       "            <p><b>SparkContext</b></p>\n",
       "\n",
       "            <p><a href=\"http://clusterhpc:4041\">Spark UI</a></p>\n",
       "\n",
       "            <dl>\n",
       "              <dt>Version</dt>\n",
       "                <dd><code>v3.5.5</code></dd>\n",
       "              <dt>Master</dt>\n",
       "                <dd><code>spark://10.195.34.34:7077</code></dd>\n",
       "              <dt>AppName</dt>\n",
       "                <dd><code>HPC_ParcialNESB</code></dd>\n",
       "            </dl>\n",
       "        </div>\n",
       "        \n",
       "            </div>\n",
       "        "
      ],
      "text/plain": [
       "<pyspark.sql.session.SparkSession at 0x7be203e0f3b0>"
      ]
     },
     "execution_count": 3,
     "metadata": {},
     "output_type": "execute_result"
    }
   ],
   "source": [
    "#Se crea una sesion para hacer el contexto de procesamiento desde mi Cuota del Cluster HPC\n",
    "from pyspark import SparkConf\n",
    "#Se levanta la configuracion\n",
    "configura = SparkConf().set(\"spark.scheduler.mode\", \"FAIR\")\n",
    "configura.setAppName(\"HPC_ParcialNESB\")\n",
    "\n",
    "spark04 = SparkSession.builder.config(conf=configura).getOrCreate()\n",
    "SQLContext(sparkContext=spark04.sparkContext, sparkSession=spark04)\n",
    "\n",
    "contextoSpark04 = spark04.sparkContext.getOrCreate()\n",
    "\n",
    "print(\"Sesión Cluster HPC: ParcialNESB 03/08/2025\")\n",
    "spark04"
   ]
  },
  {
   "cell_type": "markdown",
   "id": "55a5f315-b926-46ae-989c-36e6c29e38ca",
   "metadata": {},
   "source": [
    "2. Carga de datos desde el IDRIVE"
   ]
  },
  {
   "cell_type": "code",
   "execution_count": 4,
   "id": "6701b18a-1366-48b3-aa1a-1d26462fc16f",
   "metadata": {},
   "outputs": [
    {
     "name": "stdout",
     "output_type": "stream",
     "text": [
      "Cantidad de CPU's en mi sesion: 3\n",
      "[('spark.app.submitTime', '1757373678960'), ('spark.dynamicAllocation.minExecutors', '1'), ('spark.ui.view.acls', '*'), ('spark.dynamicAllocation.initialExecutors', '2'), ('spark.eventLog.enabled', 'true'), ('spark.kryoserializer.buffer.max', '512m'), ('spark.memory.fraction', '0.7'), ('spark.history.fs.logDirectory', '/mnt/sda1/Cluster/Spark/histLog'), ('spark.dynamicAllocation.schedulerBacklogTimeout', '1s'), ('spark.executor.cores', '4'), ('spark.cores.max', '36'), ('spark.serializer', 'org.apache.spark.serializer.KryoSerializer'), ('spark.scheduler.allocation.file', '/mnt/sda1/Cluster/Spark/conf/fairscheduler.xml'), ('spark.io.compression.codec', 'lz4'), ('spark.driver.port', '20371'), ('spark.executor.instances', '2'), ('spark.network.timeout', '400s'), ('spark.executor.memory', '10G'), ('spark.serializer.objectStreamReset', '100'), ('spark.dynamicAllocation.maxExecutors', '6'), ('spark.dynamicAllocation.executorIdleTimeout', '60s'), ('spark.submit.deployMode', 'client'), ('spark.app.name', 'HPC_ParcialNESB'), ('spark.sql.shuffle.partitions', '168'), ('spark.app.id', 'app-20250908182119-0005'), ('spark.driver.host', 'clusterhpc'), ('spark.executor.instances.max', '14'), ('spark.master', 'spark://10.195.34.34:7077'), ('spark.driver.extraJavaOptions', '-Djava.net.preferIPv6Addresses=false -XX:+IgnoreUnrecognizedVMOptions --add-opens=java.base/java.lang=ALL-UNNAMED --add-opens=java.base/java.lang.invoke=ALL-UNNAMED --add-opens=java.base/java.lang.reflect=ALL-UNNAMED --add-opens=java.base/java.io=ALL-UNNAMED --add-opens=java.base/java.net=ALL-UNNAMED --add-opens=java.base/java.nio=ALL-UNNAMED --add-opens=java.base/java.util=ALL-UNNAMED --add-opens=java.base/java.util.concurrent=ALL-UNNAMED --add-opens=java.base/java.util.concurrent.atomic=ALL-UNNAMED --add-opens=java.base/jdk.internal.ref=ALL-UNNAMED --add-opens=java.base/sun.nio.ch=ALL-UNNAMED --add-opens=java.base/sun.nio.cs=ALL-UNNAMED --add-opens=java.base/sun.security.action=ALL-UNNAMED --add-opens=java.base/sun.util.calendar=ALL-UNNAMED --add-opens=java.security.jgss/sun.security.krb5=ALL-UNNAMED -Djdk.reflect.useDirectMethodHandle=false'), ('spark.app.startTime', '1757373679049'), ('spark.shuffle.service.enabled', 'true'), ('spark.default.parallelism', '168'), ('spark.driver.cores', '2'), ('spark.shuffle.compress', 'true'), ('spark.scheduler.mode', 'FAIR'), ('spark.executor.id', 'driver'), ('spark.driver.memory', '10G'), ('spark.modify.acls', '*'), ('spark.shuffle.spill.compress', 'true'), ('spark.rdd.compress', 'true'), ('spark.eventLog.dir', '/mnt/sda1/Cluster/Spark/histLog'), ('spark.sql.warehouse.dir', 'file:/home/usuario04/spark-warehouse'), ('spark.memory.storageFraction', '0.4'), ('spark.executor.extraJavaOptions', '-Djava.net.preferIPv6Addresses=false -XX:+IgnoreUnrecognizedVMOptions --add-opens=java.base/java.lang=ALL-UNNAMED --add-opens=java.base/java.lang.invoke=ALL-UNNAMED --add-opens=java.base/java.lang.reflect=ALL-UNNAMED --add-opens=java.base/java.io=ALL-UNNAMED --add-opens=java.base/java.net=ALL-UNNAMED --add-opens=java.base/java.nio=ALL-UNNAMED --add-opens=java.base/java.util=ALL-UNNAMED --add-opens=java.base/java.util.concurrent=ALL-UNNAMED --add-opens=java.base/java.util.concurrent.atomic=ALL-UNNAMED --add-opens=java.base/jdk.internal.ref=ALL-UNNAMED --add-opens=java.base/sun.nio.ch=ALL-UNNAMED --add-opens=java.base/sun.nio.cs=ALL-UNNAMED --add-opens=java.base/sun.security.action=ALL-UNNAMED --add-opens=java.base/sun.util.calendar=ALL-UNNAMED --add-opens=java.security.jgss/sun.security.krb5=ALL-UNNAMED -Djdk.reflect.useDirectMethodHandle=false'), ('spark.locality.wait', '60s'), ('spark.executor.memoryOverhead', '8G'), ('spark.submit.pyFiles', ''), ('spark.dynamicAllocation.enabled', 'true'), ('spark.acls.enable', 'true'), ('spark.driver.memoryOverhead', '4G'), ('spark.admin.acls', '*'), ('spark.ui.showConsoleProgress', 'true')]\n"
     ]
    }
   ],
   "source": [
    "#Como se esta desde un servidor que no es mio, y ni siquiera lo he implementado, requiero saber que configuracion de HW me han dado a mi cuenta de sesion\n",
    "#Adicional como cientifico que soy, tambien como hacer un cluster par asaber todo eso de implementacion de cluster\n",
    "cantCPUS =spark04._jsc.sc().getExecutorMemoryStatus().keySet().size()\n",
    "print(f\"Cantidad de CPU's en mi sesion: {cantCPUS}\")\n",
    "print (spark04.sparkContext.getConf().getAll())"
   ]
  },
  {
   "cell_type": "code",
   "execution_count": 5,
   "id": "0b5abd5e-e656-47a0-99d0-7fa0f053b500",
   "metadata": {},
   "outputs": [
    {
     "name": "stdout",
     "output_type": "stream",
     "text": [
      "Found 4 items\n",
      "drwxr-xr-x   - sistemas  supergroup          0 2025-09-02 13:22 /csv\n",
      "drwxr-xr-x   - sistemas  supergroup          0 2025-09-02 13:23 /json\n",
      "drwxr-xr-x   - sistemas  supergroup          0 2025-09-02 16:56 /parquet\n",
      "drwxrwxr-x+  - userpm025 supergroup          0 2025-09-01 12:48 /pm25\n"
     ]
    }
   ],
   "source": [
    "!$HADOOP_HOME/bin/hadoop fs -ls /"
   ]
  },
  {
   "cell_type": "code",
   "execution_count": 6,
   "id": "47e1eb3f-1edc-41fb-a713-366818514d19",
   "metadata": {},
   "outputs": [
    {
     "name": "stdout",
     "output_type": "stream",
     "text": [
      "Found 7 items\n",
      "-rw-r--r--   2 sistemas supergroup      40868 2025-07-07 15:41 /csv/Fortune500USCompanies.csv\n",
      "-rw-r--r--   2 sistemas supergroup      34635 2025-09-02 13:22 /csv/jugadores.csv\n",
      "-rw-r--r--   2 sistemas supergroup 1648942196 2025-06-20 12:32 /csv/metadata.csv\n",
      "-rw-r--r--   2 sistemas supergroup    1082023 2025-09-02 13:22 /csv/resultados_futbol.csv\n",
      "-rw-r--r--   2 sistemas supergroup     316971 2025-06-10 09:11 /csv/stroke_pyspark.csv\n",
      "drwxr-xr-x   - sistemas supergroup          0 2025-06-18 15:36 /csv/taxi\n",
      "-rw-r--r--   2 sistemas supergroup      48036 2025-06-12 14:31 /csv/waterquality.csv\n"
     ]
    }
   ],
   "source": [
    "!$HADOOP_HOME/bin/hadoop fs -ls /csv"
   ]
  },
  {
   "cell_type": "code",
   "execution_count": 7,
   "id": "4bdd1e7a-c709-44c3-b72a-883755d64f4f",
   "metadata": {},
   "outputs": [
    {
     "name": "stderr",
     "output_type": "stream",
     "text": [
      "                                                                                "
     ]
    },
    {
     "name": "stdout",
     "output_type": "stream",
     "text": [
      "+--------------------+-------+---+--------+------------+------------+----------+---------+-------+----------+------+--------------+-----------+-------+-------+--------+-----------+\n",
      "|                name|   club|age|position|position_cat|market_value|page_views|fpl_value|fpl_sel|fpl_points|region|   nationality|new_foreign|age_cat|club_id|big_club|new_signing|\n",
      "+--------------------+-------+---+--------+------------+------------+----------+---------+-------+----------+------+--------------+-----------+-------+-------+--------+-----------+\n",
      "|      Alexis Sanchez|Arsenal| 28|      LW|           1|          65|      4329|       12| 17.10%|       264|     3|         Chile|          0|      4|      1|       1|          0|\n",
      "|          Mesut Ozil|Arsenal| 28|      AM|           1|          50|      4395|      9.5|  5.60%|       167|     2|       Germany|          0|      4|      1|       1|          0|\n",
      "|           Petr Cech|Arsenal| 35|      GK|           4|           7|      1529|      5.5|  5.90%|       134|     2|Czech Republic|          0|      6|      1|       1|          0|\n",
      "|        Theo Walcott|Arsenal| 28|      RW|           1|          20|      2393|      7.5|  1.50%|       122|     1|       England|          0|      4|      1|       1|          0|\n",
      "|   Laurent Koscielny|Arsenal| 31|      CB|           3|          22|       912|        6|  0.70%|       121|     2|        France|          0|      4|      1|       1|          0|\n",
      "|     Hector Bellerin|Arsenal| 22|      RB|           3|          30|      1675|        6| 13.70%|       119|     2|         Spain|          0|      2|      1|       1|          0|\n",
      "|      Olivier Giroud|Arsenal| 30|      CF|           1|          22|      2230|      8.5|  2.50%|       116|     2|        France|          0|      4|      1|       1|          0|\n",
      "|       Nacho Monreal|Arsenal| 31|      LB|           3|          13|       555|      5.5|  4.70%|       115|     2|         Spain|          0|      4|      1|       1|          0|\n",
      "|    Shkodran Mustafi|Arsenal| 25|      CB|           3|          30|      1877|      5.5|  4.00%|        90|     2|       Germany|          0|      3|      1|       1|          1|\n",
      "|          Alex Iwobi|Arsenal| 21|      LW|           1|          10|      1812|      5.5|  1.00%|        89|     4|       Nigeria|          0|      1|      1|       1|          0|\n",
      "|        Granit Xhaka|Arsenal| 24|      DM|           2|          35|      1815|      5.5|  2.00%|        85|     2|   Switzerland|          0|      2|      1|       1|          0|\n",
      "|Alex Oxlade-Chamb...|Arsenal| 23|      RM|           2|          22|      1519|        6|  1.80%|        83|     1|       England|          0|      2|      1|       1|          0|\n",
      "|       Jack Wilshere|Arsenal| 25|      CM|           2|          18|      1759|      5.5|  0.00%|        61|     1|       England|          0|      3|      1|       1|          0|\n",
      "|        Aaron Ramsey|Arsenal| 26|      CM|           2|          35|      1040|        7|  5.10%|        56|     1|         Wales|          0|      3|      1|       1|          0|\n",
      "|    Francis Coquelin|Arsenal| 26|      DM|           2|          15|       549|      4.5|  1.70%|        52|     2|        France|          0|      3|      1|       1|          0|\n",
      "|    Gabriel Paulista|Arsenal| 26|      CB|           3|          13|       552|        5|  0.10%|        45|     3|        Brazil|          0|      3|      1|       1|          0|\n",
      "|        Kieran Gibbs|Arsenal| 27|      LB|           3|          10|       489|        5|  0.50%|        45|     1|       England|          0|      3|      1|       1|          0|\n",
      "|       Santi Cazorla|Arsenal| 32|      CM|           2|          12|       943|        7|  0.10%|        38|     2|         Spain|          0|      5|      1|       1|          0|\n",
      "|       Danny Welbeck|Arsenal| 26|      CF|           1|          15|      1521|      7.5|  0.50%|        37|     1|       England|          0|      3|      1|       1|          0|\n",
      "|         Rob Holding|Arsenal| 21|      CB|           3|           7|       666|        5|  1.70%|        32|     1|       England|          0|      1|      1|       1|          1|\n",
      "+--------------------+-------+---+--------+------------+------------+----------+---------+-------+----------+------+--------------+-----------+-------+-------+--------+-----------+\n",
      "only showing top 20 rows\n",
      "\n"
     ]
    }
   ],
   "source": [
    "#Se carga el CSV de Jugadores como OBJETO DATAFRAME Pyspark \n",
    "\n",
    "df00 = spark04.read.format(\"csv\").option(\"header\",\"true\").load(\"hdfs://10.195.34.34:9000/csv/jugadores.csv\")\n",
    "\n",
    "#se requiere observar los primeros 20 datos cabecera\n",
    "df00.show(20)"
   ]
  },
  {
   "cell_type": "code",
   "execution_count": 8,
   "id": "68b378d8-2ca5-4983-8634-6772df07cbf9",
   "metadata": {},
   "outputs": [
    {
     "name": "stderr",
     "output_type": "stream",
     "text": [
      "                                                                                "
     ]
    },
    {
     "name": "stdout",
     "output_type": "stream",
     "text": [
      "+-------+--------------------+----------------+----------------+----+----+---+----+----+---+-------+---+---+---+---+---+---+---+---+---+---+---+---+\n",
      "| Season|            DateTime|        HomeTeam|        AwayTeam|FTHG|FTAG|FTR|HTHG|HTAG|HTR|Referee| HS| AS|HST|AST| HC| AC| HF| AF| HY| AY| HR| AR|\n",
      "+-------+--------------------+----------------+----------------+----+----+---+----+----+---+-------+---+---+---+---+---+---+---+---+---+---+---+---+\n",
      "|1993-94|1993-08-14T00:00:00Z|         Arsenal|        Coventry|   0|   3|  A|  NA|  NA| NA|     NA| NA| NA| NA| NA| NA| NA| NA| NA| NA| NA| NA| NA|\n",
      "|1993-94|1993-08-14T00:00:00Z|     Aston Villa|             QPR|   4|   1|  H|  NA|  NA| NA|     NA| NA| NA| NA| NA| NA| NA| NA| NA| NA| NA| NA| NA|\n",
      "|1993-94|1993-08-14T00:00:00Z|         Chelsea|       Blackburn|   1|   2|  A|  NA|  NA| NA|     NA| NA| NA| NA| NA| NA| NA| NA| NA| NA| NA| NA| NA|\n",
      "|1993-94|1993-08-14T00:00:00Z|       Liverpool|  Sheffield Weds|   2|   0|  H|  NA|  NA| NA|     NA| NA| NA| NA| NA| NA| NA| NA| NA| NA| NA| NA| NA|\n",
      "|1993-94|1993-08-14T00:00:00Z|        Man City|           Leeds|   1|   1|  D|  NA|  NA| NA|     NA| NA| NA| NA| NA| NA| NA| NA| NA| NA| NA| NA| NA|\n",
      "|1993-94|1993-08-14T00:00:00Z|       Newcastle|       Tottenham|   0|   1|  A|  NA|  NA| NA|     NA| NA| NA| NA| NA| NA| NA| NA| NA| NA| NA| NA| NA|\n",
      "|1993-94|1993-08-14T00:00:00Z|          Oldham|         Ipswich|   0|   3|  A|  NA|  NA| NA|     NA| NA| NA| NA| NA| NA| NA| NA| NA| NA| NA| NA| NA|\n",
      "|1993-94|1993-08-14T00:00:00Z|Sheffield United|         Swindon|   3|   1|  H|  NA|  NA| NA|     NA| NA| NA| NA| NA| NA| NA| NA| NA| NA| NA| NA| NA|\n",
      "|1993-94|1993-08-14T00:00:00Z|     Southampton|         Everton|   0|   2|  A|  NA|  NA| NA|     NA| NA| NA| NA| NA| NA| NA| NA| NA| NA| NA| NA| NA|\n",
      "|1993-94|1993-08-14T00:00:00Z|        West Ham|       Wimbledon|   0|   2|  A|  NA|  NA| NA|     NA| NA| NA| NA| NA| NA| NA| NA| NA| NA| NA| NA| NA|\n",
      "|1993-94|1993-08-15T00:00:00Z|         Norwich|      Man United|   0|   2|  A|  NA|  NA| NA|     NA| NA| NA| NA| NA| NA| NA| NA| NA| NA| NA| NA| NA|\n",
      "|1993-94|1993-08-16T00:00:00Z|       Tottenham|         Arsenal|   0|   1|  A|  NA|  NA| NA|     NA| NA| NA| NA| NA| NA| NA| NA| NA| NA| NA| NA| NA|\n",
      "|1993-94|1993-08-17T00:00:00Z|         Everton|        Man City|   1|   0|  H|  NA|  NA| NA|     NA| NA| NA| NA| NA| NA| NA| NA| NA| NA| NA| NA| NA|\n",
      "|1993-94|1993-08-17T00:00:00Z|         Ipswich|     Southampton|   1|   0|  H|  NA|  NA| NA|     NA| NA| NA| NA| NA| NA| NA| NA| NA| NA| NA| NA| NA|\n",
      "|1993-94|1993-08-17T00:00:00Z|           Leeds|        West Ham|   1|   0|  H|  NA|  NA| NA|     NA| NA| NA| NA| NA| NA| NA| NA| NA| NA| NA| NA| NA|\n",
      "|1993-94|1993-08-17T00:00:00Z|       Wimbledon|         Chelsea|   1|   1|  D|  NA|  NA| NA|     NA| NA| NA| NA| NA| NA| NA| NA| NA| NA| NA| NA| NA|\n",
      "|1993-94|1993-08-18T00:00:00Z|       Blackburn|         Norwich|   2|   3|  A|  NA|  NA| NA|     NA| NA| NA| NA| NA| NA| NA| NA| NA| NA| NA| NA| NA|\n",
      "|1993-94|1993-08-18T00:00:00Z|        Coventry|       Newcastle|   2|   1|  H|  NA|  NA| NA|     NA| NA| NA| NA| NA| NA| NA| NA| NA| NA| NA| NA| NA|\n",
      "|1993-94|1993-08-18T00:00:00Z|      Man United|Sheffield United|   3|   0|  H|  NA|  NA| NA|     NA| NA| NA| NA| NA| NA| NA| NA| NA| NA| NA| NA| NA|\n",
      "|1993-94|1993-08-18T00:00:00Z|             QPR|       Liverpool|   1|   3|  A|  NA|  NA| NA|     NA| NA| NA| NA| NA| NA| NA| NA| NA| NA| NA| NA| NA|\n",
      "+-------+--------------------+----------------+----------------+----+----+---+----+----+---+-------+---+---+---+---+---+---+---+---+---+---+---+---+\n",
      "only showing top 20 rows\n",
      "\n"
     ]
    }
   ],
   "source": [
    "#Se carga el CSV de Resultados futbol como OBJETO DATAFRAME Pyspark \n",
    "df01 = spark04.read.format(\"csv\").option(\"header\",\"true\").load(\"hdfs://10.195.34.34:9000/csv/resultados_futbol.csv\")\n",
    "\n",
    "#se requiere observar los primeros 20 datos cabecera\n",
    "df01.show(20)"
   ]
  },
  {
   "cell_type": "markdown",
   "id": "2928a281-effe-451a-9758-e77f2be40f38",
   "metadata": {},
   "source": [
    "3. Análisis y Preparación de Datos"
   ]
  },
  {
   "cell_type": "markdown",
   "id": "e60156b5-e135-4052-b771-2272319c017a",
   "metadata": {},
   "source": [
    "Se presentan datos en formato CSV con los diferentes parámetros de los jugadores y los resultados de los partidos. \n",
    "\n",
    "-Tipo de datos: coherencia de tipo de datos, transformación.\n",
    "\n",
    "-Columnas: conocimiento de las columnas, eliminación.\n",
    "\n",
    "-Analisis de datos nulos o imposibles: conocimiento"
   ]
  },
  {
   "cell_type": "code",
   "execution_count": 9,
   "id": "a4f00037-29d5-4afc-94ad-a5eaf3f1e579",
   "metadata": {},
   "outputs": [
    {
     "data": {
      "text/plain": [
       "['name',\n",
       " 'club',\n",
       " 'age',\n",
       " 'position',\n",
       " 'position_cat',\n",
       " 'market_value',\n",
       " 'page_views',\n",
       " 'fpl_value',\n",
       " 'fpl_sel',\n",
       " 'fpl_points',\n",
       " 'region',\n",
       " 'nationality',\n",
       " 'new_foreign',\n",
       " 'age_cat',\n",
       " 'club_id',\n",
       " 'big_club',\n",
       " 'new_signing']"
      ]
     },
     "execution_count": 9,
     "metadata": {},
     "output_type": "execute_result"
    }
   ],
   "source": [
    "#Conocimiento de las columnas de jugadores\n",
    "df00.columns"
   ]
  },
  {
   "cell_type": "code",
   "execution_count": 10,
   "id": "14e5ae33-20c3-4182-9777-f9572d78921b",
   "metadata": {},
   "outputs": [
    {
     "data": {
      "text/plain": [
       "['Season',\n",
       " 'DateTime',\n",
       " 'HomeTeam',\n",
       " 'AwayTeam',\n",
       " 'FTHG',\n",
       " 'FTAG',\n",
       " 'FTR',\n",
       " 'HTHG',\n",
       " 'HTAG',\n",
       " 'HTR',\n",
       " 'Referee',\n",
       " 'HS',\n",
       " 'AS',\n",
       " 'HST',\n",
       " 'AST',\n",
       " 'HC',\n",
       " 'AC',\n",
       " 'HF',\n",
       " 'AF',\n",
       " 'HY',\n",
       " 'AY',\n",
       " 'HR',\n",
       " 'AR']"
      ]
     },
     "execution_count": 10,
     "metadata": {},
     "output_type": "execute_result"
    }
   ],
   "source": [
    "#Conocimiento de las columnas de los resultados de los partidos\n",
    "df01.columns"
   ]
  },
  {
   "cell_type": "markdown",
   "id": "762047ae-8072-42d1-891c-64d424e1ce16",
   "metadata": {},
   "source": [
    "**Se presentan las estadísticas de datos a continuación:**"
   ]
  },
  {
   "cell_type": "code",
   "execution_count": 11,
   "id": "ea8724f9-4fe1-48ea-9b44-fa0ad569c9c7",
   "metadata": {},
   "outputs": [
    {
     "name": "stdout",
     "output_type": "stream",
     "text": [
      "+-------+------------------+\n",
      "|summary|              name|\n",
      "+-------+------------------+\n",
      "|  count|               461|\n",
      "|   mean|              NULL|\n",
      "| stddev|              NULL|\n",
      "|    min|   Aaron Cresswell|\n",
      "|    max|Åukasz FabiaÅ„ski|\n",
      "+-------+------------------+\n",
      "\n",
      "+-------+--------+\n",
      "|summary|    club|\n",
      "+-------+--------+\n",
      "|  count|     461|\n",
      "|   mean|    NULL|\n",
      "| stddev|    NULL|\n",
      "|    min| Arsenal|\n",
      "|    max|West+Ham|\n",
      "+-------+--------+\n",
      "\n",
      "+-------+------------------+\n",
      "|summary|               age|\n",
      "+-------+------------------+\n",
      "|  count|               461|\n",
      "|   mean| 26.80477223427332|\n",
      "| stddev|3.9618917037096124|\n",
      "|    min|                17|\n",
      "|    max|                38|\n",
      "+-------+------------------+\n",
      "\n",
      "+-------+--------+\n",
      "|summary|position|\n",
      "+-------+--------+\n",
      "|  count|     461|\n",
      "|   mean|    NULL|\n",
      "| stddev|    NULL|\n",
      "|    min|      AM|\n",
      "|    max|      SS|\n",
      "+-------+--------+\n",
      "\n",
      "+-------+------------------+\n",
      "|summary|      position_cat|\n",
      "+-------+------------------+\n",
      "|  count|               461|\n",
      "|   mean| 2.180043383947939|\n",
      "| stddev|1.0000613015257585|\n",
      "|    min|                 1|\n",
      "|    max|                 4|\n",
      "+-------+------------------+\n",
      "\n",
      "+-------+------------------+\n",
      "|summary|      market_value|\n",
      "+-------+------------------+\n",
      "|  count|               461|\n",
      "|   mean|11.012039045553143|\n",
      "| stddev|12.257402881461974|\n",
      "|    min|              0.05|\n",
      "|    max|                 9|\n",
      "+-------+------------------+\n",
      "\n",
      "+-------+-----------------+\n",
      "|summary|       page_views|\n",
      "+-------+-----------------+\n",
      "|  count|              461|\n",
      "|   mean|763.7765726681127|\n",
      "| stddev| 931.805757407049|\n",
      "|    min|              100|\n",
      "|    max|              998|\n",
      "+-------+-----------------+\n",
      "\n",
      "+-------+------------------+\n",
      "|summary|         fpl_value|\n",
      "+-------+------------------+\n",
      "|  count|               461|\n",
      "|   mean| 5.447939262472885|\n",
      "| stddev|1.3466952645024657|\n",
      "|    min|                10|\n",
      "|    max|               9.5|\n",
      "+-------+------------------+\n",
      "\n",
      "+-------+-------+\n",
      "|summary|fpl_sel|\n",
      "+-------+-------+\n",
      "|  count|    461|\n",
      "|   mean|   NULL|\n",
      "| stddev|   NULL|\n",
      "|    min|  0.00%|\n",
      "|    max|  9.70%|\n",
      "+-------+-------+\n",
      "\n",
      "+-------+------------------+\n",
      "|summary|        fpl_points|\n",
      "+-------+------------------+\n",
      "|  count|               461|\n",
      "|   mean| 57.31453362255965|\n",
      "| stddev|53.113811202817516|\n",
      "|    min|                 0|\n",
      "|    max|                99|\n",
      "+-------+------------------+\n",
      "\n",
      "+-------+------------------+\n",
      "|summary|            region|\n",
      "+-------+------------------+\n",
      "|  count|               461|\n",
      "|   mean|1.9934782608695651|\n",
      "| stddev|0.9576892519132099|\n",
      "|    min|                 1|\n",
      "|    max|                NA|\n",
      "+-------+------------------+\n",
      "\n",
      "+-------+-----------+\n",
      "|summary|nationality|\n",
      "+-------+-----------+\n",
      "|  count|        461|\n",
      "|   mean|       NULL|\n",
      "| stddev|       NULL|\n",
      "|    min|    Algeria|\n",
      "|    max|      Wales|\n",
      "+-------+-----------+\n",
      "\n",
      "+-------+-------------------+\n",
      "|summary|        new_foreign|\n",
      "+-------+-------------------+\n",
      "|  count|                461|\n",
      "|   mean|0.03470715835140998|\n",
      "| stddev| 0.1832359222089845|\n",
      "|    min|                  0|\n",
      "|    max|                  1|\n",
      "+-------+-------------------+\n",
      "\n",
      "+-------+------------------+\n",
      "|summary|           age_cat|\n",
      "+-------+------------------+\n",
      "|  count|               461|\n",
      "|   mean|3.2060737527114966|\n",
      "| stddev|1.2797953245771698|\n",
      "|    min|                 1|\n",
      "|    max|                 6|\n",
      "+-------+------------------+\n",
      "\n",
      "+-------+-----------------+\n",
      "|summary|          club_id|\n",
      "+-------+-----------------+\n",
      "|  count|              461|\n",
      "|   mean|10.33405639913232|\n",
      "| stddev|5.726474618238861|\n",
      "|    min|                1|\n",
      "|    max|                9|\n",
      "+-------+-----------------+\n",
      "\n",
      "+-------+-------------------+\n",
      "|summary|           big_club|\n",
      "+-------+-------------------+\n",
      "|  count|                461|\n",
      "|   mean| 0.3036876355748373|\n",
      "| stddev|0.46034894850566016|\n",
      "|    min|                  0|\n",
      "|    max|                  1|\n",
      "+-------+-------------------+\n",
      "\n",
      "+-------+-------------------+\n",
      "|summary|        new_signing|\n",
      "+-------+-------------------+\n",
      "|  count|                461|\n",
      "|   mean|0.14533622559652928|\n",
      "| stddev| 0.3528223869124414|\n",
      "|    min|                  0|\n",
      "|    max|                  1|\n",
      "+-------+-------------------+\n",
      "\n"
     ]
    }
   ],
   "source": [
    "#Jugadores\n",
    "for valor in df00.columns:\n",
    "  df00.describe([valor]).show()"
   ]
  },
  {
   "cell_type": "code",
   "execution_count": 12,
   "id": "2156503a-5906-4624-9b44-a623df6a041e",
   "metadata": {},
   "outputs": [
    {
     "name": "stdout",
     "output_type": "stream",
     "text": [
      "+-------+-------+\n",
      "|summary| Season|\n",
      "+-------+-------+\n",
      "|  count|  11113|\n",
      "|   mean|   NULL|\n",
      "| stddev|   NULL|\n",
      "|    min|1993-94|\n",
      "|    max|2021-22|\n",
      "+-------+-------+\n",
      "\n",
      "+-------+--------------------+\n",
      "|summary|            DateTime|\n",
      "+-------+--------------------+\n",
      "|  count|               11113|\n",
      "|   mean|                NULL|\n",
      "| stddev|                NULL|\n",
      "|    min|1993-08-14T00:00:00Z|\n",
      "|    max|2022-04-10T16:30:00Z|\n",
      "+-------+--------------------+\n",
      "\n",
      "+-------+--------+\n",
      "|summary|HomeTeam|\n",
      "+-------+--------+\n",
      "|  count|   11113|\n",
      "|   mean|    NULL|\n",
      "| stddev|    NULL|\n",
      "|    min| Arsenal|\n",
      "|    max|  Wolves|\n",
      "+-------+--------+\n",
      "\n",
      "+-------+--------+\n",
      "|summary|AwayTeam|\n",
      "+-------+--------+\n",
      "|  count|   11113|\n",
      "|   mean|    NULL|\n",
      "| stddev|    NULL|\n",
      "|    min| Arsenal|\n",
      "|    max|  Wolves|\n",
      "+-------+--------+\n",
      "\n",
      "+-------+------------------+\n",
      "|summary|              FTHG|\n",
      "+-------+------------------+\n",
      "|  count|             11113|\n",
      "|   mean| 1.518221902276613|\n",
      "| stddev|1.3019811033373436|\n",
      "|    min|                 0|\n",
      "|    max|                 9|\n",
      "+-------+------------------+\n",
      "\n",
      "+-------+-----------------+\n",
      "|summary|             FTAG|\n",
      "+-------+-----------------+\n",
      "|  count|            11113|\n",
      "|   mean|1.141455952488077|\n",
      "| stddev|1.135906505463743|\n",
      "|    min|                0|\n",
      "|    max|                9|\n",
      "+-------+-----------------+\n",
      "\n",
      "+-------+-----+\n",
      "|summary|  FTR|\n",
      "+-------+-----+\n",
      "|  count|11113|\n",
      "|   mean| NULL|\n",
      "| stddev| NULL|\n",
      "|    min|    A|\n",
      "|    max|    H|\n",
      "+-------+-----+\n",
      "\n",
      "+-------+------------------+\n",
      "|summary|              HTHG|\n",
      "+-------+------------------+\n",
      "|  count|             11113|\n",
      "|   mean|0.6847580724310531|\n",
      "| stddev|0.8362987830668789|\n",
      "|    min|                 0|\n",
      "|    max|                NA|\n",
      "+-------+------------------+\n",
      "\n",
      "+-------+------------------+\n",
      "|summary|              HTAG|\n",
      "+-------+------------------+\n",
      "|  count|             11113|\n",
      "|   mean|0.5010305231131612|\n",
      "| stddev|0.7222988740662402|\n",
      "|    min|                 0|\n",
      "|    max|                NA|\n",
      "+-------+------------------+\n",
      "\n",
      "+-------+-----+\n",
      "|summary|  HTR|\n",
      "+-------+-----+\n",
      "|  count|11113|\n",
      "|   mean| NULL|\n",
      "| stddev| NULL|\n",
      "|    min|    A|\n",
      "|    max|   NA|\n",
      "+-------+-----+\n",
      "\n",
      "+-------+---------+\n",
      "|summary|  Referee|\n",
      "+-------+---------+\n",
      "|  count|    11113|\n",
      "|   mean|     NULL|\n",
      "| stddev|     NULL|\n",
      "|    min| A D'Urso|\n",
      "|    max|�U Rennie|\n",
      "+-------+---------+\n",
      "\n",
      "+-------+-----------------+\n",
      "|summary|               HS|\n",
      "+-------+-----------------+\n",
      "|  count|            11113|\n",
      "|   mean|13.50392085896972|\n",
      "| stddev|5.258635600594157|\n",
      "|    min|                0|\n",
      "|    max|               NA|\n",
      "+-------+-----------------+\n",
      "\n",
      "+-------+------------------+\n",
      "|summary|                AS|\n",
      "+-------+------------------+\n",
      "|  count|             11113|\n",
      "|   mean|10.644589214621789|\n",
      "| stddev|4.5830095802884685|\n",
      "|    min|                 0|\n",
      "|    max|                NA|\n",
      "+-------+------------------+\n",
      "\n",
      "+-------+------------------+\n",
      "|summary|               HST|\n",
      "+-------+------------------+\n",
      "|  count|             11113|\n",
      "|   mean|6.1172638436482085|\n",
      "| stddev| 3.327521026304533|\n",
      "|    min|                 0|\n",
      "|    max|                NA|\n",
      "+-------+------------------+\n",
      "\n",
      "+-------+------------------+\n",
      "|summary|               AST|\n",
      "+-------+------------------+\n",
      "|  count|             11113|\n",
      "|   mean| 4.768247074435999|\n",
      "| stddev|2.7929647082852243|\n",
      "|    min|                 0|\n",
      "|    max|                NA|\n",
      "+-------+------------------+\n",
      "\n",
      "+-------+-----------------+\n",
      "|summary|               HC|\n",
      "+-------+-----------------+\n",
      "|  count|            11113|\n",
      "|   mean|6.081795150199059|\n",
      "| stddev|3.095069852977077|\n",
      "|    min|                0|\n",
      "|    max|               NA|\n",
      "+-------+-----------------+\n",
      "\n",
      "+-------+------------------+\n",
      "|summary|                AC|\n",
      "+-------+------------------+\n",
      "|  count|             11113|\n",
      "|   mean| 4.784292435758234|\n",
      "| stddev|2.7289541039276535|\n",
      "|    min|                 0|\n",
      "|    max|                NA|\n",
      "+-------+------------------+\n",
      "\n",
      "+-------+------------------+\n",
      "|summary|                HF|\n",
      "+-------+------------------+\n",
      "|  count|             11113|\n",
      "|   mean|11.379056581010978|\n",
      "| stddev| 3.784956190844209|\n",
      "|    min|                 0|\n",
      "|    max|                NA|\n",
      "+-------+------------------+\n",
      "\n",
      "+-------+------------------+\n",
      "|summary|                AF|\n",
      "+-------+------------------+\n",
      "|  count|             11113|\n",
      "|   mean|11.873446736638918|\n",
      "| stddev|3.9574267583402096|\n",
      "|    min|                 1|\n",
      "|    max|                NA|\n",
      "+-------+------------------+\n",
      "\n",
      "+-------+------------------+\n",
      "|summary|                HY|\n",
      "+-------+------------------+\n",
      "|  count|             11113|\n",
      "|   mean|1.4158523344191096|\n",
      "| stddev|1.1891338081618386|\n",
      "|    min|                 0|\n",
      "|    max|                NA|\n",
      "+-------+------------------+\n",
      "\n",
      "+-------+------------------+\n",
      "|summary|                AY|\n",
      "+-------+------------------+\n",
      "|  count|             11113|\n",
      "|   mean|1.7465315478344794|\n",
      "| stddev|1.2674678522611418|\n",
      "|    min|                 0|\n",
      "|    max|                NA|\n",
      "+-------+------------------+\n",
      "\n",
      "+-------+-------------------+\n",
      "|summary|                 HR|\n",
      "+-------+-------------------+\n",
      "|  count|              11113|\n",
      "|   mean|0.06285438532995537|\n",
      "| stddev|0.25341605906431025|\n",
      "|    min|                  0|\n",
      "|    max|                 NA|\n",
      "+-------+-------------------+\n",
      "\n",
      "+-------+-------------------+\n",
      "|summary|                 AR|\n",
      "+-------+-------------------+\n",
      "|  count|              11113|\n",
      "|   mean|0.08939558450959102|\n",
      "| stddev|0.29734139535344334|\n",
      "|    min|                  0|\n",
      "|    max|                 NA|\n",
      "+-------+-------------------+\n",
      "\n"
     ]
    }
   ],
   "source": [
    "#Resultados de los partidos\n",
    "for valor in df01.columns:\n",
    "  df01.describe([valor]).show()"
   ]
  },
  {
   "cell_type": "markdown",
   "id": "df109704-eb78-427b-9de5-2b204824f50b",
   "metadata": {},
   "source": [
    "Visualización de los Datos"
   ]
  },
  {
   "cell_type": "code",
   "execution_count": 13,
   "id": "2f326b04-00a9-497a-b8d6-4056acff75ab",
   "metadata": {},
   "outputs": [
    {
     "name": "stdout",
     "output_type": "stream",
     "text": [
      "+----+----+---+--------+------------+------------+----------+---------+-------+----------+------+-----------+-----------+-------+-------+--------+-----------+\n",
      "|name|club|age|position|position_cat|market_value|page_views|fpl_value|fpl_sel|fpl_points|region|nationality|new_foreign|age_cat|club_id|big_club|new_signing|\n",
      "+----+----+---+--------+------------+------------+----------+---------+-------+----------+------+-----------+-----------+-------+-------+--------+-----------+\n",
      "|   0|   0|  0|       0|           0|           0|         0|        0|      0|         0|     0|          0|          0|      0|      0|       0|          0|\n",
      "+----+----+---+--------+------------+------------+----------+---------+-------+----------+------+-----------+-----------+-------+-------+--------+-----------+\n",
      "\n"
     ]
    }
   ],
   "source": [
    "#Se crea una tabla de resumen de jugadores\n",
    "\n",
    "df00.select([F.count(F.when(F.isnan(c) | F.col(c).isNull(), c)).alias(c) for c in df00.columns]).show()"
   ]
  },
  {
   "cell_type": "code",
   "execution_count": 14,
   "id": "3e1e5e32-73c1-4eeb-af4f-c2b651df295b",
   "metadata": {},
   "outputs": [
    {
     "name": "stdout",
     "output_type": "stream",
     "text": [
      "+------+--------+--------+--------+----+----+---+----+----+---+-------+---+---+---+---+---+---+---+---+---+---+---+---+\n",
      "|Season|DateTime|HomeTeam|AwayTeam|FTHG|FTAG|FTR|HTHG|HTAG|HTR|Referee| HS| AS|HST|AST| HC| AC| HF| AF| HY| AY| HR| AR|\n",
      "+------+--------+--------+--------+----+----+---+----+----+---+-------+---+---+---+---+---+---+---+---+---+---+---+---+\n",
      "|     0|       0|       0|       0|   0|   0|  0|   0|   0|  0|      0|  0|  0|  0|  0|  0|  0|  0|  0|  0|  0|  0|  0|\n",
      "+------+--------+--------+--------+----+----+---+----+----+---+-------+---+---+---+---+---+---+---+---+---+---+---+---+\n",
      "\n"
     ]
    }
   ],
   "source": [
    "#Se crea una tabla de resumen de resultados futbol\n",
    "\n",
    "df01.select([F.count(F.when(F.isnan(c) | F.col(c).isNull(), c)).alias(c) for c in df01.columns]).show()"
   ]
  },
  {
   "cell_type": "markdown",
   "id": "a0af0e05-cb9c-43c4-8ef0-42ec35e78d7c",
   "metadata": {},
   "source": [
    "\n",
    "*   Se observa que no hay datos nulos o imposibles\n",
    "*   Se procede a graficar cada una de las dimensiones\n"
   ]
  },
  {
   "cell_type": "markdown",
   "id": "634da0e0-7c00-45ad-9247-69341d468f5a",
   "metadata": {},
   "source": [
    "**Proceso de creación de graficas**"
   ]
  },
  {
   "cell_type": "markdown",
   "id": "9f171785-9f62-414c-b92d-421e438433db",
   "metadata": {},
   "source": [
    "Descripción general de los conjuntos de datos y sus variables más importantes\n",
    "(a consideración de ustedes seleccionar 6)."
   ]
  },
  {
   "cell_type": "code",
   "execution_count": 15,
   "id": "dc195d07-03e1-43ee-8801-c86165193afc",
   "metadata": {},
   "outputs": [],
   "source": [
    "#Se crea una vista para ser usada en las visualizaciones de jugadores\n",
    "\n",
    "df00.createOrReplaceTempView(\"df00_sql\")"
   ]
  },
  {
   "cell_type": "code",
   "execution_count": 16,
   "id": "08a7d36a-f5d6-4958-b41f-6abd3aac14d5",
   "metadata": {},
   "outputs": [],
   "source": [
    "df02 = spark04.sql('''Select * from df00_sql where \n",
    "            name is not null and\n",
    "            position is not null and\n",
    "            market_value is not null and\n",
    "            fpl_points is not null and\n",
    "            age is not null and\n",
    "            club is not null''')"
   ]
  },
  {
   "cell_type": "code",
   "execution_count": 17,
   "id": "75396d4f-ffe2-43bf-a11d-7c7f180f23f2",
   "metadata": {},
   "outputs": [
    {
     "name": "stdout",
     "output_type": "stream",
     "text": [
      "+----+----+---+--------+------------+------------+----------+---------+-------+----------+------+-----------+-----------+-------+-------+--------+-----------+\n",
      "|name|club|age|position|position_cat|market_value|page_views|fpl_value|fpl_sel|fpl_points|region|nationality|new_foreign|age_cat|club_id|big_club|new_signing|\n",
      "+----+----+---+--------+------------+------------+----------+---------+-------+----------+------+-----------+-----------+-------+-------+--------+-----------+\n",
      "|   0|   0|  0|       0|           0|           0|         0|        0|      0|         0|     0|          0|          0|      0|      0|       0|          0|\n",
      "+----+----+---+--------+------------+------------+----------+---------+-------+----------+------+-----------+-----------+-------+-------+--------+-----------+\n",
      "\n"
     ]
    }
   ],
   "source": [
    "#Se verifica la Cantidad de Valores Nulos o Imposibles\n",
    "\n",
    "df02.select([F.count(F.when(F.isnan(c) | F.col(c).isNull(), c)).alias(c) for c in df02.columns]).show()"
   ]
  },
  {
   "cell_type": "code",
   "execution_count": 18,
   "id": "b7f96be3-74ff-466c-97a6-7108336d9283",
   "metadata": {},
   "outputs": [],
   "source": [
    "#Se crea una vista para ser usada en las visualizaciones de resultados futbol\n",
    "\n",
    "df01.createOrReplaceTempView(\"df01_sql\")"
   ]
  },
  {
   "cell_type": "code",
   "execution_count": 19,
   "id": "74b914a2-1e68-4d27-9fed-555903ee3273",
   "metadata": {},
   "outputs": [],
   "source": [
    "df03 = spark04.sql('''Select * from df01_sql where \n",
    "            HomeTeam is not null and\n",
    "            AwayTeam is not null and\n",
    "            Season is not null and\n",
    "            DateTime is not null and\n",
    "            FTHG is not null and\n",
    "            FTAG is not null''')"
   ]
  },
  {
   "cell_type": "code",
   "execution_count": 20,
   "id": "4f3c4f13-bb64-4b86-a252-7427832ccc48",
   "metadata": {},
   "outputs": [
    {
     "name": "stdout",
     "output_type": "stream",
     "text": [
      "+------+--------+--------+--------+----+----+---+----+----+---+-------+---+---+---+---+---+---+---+---+---+---+---+---+\n",
      "|Season|DateTime|HomeTeam|AwayTeam|FTHG|FTAG|FTR|HTHG|HTAG|HTR|Referee| HS| AS|HST|AST| HC| AC| HF| AF| HY| AY| HR| AR|\n",
      "+------+--------+--------+--------+----+----+---+----+----+---+-------+---+---+---+---+---+---+---+---+---+---+---+---+\n",
      "|     0|       0|       0|       0|   0|   0|  0|   0|   0|  0|      0|  0|  0|  0|  0|  0|  0|  0|  0|  0|  0|  0|  0|\n",
      "+------+--------+--------+--------+----+----+---+----+----+---+-------+---+---+---+---+---+---+---+---+---+---+---+---+\n",
      "\n"
     ]
    }
   ],
   "source": [
    "#Se verifica la Cantidad de Valores Nulos o Imposibles\n",
    "\n",
    "df03.select([F.count(F.when(F.isnan(c) | F.col(c).isNull(), c)).alias(c) for c in df03.columns]).show()"
   ]
  },
  {
   "cell_type": "markdown",
   "id": "b54841dd-6250-4fae-80da-35ab7c8e29ed",
   "metadata": {},
   "source": [
    "**Tratamiento de datos**"
   ]
  },
  {
   "cell_type": "markdown",
   "id": "dbf06c11-35c2-4709-952c-07dce1c47972",
   "metadata": {},
   "source": [
    "**Variables seleccionadas: Jugadores**  \n",
    "\n",
    "**Name (Nombre del jugador)**  \n",
    "- **Significado:** Identificación del jugador en el dataset.  \n",
    "- **Razón de selección:** Es indispensable para relacionar el rendimiento con individuos específicos.  \n",
    "\n",
    "**Position (Posición en el campo)**  \n",
    "- **Significado:** Rol táctico del jugador (defensa, mediocampo, delantero, etc.).  \n",
    "- **Razón de selección:** Permite analizar cómo varía el rendimiento y el valor de mercado según el rol dentro del equipo.  \n",
    "\n",
    "**Market_value (Valor de mercado)**  \n",
    "- **Significado:** Estimación económica del costo de fichaje del jugador.  \n",
    "- **Razón de selección:** Variable clave para evaluar la relación entre rendimiento deportivo y valor económico.  \n",
    "\n",
    "**FPL_points (Puntos Fantasy Premier League)**  \n",
    "- **Significado:** Puntuación otorgada a cada jugador en función de su rendimiento en la temporada.  \n",
    "- **Razón de selección:** Sirve como indicador cuantitativo del desempeño individual de cada jugador.  \n",
    "\n",
    "**Age (Edad)**  \n",
    "- **Significado:** Edad actual del jugador.  \n",
    "- **Razón de selección:** Es relevante para analizar etapas de carrera, potencial de crecimiento y relación entre edad, rendimiento y valor de mercado.  \n",
    "\n",
    "**Club (Equipo al que pertenece)**  \n",
    "- **Significado:** Nombre del club en el que juega el jugador.  \n",
    "- **Razón de selección:** Permite vincular el rendimiento individual con el desempeño colectivo del club, además de facilitar comparaciones entre equipos.  "
   ]
  },
  {
   "cell_type": "code",
   "execution_count": 21,
   "id": "39b4e764-0a2c-464d-9afd-080149231060",
   "metadata": {},
   "outputs": [
    {
     "data": {
      "text/plain": [
       "[('name', 'string'),\n",
       " ('club', 'string'),\n",
       " ('age', 'string'),\n",
       " ('position', 'string'),\n",
       " ('position_cat', 'string'),\n",
       " ('market_value', 'string'),\n",
       " ('page_views', 'string'),\n",
       " ('fpl_value', 'string'),\n",
       " ('fpl_sel', 'string'),\n",
       " ('fpl_points', 'string'),\n",
       " ('region', 'string'),\n",
       " ('nationality', 'string'),\n",
       " ('new_foreign', 'string'),\n",
       " ('age_cat', 'string'),\n",
       " ('club_id', 'string'),\n",
       " ('big_club', 'string'),\n",
       " ('new_signing', 'string')]"
      ]
     },
     "execution_count": 21,
     "metadata": {},
     "output_type": "execute_result"
    }
   ],
   "source": [
    "#Jugadores\n",
    "df02.dtypes"
   ]
  },
  {
   "cell_type": "code",
   "execution_count": 22,
   "id": "44982bbb-72a3-4a06-8760-ee170f36d327",
   "metadata": {},
   "outputs": [],
   "source": [
    "# Nos quedamos solo con las 6 columnas\n",
    "df02 = df02.select(\"name\", \"position\", \"market_value\", \"fpl_points\", \"age\", \"club\")"
   ]
  },
  {
   "cell_type": "code",
   "execution_count": 23,
   "id": "759fa7a4-74b4-4db8-90f0-291aab669647",
   "metadata": {},
   "outputs": [],
   "source": [
    "# Cambiamos tipos de datos\n",
    "df02 = (df02\n",
    "    .withColumn(\"market_value\", F.col(\"market_value\").cast(DoubleType()))\n",
    "    .withColumn(\"fpl_points\",   F.col(\"fpl_points\").cast(DoubleType()))\n",
    "    .withColumn(\"age\",          F.col(\"age\").cast(IntegerType()))\n",
    "    .withColumn(\"position\",     F.col(\"position\").cast(StringType()))\n",
    "    .withColumn(\"club\",         F.col(\"club\").cast(StringType()))\n",
    ")"
   ]
  },
  {
   "cell_type": "code",
   "execution_count": 24,
   "id": "c26a90f0-672b-4303-8d01-110adb063d6d",
   "metadata": {},
   "outputs": [
    {
     "data": {
      "text/plain": [
       "[('name', 'string'),\n",
       " ('position', 'string'),\n",
       " ('market_value', 'double'),\n",
       " ('fpl_points', 'double'),\n",
       " ('age', 'int'),\n",
       " ('club', 'string')]"
      ]
     },
     "execution_count": 24,
     "metadata": {},
     "output_type": "execute_result"
    }
   ],
   "source": [
    "# Revisar los tipos de datos resultantes\n",
    "df02.dtypes"
   ]
  },
  {
   "cell_type": "markdown",
   "id": "c55272fd-03ac-4453-8e73-b7c537ce3aee",
   "metadata": {},
   "source": [
    "**Variables seleccionadas: Resultados de Fútbol**  \n",
    "\n",
    "**HomeTeam (Equipo local)**  \n",
    "- **Significado:** Nombre del equipo que juega como local en cada partido.  \n",
    "- **Razón de selección:** Permite analizar el desempeño de los equipos en condición de local, identificando ventajas y tendencias.  \n",
    "\n",
    "**AwayTeam (Equipo visitante)**  \n",
    "- **Significado:** Nombre del equipo que juega como visitante en cada partido.  \n",
    "- **Razón de selección:** Complementa la variable anterior para comparar el rendimiento entre jugar en casa o fuera de ella.  \n",
    "\n",
    "**Season (Temporada)**  \n",
    "- **Significado:** Año o rango de años en que se disputa la liga.  \n",
    "- **Razón de selección:** Permite realizar análisis temporales y detectar cambios en el rendimiento de los equipos a lo largo de diferentes temporadas.  \n",
    "\n",
    "**DateTime (Fecha y hora del partido)**  \n",
    "- **Significado:** Momento exacto en que se llevó a cabo el partido.  \n",
    "- **Razón de selección:** Facilita ordenar cronológicamente los datos y relacionarlos con factores externos (por ejemplo, etapas de la liga).  \n",
    "\n",
    "**FTHG (Full Time Home Goals)**  \n",
    "- **Significado:** Número de goles anotados por el equipo local al final del partido.  \n",
    "- **Razón de selección:** Es un indicador clave del desempeño ofensivo de los locales y un insumo fundamental para el resultado del encuentro.  \n",
    "\n",
    "**FTAG (Full Time Away Goals)**  \n",
    "- **Significado:** Número de goles anotados por el equipo visitante al final del partido.  \n",
    "- **Razón de selección:** Complementa a FTHG y permite construir el resultado final del partido, así como calcular diferencias de goles.  \n",
    "\n",
    "---\n"
   ]
  },
  {
   "cell_type": "code",
   "execution_count": 25,
   "id": "e7080689-8a3a-4b38-871f-1ff7a1193d52",
   "metadata": {},
   "outputs": [
    {
     "data": {
      "text/plain": [
       "[('Season', 'string'),\n",
       " ('DateTime', 'string'),\n",
       " ('HomeTeam', 'string'),\n",
       " ('AwayTeam', 'string'),\n",
       " ('FTHG', 'string'),\n",
       " ('FTAG', 'string'),\n",
       " ('FTR', 'string'),\n",
       " ('HTHG', 'string'),\n",
       " ('HTAG', 'string'),\n",
       " ('HTR', 'string'),\n",
       " ('Referee', 'string'),\n",
       " ('HS', 'string'),\n",
       " ('AS', 'string'),\n",
       " ('HST', 'string'),\n",
       " ('AST', 'string'),\n",
       " ('HC', 'string'),\n",
       " ('AC', 'string'),\n",
       " ('HF', 'string'),\n",
       " ('AF', 'string'),\n",
       " ('HY', 'string'),\n",
       " ('AY', 'string'),\n",
       " ('HR', 'string'),\n",
       " ('AR', 'string')]"
      ]
     },
     "execution_count": 25,
     "metadata": {},
     "output_type": "execute_result"
    }
   ],
   "source": [
    "#Resultados futbol\n",
    "df03.dtypes"
   ]
  },
  {
   "cell_type": "code",
   "execution_count": 26,
   "id": "262fe173-3a66-40f6-a5ff-04cbd6c6f3e5",
   "metadata": {},
   "outputs": [],
   "source": [
    "# Nos quedamos solo con las 6 columnas\n",
    "df03 = df03.select(\"HomeTeam\", \"AwayTeam\", \"Season\", \"DateTime\", \"FTHG\", \"FTAG\")"
   ]
  },
  {
   "cell_type": "code",
   "execution_count": 27,
   "id": "704181ae-94f7-418b-8ad1-f85c86c3ed48",
   "metadata": {},
   "outputs": [],
   "source": [
    "# Cambiamos tipos de datos\n",
    "df03 = df03.withColumn(\"HomeTeam\", df03[\"HomeTeam\"].cast(StringType())) \\\n",
    "           .withColumn(\"AwayTeam\", df03[\"AwayTeam\"].cast(StringType())) \\\n",
    "           .withColumn(\"Season\", df03[\"Season\"].cast(StringType())) \\\n",
    "           .withColumn(\"DateTime\", df03[\"DateTime\"].cast(StringType())) \\\n",
    "           .withColumn(\"FTHG\", df03[\"FTHG\"].cast(IntegerType())) \\\n",
    "           .withColumn(\"FTAG\", df03[\"FTAG\"].cast(IntegerType()))"
   ]
  },
  {
   "cell_type": "code",
   "execution_count": 28,
   "id": "9579859e-fc88-40d0-b4de-a7f42f330a35",
   "metadata": {},
   "outputs": [
    {
     "data": {
      "text/plain": [
       "[('HomeTeam', 'string'),\n",
       " ('AwayTeam', 'string'),\n",
       " ('Season', 'string'),\n",
       " ('DateTime', 'string'),\n",
       " ('FTHG', 'int'),\n",
       " ('FTAG', 'int')]"
      ]
     },
     "execution_count": 28,
     "metadata": {},
     "output_type": "execute_result"
    }
   ],
   "source": [
    "# Revisar los tipos de datos resultantes\n",
    "df03.dtypes"
   ]
  },
  {
   "cell_type": "markdown",
   "id": "0229cff2-dc0c-4a9f-8b7a-ebd942e12e06",
   "metadata": {},
   "source": [
    "**Creación de Tablas para Visualizar los datos para jugadores**\n",
    "\n",
    "\n",
    "*   Se hace uso de la función LAMBDA para hacer el tratamiento y limpieza de los datos\n",
    "\n",
    "\n"
   ]
  },
  {
   "cell_type": "code",
   "execution_count": 29,
   "id": "22ff0fda-5d8b-44b8-9d95-928d9c99ccb3",
   "metadata": {},
   "outputs": [
    {
     "data": {
      "image/png": "[encoded data removed]",
      "text/plain": [
       "<Figure size 1000x600 with 1 Axes>"
      ]
     },
     "metadata": {},
     "output_type": "display_data"
    }
   ],
   "source": [
    "# Promedio de puntos por club (orden descendente)\n",
    "top_clubs_pdf = (df02\n",
    "    .groupBy(\"club\")\n",
    "    .agg(F.avg(\"fpl_points\").alias(\"avg_fpl_points\"), F.count(\"*\").alias(\"n_players\"))\n",
    "    .filter(F.col(\"n_players\") >= 20) \n",
    "    .orderBy(F.desc(\"avg_fpl_points\"))\n",
    "    .limit(10)\n",
    "    .toPandas()\n",
    ")\n",
    "\n",
    "# Ordenar para que el barh salga de mayor a menor\n",
    "top_clubs_pdf = top_clubs_pdf.sort_values(\"avg_fpl_points\", ascending=True)\n",
    "\n",
    "plt.figure(figsize=(10,6))\n",
    "plt.barh(top_clubs_pdf[\"club\"], top_clubs_pdf[\"avg_fpl_points\"])\n",
    "plt.title(\"Top 10 clubes por promedio de puntos FPL\")\n",
    "plt.xlabel(\"Promedio de puntos FPL\")\n",
    "plt.ylabel(\"Club\")\n",
    "plt.grid(axis='x')\n",
    "plt.tight_layout()\n",
    "plt.show()\n"
   ]
  },
  {
   "cell_type": "markdown",
   "id": "6394440a-b37e-4461-87e3-1cec190988c6",
   "metadata": {},
   "source": [
    "**Análisis de resultados**  \n",
    "\n",
    "- **Chelsea** lidera el ranking con el mayor promedio de puntos FPL, superando incluso a equipos reconocidos como Tottenham, Manchester City y Manchester United.  \n",
    "- **Tottenham y Manchester City** ocupan el segundo y tercer lugar respectivamente, mostrando también un buen nivel de consistencia en la contribución de sus jugadores.  \n",
    "- En el rango medio aparecen clubes de élite como **Liverpool y Arsenal**, que aunque competitivos, no alcanzaron los promedios más altos en ese periodo.  \n",
    "- Llama la atención que equipos con menor tradición como **Bournemouth, West Ham, Crystal Palace y Everton** también aparecen en el Top 10. Esto indica que, aunque no sean candidatos al título, sus jugadores tuvieron un desempeño destacable en FPL.  \n",
    "\n",
    "**Conclusión**  \n",
    "La gráfica demuestra que no solo los clubes “grandes” concentran jugadores de alto rendimiento, sino que también hay oportunidades interesantes en equipos de media tabla. Para un nuevo club que busca fichajes estratégicos, conviene observar tanto a los líderes (para buscar referentes) como a clubes medianos, donde podría haber **jugadores con alta relación costo-beneficio**.  "
   ]
  },
  {
   "cell_type": "code",
   "execution_count": 30,
   "id": "969445a5-ebb2-403d-aa38-d91e0690b999",
   "metadata": {},
   "outputs": [
    {
     "data": {
      "image/png": "[encoded data removed]",
      "text/plain": [
       "<Figure size 1000x600 with 1 Axes>"
      ]
     },
     "metadata": {},
     "output_type": "display_data"
    }
   ],
   "source": [
    "# Muestreamos para que la nube sea legible si hay muchos jugadores\n",
    "pdf_scatter = (df02\n",
    "               .select(\"market_value\", \"fpl_points\", \"position\")\n",
    "               .dropna()\n",
    "               .sample(False, 0.5, seed=42)  # 50% de muestra aleatoria; ajusta si quieres\n",
    "               .toPandas())\n",
    "\n",
    "plt.figure(figsize=(10,6))\n",
    "\n",
    "# Graficar cada posición en un color distinto\n",
    "for pos, sub in pdf_scatter.groupby(\"position\"):\n",
    "    plt.scatter(sub[\"market_value\"], sub[\"fpl_points\"], \n",
    "                s=18, alpha=0.5, label=pos)\n",
    "\n",
    "# Títulos y etiquetas\n",
    "plt.title(\"Relación entre valor de mercado y puntos FPL\")\n",
    "plt.xlabel(\"Valor de mercado\")\n",
    "plt.ylabel(\"Puntos FPL\")\n",
    "plt.grid(True)\n",
    "plt.legend(title=\"Posición\")\n",
    "plt.tight_layout()\n",
    "plt.show()\n"
   ]
  },
  {
   "cell_type": "markdown",
   "id": "b1bbcf83-95aa-4bd2-af51-05b8c86c4438",
   "metadata": {},
   "source": [
    "**Análisis de resultados**  \n",
    "\n",
    "La gráfica muestra que la mayoría de los jugadores se concentran en un **valor de mercado bajo (entre 0 y 10 millones)**, con puntuaciones FPL que varían desde muy bajas hasta alrededor de 100 puntos. A medida que el valor de mercado aumenta, se observan jugadores que alcanzan puntuaciones FPL más altas, aunque la relación no es perfectamente lineal.  \n",
    "\n",
    "Se identifican algunos **outliers**, es decir, jugadores con valores de mercado muy elevados (superiores a 40 millones) que logran acumular más de 200 puntos FPL, lo que indica su rol determinante dentro de la liga. Sin embargo, también existen casos de jugadores caros con puntuaciones mucho más discretas, lo cual refleja que el alto costo no siempre garantiza un alto rendimiento.  \n",
    "\n",
    "El uso de colores por posición permite ver diferencias interesantes: algunas posiciones concentran más jugadores en los rangos bajos de valor y puntos, mientras que otras presentan individuos que destacan tanto en valor económico como en desempeño.  \n",
    "\n",
    "**Conclusiones**  \n",
    "\n",
    "- Existe una **tendencia general positiva**: los jugadores con mayor valor de mercado tienden a obtener más puntos FPL, aunque con excepciones notables.  \n",
    "- El **segmento más numeroso** corresponde a jugadores de bajo costo y rendimiento medio, que representan la base de la liga.  \n",
    "- Se destacan algunos jugadores como **referentes de alto valor y alto rendimiento**, claves para cualquier estrategia de fichajes.  \n",
    "- Para un nuevo club, resulta estratégico considerar tanto a las **figuras consolidadas** (aunque costosas) como a los jugadores de **alta eficiencia costo-beneficio** que, con bajo valor, han demostrado un rendimiento sobresaliente.  \n"
   ]
  },
  {
   "cell_type": "code",
   "execution_count": 31,
   "id": "914ec123-6b97-45ad-8122-d74373a52c96",
   "metadata": {},
   "outputs": [
    {
     "name": "stderr",
     "output_type": "stream",
     "text": [
      "/tmp/ipykernel_140019/967566830.py:18: MatplotlibDeprecationWarning: The 'labels' parameter of boxplot() has been renamed 'tick_labels' since Matplotlib 3.9; support for the old name will be dropped in 3.11.\n",
      "  plt.boxplot(data, labels=order, showmeans=True)\n"
     ]
    },
    {
     "data": {
      "image/png": "[encoded data removed]",
      "text/plain": [
       "<Figure size 1000x600 with 1 Axes>"
      ]
     },
     "metadata": {},
     "output_type": "display_data"
    }
   ],
   "source": [
    "\n",
    "pos_pdf = (df02\n",
    "           .select(\"position\", \"market_value\")\n",
    "           .dropna()\n",
    "           .toPandas())\n",
    "\n",
    "# Ordenar posiciones por mediana de valor de mercado (más informativo)\n",
    "order = (pos_pdf.groupby(\"position\")[\"market_value\"]\n",
    "         .median()\n",
    "         .sort_values(ascending=False)\n",
    "         .index\n",
    "         .tolist())\n",
    "\n",
    "# Crear una lista de arrays, cada uno con los valores de mercado de una posición\n",
    "data = [pos_pdf.loc[pos_pdf[\"position\"]==p, \"market_value\"].values for p in order]\n",
    "\n",
    "# Gráfica tipo boxplot\n",
    "plt.figure(figsize=(10,6))\n",
    "plt.boxplot(data, labels=order, showmeans=True)\n",
    "\n",
    "# Personalización\n",
    "plt.title(\"Valor de mercado por posición\")\n",
    "plt.xlabel(\"Posición\")\n",
    "plt.ylabel(\"Valor de mercado\")\n",
    "plt.grid(axis='y')\n",
    "plt.tight_layout()\n",
    "plt.show()\n"
   ]
  },
  {
   "cell_type": "markdown",
   "id": "f4a0b8fe-fb41-49f9-a58c-403d9ca94475",
   "metadata": {},
   "source": [
    "**Análisis de resultados**  \n",
    "\n",
    "La gráfica muestra la distribución del **valor de mercado de los jugadores según su posición en el campo**. Se observan diferencias notables:  \n",
    "\n",
    "- Los **mediapuntas (AM)** presentan los valores de mercado más altos, con medianas y promedios significativamente superiores al resto de posiciones.  \n",
    "- En contraste, posiciones como **laterales izquierdos (LB), laterales derechos (RB), porteros (GK) y mediocampistas defensivos (DM)** tienen valores de mercado considerablemente más bajos.  \n",
    "- Existen **outliers** en casi todas las posiciones, representados por jugadores excepcionales que alcanzan valores de mercado muy por encima de la media (por ejemplo, mediapuntas, extremos y delanteros centros).  \n",
    "- La dispersión de valores es mucho mayor en las posiciones ofensivas, mientras que en las defensivas los valores tienden a ser más homogéneos y concentrados en rangos bajos.  \n",
    "\n",
    "**Conclusiones**  \n",
    "\n",
    "- El mercado **valora más a los jugadores ofensivos**, especialmente a los mediapuntas, reflejando su impacto directo en la generación de goles y jugadas de ataque.  \n",
    "- Los **jugadores defensivos y porteros** suelen tener menor valoración económica, lo cual sugiere que, aunque son fundamentales, no son tan determinantes en el mercado como los atacantes.  \n",
    "- La presencia de **outliers en todas las posiciones** indica que, independientemente del rol, siempre existen jugadores que destacan y alcanzan un valor de mercado superior.  \n",
    "- Para un nuevo club, esta información es clave para **definir la estrategia de fichajes**: invertir más en jugadores ofensivos de alto impacto y buscar oportunidades de **eficiencia costo-beneficio en posiciones defensivas**.  \n"
   ]
  },
  {
   "cell_type": "markdown",
   "id": "0acba9c1-9974-4e88-b485-c425dd7ab688",
   "metadata": {},
   "source": [
    "**Creación de Tablas para Visualizar los datos para resultados futbol**\n",
    "\n",
    "\n",
    "*   Se hace uso de la función LAMBDA para hacer el tratamiento y limpieza de los datos\n",
    "\n",
    "\n"
   ]
  },
  {
   "cell_type": "code",
   "execution_count": 32,
   "id": "501ac01f-115a-441b-9204-3efc7268994e",
   "metadata": {},
   "outputs": [
    {
     "name": "stderr",
     "output_type": "stream",
     "text": [
      "                                                                                "
     ]
    }
   ],
   "source": [
    "# Crear la vista temporal\n",
    "df03.createOrReplaceTempView(\"df03_sql\")\n",
    "\n",
    "# HomeTeam\n",
    "HomeTeam_parametro = spark04.sql(\"SELECT HomeTeam FROM df03_sql\")\n",
    "HomeTeam_parametro = HomeTeam_parametro.rdd.map(lambda fila: fila.HomeTeam).collect()\n",
    "\n",
    "# AwayTeam\n",
    "AwayTeam_parametro = spark04.sql(\"SELECT AwayTeam FROM df03_sql\")\n",
    "AwayTeam_parametro = AwayTeam_parametro.rdd.map(lambda fila: fila.AwayTeam).collect()\n",
    "\n",
    "# Season\n",
    "Season_parametro = spark04.sql(\"SELECT Season FROM df03_sql\")\n",
    "Season_parametro = Season_parametro.rdd.map(lambda fila: fila.Season).collect()\n",
    "\n",
    "# DateTime\n",
    "DateTime_parametro = spark04.sql(\"SELECT DateTime FROM df03_sql\")\n",
    "DateTime_parametro = DateTime_parametro.rdd.map(lambda fila: fila.DateTime).collect()\n",
    "\n",
    "# FTHG (Full Time Home Goals)\n",
    "FTHG_parametro = spark04.sql(\"SELECT FTHG FROM df03_sql\")\n",
    "FTHG_parametro = FTHG_parametro.rdd.map(lambda fila: fila.FTHG).collect()\n",
    "\n",
    "# FTAG (Full Time Away Goals)\n",
    "FTAG_parametro = spark04.sql(\"SELECT FTAG FROM df03_sql\")\n",
    "FTAG_parametro = FTAG_parametro.rdd.map(lambda fila: fila.FTAG).collect()\n"
   ]
  },
  {
   "cell_type": "code",
   "execution_count": 33,
   "id": "25db1bbe-f196-4226-993b-5705050fabfc",
   "metadata": {},
   "outputs": [
    {
     "data": {
      "image/png": "[encoded data removed]",
      "text/plain": [
       "<Figure size 1200x600 with 1 Axes>"
      ]
     },
     "metadata": {},
     "output_type": "display_data"
    }
   ],
   "source": [
    "# Crear un DataFrame auxiliar con las listas\n",
    "df_goles = pd.DataFrame({\n",
    "    \"Season\": Season_parametro,  # Temporada\n",
    "    \"FTHG\": FTHG_parametro,      # Goles local\n",
    "    \"FTAG\": FTAG_parametro       # Goles visitante\n",
    "})\n",
    "\n",
    "# Calcular el promedio de goles por temporada\n",
    "promedios = df_goles.groupby(\"Season\").mean()\n",
    "\n",
    "# Graficar los promedios\n",
    "promedios.plot(kind=\"bar\", figsize=(12,6))\n",
    "\n",
    "# Títulos y etiquetas\n",
    "plt.title(\"Promedio de goles locales y visitantes por temporada\")\n",
    "plt.ylabel(\"Promedio de goles por partido\")\n",
    "plt.xlabel(\"Temporada\")\n",
    "plt.grid(axis='y')\n",
    "plt.show()"
   ]
  },
  {
   "cell_type": "markdown",
   "id": "1b908ad1-b5ea-43f6-9166-62b2a762d594",
   "metadata": {},
   "source": [
    "**Análisis de resultados**  \n",
    "\n",
    "La gráfica muestra el **promedio de goles anotados por equipos locales (FTHG) y visitantes (FTAG) en cada temporada de la Premier League** desde 1993-94 hasta 2021-22.  \n",
    "\n",
    "- A lo largo de todas las temporadas, los **equipos locales mantienen consistentemente un promedio de goles superior** al de los visitantes, confirmando la ventaja estadística de jugar en casa.  \n",
    "- El promedio de goles de los locales se mantiene en un rango de **1.4 a 1.6 goles por partido**, mientras que los visitantes suelen oscilar entre **1.0 y 1.2 goles por partido**.  \n",
    "- Se observan picos en algunas temporadas, como 2001-02 y 2009-10, donde los equipos locales superaron 1.6 goles de promedio.  \n",
    "- Aunque los visitantes también muestran ligeros incrementos en temporadas recientes, la brecha entre locales y visitantes se mantiene constante a lo largo de los años.  \n",
    "\n",
    "**Conclusiones**  \n",
    "\n",
    "- El análisis confirma la existencia de una **ventaja de localía**, ya que los equipos en casa tienden a marcar más goles en promedio que los visitantes.  \n",
    "- La diferencia entre goles locales y visitantes se mantiene relativamente **estable en el tiempo**, lo que refleja un patrón consolidado en la liga.  \n",
    "- Para un nuevo club, estos datos son relevantes porque sugieren que **maximizar el rendimiento como local** puede ser clave para obtener buenos resultados en la liga.  \n",
    "- Aunque la tendencia muestra un aumento ligero en la producción ofensiva de los visitantes en temporadas recientes, el **factor casa sigue siendo determinante** en la Premier League.  \n"
   ]
  },
  {
   "cell_type": "code",
   "execution_count": 34,
   "id": "d1610a6c-c461-41c1-b94b-07c262489837",
   "metadata": {},
   "outputs": [
    {
     "data": {
      "image/png": "[encoded data removed]",
      "text/plain": [
       "<Figure size 1000x600 with 1 Axes>"
      ]
     },
     "metadata": {},
     "output_type": "display_data"
    }
   ],
   "source": [
    "import matplotlib.pyplot as plt\n",
    "\n",
    "#Histograma de distribución de goles\n",
    "max_goles = max(max(FTHG_parametro), max(FTAG_parametro))  \n",
    "bins = range(0, int(max_goles) + 2)  \n",
    "\n",
    "plt.figure(figsize=(10,6))\n",
    "plt.hist(FTHG_parametro, bins=bins, alpha=0.6, label=\"Goles Local (FTHG)\")\n",
    "plt.hist(FTAG_parametro, bins=bins, alpha=0.6, label=\"Goles Visitante (FTAG)\")\n",
    "\n",
    "plt.title(\"Distribución de goles locales y visitantes\")\n",
    "plt.xlabel(\"Goles en el partido\")\n",
    "plt.ylabel(\"Número de partidos\")\n",
    "plt.legend()\n",
    "plt.grid(axis='y')\n",
    "plt.show()\n"
   ]
  },
  {
   "cell_type": "markdown",
   "id": "b95012b0-290e-4302-bb4b-33690af65e0d",
   "metadata": {},
   "source": [
    "**Análisis de resultados**  \n",
    "\n",
    "La gráfica muestra la **distribución de goles anotados por equipos locales (FTHG) y visitantes (FTAG)** en los partidos de la Premier League.  \n",
    "\n",
    "- La mayoría de los encuentros terminan con **pocos goles**, siendo más frecuentes los resultados de **0, 1 o 2 goles** por equipo.  \n",
    "- Los equipos locales presentan una **mayor proporción de partidos con 2 o más goles** en comparación con los visitantes.  \n",
    "- A medida que aumenta el número de goles, la frecuencia de partidos disminuye drásticamente, lo cual refleja que los marcadores abultados son menos comunes.  \n",
    "- Existen pocos casos en los que un equipo llega a marcar más de **5 goles**, lo que los convierte en eventos atípicos dentro de la distribución.  \n",
    "\n",
    "**Conclusiones**  \n",
    "\n",
    "- El fútbol en la Premier League tiende a ser de **marcadores moderados**, donde la mayoría de los equipos anota entre 0 y 2 goles por partido.  \n",
    "- Los equipos locales tienen una **ligera ventaja ofensiva**, pues muestran una mayor frecuencia de partidos con más de 2 goles respecto a los visitantes.  \n",
    "- Los resultados de goleadas son **poco frecuentes**, lo que indica un nivel de competitividad relativamente equilibrado entre los equipos.  \n",
    "- Para un nuevo club, esta información es útil porque sugiere que **construir una defensa sólida y un ataque consistente capaz de marcar al menos 2 goles por partido** puede ser suficiente para competir de manera efectiva en la liga.  \n"
   ]
  },
  {
   "cell_type": "code",
   "execution_count": 35,
   "id": "39f77dd0-f8ed-4667-940b-f806e4343f53",
   "metadata": {},
   "outputs": [
    {
     "name": "stderr",
     "output_type": "stream",
     "text": [
      "/tmp/ipykernel_140019/379764940.py:5: MatplotlibDeprecationWarning: The 'labels' parameter of boxplot() has been renamed 'tick_labels' since Matplotlib 3.9; support for the old name will be dropped in 3.11.\n",
      "  plt.boxplot([FTHG_parametro, FTAG_parametro], labels=[\"Local\", \"Visitante\"], showmeans=True)\n"
     ]
    },
    {
     "data": {
      "image/png": "[encoded data removed]",
      "text/plain": [
       "<Figure size 800x600 with 1 Axes>"
      ]
     },
     "metadata": {},
     "output_type": "display_data"
    }
   ],
   "source": [
    "import matplotlib.pyplot as plt\n",
    "\n",
    "# Boxplot de goles (local vs visitante) \n",
    "plt.figure(figsize=(8,6))\n",
    "plt.boxplot([FTHG_parametro, FTAG_parametro], labels=[\"Local\", \"Visitante\"], showmeans=True)\n",
    "\n",
    "plt.title(\"Dispersión de goles por partido\")\n",
    "plt.ylabel(\"Goles\")\n",
    "plt.grid(axis='y')\n",
    "plt.show()\n"
   ]
  },
  {
   "cell_type": "markdown",
   "id": "97e05217-6506-43aa-9ce3-fed7c1405e64",
   "metadata": {},
   "source": [
    "**Análisis de resultados**  \n",
    "\n",
    "La gráfica muestra la **dispersión de goles por partido** diferenciando entre equipos locales y visitantes.  \n",
    "\n",
    "- Los equipos locales presentan una **mediana cercana a 1 gol por partido**, con la mayoría de los valores concentrados entre 1 y 2 goles.  \n",
    "- Los visitantes también muestran una mediana alrededor de 1 gol, pero con una distribución ligeramente más dispersa hacia valores bajos (0 goles).  \n",
    "- Se observan **outliers** en ambos casos, es decir, partidos con marcadores atípicos donde un equipo logra anotar 6, 7, 8 o hasta 9 goles.  \n",
    "- La dispersión es mayor en los equipos visitantes, reflejando mayor variabilidad en su desempeño ofensivo.  \n",
    "\n",
    "**Conclusiones**  \n",
    "\n",
    "- Tanto locales como visitantes suelen anotar en promedio **entre 1 y 2 goles por partido**, lo que confirma que los marcadores altos son poco frecuentes.  \n",
    "- Los equipos locales tienden a mostrar una **mayor consistencia**, mientras que los visitantes presentan más variación en su producción ofensiva.  \n",
    "- La presencia de outliers indica que, aunque son raros, los partidos con goleadas extremas ocurren en ambas condiciones.  \n",
    "- Para un nuevo club, esta información sugiere que **mantener una ofensiva estable que asegure al menos 1 o 2 goles por partido** puede ser suficiente para competir en la mayoría de los encuentros.  \n"
   ]
  },
  {
   "cell_type": "code",
   "execution_count": 36,
   "id": "e031d85a-7664-4303-9abc-af0d88690ada",
   "metadata": {},
   "outputs": [
    {
     "data": {
      "image/png": "[encoded data removed]",
      "text/plain": [
       "<Figure size 1200x600 with 1 Axes>"
      ]
     },
     "metadata": {},
     "output_type": "display_data"
    }
   ],
   "source": [
    "import matplotlib.pyplot as plt\n",
    "from pyspark.sql import functions as F\n",
    "\n",
    "# Promedio de goles por equipo (local y visitante) \n",
    "# Promedio goles cuando el equipo juega en casa\n",
    "team_home = (\n",
    "    df03.groupBy(\"HomeTeam\")\n",
    "        .agg(F.avg(\"FTHG\").alias(\"avg_home_goals\"))\n",
    "        .withColumnRenamed(\"HomeTeam\", \"Team\")\n",
    ")\n",
    "\n",
    "# Promedio goles cuando el equipo juega de visitante\n",
    "team_away = (\n",
    "    df03.groupBy(\"AwayTeam\")\n",
    "        .agg(F.avg(\"FTAG\").alias(\"avg_away_goals\"))\n",
    "        .withColumnRenamed(\"AwayTeam\", \"Team\")\n",
    ")\n",
    "\n",
    "# Unimos y calculamos un promedio total simple (home/away)\n",
    "team_avg = (\n",
    "    team_home.join(team_away, on=\"Team\", how=\"outer\")\n",
    "             .fillna(0)  # por si algún equipo no aparece en uno de los dos contextos\n",
    "             .withColumn(\"avg_total_goals\", (F.col(\"avg_home_goals\") + F.col(\"avg_away_goals\"))/2)\n",
    ")\n",
    "\n",
    "# Top 12 equipos por promedio total de goles\n",
    "top12_pdf = (\n",
    "    team_avg.orderBy(F.desc(\"avg_total_goals\"))\n",
    "            .limit(12)\n",
    "            .toPandas()\n",
    ")\n",
    "\n",
    "# Orden para que barras salgan de mayor a menor\n",
    "top12_pdf = top12_pdf.sort_values(\"avg_total_goals\", ascending=False)\n",
    "\n",
    "# Gráfica de barras \n",
    "plt.figure(figsize=(12,6))\n",
    "plt.bar(top12_pdf[\"Team\"], top12_pdf[\"avg_total_goals\"])\n",
    "\n",
    "plt.title(\"Top 12 equipos por promedio de goles anotados (home+away)\")\n",
    "plt.xlabel(\"Equipo\")\n",
    "plt.ylabel(\"Promedio de goles por partido\")\n",
    "plt.xticks(rotation=45, ha='right')\n",
    "plt.grid(axis='y')\n",
    "plt.tight_layout()\n",
    "plt.show()\n"
   ]
  },
  {
   "cell_type": "markdown",
   "id": "ed977b1b-8708-4f87-a0f0-dab9c264b5b1",
   "metadata": {},
   "source": [
    "**Análisis de resultados**  \n",
    "\n",
    "La gráfica presenta el **Top 12 de equipos con mayor promedio de goles anotados por partido**, considerando tanto partidos de local como de visitante.  \n",
    "\n",
    "- **Manchester United** encabeza la lista con un promedio cercano a los 2 goles por partido, destacándose como el equipo más ofensivo.  \n",
    "- Le siguen **Arsenal, Liverpool, Chelsea y Manchester City**, con promedios que rondan entre 1.7 y 1.8 goles por encuentro, lo que confirma su rol protagónico en la liga.  \n",
    "- En posiciones intermedias aparecen equipos como **Tottenham y Blackpool**, con valores superiores a 1.5 goles en promedio.  \n",
    "- Los equipos de la parte baja del ranking, como **Leeds, Leicester, Newcastle, Blackburn y Everton**, tienen promedios cercanos a 1.3 goles, lo cual sigue siendo competitivo, aunque menor que los líderes.  \n",
    "\n",
    "**Conclusiones**  \n",
    "\n",
    "- Los resultados confirman que los **equipos históricos de la Premier League** (Manchester United, Arsenal, Liverpool, Chelsea y Manchester City) mantienen una **clara superioridad ofensiva**.  \n",
    "- El hecho de que clubes como **Blackpool o Leeds** aparezcan en el ranking evidencia que, en determinadas temporadas, estos equipos han logrado desempeños ofensivos destacados.  \n",
    "- La diferencia entre el primer lugar (Manchester United) y los últimos del Top 12 es significativa, lo que refleja la **desigualdad ofensiva entre los clubes más poderosos y el resto**.  \n",
    "- Para un nuevo club interesado en fichajes o en definir su estilo de juego, estos datos sugieren la importancia de **modelar su ofensiva tomando como referencia a los equipos líderes**, que logran mantener altos promedios de goles tanto en casa como de visita.  \n"
   ]
  },
  {
   "cell_type": "markdown",
   "id": "524f9a70-8500-425e-bf35-8a97ab8d7ea2",
   "metadata": {},
   "source": [
    "Se tiene el interés de conocer un poco más los\n",
    "equipos y resultados que se obtuvieron en la liga de 17-18, para así poder tener una\n",
    "mejor idea de que tipos de jugadores se preferiría contratar y que estilo de juego\n",
    "quiere que tenga su equipo."
   ]
  },
  {
   "cell_type": "markdown",
   "id": "facdf418-6a7e-42db-9305-2e855daf3619",
   "metadata": {},
   "source": [
    "**Elegir un club por jugador (el más frecuente)**"
   ]
  },
  {
   "cell_type": "markdown",
   "id": "66a8c2e5-a508-4029-9fe3-9bb3f39bd2d1",
   "metadata": {},
   "source": [
    "Vincular club con las seasons"
   ]
  },
  {
   "cell_type": "code",
   "execution_count": 37,
   "id": "9b9b881a-faa9-4ed6-9b9f-2b42ebaaf7d4",
   "metadata": {},
   "outputs": [
    {
     "name": "stdout",
     "output_type": "stream",
     "text": [
      "\n",
      "===== Arsenal =====\n",
      "+----+-----------------+-------+------+\n",
      "|rank|name             |fpl_avg|mv_avg|\n",
      "+----+-----------------+-------+------+\n",
      "|1   |Alexis Sanchez   |264.0  |65.0  |\n",
      "|2   |Mesut Ozil       |167.0  |50.0  |\n",
      "|3   |Petr Cech        |134.0  |7.0   |\n",
      "|4   |Theo Walcott     |122.0  |20.0  |\n",
      "|5   |Laurent Koscielny|121.0  |22.0  |\n",
      "|6   |Hector Bellerin  |119.0  |30.0  |\n",
      "|7   |Olivier Giroud   |116.0  |22.0  |\n",
      "|8   |Nacho Monreal    |115.0  |13.0  |\n",
      "|9   |Shkodran Mustafi |90.0   |30.0  |\n",
      "|10  |Alex Iwobi       |89.0   |10.0  |\n",
      "+----+-----------------+-------+------+\n",
      "\n",
      "\n",
      "===== Bournemouth =====\n",
      "+----+----------------+-------+------+\n",
      "|rank|name            |fpl_avg|mv_avg|\n",
      "+----+----------------+-------+------+\n",
      "|1   |Joshua King     |178.0  |8.0   |\n",
      "|2   |Jermain Defoe   |166.0  |5.0   |\n",
      "|3   |Charlie Daniels |134.0  |3.0   |\n",
      "|4   |Artur Boruc     |120.0  |1.0   |\n",
      "|5   |Steve Cook      |112.0  |5.0   |\n",
      "|6   |Junior Stanislas|107.0  |4.5   |\n",
      "|7   |Adam Smith      |104.0  |5.0   |\n",
      "|8   |Ryan Fraser     |100.0  |5.0   |\n",
      "|9   |Simon Francis   |89.0   |2.5   |\n",
      "|10  |Benik Afobe     |88.0   |10.0  |\n",
      "+----+----------------+-------+------+\n",
      "\n",
      "\n",
      "===== Brighton+and+Hove =====\n",
      "+----+-----------------+-------+------+\n",
      "|rank|name             |fpl_avg|mv_avg|\n",
      "+----+-----------------+-------+------+\n",
      "|1   |Anthony Knockaert|0.0    |8.0   |\n",
      "|2   |Dale Stephens    |0.0    |5.0   |\n",
      "|3   |Lewis Dunk       |0.0    |5.0   |\n",
      "|4   |Shane Duffy      |0.0    |5.0   |\n",
      "|5   |Pascal Gross     |0.0    |4.0   |\n",
      "|6   |Glenn Murray     |0.0    |3.5   |\n",
      "|7   |Mathew Ryan      |0.0    |3.5   |\n",
      "|8   |Sam Baldock      |0.0    |3.0   |\n",
      "|9   |Oliver Norwood   |0.0    |2.5   |\n",
      "|10  |Tomer Hemed      |0.0    |2.5   |\n",
      "+----+-----------------+-------+------+\n",
      "\n",
      "\n",
      "===== Burnley =====\n",
      "+----+--------------+-------+------+\n",
      "|rank|name          |fpl_avg|mv_avg|\n",
      "+----+--------------+-------+------+\n",
      "|1   |Tom Heaton    |149.0  |4.0   |\n",
      "|2   |Sam Vokes     |121.0  |4.5   |\n",
      "|3   |Andre Gray    |108.0  |10.0  |\n",
      "|4   |Ben Mee       |94.0   |6.0   |\n",
      "|5   |Stephen Ward  |91.0   |1.5   |\n",
      "|6   |Matthew Lowton|90.0   |2.5   |\n",
      "|7   |Ashley Barnes |81.0   |2.5   |\n",
      "|8   |Jeff Hendrick |76.0   |6.0   |\n",
      "|9   |Scott Arfield |69.0   |3.0   |\n",
      "|10  |Steven Defour |54.0   |6.0   |\n",
      "+----+--------------+-------+------+\n",
      "\n",
      "\n",
      "===== Chelsea =====\n",
      "+----+---------------------+-------+------+\n",
      "|rank|name                 |fpl_avg|mv_avg|\n",
      "+----+---------------------+-------+------+\n",
      "|1   |Eden Hazard          |224.0  |75.0  |\n",
      "|2   |Diego Costa          |196.0  |50.0  |\n",
      "|3   |Gary Cahill          |178.0  |16.0  |\n",
      "|4   |Marcos Alonso Mendoza|177.0  |25.0  |\n",
      "|5   |Cesar Azpilicueta    |170.0  |30.0  |\n",
      "|6   |Pedro                |162.0  |28.0  |\n",
      "|7   |Thibaut Courtois     |141.0  |40.0  |\n",
      "|8   |David Luiz           |132.0  |30.0  |\n",
      "|9   |Cesc Fabregas        |121.0  |35.0  |\n",
      "|10  |Willian              |114.0  |32.0  |\n",
      "+----+---------------------+-------+------+\n",
      "\n",
      "\n",
      "===== Crystal+Palace =====\n",
      "+----+-------------------+-------+------+\n",
      "|rank|name               |fpl_avg|mv_avg|\n",
      "+----+-------------------+-------+------+\n",
      "|1   |Wilfried Zaha      |149.0  |18.0  |\n",
      "|2   |Christian Benteke  |136.0  |28.0  |\n",
      "|3   |Andros Townsend    |116.0  |12.0  |\n",
      "|4   |Patrick van Aanholt|98.0   |9.0   |\n",
      "|5   |James McArthur     |93.0   |7.0   |\n",
      "|6   |Jason Puncheon     |92.0   |5.5   |\n",
      "|7   |Wayne Hennessey    |92.0   |4.0   |\n",
      "|8   |Yohan Cabaye       |91.0   |15.0  |\n",
      "|9   |Joel Ward          |86.0   |5.0   |\n",
      "|10  |James Tomkins      |75.0   |7.0   |\n",
      "+----+-------------------+-------+------+\n",
      "\n",
      "\n",
      "===== Everton =====\n",
      "+----+---------------+-------+------+\n",
      "|rank|name           |fpl_avg|mv_avg|\n",
      "+----+---------------+-------+------+\n",
      "|1   |Ross Barkley   |144.0  |25.0  |\n",
      "|2   |Leighton Baines|135.0  |12.0  |\n",
      "|3   |Seamus Coleman |133.0  |17.0  |\n",
      "|4   |Ashley Williams|127.0  |8.0   |\n",
      "|5   |Kevin Mirallas |119.0  |13.0  |\n",
      "|6   |Michael Keane  |113.0  |18.0  |\n",
      "|7   |Phil Jagielka  |104.0  |2.0   |\n",
      "|8   |Jordan Pickford|102.0  |15.0  |\n",
      "|9   |Joel Robles    |89.0   |5.0   |\n",
      "|10  |Idrissa Gueye  |80.0   |18.0  |\n",
      "+----+---------------+-------+------+\n",
      "\n",
      "\n",
      "===== Huddersfield =====\n",
      "+----+---------------------+-------+------+\n",
      "|rank|name                 |fpl_avg|mv_avg|\n",
      "+----+---------------------+-------+------+\n",
      "|1   |Tom Ince             |0.0    |7.0   |\n",
      "|2   |Steve Mounie         |0.0    |5.5   |\n",
      "|3   |Aaron Mooy           |0.0    |5.0   |\n",
      "|4   |Nahki Wells          |0.0    |5.0   |\n",
      "|5   |Elias Kachunga       |0.0    |3.5   |\n",
      "|6   |Laurent Depoitre     |0.0    |3.0   |\n",
      "|7   |Mathias Jorgensen    |0.0    |2.5   |\n",
      "|8   |Christopher Schindler|0.0    |2.0   |\n",
      "|9   |Rajiv van La Parra   |0.0    |2.0   |\n",
      "|10  |Tommy Smith          |0.0    |2.0   |\n",
      "+----+---------------------+-------+------+\n",
      "\n",
      "\n",
      "===== Leicester+City =====\n",
      "+----+-----------------+-------+------+\n",
      "|rank|name             |fpl_avg|mv_avg|\n",
      "+----+-----------------+-------+------+\n",
      "|1   |Jamie Vardy      |161.0  |15.0  |\n",
      "|2   |Riyad Mahrez     |120.0  |30.0  |\n",
      "|3   |Kasper Schmeichel|109.0  |10.0  |\n",
      "|4   |Christian Fuchs  |104.0  |6.0   |\n",
      "|5   |Marc Albrighton  |95.0   |6.0   |\n",
      "|6   |Robert Huth      |88.0   |5.0   |\n",
      "|7   |Danny Simpson    |85.0   |5.0   |\n",
      "|8   |Islam Slimani    |83.0   |25.0  |\n",
      "|9   |Harry Maguire    |71.0   |8.0   |\n",
      "|10  |Danny Drinkwater |69.0   |9.0   |\n",
      "+----+-----------------+-------+------+\n",
      "\n",
      "\n",
      "===== Liverpool =====\n",
      "+----+-------------------+-------+------+\n",
      "|rank|name               |fpl_avg|mv_avg|\n",
      "+----+-------------------+-------+------+\n",
      "|1   |Roberto Firmino    |180.0  |38.0  |\n",
      "|2   |Philippe Coutinho  |171.0  |45.0  |\n",
      "|3   |Sadio Mane         |156.0  |40.0  |\n",
      "|4   |Georginio Wijnaldum|149.0  |28.0  |\n",
      "|5   |Adam Lallana       |139.0  |25.0  |\n",
      "|6   |James Milner       |139.0  |12.0  |\n",
      "|7   |Nathaniel Clyne    |129.0  |21.0  |\n",
      "|8   |Simon Mignolet     |110.0  |12.0  |\n",
      "|9   |Dejan Lovren       |106.0  |17.0  |\n",
      "|10  |Emre Can           |104.0  |15.0  |\n",
      "+----+-------------------+-------+------+\n",
      "\n",
      "\n",
      "===== Manchester+City =====\n",
      "+----+------------------+-------+------+\n",
      "|rank|name              |fpl_avg|mv_avg|\n",
      "+----+------------------+-------+------+\n",
      "|1   |Kevin De Bruyne   |199.0  |65.0  |\n",
      "|2   |Sergio Aguero     |175.0  |65.0  |\n",
      "|3   |Raheem Sterling   |149.0  |45.0  |\n",
      "|4   |Kyle Walker       |142.0  |30.0  |\n",
      "|5   |David Silva       |130.0  |30.0  |\n",
      "|6   |Leroy Sane        |105.0  |35.0  |\n",
      "|7   |Nicolas Otamendi  |100.0  |30.0  |\n",
      "|8   |Aleksandar Kolarov|95.0   |10.0  |\n",
      "|9   |Yaya Toure        |86.0   |8.0   |\n",
      "|10  |Fernandinho       |78.0   |18.0  |\n",
      "+----+------------------+-------+------+\n",
      "\n",
      "\n",
      "===== Manchester+United =====\n",
      "+----+----------------+-------+------+\n",
      "|rank|name            |fpl_avg|mv_avg|\n",
      "+----+----------------+-------+------+\n",
      "|1   |Romelu Lukaku   |221.0  |50.0  |\n",
      "|2   |David de Gea    |136.0  |40.0  |\n",
      "|3   |Antonio Valencia|120.0  |10.0  |\n",
      "|4   |Paul Pogba      |115.0  |75.0  |\n",
      "|5   |Eric Bailly     |105.0  |30.0  |\n",
      "|6   |Juan Mata       |102.0  |30.0  |\n",
      "|7   |Daley Blind     |98.0   |22.0  |\n",
      "|8   |Ander Herrera   |97.0   |30.0  |\n",
      "|9   |Anthony Martial |95.0   |30.0  |\n",
      "|10  |Marcos Rojo     |77.0   |18.0  |\n",
      "+----+----------------+-------+------+\n",
      "\n",
      "\n",
      "===== Newcastle+United =====\n",
      "+----+-------------------+-------+------+\n",
      "|rank|name               |fpl_avg|mv_avg|\n",
      "+----+-------------------+-------+------+\n",
      "|1   |Jonjo Shelvey      |0.0    |11.0  |\n",
      "|2   |Aleksandar Mitrovic|0.0    |10.0  |\n",
      "|3   |Dwight Gayle       |0.0    |10.0  |\n",
      "|4   |Matt Ritchie       |0.0    |9.0   |\n",
      "|5   |Ayoze Perez        |0.0    |8.0   |\n",
      "|6   |Mohamed Diame      |0.0    |6.0   |\n",
      "|7   |Siem de Jong       |0.0    |5.5   |\n",
      "|8   |Christian Atsu     |0.0    |5.0   |\n",
      "|9   |Ciaran Clark       |0.0    |5.0   |\n",
      "|10  |DeAndre Yedlin     |0.0    |5.0   |\n",
      "+----+-------------------+-------+------+\n",
      "\n",
      "\n",
      "===== Southampton =====\n",
      "+----+-----------------+-------+------+\n",
      "|rank|name             |fpl_avg|mv_avg|\n",
      "+----+-----------------+-------+------+\n",
      "|1   |Fraser Forster   |134.0  |15.0  |\n",
      "|2   |Nathan Redmond   |126.0  |15.0  |\n",
      "|3   |Ryan Bertrand    |123.0  |20.0  |\n",
      "|4   |DuÅ¡an TadiÄ‡    |108.0  |17.0  |\n",
      "|5   |Cedric Soares    |102.0  |15.0  |\n",
      "|6   |James Ward-Prowse|92.0   |15.0  |\n",
      "|7   |Oriol Romeu      |80.0   |10.0  |\n",
      "|8   |Maya Yoshida     |78.0   |5.0   |\n",
      "|9   |Steven Davis     |77.0   |6.0   |\n",
      "|10  |Virgil van Dijk  |75.0   |30.0  |\n",
      "+----+-----------------+-------+------+\n",
      "\n",
      "\n",
      "===== Stoke+City =====\n",
      "+----+-----------------+-------+------+\n",
      "|rank|name             |fpl_avg|mv_avg|\n",
      "+----+-----------------+-------+------+\n",
      "|1   |Joe Allen        |118.0  |15.0  |\n",
      "|2   |Marko ArnautoviÄ‡|117.0  |15.0  |\n",
      "|3   |Lee Grant        |106.0  |1.0   |\n",
      "|4   |Erik Pieters     |103.0  |7.0   |\n",
      "|5   |Steven Fletcher  |103.0  |3.0   |\n",
      "|6   |Ryan Shawcross   |94.0   |11.0  |\n",
      "|7   |Xherdan Shaqiri  |80.0   |15.0  |\n",
      "|8   |Peter Crouch     |79.0   |1.5   |\n",
      "|9   |Glenn Whelan     |62.0   |2.5   |\n",
      "|10  |Charlie Adam     |59.0   |3.5   |\n",
      "+----+-----------------+-------+------+\n",
      "\n",
      "\n",
      "===== Swansea =====\n",
      "+----+------------------+-------+------+\n",
      "|rank|name              |fpl_avg|mv_avg|\n",
      "+----+------------------+-------+------+\n",
      "|1   |Gylfi Sigurdsson  |181.0  |25.0  |\n",
      "|2   |Fernando Llorente |146.0  |6.0   |\n",
      "|3   |Åukasz FabiaÅ„ski|116.0  |9.0   |\n",
      "|4   |Leroy Fer         |95.0   |8.0   |\n",
      "|5   |Alfie Mawson      |94.0   |6.0   |\n",
      "|6   |Kyle Naughton     |82.0   |5.0   |\n",
      "|7   |Wayne Routledge   |74.0   |2.5   |\n",
      "|8   |Federico Fernandez|63.0   |9.0   |\n",
      "|9   |Tom Carroll       |52.0   |6.0   |\n",
      "|10  |Martin Olsson     |52.0   |5.0   |\n",
      "+----+------------------+-------+------+\n",
      "\n",
      "\n",
      "===== Tottenham =====\n",
      "+----+-----------------+-------+------+\n",
      "|rank|name             |fpl_avg|mv_avg|\n",
      "+----+-----------------+-------+------+\n",
      "|1   |Dele Alli        |225.0  |45.0  |\n",
      "|2   |Harry Kane       |224.0  |60.0  |\n",
      "|3   |Christian Eriksen|218.0  |40.0  |\n",
      "|4   |Son Heung-min    |174.0  |30.0  |\n",
      "|5   |Hugo Lloris      |143.0  |24.0  |\n",
      "|6   |Jan Vertonghen   |126.0  |28.0  |\n",
      "|7   |Toby Alderweireld|120.0  |35.0  |\n",
      "|8   |Victor Wanyama   |103.0  |25.0  |\n",
      "|9   |Eric Dier        |93.0   |25.0  |\n",
      "|10  |Ben Davies       |90.0   |12.0  |\n",
      "+----+-----------------+-------+------+\n",
      "\n",
      "\n",
      "===== Watford =====\n",
      "+----+---------------+-------+------+\n",
      "|rank|name           |fpl_avg|mv_avg|\n",
      "+----+---------------+-------+------+\n",
      "|1   |Ã‰tienne Capoue|131.0  |9.0   |\n",
      "|2   |Troy Deeney    |130.0  |11.0  |\n",
      "|3   |Heurelho Gomes |113.0  |1.0   |\n",
      "|4   |Jose Holebas   |87.0   |2.0   |\n",
      "|5   |Miguel Britos  |71.0   |3.5   |\n",
      "|6   |Sebastian Prodl|67.0   |4.0   |\n",
      "|7   |Nordin Amrabat |65.0   |4.5   |\n",
      "|8   |YounÃ¨s Kaboul |57.0   |2.5   |\n",
      "|9   |Tom Cleverley  |55.0   |8.0   |\n",
      "|10  |Daryl Janmaat  |50.0   |7.0   |\n",
      "+----+---------------+-------+------+\n",
      "\n",
      "\n",
      "===== West+Brom =====\n",
      "+----+--------------+-------+------+\n",
      "|rank|name          |fpl_avg|mv_avg|\n",
      "+----+--------------+-------+------+\n",
      "|1   |Gareth McAuley|131.0  |1.0   |\n",
      "|2   |Salomon Rondon|118.0  |15.0  |\n",
      "|3   |Matt Phillips |115.0  |9.0   |\n",
      "|4   |Ben Foster    |113.0  |4.0   |\n",
      "|5   |Nacer Chadli  |110.0  |15.0  |\n",
      "|6   |Craig Dawson  |102.0  |6.0   |\n",
      "|7   |Chris Brunt   |99.0   |4.0   |\n",
      "|8   |James Morrison|84.0   |5.0   |\n",
      "|9   |Jonny Evans   |79.0   |7.0   |\n",
      "|10  |Jake Livermore|77.0   |7.0   |\n",
      "+----+--------------+-------+------+\n",
      "\n",
      "\n",
      "===== West+Ham =====\n",
      "+----+----------------+-------+------+\n",
      "|rank|name            |fpl_avg|mv_avg|\n",
      "+----+----------------+-------+------+\n",
      "|1   |Manuel Lanzini  |133.0  |15.0  |\n",
      "|2   |Robert Snodgrass|133.0  |8.0   |\n",
      "|3   |Michail Antonio |132.0  |18.0  |\n",
      "|4   |Winston Reid    |102.0  |10.0  |\n",
      "|5   |Jose Fonte      |98.0   |7.0   |\n",
      "|6   |Andre Ayew      |89.0   |18.0  |\n",
      "|7   |Cheikhou Kouyate|79.0   |12.0  |\n",
      "|8   |Mark Noble      |71.0   |7.0   |\n",
      "|9   |Andy Carroll    |69.0   |10.0  |\n",
      "|10  |Darren Randolph |69.0   |2.5   |\n",
      "+----+----------------+-------+------+\n",
      "\n"
     ]
    }
   ],
   "source": [
    "from pyspark.sql import functions as F\n",
    "from pyspark.sql.window import Window as W\n",
    "\n",
    "# Usamos solo las columnas de jugadores\n",
    "df_players = (\n",
    "    df00.select(\"name\", \"club\", \"fpl_points\", \"market_value\")\n",
    "        .dropna(subset=[\"name\", \"club\", \"fpl_points\"])\n",
    ")\n",
    "\n",
    "# Si un jugador aparece repetido, promediamos \n",
    "agg_players = (\n",
    "    df_players.groupBy(\"club\", \"name\")\n",
    "              .agg(\n",
    "                  F.avg(\"fpl_points\").alias(\"fpl_avg\"),\n",
    "                  F.avg(\"market_value\").alias(\"mv_avg\")\n",
    "              )\n",
    ")\n",
    "\n",
    "# Ranking por club\n",
    "w = W.partitionBy(\"club\").orderBy(F.desc(\"fpl_avg\"), F.desc(\"mv_avg\"), F.asc(\"name\"))\n",
    "\n",
    "top10_por_club = (\n",
    "    agg_players.withColumn(\"rank\", F.row_number().over(w))\n",
    "               .filter(F.col(\"rank\") <= 10)\n",
    "               .orderBy(\"club\", \"rank\")\n",
    ")\n",
    "\n",
    "# Mostrar tablas separadas por club usando show()\n",
    "clubs = [row[\"club\"] for row in top10_por_club.select(\"club\").distinct().collect()]\n",
    "\n",
    "for c in clubs:\n",
    "    print(f\"\\n===== {c} =====\")\n",
    "    top10_por_club.filter(F.col(\"club\") == c).select(\"rank\",\"name\",\"fpl_avg\",\"mv_avg\").show(truncate=False)\n"
   ]
  },
  {
   "cell_type": "code",
   "execution_count": 38,
   "id": "481e3af6-3f75-42e4-89af-131bb418dd17",
   "metadata": {},
   "outputs": [
    {
     "ename": "NameError",
     "evalue": "name 'wins' is not defined",
     "output_type": "error",
     "traceback": [
      "\u001b[31m---------------------------------------------------------------------------\u001b[39m",
      "\u001b[31mNameError\u001b[39m                                 Traceback (most recent call last)",
      "\u001b[36mCell\u001b[39m\u001b[36m \u001b[39m\u001b[32mIn[38]\u001b[39m\u001b[32m, line 24\u001b[39m\n\u001b[32m     22\u001b[39m \u001b[38;5;66;03m# Gráfica de barras\u001b[39;00m\n\u001b[32m     23\u001b[39m plt.figure(figsize=(\u001b[32m12\u001b[39m,\u001b[32m6\u001b[39m))\n\u001b[32m---> \u001b[39m\u001b[32m24\u001b[39m plt.bar(pdf_wins[\u001b[33m\"\u001b[39m\u001b[33mWinner\u001b[39m\u001b[33m\"\u001b[39m], \u001b[43mwins\u001b[49m[\u001b[33m\"\u001b[39m\u001b[33mWins\u001b[39m\u001b[33m\"\u001b[39m], color=\u001b[33m\"\u001b[39m\u001b[33mskyblue\u001b[39m\u001b[33m\"\u001b[39m)\n\u001b[32m     25\u001b[39m plt.title(\u001b[33m\"\u001b[39m\u001b[33mCantidad de partidos ganados por club - Season 2017-18\u001b[39m\u001b[33m\"\u001b[39m)\n\u001b[32m     26\u001b[39m plt.xlabel(\u001b[33m\"\u001b[39m\u001b[33mClub\u001b[39m\u001b[33m\"\u001b[39m)\n",
      "\u001b[31mNameError\u001b[39m: name 'wins' is not defined"
     ]
    },
    {
     "data": {
      "text/plain": [
       "<Figure size 1200x600 with 0 Axes>"
      ]
     },
     "metadata": {},
     "output_type": "display_data"
    }
   ],
   "source": [
    "# Filtrar solo la temporada 2017-18\n",
    "df_1718 = df01.filter(F.col(\"Season\") == \"2017-18\")\n",
    "\n",
    "# Determinar ganador por partido\n",
    "df_winner = df_1718.withColumn(\n",
    "    \"Winner\",\n",
    "    F.when(F.col(\"FTR\") == \"H\", F.col(\"HomeTeam\"))\n",
    "     .when(F.col(\"FTR\") == \"A\", F.col(\"AwayTeam\"))\n",
    "     .otherwise(F.lit(None))  # empates quedan como null\n",
    ")\n",
    "\n",
    "# Contar victorias por club\n",
    "wins_per_club = (\n",
    "    df_winner.filter(F.col(\"Winner\").isNotNull())\n",
    "             .groupBy(\"Winner\")\n",
    "             .agg(F.count(\"*\").alias(\"Wins\"))\n",
    "             .orderBy(F.desc(\"Wins\"))\n",
    ")\n",
    "\n",
    "pdf_wins = wins_per_club.toPandas()\n",
    "\n",
    "# Gráfica de barras\n",
    "plt.figure(figsize=(12,6))\n",
    "plt.bar(pdf_wins[\"Winner\"], wins[\"Wins\"], color=\"skyblue\")\n",
    "plt.title(\"Cantidad de partidos ganados por club - Season 2017-18\")\n",
    "plt.xlabel(\"Club\")\n",
    "plt.ylabel(\"Victorias\")\n",
    "plt.xticks(rotation=45, ha=\"right\")\n",
    "plt.grid(axis=\"y\")\n",
    "plt.tight_layout()\n",
    "plt.show()\n"
   ]
  },
  {
   "cell_type": "markdown",
   "id": "9844300a-9e61-4c50-90a8-90bf0db982b6",
   "metadata": {},
   "source": [
    "**Conversion de JSON a CSV**"
   ]
  },
  {
   "cell_type": "code",
   "execution_count": null,
   "id": "322860b0-93f7-459c-b58f-bcf11f07a521",
   "metadata": {},
   "outputs": [],
   "source": [
    "!$HADOOP_HOME/bin/hadoop fs -ls /json\n",
    "# Deberías ver /json/temporadas.json listado\n"
   ]
  },
  {
   "cell_type": "code",
   "execution_count": null,
   "id": "bd419878-6251-48a9-904f-186fb7783634",
   "metadata": {},
   "outputs": [],
   "source": [
    "rdd = spark04.sparkContext.textFile(\"hdfs://10.195.34.34:9000/json/temporadas.json\")\n",
    "rdd.take(5)   # imprime 5 líneas para inspección\n"
   ]
  },
  {
   "cell_type": "code",
   "execution_count": null,
   "id": "30260a50-c3ad-4677-b91c-6200864c9f2a",
   "metadata": {},
   "outputs": [],
   "source": [
    "from pyspark.sql.functions import from_json, col\n",
    "from pyspark.sql.types import MapType, StringType, StructType\n",
    "\n",
    "# 1) Leemos el archivo como texto\n",
    "df_text = spark04.read.text(\"hdfs://10.195.34.34:9000/json/temporadas.json\")\n",
    "\n",
    "# 2) Unimos todas las líneas en un solo string (porque es un objeto multilínea)\n",
    "json_str = \"\\n\".join(df_text.select(\"value\").rdd.flatMap(lambda x: x).collect())\n",
    "\n",
    "# 3) Creamos un DataFrame pequeño con esa cadena completa\n",
    "df_single = spark04.createDataFrame([(json_str,)], [\"raw_json\"])\n",
    "\n",
    "# 4) Interpretamos como un Map de clave->valor (IDs dinámicos)\n",
    "df_parsed = df_single.select(from_json(col(\"raw_json\"), MapType(StringType(), StringType())).alias(\"data\"))\n",
    "\n",
    "df_parsed.show(truncate=False)\n"
   ]
  }
 ],
 "metadata": {
  "kernelspec": {
   "display_name": "rapKernel_v4",
   "language": "python",
   "name": "rapkernel_v4"
  },
  "language_info": {
   "codemirror_mode": {
    "name": "ipython",
    "version": 3
   },
   "file_extension": ".py",
   "mimetype": "text/x-python",
   "name": "python",
   "nbconvert_exporter": "python",
   "pygments_lexer": "ipython3",
   "version": "3.12.3"
  }
 },
 "nbformat": 4,
 "nbformat_minor": 5
}
