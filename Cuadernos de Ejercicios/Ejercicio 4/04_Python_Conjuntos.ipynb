{
  "cells": [
    {
      "cell_type": "markdown",
      "source": [
        "<h1>Procesamiento de Datos a Gran Escala</h1>"
      ],
      "metadata": {
        "application/vnd.databricks.v1+cell": {
          "title": "",
          "showTitle": false,
          "inputWidgets": {},
          "nuid": "65c3d562-8f12-4b16-b6f3-cb3ff1bdcde4"
        },
        "id": "LrHglqmv-oH9"
      }
    },
    {
      "cell_type": "markdown",
      "source": [
        "<h2>Conjuntos en Python</h2>"
      ],
      "metadata": {
        "application/vnd.databricks.v1+cell": {
          "title": "",
          "showTitle": false,
          "inputWidgets": {},
          "nuid": "4182cfaa-6acc-4585-a8ae-901617e5c908"
        },
        "id": "mI-kLEIW-oIA"
      }
    },
    {
      "cell_type": "markdown",
      "source": [
        "**Autor:** Natalia Echeverry Salcedo  \n",
        "\n",
        "**Fecha de Inicio:** 7/08/2025  \n",
        "**Fecha actual:** 11/08/2025  \n",
        "\n",
        "---\n",
        "\n",
        "## Descripción\n",
        "Este taller corresponde al **Ejercicio 4** del curso **Procesamiento de Datos** y tiene como objetivo comprender y manipular **conjuntos** (*sets*) en Python.  \n",
        "Durante el ejercicio, el estudiante aprende a:\n",
        "\n",
        "- Crear conjuntos a partir de listas u otros iterables.\n",
        "- Comprender las propiedades de los conjuntos:\n",
        "  - No permiten elementos duplicados.\n",
        "  - No tienen un orden específico.\n",
        "- Realizar operaciones de teoría de conjuntos:\n",
        "  - **Unión** (`union()` o `|`)\n",
        "  - **Intersección** (`intersection()` o `&`)\n",
        "  - **Diferencia** (`difference()` o `-`)\n",
        "  - **Diferencia simétrica** (`symmetric_difference()` o `^`)\n",
        "- Verificar pertenencia con el operador `in`.\n",
        "- Agregar y eliminar elementos (`add()`, `remove()`, `discard()`).\n",
        "- Comparar conjuntos para determinar subconjuntos y superconjuntos.\n",
        "- Resolver un examen de práctica para afianzar los conceptos.\n",
        "\n",
        "El taller incluye comentarios explicativos y ejemplos prácticos que muestran cómo trabajar con conjuntos de forma eficiente en Python.\n"
      ],
      "metadata": {
        "id": "jQOqOg4s-tRU"
      }
    },
    {
      "cell_type": "markdown",
      "source": [
        "<p><strong>¡Bienvenido!</strong> En este cuaderno aprenderás acerca del uso de conjuntos con el Lenguaje de Programación Python. Al final del laboratorio, sabrás lo básico sobre operaciones con conjuntos, adema de qué son, y las operaciones lógicas que puedes hacer con ellos.</p>"
      ],
      "metadata": {
        "application/vnd.databricks.v1+cell": {
          "title": "",
          "showTitle": false,
          "inputWidgets": {},
          "nuid": "da70c336-dee2-4ba5-9f4a-35b4ea98fe2c"
        },
        "id": "OvKBHNmW-oIB"
      }
    },
    {
      "cell_type": "markdown",
      "source": [
        "<h2>Tabla de Contenido</h2>\n",
        "<div class=\"alert alert-block alert-info\" style=\"margin-top: 20px\">\n",
        "    <ul>\n",
        "        <li>\n",
        "            <a href=\"#set\">Conjuntos</a>\n",
        "            <ul>\n",
        "                <li><a href=\"content\">Contenido de un Conjunto</a></li>\n",
        "                <li><a href=\"op\">Operaciones con Conjuntos</a></li>\n",
        "                <li><a href=\"logic\">Operacion Lógicas con Conjuntos</a></li>\n",
        "            </ul>\n",
        "        </li>\n",
        "        <li>\n",
        "            <a href=\"#quiz\">Cuestionario sobre conjuntos</a>\n",
        "        </li>\n",
        "    </ul>\n",
        "    <p>\n",
        "        Tiempo Estimado: <strong>20 min</strong>\n",
        "    </p>\n",
        "</div>\n",
        "\n",
        "<hr>"
      ],
      "metadata": {
        "application/vnd.databricks.v1+cell": {
          "title": "",
          "showTitle": false,
          "inputWidgets": {},
          "nuid": "0e159791-cf95-4e09-a881-de7f5f09c12c"
        },
        "id": "nUtW-VWV-oIB"
      }
    },
    {
      "cell_type": "markdown",
      "source": [
        "<h2 id=\"set\">Conjuntos</h2>"
      ],
      "metadata": {
        "application/vnd.databricks.v1+cell": {
          "title": "",
          "showTitle": false,
          "inputWidgets": {},
          "nuid": "d31d7190-d92b-4fb3-b1aa-46f07e6fddac"
        },
        "id": "D3z5Jp_s-oIC"
      }
    },
    {
      "cell_type": "markdown",
      "source": [
        "<h3 id=\"content\">Contenido de un Conjunto</h3>"
      ],
      "metadata": {
        "application/vnd.databricks.v1+cell": {
          "title": "",
          "showTitle": false,
          "inputWidgets": {},
          "nuid": "5f3c8d3b-651d-429e-ae54-69d566048296"
        },
        "id": "FR81SCPm-oIC"
      }
    },
    {
      "cell_type": "markdown",
      "source": [
        "Un conjunto es una colección de objetos únicos en Python. Un conjunto se define usando llaves de apertura y cierre <b>{}</b>. Python removerá automáticamente elementos duplicados."
      ],
      "metadata": {
        "application/vnd.databricks.v1+cell": {
          "title": "",
          "showTitle": false,
          "inputWidgets": {},
          "nuid": "ee569271-f4ad-4326-bd54-f859b3808514"
        },
        "id": "s4TN86FI-oIC"
      }
    },
    {
      "cell_type": "code",
      "source": [
        "# Crear un conjunto\n",
        "\n",
        "set1 = {\"pop\", \"rock\", \"soul\", \"hard rock\", \"rock\", \"R&B\", \"rock\", \"disco\"}\n",
        "set1"
      ],
      "metadata": {
        "application/vnd.databricks.v1+cell": {
          "title": "",
          "showTitle": false,
          "inputWidgets": {},
          "nuid": "eed936cb-a07f-430a-8a62-efc6a522001c"
        },
        "colab": {
          "base_uri": "https://localhost:8080/"
        },
        "id": "O0bmMc5V-oID",
        "outputId": "07fabc89-bfd2-4438-d1c8-c0ed16121735"
      },
      "outputs": [
        {
          "output_type": "execute_result",
          "data": {
            "text/plain": [
              "{'R&B', 'disco', 'hard rock', 'pop', 'rock', 'soul'}"
            ]
          },
          "metadata": {},
          "execution_count": 1
        }
      ],
      "execution_count": 1
    },
    {
      "cell_type": "markdown",
      "source": [
        "El proceso de mapeado se muestra en la siguiente figura:"
      ],
      "metadata": {
        "application/vnd.databricks.v1+cell": {
          "title": "",
          "showTitle": false,
          "inputWidgets": {},
          "nuid": "d63cd755-204f-4266-8279-924ead0cead9"
        },
        "id": "Ji_j-bae-oIE"
      }
    },
    {
      "cell_type": "markdown",
      "source": [
        "<img src=\"https://s3-api.us-geo.objectstorage.softlayer.net/cf-courses-data/CognitiveClass/PY0101EN/Chapter%202/Images/SetsUnique.png\" width=\"1100\" />"
      ],
      "metadata": {
        "application/vnd.databricks.v1+cell": {
          "title": "",
          "showTitle": false,
          "inputWidgets": {},
          "nuid": "8f17cf2e-5206-4372-ae1c-947bbda18b19"
        },
        "id": "6DzWEbLQ-oIE"
      }
    },
    {
      "cell_type": "markdown",
      "source": [
        "También se puede crear un conjunto a partir de una lista:"
      ],
      "metadata": {
        "application/vnd.databricks.v1+cell": {
          "title": "",
          "showTitle": false,
          "inputWidgets": {},
          "nuid": "1c7b5d30-5ec1-46d7-910b-11c0eeea2166"
        },
        "id": "nlaxzqyn-oIF"
      }
    },
    {
      "cell_type": "code",
      "source": [
        "# Convertir una lista en un conjunto\n",
        "\n",
        "album_list = [ \"Michael Jackson\", \"Thriller\", 1982, \"00:42:19\", \\\n",
        "              \"Pop, Rock, R&B\", 46.0, 65, \"30-Nov-82\", None, 10.0]\n",
        "album_set = set(album_list)\n",
        "album_set"
      ],
      "metadata": {
        "scrolled": true,
        "application/vnd.databricks.v1+cell": {
          "title": "",
          "showTitle": false,
          "inputWidgets": {},
          "nuid": "b50e128e-0bee-4451-9edd-910e50381125"
        },
        "colab": {
          "base_uri": "https://localhost:8080/"
        },
        "id": "W65jPkvX-oIF",
        "outputId": "9e6ff1fb-e585-4587-cc16-1b4b649d549f"
      },
      "outputs": [
        {
          "output_type": "execute_result",
          "data": {
            "text/plain": [
              "{'00:42:19',\n",
              " 10.0,\n",
              " 1982,\n",
              " '30-Nov-82',\n",
              " 46.0,\n",
              " 65,\n",
              " 'Michael Jackson',\n",
              " None,\n",
              " 'Pop, Rock, R&B',\n",
              " 'Thriller'}"
            ]
          },
          "metadata": {},
          "execution_count": 2
        }
      ],
      "execution_count": 2
    },
    {
      "cell_type": "markdown",
      "source": [
        "Vamos a crear un conjunto de géneros musicales:"
      ],
      "metadata": {
        "application/vnd.databricks.v1+cell": {
          "title": "",
          "showTitle": false,
          "inputWidgets": {},
          "nuid": "d348404e-048e-492c-90e6-8c4d0b5c45b5"
        },
        "id": "J85aaJrr-oIF"
      }
    },
    {
      "cell_type": "code",
      "source": [
        "# Convertir una lista en un conjunto\n",
        "\n",
        "music_genres = set([\"pop\", \"pop\", \"rock\", \"folk rock\", \"hard rock\", \"soul\", \\\n",
        "                    \"progressive rock\", \"soft rock\", \"R&B\", \"disco\"])\n",
        "music_genres"
      ],
      "metadata": {
        "application/vnd.databricks.v1+cell": {
          "title": "",
          "showTitle": false,
          "inputWidgets": {},
          "nuid": "740f8ead-03ee-4bdb-8395-9c4e9b1cd181"
        },
        "colab": {
          "base_uri": "https://localhost:8080/"
        },
        "id": "BP-Qco7a-oIF",
        "outputId": "264778c1-c743-4951-dba3-873d63ff2cd9"
      },
      "outputs": [
        {
          "output_type": "execute_result",
          "data": {
            "text/plain": [
              "{'R&B',\n",
              " 'disco',\n",
              " 'folk rock',\n",
              " 'hard rock',\n",
              " 'pop',\n",
              " 'progressive rock',\n",
              " 'rock',\n",
              " 'soft rock',\n",
              " 'soul'}"
            ]
          },
          "metadata": {},
          "execution_count": 3
        }
      ],
      "execution_count": 3
    },
    {
      "cell_type": "markdown",
      "source": [
        "<h3 id=\"op\">Operaciones con Conjuntos</h3>"
      ],
      "metadata": {
        "application/vnd.databricks.v1+cell": {
          "title": "",
          "showTitle": false,
          "inputWidgets": {},
          "nuid": "e3effa51-8b0b-464a-8395-76d29ceacc7d"
        },
        "id": "OeM7_0lQ-oIF"
      }
    },
    {
      "cell_type": "markdown",
      "source": [
        "Vamos a revisar las operaciones con conjuntos que nos ayudaran a modificarlo. Considera el conjunto <b>A</b>:"
      ],
      "metadata": {
        "application/vnd.databricks.v1+cell": {
          "title": "",
          "showTitle": false,
          "inputWidgets": {},
          "nuid": "83497af3-8c18-4cf1-811a-4be29d6e122c"
        },
        "id": "4AUKjrq1-oIF"
      }
    },
    {
      "cell_type": "code",
      "source": [
        "# Conjunto de ejemplo\n",
        "\n",
        "A = set([\"Thriller\", \"Back in Black\", \"AC/DC\"])\n",
        "A"
      ],
      "metadata": {
        "application/vnd.databricks.v1+cell": {
          "title": "",
          "showTitle": false,
          "inputWidgets": {},
          "nuid": "fd311c8e-a689-4f52-a20e-95fee3e4fede"
        },
        "colab": {
          "base_uri": "https://localhost:8080/"
        },
        "id": "OJ_DnuOC-oIF",
        "outputId": "9fe651a4-766f-4b2d-8740-4422190c1f57"
      },
      "outputs": [
        {
          "output_type": "execute_result",
          "data": {
            "text/plain": [
              "{'AC/DC', 'Back in Black', 'Thriller'}"
            ]
          },
          "metadata": {},
          "execution_count": 4
        }
      ],
      "execution_count": 4
    },
    {
      "cell_type": "markdown",
      "source": [
        "Podemos agregar un elemento al conjunto mediante el método <code>add()</code>:"
      ],
      "metadata": {
        "application/vnd.databricks.v1+cell": {
          "title": "",
          "showTitle": false,
          "inputWidgets": {},
          "nuid": "3c99d89f-0876-4608-b2e1-5a84b2ec95ab"
        },
        "id": "Ob3b2MGZ-oIF"
      }
    },
    {
      "cell_type": "code",
      "source": [
        "# Agregar un elemento al conjunto\n",
        "\n",
        "A.add(\"NSYNC\")\n",
        "A"
      ],
      "metadata": {
        "application/vnd.databricks.v1+cell": {
          "title": "",
          "showTitle": false,
          "inputWidgets": {},
          "nuid": "2bbfa359-b24d-497e-9048-e46d695684c8"
        },
        "colab": {
          "base_uri": "https://localhost:8080/"
        },
        "id": "kgIKQhNB-oIF",
        "outputId": "cbddd355-401c-479d-8bc6-6c9f1873211c"
      },
      "outputs": [
        {
          "output_type": "execute_result",
          "data": {
            "text/plain": [
              "{'AC/DC', 'Back in Black', 'NSYNC', 'Thriller'}"
            ]
          },
          "metadata": {},
          "execution_count": 5
        }
      ],
      "execution_count": 5
    },
    {
      "cell_type": "markdown",
      "source": [
        "Si agregamos el mismo elemento dos veces nada cambiara debido a que no puede haber elemento duplicados en un conjunto:"
      ],
      "metadata": {
        "application/vnd.databricks.v1+cell": {
          "title": "",
          "showTitle": false,
          "inputWidgets": {},
          "nuid": "d71d14f2-528e-42ad-8d96-0480adb07e02"
        },
        "id": "r8yS_VZC-oIG"
      }
    },
    {
      "cell_type": "code",
      "source": [
        "# Trata de agregar un elemento duplicado al conjunto\n",
        "\n",
        "A.add(\"NSYNC\")\n",
        "A"
      ],
      "metadata": {
        "application/vnd.databricks.v1+cell": {
          "title": "",
          "showTitle": false,
          "inputWidgets": {},
          "nuid": "8d5a9b89-3c15-4385-9b4b-57a735bc3267"
        },
        "colab": {
          "base_uri": "https://localhost:8080/"
        },
        "id": "xYnchexU-oIG",
        "outputId": "0d70a36b-3e2d-4d58-daf2-6bda08ffd635"
      },
      "outputs": [
        {
          "output_type": "execute_result",
          "data": {
            "text/plain": [
              "{'AC/DC', 'Back in Black', 'NSYNC', 'Thriller'}"
            ]
          },
          "metadata": {},
          "execution_count": 6
        }
      ],
      "execution_count": 6
    },
    {
      "cell_type": "markdown",
      "source": [
        "Podemos borrar un elemento del conjunto mediante el método <code>remove</code>:"
      ],
      "metadata": {
        "application/vnd.databricks.v1+cell": {
          "title": "",
          "showTitle": false,
          "inputWidgets": {},
          "nuid": "ab18cd1d-6368-402f-82ba-d129b581d94c"
        },
        "id": "_33i6v5Q-oIG"
      }
    },
    {
      "cell_type": "code",
      "source": [
        "# Remover un elemento del conjunto\n",
        "\n",
        "A.remove(\"NSYNC\")\n",
        "A"
      ],
      "metadata": {
        "application/vnd.databricks.v1+cell": {
          "title": "",
          "showTitle": false,
          "inputWidgets": {},
          "nuid": "e2894814-1d63-4d01-b9f0-d27873e386f1"
        },
        "colab": {
          "base_uri": "https://localhost:8080/"
        },
        "id": "haPQvBWh-oIG",
        "outputId": "9807f82d-9c96-4fa1-cddf-c9f1ab40d2f1"
      },
      "outputs": [
        {
          "output_type": "execute_result",
          "data": {
            "text/plain": [
              "{'AC/DC', 'Back in Black', 'Thriller'}"
            ]
          },
          "metadata": {},
          "execution_count": 7
        }
      ],
      "execution_count": 7
    },
    {
      "cell_type": "markdown",
      "source": [
        "Podemos verificar si existe un elemento especifico dentro del conjunto con el comando <code>in</code>:"
      ],
      "metadata": {
        "application/vnd.databricks.v1+cell": {
          "title": "",
          "showTitle": false,
          "inputWidgets": {},
          "nuid": "adb18837-3bea-48dc-96b0-ffd51e873a61"
        },
        "id": "0lAHX5bw-oIG"
      }
    },
    {
      "cell_type": "code",
      "source": [
        "# Verificar si existe un elemento en el conjunto\n",
        "\n",
        "\"AC/DC\" in A"
      ],
      "metadata": {
        "application/vnd.databricks.v1+cell": {
          "title": "",
          "showTitle": false,
          "inputWidgets": {},
          "nuid": "b96d7b9c-e2a6-4526-9164-f71639ee6448"
        },
        "colab": {
          "base_uri": "https://localhost:8080/"
        },
        "id": "uimnoqQ8-oIG",
        "outputId": "d0a675ee-10f0-4349-e9d7-30258319f78b"
      },
      "outputs": [
        {
          "output_type": "execute_result",
          "data": {
            "text/plain": [
              "True"
            ]
          },
          "metadata": {},
          "execution_count": 8
        }
      ],
      "execution_count": 8
    },
    {
      "cell_type": "markdown",
      "source": [
        "<h3 id=\"logic\">Operacion Lógicas con Conjuntos</h3>"
      ],
      "metadata": {
        "application/vnd.databricks.v1+cell": {
          "title": "",
          "showTitle": false,
          "inputWidgets": {},
          "nuid": "422b5543-1340-4d4e-b38d-a5223fab3e6e"
        },
        "id": "9Qa7co-6-oIG"
      }
    },
    {
      "cell_type": "markdown",
      "source": [
        "Recuerda que puedes revisar la diferencia entre dos conjuntos, así como la diferencia simétrica, intersección y unión:"
      ],
      "metadata": {
        "application/vnd.databricks.v1+cell": {
          "title": "",
          "showTitle": false,
          "inputWidgets": {},
          "nuid": "4a4edda5-3034-42d1-a275-6cb64904c804"
        },
        "id": "ToaWIGzk-oIG"
      }
    },
    {
      "cell_type": "markdown",
      "source": [
        "Considera estos dos conjuntos:"
      ],
      "metadata": {
        "application/vnd.databricks.v1+cell": {
          "title": "",
          "showTitle": false,
          "inputWidgets": {},
          "nuid": "5fed6cc6-cdb4-4a1f-9d2a-522eb0d83331"
        },
        "id": "lxVUROWD-oIG"
      }
    },
    {
      "cell_type": "code",
      "source": [
        "# Conjuntos de ejemplo\n",
        "\n",
        "album_set1 = set([\"Thriller\", 'AC/DC', 'Back in Black'])\n",
        "album_set2 = set([ \"AC/DC\", \"Back in Black\", \"The Dark Side of the Moon\"])"
      ],
      "metadata": {
        "application/vnd.databricks.v1+cell": {
          "title": "",
          "showTitle": false,
          "inputWidgets": {},
          "nuid": "92b27aaa-e2e3-4da5-9176-e0dbdb138e38"
        },
        "id": "fd3YRADf-oIG"
      },
      "outputs": [],
      "execution_count": 9
    },
    {
      "cell_type": "markdown",
      "source": [
        "<img src=\"https://s3-api.us-geo.objectstorage.softlayer.net/cf-courses-data/CognitiveClass/PY0101EN/Chapter%202/Images/SetsSamples.png\" width=\"650\" />"
      ],
      "metadata": {
        "application/vnd.databricks.v1+cell": {
          "title": "",
          "showTitle": false,
          "inputWidgets": {},
          "nuid": "a1cda677-0e93-4eeb-aa36-6328db70042a"
        },
        "id": "wQu53edx-oIG"
      }
    },
    {
      "cell_type": "code",
      "source": [
        "# Imprimir dos conjuntos\n",
        "\n",
        "album_set1, album_set2"
      ],
      "metadata": {
        "scrolled": true,
        "application/vnd.databricks.v1+cell": {
          "title": "",
          "showTitle": false,
          "inputWidgets": {},
          "nuid": "875280c6-741e-4537-a381-0eb5521e86d1"
        },
        "colab": {
          "base_uri": "https://localhost:8080/"
        },
        "id": "wcB8PxuV-oIG",
        "outputId": "9f485ab0-1545-4e7f-897c-36ac336b671d"
      },
      "outputs": [
        {
          "output_type": "execute_result",
          "data": {
            "text/plain": [
              "({'AC/DC', 'Back in Black', 'Thriller'},\n",
              " {'AC/DC', 'Back in Black', 'The Dark Side of the Moon'})"
            ]
          },
          "metadata": {},
          "execution_count": 10
        }
      ],
      "execution_count": 10
    },
    {
      "cell_type": "markdown",
      "source": [
        "Como los dos conjuntos contienen <b>AC/DC</b> y <b>Back in Black</b> podemos representar estos elementos en común en la intersección de dos círculos."
      ],
      "metadata": {
        "application/vnd.databricks.v1+cell": {
          "title": "",
          "showTitle": false,
          "inputWidgets": {},
          "nuid": "77d89d4b-c3a3-4144-91eb-373a72491c97"
        },
        "id": "OOzaBNhB-oIG"
      }
    },
    {
      "cell_type": "markdown",
      "source": [
        "<img src = \"https://s3-api.us-geo.objectstorage.softlayer.net/cf-courses-data/CognitiveClass/PY0101EN/Chapter%202/Images/SetsLogic.png\" width = \"650\" />"
      ],
      "metadata": {
        "application/vnd.databricks.v1+cell": {
          "title": "",
          "showTitle": false,
          "inputWidgets": {},
          "nuid": "eede0354-4f8e-4cd0-9a85-d176ebc75537"
        },
        "id": "02G0TIqo-oIH"
      }
    },
    {
      "cell_type": "markdown",
      "source": [
        "Para encontrar la intersección de dos conjuntos usaremos <code>&</code>:"
      ],
      "metadata": {
        "application/vnd.databricks.v1+cell": {
          "title": "",
          "showTitle": false,
          "inputWidgets": {},
          "nuid": "1902d5a0-6b7c-445c-9d63-dc2ac3927ceb"
        },
        "id": "flXt54tD-oIH"
      }
    },
    {
      "cell_type": "code",
      "source": [
        "# Encontrar las intersecciones\n",
        "\n",
        "intersection = album_set1 & album_set2\n",
        "intersection"
      ],
      "metadata": {
        "application/vnd.databricks.v1+cell": {
          "title": "",
          "showTitle": false,
          "inputWidgets": {},
          "nuid": "00cfc994-9fde-4110-baf0-253d71b113fa"
        },
        "colab": {
          "base_uri": "https://localhost:8080/"
        },
        "id": "i5empZfm-oIH",
        "outputId": "5d3ca6f0-4116-48b1-bab2-9fedc6386115"
      },
      "outputs": [
        {
          "output_type": "execute_result",
          "data": {
            "text/plain": [
              "{'AC/DC', 'Back in Black'}"
            ]
          },
          "metadata": {},
          "execution_count": 11
        }
      ],
      "execution_count": 11
    },
    {
      "cell_type": "markdown",
      "source": [
        "Puedes encontrar los elementos que únicamente están dentro de <code>album_set1</code> usando el método <code>difference</code>:"
      ],
      "metadata": {
        "application/vnd.databricks.v1+cell": {
          "title": "",
          "showTitle": false,
          "inputWidgets": {},
          "nuid": "4fe67355-6a42-4394-9890-8db00ec40709"
        },
        "id": "dvV1syW5-oIH"
      }
    },
    {
      "cell_type": "code",
      "source": [
        "# Encuentra la diferencia en set1 pero no en set2\n",
        "\n",
        "album_set1.difference(album_set2)"
      ],
      "metadata": {
        "application/vnd.databricks.v1+cell": {
          "title": "",
          "showTitle": false,
          "inputWidgets": {},
          "nuid": "9a0fa71e-f553-4a53-b7e1-49ef5003f39b"
        },
        "colab": {
          "base_uri": "https://localhost:8080/"
        },
        "id": "Alxt8Xn2-oIH",
        "outputId": "34b18cd6-43dc-4bc8-967b-42d792dac82d"
      },
      "outputs": [
        {
          "output_type": "execute_result",
          "data": {
            "text/plain": [
              "{'Thriller'}"
            ]
          },
          "metadata": {},
          "execution_count": 12
        }
      ],
      "execution_count": 12
    },
    {
      "cell_type": "markdown",
      "source": [
        "Solo tienes que considerar los elementos en <code>album_set1</code>; todos los de <code>album_set2</code>, incluyendo los de la intersección, no están incluidos."
      ],
      "metadata": {
        "application/vnd.databricks.v1+cell": {
          "title": "",
          "showTitle": false,
          "inputWidgets": {},
          "nuid": "176cb24e-94ff-49fd-8053-6a896db9e102"
        },
        "id": "ZlSSKwm2-oIH"
      }
    },
    {
      "cell_type": "markdown",
      "source": [
        "<img src=\"https://s3-api.us-geo.objectstorage.softlayer.net/cf-courses-data/CognitiveClass/PY0101EN/Chapter%202/Images/SetsLeft.png\" width=\"650\" />"
      ],
      "metadata": {
        "application/vnd.databricks.v1+cell": {
          "title": "",
          "showTitle": false,
          "inputWidgets": {},
          "nuid": "2c0b8812-8ef3-481c-93d6-d2d289aafb3a"
        },
        "id": "lisPXfxU-oIH"
      }
    },
    {
      "cell_type": "markdown",
      "source": [
        "Los elementos que pertenecen a <code>album_set2</code> pero no en <code>album_set1</code> esta dado por:"
      ],
      "metadata": {
        "application/vnd.databricks.v1+cell": {
          "title": "",
          "showTitle": false,
          "inputWidgets": {},
          "nuid": "210f5c42-3630-4142-a81c-23271e0c3de8"
        },
        "id": "2Gt77V4b-oIN"
      }
    },
    {
      "cell_type": "code",
      "source": [
        "album_set2.difference(album_set1)"
      ],
      "metadata": {
        "application/vnd.databricks.v1+cell": {
          "title": "",
          "showTitle": false,
          "inputWidgets": {},
          "nuid": "7dfdd9c9-5070-450a-8454-cc1ba2ae46d4"
        },
        "colab": {
          "base_uri": "https://localhost:8080/"
        },
        "id": "0GyjF3qd-oIN",
        "outputId": "24949937-6d3f-4f4b-93f7-19d9f07fd2fc"
      },
      "outputs": [
        {
          "output_type": "execute_result",
          "data": {
            "text/plain": [
              "{'The Dark Side of the Moon'}"
            ]
          },
          "metadata": {},
          "execution_count": 13
        }
      ],
      "execution_count": 13
    },
    {
      "cell_type": "markdown",
      "source": [
        "<img src = \"https://s3-api.us-geo.objectstorage.softlayer.net/cf-courses-data/CognitiveClass/PY0101EN/Chapter%202/Images/SetsRight.png\" width=\"650\" />"
      ],
      "metadata": {
        "application/vnd.databricks.v1+cell": {
          "title": "",
          "showTitle": false,
          "inputWidgets": {},
          "nuid": "9b679807-eddd-458f-9ada-29d693afd1eb"
        },
        "id": "RKGbANJm-oIN"
      }
    },
    {
      "cell_type": "markdown",
      "source": [
        "Puedes encontrar la intersección de <code>album_list1</code> y <code>album_list2</code> con el método <code>intersection</code>:"
      ],
      "metadata": {
        "application/vnd.databricks.v1+cell": {
          "title": "",
          "showTitle": false,
          "inputWidgets": {},
          "nuid": "b3730931-7397-4a5e-8b4c-be08e63605cd"
        },
        "id": "4L-EKhDp-oIN"
      }
    },
    {
      "cell_type": "code",
      "source": [
        "# Usar el método intersection para encontrar la intersección entre of album_list1 y album_list2\n",
        "\n",
        "album_set1.intersection(album_set2)"
      ],
      "metadata": {
        "application/vnd.databricks.v1+cell": {
          "title": "",
          "showTitle": false,
          "inputWidgets": {},
          "nuid": "81ba2110-0edb-4512-bd98-f8dcaf3fc343"
        },
        "colab": {
          "base_uri": "https://localhost:8080/"
        },
        "id": "q4fJa-M4-oIN",
        "outputId": "bc2c555d-c299-41af-f29e-83734f804f6a"
      },
      "outputs": [
        {
          "output_type": "execute_result",
          "data": {
            "text/plain": [
              "{'AC/DC', 'Back in Black'}"
            ]
          },
          "metadata": {},
          "execution_count": 14
        }
      ],
      "execution_count": 14
    },
    {
      "cell_type": "markdown",
      "source": [
        "Lo siguiente corresponde a la intersección de los dos círculos:"
      ],
      "metadata": {
        "application/vnd.databricks.v1+cell": {
          "title": "",
          "showTitle": false,
          "inputWidgets": {},
          "nuid": "96181e68-5a1c-4d4c-8df3-fedadd115391"
        },
        "id": "jACT3q8p-oIN"
      }
    },
    {
      "cell_type": "markdown",
      "source": [
        "<img src=\"https://s3-api.us-geo.objectstorage.softlayer.net/cf-courses-data/CognitiveClass/PY0101EN/Chapter%202/Images/SetsIntersect.png\" width=\"650\" />"
      ],
      "metadata": {
        "application/vnd.databricks.v1+cell": {
          "title": "",
          "showTitle": false,
          "inputWidgets": {},
          "nuid": "ad80023a-2794-4095-8129-c44a3b5d508e"
        },
        "id": "Fo603-Nf-oIN"
      }
    },
    {
      "cell_type": "markdown",
      "source": [
        "La unión es la suma de todos los elementos de ambos conjuntos, se representa pintando los dos círculos:"
      ],
      "metadata": {
        "application/vnd.databricks.v1+cell": {
          "title": "",
          "showTitle": false,
          "inputWidgets": {},
          "nuid": "22aaeb36-61e7-42fd-ad69-5c8b7f376a39"
        },
        "id": "pPCu6xPn-oIN"
      }
    },
    {
      "cell_type": "markdown",
      "source": [
        "<img src = \"https://s3-api.us-geo.objectstorage.softlayer.net/cf-courses-data/CognitiveClass/PY0101EN/Chapter%202/Images/SetsUnion.png\" width=\"650\" />"
      ],
      "metadata": {
        "application/vnd.databricks.v1+cell": {
          "title": "",
          "showTitle": false,
          "inputWidgets": {},
          "nuid": "ad0f7913-f45c-4a59-81de-56f8d45400f5"
        },
        "id": "dQ-UUJoX-oIN"
      }
    },
    {
      "cell_type": "markdown",
      "source": [
        "La unión esta dada por:"
      ],
      "metadata": {
        "application/vnd.databricks.v1+cell": {
          "title": "",
          "showTitle": false,
          "inputWidgets": {},
          "nuid": "596a03f6-3266-4333-ba55-51b880ce0065"
        },
        "id": "omxKKbt9-oIN"
      }
    },
    {
      "cell_type": "code",
      "source": [
        "# Encontrar la unión de los dos conjuntos\n",
        "\n",
        "album_set1.union(album_set2)"
      ],
      "metadata": {
        "collapsed": true,
        "application/vnd.databricks.v1+cell": {
          "title": "",
          "showTitle": false,
          "inputWidgets": {},
          "nuid": "0b860472-26e1-4fba-bd5a-67a0c670e696"
        },
        "colab": {
          "base_uri": "https://localhost:8080/"
        },
        "id": "LduZsQ5B-oIO",
        "outputId": "add8a7bc-98b9-4a2c-c5ff-923133275f00"
      },
      "outputs": [
        {
          "output_type": "execute_result",
          "data": {
            "text/plain": [
              "{'AC/DC', 'Back in Black', 'The Dark Side of the Moon', 'Thriller'}"
            ]
          },
          "metadata": {},
          "execution_count": 15
        }
      ],
      "execution_count": 15
    },
    {
      "cell_type": "markdown",
      "source": [
        "Se puede averiguar si un conjunto es un súper conjunto o un sub conjunto de otro, respectivamente, de la siguiente forma:"
      ],
      "metadata": {
        "application/vnd.databricks.v1+cell": {
          "title": "",
          "showTitle": false,
          "inputWidgets": {},
          "nuid": "3bc71d69-d1a3-4e8a-87fc-583f5ddc5b86"
        },
        "id": "QCx2vP0s-oIO"
      }
    },
    {
      "cell_type": "code",
      "source": [
        "# Revisar si es un super conjunto\n",
        "\n",
        "set(album_set1).issuperset(album_set2)"
      ],
      "metadata": {
        "application/vnd.databricks.v1+cell": {
          "title": "",
          "showTitle": false,
          "inputWidgets": {},
          "nuid": "2f767858-8a57-4311-88c2-c433183fb30f"
        },
        "colab": {
          "base_uri": "https://localhost:8080/"
        },
        "id": "jKbZpuod-oIO",
        "outputId": "433f10db-93b4-412d-a281-6317ad2258d8"
      },
      "outputs": [
        {
          "output_type": "execute_result",
          "data": {
            "text/plain": [
              "False"
            ]
          },
          "metadata": {},
          "execution_count": 16
        }
      ],
      "execution_count": 16
    },
    {
      "cell_type": "code",
      "source": [
        "# Revisar si es un sub conjunto\n",
        "\n",
        "set(album_set2).issubset(album_set1)"
      ],
      "metadata": {
        "application/vnd.databricks.v1+cell": {
          "title": "",
          "showTitle": false,
          "inputWidgets": {},
          "nuid": "578fce3e-32d4-4e3f-be19-662eacab6ec8"
        },
        "colab": {
          "base_uri": "https://localhost:8080/"
        },
        "id": "MTkIwQ76-oIO",
        "outputId": "a98b784a-45a6-4062-adf7-d71f70b1b3b2"
      },
      "outputs": [
        {
          "output_type": "execute_result",
          "data": {
            "text/plain": [
              "False"
            ]
          },
          "metadata": {},
          "execution_count": 17
        }
      ],
      "execution_count": 17
    },
    {
      "cell_type": "markdown",
      "source": [
        "Este es un ejemplo donde <code>issubset()</code> y <code>issuperset()</code> regresan un valor verdadero:"
      ],
      "metadata": {
        "application/vnd.databricks.v1+cell": {
          "title": "",
          "showTitle": false,
          "inputWidgets": {},
          "nuid": "6766f345-49db-4c1f-873f-b2c67a68c33a"
        },
        "id": "yuOMQGpY-oIO"
      }
    },
    {
      "cell_type": "code",
      "source": [
        "# Revisar si es un sub conjunto\n",
        "\n",
        "set({\"Back in Black\", \"AC/DC\"}).issubset(album_set1)"
      ],
      "metadata": {
        "application/vnd.databricks.v1+cell": {
          "title": "",
          "showTitle": false,
          "inputWidgets": {},
          "nuid": "09af87fc-b662-4a26-94ac-df3395968a41"
        },
        "colab": {
          "base_uri": "https://localhost:8080/"
        },
        "id": "etjcWsFN-oIO",
        "outputId": "7aec26fe-1f6b-4ba0-92eb-c2434de6a955"
      },
      "outputs": [
        {
          "output_type": "execute_result",
          "data": {
            "text/plain": [
              "True"
            ]
          },
          "metadata": {},
          "execution_count": 18
        }
      ],
      "execution_count": 18
    },
    {
      "cell_type": "code",
      "source": [
        "# Revisar si es un super conjunto\n",
        "\n",
        "album_set1.issuperset({\"Back in Black\", \"AC/DC\"})"
      ],
      "metadata": {
        "application/vnd.databricks.v1+cell": {
          "title": "",
          "showTitle": false,
          "inputWidgets": {},
          "nuid": "bad299a9-898f-438d-b504-6bb1bd42f2a7"
        },
        "colab": {
          "base_uri": "https://localhost:8080/"
        },
        "id": "b3BmFGA--oIO",
        "outputId": "470f20dd-96e5-4032-f682-aff72d766b69"
      },
      "outputs": [
        {
          "output_type": "execute_result",
          "data": {
            "text/plain": [
              "True"
            ]
          },
          "metadata": {},
          "execution_count": 19
        }
      ],
      "execution_count": 19
    },
    {
      "cell_type": "markdown",
      "source": [
        "<h2 id=\"quiz\">Cuestionario sobre conjuntos</h2>"
      ],
      "metadata": {
        "application/vnd.databricks.v1+cell": {
          "title": "",
          "showTitle": false,
          "inputWidgets": {},
          "nuid": "26d53c16-c01f-4835-a6e8-ee2ad7ef05bd"
        },
        "id": "CdXP2SuQ-oIO"
      }
    },
    {
      "cell_type": "markdown",
      "source": [
        "Transformar la lista <code>['rap','house','electronic music', 'rap']</code> en un conjunto:"
      ],
      "metadata": {
        "application/vnd.databricks.v1+cell": {
          "title": "",
          "showTitle": false,
          "inputWidgets": {},
          "nuid": "74126b07-e95d-4dc7-956f-2b09e24be04b"
        },
        "id": "62Q1yJDN-oIP"
      }
    },
    {
      "cell_type": "code",
      "source": [
        "# Escribe abajo tu código y presiona Shift+Enter para ejecutarlo\n",
        "# Los conjuntos eliminan elementos duplicados automáticamente.\n",
        "music_list = ['rap', 'house', 'electronic music', 'rap']\n",
        "music_set = set(music_list)\n",
        "print(music_set)\n",
        "# Salida esperada: {'rap', 'house', 'electronic music'}"
      ],
      "metadata": {
        "application/vnd.databricks.v1+cell": {
          "title": "",
          "showTitle": false,
          "inputWidgets": {},
          "nuid": "9423486d-6f4e-4bb5-aeb3-83de0c85361b"
        },
        "colab": {
          "base_uri": "https://localhost:8080/"
        },
        "id": "nXkzWeTD-oIP",
        "outputId": "122eae2b-115d-45c5-a858-3985e17b33a0"
      },
      "outputs": [
        {
          "output_type": "stream",
          "name": "stdout",
          "text": [
            "{'house', 'rap', 'electronic music'}\n"
          ]
        }
      ],
      "execution_count": 20
    },
    {
      "cell_type": "markdown",
      "source": [
        "Considera que la lista <code>A = [1, 2, 2, 1]</code> y el conjunto <code>B = set([1, 2, 2, 1])</code> suman <code>sum(A) = sum(B)</code>"
      ],
      "metadata": {
        "application/vnd.databricks.v1+cell": {
          "title": "",
          "showTitle": false,
          "inputWidgets": {},
          "nuid": "ad6e9914-2fda-429f-b732-5490e9490b9a"
        },
        "id": "4ib13TvN-oIP"
      }
    },
    {
      "cell_type": "code",
      "source": [
        "# Escribe abajo tu código y presiona Shift+Enter para ejecutarlo\n",
        "A = [1, 2, 2, 1]\n",
        "B = set([1, 2, 2, 1])  # Duplicados eliminados, queda {1, 2}\n",
        "\n",
        "print(\"Suma de A:\", sum(A))  # Salida: 6\n",
        "print(\"Suma de B:\", sum(B))  # Salida: 3"
      ],
      "metadata": {
        "application/vnd.databricks.v1+cell": {
          "title": "",
          "showTitle": false,
          "inputWidgets": {},
          "nuid": "697fa6ef-f466-4236-9fc6-d423a473c370"
        },
        "colab": {
          "base_uri": "https://localhost:8080/"
        },
        "id": "T-QfJhi6-oIP",
        "outputId": "e4ab4dc2-1d11-485e-ced4-c4c989ff82f6"
      },
      "outputs": [
        {
          "output_type": "stream",
          "name": "stdout",
          "text": [
            "Suma de A: 6\n",
            "Suma de B: 3\n"
          ]
        }
      ],
      "execution_count": 24
    },
    {
      "cell_type": "markdown",
      "source": [
        "Crea un nuevo conjunto <code>album_set3</code> que sea la unión de <code>album_set1</code> y <code>album_set2</code>:"
      ],
      "metadata": {
        "application/vnd.databricks.v1+cell": {
          "title": "",
          "showTitle": false,
          "inputWidgets": {},
          "nuid": "b83ef1ae-b339-4d9c-ae67-1e13d8da9a61"
        },
        "id": "qbOMHpPi-oIP"
      }
    },
    {
      "cell_type": "code",
      "source": [
        "# Escribe abajo tu código y presiona Shift+Enter para ejecutarlo\n",
        "album_set1 = set([\"Thriller\", 'AC/DC', 'Back in Black'])\n",
        "album_set2 = set([\"AC/DC\", \"Back in Black\", \"The Dark Side of the Moon\"])\n",
        "\n",
        "album_set3 = album_set1.union(album_set2)\n",
        "print(album_set3)\n",
        "# Salida: {'Thriller', 'AC/DC', 'Back in Black', 'The Dark Side of the Moon'}"
      ],
      "metadata": {
        "application/vnd.databricks.v1+cell": {
          "title": "",
          "showTitle": false,
          "inputWidgets": {},
          "nuid": "f3d7d74d-a639-41f9-9d70-4e7278f24f39"
        },
        "colab": {
          "base_uri": "https://localhost:8080/"
        },
        "id": "HBdpx7eF-oIP",
        "outputId": "b8932019-cf5d-4095-a3cc-85e9c483b9db"
      },
      "outputs": [
        {
          "output_type": "stream",
          "name": "stdout",
          "text": [
            "{'The Dark Side of the Moon', 'Back in Black', 'Thriller', 'AC/DC'}\n"
          ]
        }
      ],
      "execution_count": 25
    },
    {
      "cell_type": "markdown",
      "source": [
        "Averigua si <code>album_set1</code> es un subconjunto de <code>album_set3</code>:"
      ],
      "metadata": {
        "application/vnd.databricks.v1+cell": {
          "title": "",
          "showTitle": false,
          "inputWidgets": {},
          "nuid": "86d9065c-fc26-4b5a-9deb-e7c517c4ac46"
        },
        "id": "KHliC1cW-oIQ"
      }
    },
    {
      "cell_type": "code",
      "source": [
        "# Escribe abajo tu código y presiona Shift+Enter para ejecutarlo\n",
        "print(album_set1.issubset(album_set3))  # Salida: True"
      ],
      "metadata": {
        "application/vnd.databricks.v1+cell": {
          "title": "",
          "showTitle": false,
          "inputWidgets": {},
          "nuid": "c39979b3-b173-46a3-92a4-4610fbeeed79"
        },
        "colab": {
          "base_uri": "https://localhost:8080/"
        },
        "id": "YOcB454I-oIQ",
        "outputId": "fe257dec-00b0-4647-a736-2e292c44b2d6"
      },
      "outputs": [
        {
          "output_type": "stream",
          "name": "stdout",
          "text": [
            "True\n"
          ]
        }
      ],
      "execution_count": 26
    }
  ],
  "metadata": {
    "kernelspec": {
      "display_name": "Python 3",
      "language": "python",
      "name": "python3"
    },
    "language_info": {
      "mimetype": "text/x-python",
      "name": "python",
      "pygments_lexer": "ipython3",
      "codemirror_mode": {
        "name": "ipython",
        "version": 3
      },
      "version": "3.7.7",
      "nbconvert_exporter": "python",
      "file_extension": ".py"
    },
    "application/vnd.databricks.v1+notebook": {
      "notebookName": "04-Python-Conjuntos",
      "dashboards": [],
      "notebookMetadata": {
        "pythonIndentUnit": 2
      },
      "language": "python",
      "widgets": {},
      "notebookOrigID": 3296315911137944
    },
    "colab": {
      "provenance": []
    }
  },
  "nbformat": 4,
  "nbformat_minor": 0
}