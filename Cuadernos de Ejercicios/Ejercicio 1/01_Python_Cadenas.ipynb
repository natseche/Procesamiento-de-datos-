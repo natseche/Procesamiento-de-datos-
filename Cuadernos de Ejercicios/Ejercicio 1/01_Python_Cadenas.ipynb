{
  "cells": [
    {
      "cell_type": "markdown",
      "metadata": {
        "application/vnd.databricks.v1+cell": {
          "inputWidgets": {},
          "nuid": "c5e61d79-8f0e-4413-afff-a73698e18bb5",
          "showTitle": false,
          "title": ""
        },
        "id": "B1qkqyMHSG1E"
      },
      "source": [
        "<h1>Procesamiento de Datos a Gran Escala</h1>"
      ]
    },
    {
      "cell_type": "markdown",
      "source": [
        "Autor: Natalia Echeverry Salcedo\n",
        "\n",
        "Fecha de Inicio: 7/08/2025\n",
        "\n",
        "Fecha actual: 11/08/2025\n",
        "\n",
        "##**Descripción**\n",
        "\n",
        "Este taller corresponde al Ejercicio 1 del curso Procesamiento de Datos y tiene como objetivo practicar las operaciones básicas con cadenas (strings) en Python.\n",
        "Durante el ejercicio, el estudiante desarrolla habilidades en:\n",
        "\n",
        "Asignación y concatenación de cadenas.\n",
        "\n",
        "Indexación y slicing para extraer partes de un texto.\n",
        "\n",
        "Uso del stride para seleccionar caracteres con saltos específicos.\n",
        "\n",
        "Manejo de caracteres especiales como la barra invertida.\n",
        "\n",
        "Aplicación de métodos integrados de strings:\n",
        "\n",
        ".upper() para convertir a mayúsculas.\n",
        "\n",
        ".find() para buscar subcadenas.\n",
        "\n",
        ".replace() para reemplazar partes del texto.\n",
        "\n",
        "Interpretación y respuesta a un examen de práctica sobre cadenas.\n",
        "\n",
        "El taller está documentado con comentarios explicativos y cada paso incluye la salida esperada para facilitar el aprendizaje.\n",
        "\n"
      ],
      "metadata": {
        "id": "24V2c-aITSAR"
      }
    },
    {
      "cell_type": "markdown",
      "metadata": {
        "application/vnd.databricks.v1+cell": {
          "inputWidgets": {},
          "nuid": "c5c3b9b4-1a97-4151-b056-30997a3dae8e",
          "showTitle": false,
          "title": ""
        },
        "id": "OiH9OR3xSG1I"
      },
      "source": [
        "<h2>Operaciones con Cadenas</h2>"
      ]
    },
    {
      "cell_type": "markdown",
      "metadata": {
        "application/vnd.databricks.v1+cell": {
          "inputWidgets": {},
          "nuid": "97dc7dc7-f023-468f-9901-62cf076efde0",
          "showTitle": false,
          "title": ""
        },
        "id": "b1gCtniUSG1I"
      },
      "source": [
        "<p><strong>¡Bienvenido!</strong> En este cuaderno aprenderás sobre operaciones con cadenas en el Lenguaje de Programación Python. Al finalizar, conocerás acerca de las operaciones con cadenas que se pueden realizar en Python como son, indexación, operaciones y secuencias de escape.</p>"
      ]
    },
    {
      "cell_type": "markdown",
      "metadata": {
        "application/vnd.databricks.v1+cell": {
          "inputWidgets": {},
          "nuid": "75b418f4-38c8-4925-8c64-21588ac252dc",
          "showTitle": false,
          "title": ""
        },
        "id": "9h4T8VjDSG1J"
      },
      "source": [
        "<h2>Tabla de Contenido</h2>\n",
        "<div class=\"alert alert-block alert-info\" style=\"margin-top: 20px\">\n",
        "    <ul>\n",
        "        <li>\n",
        "            <a href=\"#strings\">¿Qué es una cadena?</a>\n",
        "        </li>\n",
        "        <li>\n",
        "            <a href=\"#index\">Indexación</a>\n",
        "            <ul>\n",
        "                <li><a href=\"neg\">Indexación Negativa</a></li>\n",
        "                <li><a href=\"slice\">Slicing</a></li>\n",
        "                <li><a href=\"stride\">Stride</a></li>\n",
        "                <li><a href=\"concat\">Concatenar Cadenas</a></li>\n",
        "            </ul>\n",
        "        </li>\n",
        "        <li>\n",
        "            <a href=\"#escape\">Secuencias de Escape</a>\n",
        "        </li>\n",
        "        <li>\n",
        "            <a href=\"#operations\">Operaciones con Cadenas</a>\n",
        "        </li>\n",
        "        <li>\n",
        "            <a href=\"#quiz\">Exámen sobre Cadenas</a>\n",
        "        </li>\n",
        "    </ul>\n",
        "    <p>\n",
        "        Tiempo Estimado: <strong>15 min</strong>\n",
        "    </p>\n",
        "</div>\n",
        "\n",
        "<hr>"
      ]
    },
    {
      "cell_type": "markdown",
      "metadata": {
        "application/vnd.databricks.v1+cell": {
          "inputWidgets": {},
          "nuid": "07f23fc9-4dc4-4104-82cc-32836e59e872",
          "showTitle": false,
          "title": ""
        },
        "id": "_daEOO3nSG1K"
      },
      "source": [
        "<h2 id=\"strings\">¿Qué es una cadena?</h2>"
      ]
    },
    {
      "cell_type": "markdown",
      "metadata": {
        "application/vnd.databricks.v1+cell": {
          "inputWidgets": {},
          "nuid": "8aa1dec4-df2a-49f7-bbe2-d49584a60608",
          "showTitle": false,
          "title": ""
        },
        "id": "89HrJ6G9SG1K"
      },
      "source": [
        "A continuación, se muestra una cadena entre comillas dobles."
      ]
    },
    {
      "cell_type": "code",
      "execution_count": 2,
      "metadata": {
        "application/vnd.databricks.v1+cell": {
          "inputWidgets": {},
          "nuid": "26a4f2f6-c7b1-4274-a707-f7ddb76253af",
          "showTitle": false,
          "title": ""
        },
        "colab": {
          "base_uri": "https://localhost:8080/",
          "height": 36
        },
        "id": "U4xbctpjSG1L",
        "outputId": "ccf43f81-e55e-4eed-d0c8-9d8860607c35"
      },
      "outputs": [
        {
          "output_type": "execute_result",
          "data": {
            "text/plain": [
              "'Michael Jackson'"
            ],
            "application/vnd.google.colaboratory.intrinsic+json": {
              "type": "string"
            }
          },
          "metadata": {},
          "execution_count": 2
        }
      ],
      "source": [
        "# Usa las comillas dobles para definir una cadena\n",
        "\n",
        "\"Michael Jackson\""
      ]
    },
    {
      "cell_type": "markdown",
      "metadata": {
        "application/vnd.databricks.v1+cell": {
          "inputWidgets": {},
          "nuid": "156897c4-37c7-4b5e-b027-832638056035",
          "showTitle": false,
          "title": ""
        },
        "id": "WPO-NZSLSG1M"
      },
      "source": [
        "También podemos usar comillas simples:"
      ]
    },
    {
      "cell_type": "code",
      "execution_count": 3,
      "metadata": {
        "application/vnd.databricks.v1+cell": {
          "inputWidgets": {},
          "nuid": "deb3b65e-db10-4e13-bb6e-1201355ad711",
          "showTitle": false,
          "title": ""
        },
        "colab": {
          "base_uri": "https://localhost:8080/",
          "height": 36
        },
        "id": "L24eN9RNSG1M",
        "outputId": "b12be12e-8060-416f-da92-e2e1a3046da6"
      },
      "outputs": [
        {
          "output_type": "execute_result",
          "data": {
            "text/plain": [
              "'Michael Jackson'"
            ],
            "application/vnd.google.colaboratory.intrinsic+json": {
              "type": "string"
            }
          },
          "metadata": {},
          "execution_count": 3
        }
      ],
      "source": [
        "# Usa comillas simples para definir una cadena\n",
        "\n",
        "'Michael Jackson'"
      ]
    },
    {
      "cell_type": "markdown",
      "metadata": {
        "application/vnd.databricks.v1+cell": {
          "inputWidgets": {},
          "nuid": "e5e4693c-3d5f-40fc-a7f6-01f1fb693843",
          "showTitle": false,
          "title": ""
        },
        "id": "-uDImjc4SG1N"
      },
      "source": [
        "Una cadena puede ser una combinación de espacios y dígitos:"
      ]
    },
    {
      "cell_type": "code",
      "execution_count": 4,
      "metadata": {
        "application/vnd.databricks.v1+cell": {
          "inputWidgets": {},
          "nuid": "725caefd-24ce-4660-bd0f-af6b902566bb",
          "showTitle": false,
          "title": ""
        },
        "colab": {
          "base_uri": "https://localhost:8080/",
          "height": 36
        },
        "id": "-TQB-UPNSG1O",
        "outputId": "258cf0cc-abce-46c1-816e-5280ebac20ff"
      },
      "outputs": [
        {
          "output_type": "execute_result",
          "data": {
            "text/plain": [
              "'1 2 3 4 5 6 '"
            ],
            "application/vnd.google.colaboratory.intrinsic+json": {
              "type": "string"
            }
          },
          "metadata": {},
          "execution_count": 4
        }
      ],
      "source": [
        "# Dígitos y espacios en una cadena\n",
        "\n",
        "'1 2 3 4 5 6 '"
      ]
    },
    {
      "cell_type": "markdown",
      "metadata": {
        "application/vnd.databricks.v1+cell": {
          "inputWidgets": {},
          "nuid": "3049df74-fcb0-4d43-9d10-1c98a445be02",
          "showTitle": false,
          "title": ""
        },
        "id": "vR6SF2hTSG1P"
      },
      "source": [
        "Una cadena también puede estar formada por caracteres especiales :"
      ]
    },
    {
      "cell_type": "code",
      "execution_count": 5,
      "metadata": {
        "application/vnd.databricks.v1+cell": {
          "inputWidgets": {},
          "nuid": "4b20df88-dd74-44e3-a310-5b3c27ecefab",
          "showTitle": false,
          "title": ""
        },
        "colab": {
          "base_uri": "https://localhost:8080/",
          "height": 36
        },
        "id": "5zobzYogSG1P",
        "outputId": "849175df-bec6-4099-aacd-24355f1962b3"
      },
      "outputs": [
        {
          "output_type": "execute_result",
          "data": {
            "text/plain": [
              "'@#2_#]&*^%$'"
            ],
            "application/vnd.google.colaboratory.intrinsic+json": {
              "type": "string"
            }
          },
          "metadata": {},
          "execution_count": 5
        }
      ],
      "source": [
        "# Caracteres especiales en una cadena\n",
        "\n",
        "'@#2_#]&*^%$'"
      ]
    },
    {
      "cell_type": "markdown",
      "metadata": {
        "application/vnd.databricks.v1+cell": {
          "inputWidgets": {},
          "nuid": "f2dca36c-a031-459e-8579-67c2d0f631b8",
          "showTitle": false,
          "title": ""
        },
        "id": "anebAZoSSG1P"
      },
      "source": [
        "Podemos imprimir en pantallas una cadena usando la sentencia print:"
      ]
    },
    {
      "cell_type": "code",
      "execution_count": 6,
      "metadata": {
        "application/vnd.databricks.v1+cell": {
          "inputWidgets": {},
          "nuid": "ab92c5e7-fe91-40e8-b339-b4150b7daef6",
          "showTitle": false,
          "title": ""
        },
        "colab": {
          "base_uri": "https://localhost:8080/"
        },
        "id": "Yf7jByjuSG1R",
        "outputId": "89541ff9-b5ee-46ac-875f-67984819a214"
      },
      "outputs": [
        {
          "output_type": "stream",
          "name": "stdout",
          "text": [
            "hello!\n"
          ]
        }
      ],
      "source": [
        "# Imprimir la cadea\n",
        "\n",
        "print(\"hello!\")"
      ]
    },
    {
      "cell_type": "markdown",
      "metadata": {
        "application/vnd.databricks.v1+cell": {
          "inputWidgets": {},
          "nuid": "ee912641-c6f6-49a2-8c8a-8224e9f2c011",
          "showTitle": false,
          "title": ""
        },
        "id": "-4WAOBJTSG1R"
      },
      "source": [
        "Podemos asignar una cadena como valor de una variable:"
      ]
    },
    {
      "cell_type": "code",
      "execution_count": 7,
      "metadata": {
        "application/vnd.databricks.v1+cell": {
          "inputWidgets": {},
          "nuid": "472735ea-e2b4-4e95-a7b9-dc5a388f8203",
          "showTitle": false,
          "title": ""
        },
        "colab": {
          "base_uri": "https://localhost:8080/",
          "height": 36
        },
        "id": "6YDihOE2SG1R",
        "outputId": "833e202a-fcac-416a-d0e1-c6fe161b8a73"
      },
      "outputs": [
        {
          "output_type": "execute_result",
          "data": {
            "text/plain": [
              "'Michael Jackson'"
            ],
            "application/vnd.google.colaboratory.intrinsic+json": {
              "type": "string"
            }
          },
          "metadata": {},
          "execution_count": 7
        }
      ],
      "source": [
        "# Asignar una cadena a una variable\n",
        "\n",
        "Name = \"Michael Jackson\"\n",
        "Name"
      ]
    },
    {
      "cell_type": "markdown",
      "metadata": {
        "application/vnd.databricks.v1+cell": {
          "inputWidgets": {},
          "nuid": "498ef261-6833-4b74-a10b-6a2efa30b4a2",
          "showTitle": false,
          "title": ""
        },
        "id": "buW_fJmTSG1S"
      },
      "source": [
        "<h2 id=\"index\">Indexación</h2>"
      ]
    },
    {
      "cell_type": "markdown",
      "metadata": {
        "application/vnd.databricks.v1+cell": {
          "inputWidgets": {},
          "nuid": "82faedb4-0220-49c6-9513-a607ad48ca64",
          "showTitle": false,
          "title": ""
        },
        "id": "ziH4e_LCSG1S"
      },
      "source": [
        "Debemos pensar en una cadena como una secuencia ordenada. Cada elemento de la secuencia puede ser accedido utilizando un índice numérico, el cual representa el lugar que ocupa dicho elemento en la cadena:"
      ]
    },
    {
      "cell_type": "markdown",
      "metadata": {
        "application/vnd.databricks.v1+cell": {
          "inputWidgets": {},
          "nuid": "edf71893-be4c-4225-af89-1eb7b71e574f",
          "showTitle": false,
          "title": ""
        },
        "id": "FNKyGgrQSG1S"
      },
      "source": [
        "<img src=\"https://s3-api.us-geo.objectstorage.softlayer.net/cf-courses-data/CognitiveClass/PY0101EN/Chapter%201/Images/StringsIndex.png\" width=\"600\" align=\"center\" />"
      ]
    },
    {
      "cell_type": "markdown",
      "metadata": {
        "application/vnd.databricks.v1+cell": {
          "inputWidgets": {},
          "nuid": "3baffebb-7d70-49d7-aae5-5aed40453431",
          "showTitle": false,
          "title": ""
        },
        "id": "mX7cWEGWSG1S"
      },
      "source": [
        "Se puede acceder al primer índice de la siguiente manera:"
      ]
    },
    {
      "cell_type": "markdown",
      "metadata": {
        "application/vnd.databricks.v1+cell": {
          "inputWidgets": {},
          "nuid": "dd579068-7787-4dcb-8971-1c7e70312114",
          "showTitle": false,
          "title": ""
        },
        "id": "QNzbH1QiSG1S"
      },
      "source": [
        "<hr/>\n",
        "<div class=\"alert alert-success alertsuccess\" style=\"margin-top: 20px\">\n",
        "[Tip]: En la indexación se empieza por el 0, esto quiere decir que el primer elemento de la cadena está en el índice 0.\n",
        "</div>\n",
        "<hr/>"
      ]
    },
    {
      "cell_type": "code",
      "execution_count": 8,
      "metadata": {
        "application/vnd.databricks.v1+cell": {
          "inputWidgets": {},
          "nuid": "956eff60-6fdc-4c8c-ba51-3c3af1e67d2d",
          "showTitle": false,
          "title": ""
        },
        "colab": {
          "base_uri": "https://localhost:8080/"
        },
        "id": "vTl8LnGXSG1T",
        "outputId": "6f547d8d-b297-45e5-bab9-58599f3e78bb"
      },
      "outputs": [
        {
          "output_type": "stream",
          "name": "stdout",
          "text": [
            "M\n"
          ]
        }
      ],
      "source": [
        "# Imprime el primer elemento de la cadena\n",
        "\n",
        "print(Name[0])"
      ]
    },
    {
      "cell_type": "markdown",
      "metadata": {
        "application/vnd.databricks.v1+cell": {
          "inputWidgets": {},
          "nuid": "763c24bb-6639-48c4-8a9a-52f1411126c1",
          "showTitle": false,
          "title": ""
        },
        "id": "RJPsGgHLSG1T"
      },
      "source": [
        "Podemos acceder el índice 6:"
      ]
    },
    {
      "cell_type": "code",
      "execution_count": 9,
      "metadata": {
        "application/vnd.databricks.v1+cell": {
          "inputWidgets": {},
          "nuid": "61adbc4f-3f3c-4996-8d58-0191b2ce73e7",
          "showTitle": false,
          "title": ""
        },
        "colab": {
          "base_uri": "https://localhost:8080/"
        },
        "id": "h-pFW1CkSG1T",
        "outputId": "6e34e49c-5872-423a-d382-8ba4656f2fe0"
      },
      "outputs": [
        {
          "output_type": "stream",
          "name": "stdout",
          "text": [
            "l\n"
          ]
        }
      ],
      "source": [
        "# Imprime el elemento en el índice 6 de la cadena\n",
        "\n",
        "print(Name[6])"
      ]
    },
    {
      "cell_type": "markdown",
      "metadata": {
        "application/vnd.databricks.v1+cell": {
          "inputWidgets": {},
          "nuid": "55b73ebd-cdd4-4b2c-9abe-c691447790bf",
          "showTitle": false,
          "title": ""
        },
        "id": "IWtCySbdSG1U"
      },
      "source": [
        "También, podemos acceder al treceavo elemento:"
      ]
    },
    {
      "cell_type": "code",
      "execution_count": 10,
      "metadata": {
        "application/vnd.databricks.v1+cell": {
          "inputWidgets": {},
          "nuid": "4b2fe12c-7371-45ed-98a7-c417c3c886ba",
          "showTitle": false,
          "title": ""
        },
        "colab": {
          "base_uri": "https://localhost:8080/"
        },
        "id": "Tx5jnxakSG1U",
        "outputId": "787f49ac-1fa6-4583-8aef-44b759e0155b"
      },
      "outputs": [
        {
          "output_type": "stream",
          "name": "stdout",
          "text": [
            "o\n"
          ]
        }
      ],
      "source": [
        "# Imprime el elemento en el treceavo índice de la cadena\n",
        "\n",
        "print(Name[13])"
      ]
    },
    {
      "cell_type": "markdown",
      "metadata": {
        "application/vnd.databricks.v1+cell": {
          "inputWidgets": {},
          "nuid": "ef4b0aef-856e-4310-8524-e30d9fc4a7e7",
          "showTitle": false,
          "title": ""
        },
        "id": "l8TbX3k8SG1U"
      },
      "source": [
        "<h3 id=\"neg\">Indexación Negativa</h3>"
      ]
    },
    {
      "cell_type": "markdown",
      "metadata": {
        "application/vnd.databricks.v1+cell": {
          "inputWidgets": {},
          "nuid": "1e699e8d-475a-4988-b27b-7bb1d0dde27a",
          "showTitle": false,
          "title": ""
        },
        "id": "fbUM0SZHSG1U"
      },
      "source": [
        "Con las cadenas tambien podemos usar la indexación negativa:"
      ]
    },
    {
      "cell_type": "markdown",
      "metadata": {
        "application/vnd.databricks.v1+cell": {
          "inputWidgets": {},
          "nuid": "222993fc-fc69-41e4-9c40-b0fed8c79e0b",
          "showTitle": false,
          "title": ""
        },
        "id": "NmihCL3QSG1U"
      },
      "source": [
        "<img src=\"https://s3-api.us-geo.objectstorage.softlayer.net/cf-courses-data/CognitiveClass/PY0101EN/Chapter%201/Images/StringsNeg.png\" width=\"600\" align=\"center\" />"
      ]
    },
    {
      "cell_type": "markdown",
      "metadata": {
        "application/vnd.databricks.v1+cell": {
          "inputWidgets": {},
          "nuid": "21ad5ad4-ab40-4ac2-b1fd-8005a8ddc9a0",
          "showTitle": false,
          "title": ""
        },
        "id": "0Uy5b8VjSG1U"
      },
      "source": [
        "La indexación negativa nos sirve para numerar un elemento desde el final de una cadena."
      ]
    },
    {
      "cell_type": "markdown",
      "metadata": {
        "application/vnd.databricks.v1+cell": {
          "inputWidgets": {},
          "nuid": "9449b8f6-f62c-410e-a163-16672fb823c2",
          "showTitle": false,
          "title": ""
        },
        "id": "Y2tLoiw0SG1U"
      },
      "source": [
        "El ultima elemento tiene el índice -1:"
      ]
    },
    {
      "cell_type": "code",
      "execution_count": 11,
      "metadata": {
        "application/vnd.databricks.v1+cell": {
          "inputWidgets": {},
          "nuid": "8673daf2-0532-4732-9cc1-4ffde815f17a",
          "showTitle": false,
          "title": ""
        },
        "colab": {
          "base_uri": "https://localhost:8080/"
        },
        "id": "teeJenOOSG1V",
        "outputId": "bd8c893b-63c8-4321-aeb5-01d4bf660962"
      },
      "outputs": [
        {
          "output_type": "stream",
          "name": "stdout",
          "text": [
            "n\n"
          ]
        }
      ],
      "source": [
        "# Imprime el último elemento de la cadena\n",
        "\n",
        "print(Name[-1])"
      ]
    },
    {
      "cell_type": "markdown",
      "metadata": {
        "application/vnd.databricks.v1+cell": {
          "inputWidgets": {},
          "nuid": "c3014bd8-dde8-4fcb-b1f0-a86bfabab7c1",
          "showTitle": false,
          "title": ""
        },
        "id": "uK0sYmtSSG1V"
      },
      "source": [
        "El primer elemento se obtiene usando como índice el -15:"
      ]
    },
    {
      "cell_type": "code",
      "execution_count": 12,
      "metadata": {
        "application/vnd.databricks.v1+cell": {
          "inputWidgets": {},
          "nuid": "66c759a3-e482-4101-8427-176c62939e1b",
          "showTitle": false,
          "title": ""
        },
        "colab": {
          "base_uri": "https://localhost:8080/"
        },
        "id": "nTWCog04SG1V",
        "outputId": "402d20c0-8e2d-43cb-e3b4-24c569eee96e"
      },
      "outputs": [
        {
          "output_type": "stream",
          "name": "stdout",
          "text": [
            "M\n"
          ]
        }
      ],
      "source": [
        "# Imprime el primer elemento de la cadena\n",
        "\n",
        "print(Name[-15])"
      ]
    },
    {
      "cell_type": "markdown",
      "metadata": {
        "application/vnd.databricks.v1+cell": {
          "inputWidgets": {},
          "nuid": "0beca8f1-b3ce-45d8-a383-87b7165a9f8f",
          "showTitle": false,
          "title": ""
        },
        "id": "iovL8BFbSG1W"
      },
      "source": [
        "Para conocer la cantidad de caracteres en un cadena usamos <code>len</code>, que es la abreviación de length, en inglés significa longitud:"
      ]
    },
    {
      "cell_type": "code",
      "execution_count": 13,
      "metadata": {
        "application/vnd.databricks.v1+cell": {
          "inputWidgets": {},
          "nuid": "b3a10269-12b0-4657-b731-0ebfd79b8b84",
          "showTitle": false,
          "title": ""
        },
        "colab": {
          "base_uri": "https://localhost:8080/"
        },
        "id": "RaJIa4dfSG1W",
        "outputId": "1aee3880-f05e-4f9a-b15b-bf5aa0018de1"
      },
      "outputs": [
        {
          "output_type": "execute_result",
          "data": {
            "text/plain": [
              "15"
            ]
          },
          "metadata": {},
          "execution_count": 13
        }
      ],
      "source": [
        "# Encuentra la longitud de la cadena\n",
        "\n",
        "len(\"Michael Jackson\")"
      ]
    },
    {
      "cell_type": "markdown",
      "metadata": {
        "application/vnd.databricks.v1+cell": {
          "inputWidgets": {},
          "nuid": "19a168ee-df46-4f2b-9c43-26fb8bad3100",
          "showTitle": false,
          "title": ""
        },
        "id": "RPGuR45TSG1X"
      },
      "source": [
        "<h3 id=\"slice\">Slicing</h3>"
      ]
    },
    {
      "cell_type": "markdown",
      "metadata": {
        "application/vnd.databricks.v1+cell": {
          "inputWidgets": {},
          "nuid": "da37a4c2-c3d0-4857-ac65-9aa49d895fc5",
          "showTitle": false,
          "title": ""
        },
        "id": "JF_avBx-SG1X"
      },
      "source": [
        "Podemos obtener múltiples caracteres de una cadena usando el slicing, digamos desde primero hasta el cuarto y desde el octavo hasta el doceavo:"
      ]
    },
    {
      "cell_type": "markdown",
      "metadata": {
        "application/vnd.databricks.v1+cell": {
          "inputWidgets": {},
          "nuid": "a7fbdef7-db18-4da9-96f3-7da92df74bc7",
          "showTitle": false,
          "title": ""
        },
        "id": "gkjXh07TSG1X"
      },
      "source": [
        "<img src=\"https://s3-api.us-geo.objectstorage.softlayer.net/cf-courses-data/CognitiveClass/PY0101EN/Chapter%201/Images/StringsSlice.png\" width=\"600\" align=\"center\" />"
      ]
    },
    {
      "cell_type": "markdown",
      "metadata": {
        "application/vnd.databricks.v1+cell": {
          "inputWidgets": {},
          "nuid": "226ab59e-dd92-4640-b69d-8bb7f1018903",
          "showTitle": false,
          "title": ""
        },
        "id": "g5fTmUtuSG1X"
      },
      "source": [
        "<hr/>\n",
        "<div class=\"alert alert-success alertsuccess\" style=\"margin-top: 20px\">\n",
        "[Tip]: Para aplicar el slicing, el primer numero indica el índice del primer elemento, y el segundo numero indicara el índice del ultimo elemento de la sub-cadena que queremos obtener.\n",
        "</div>\n",
        "<hr/>"
      ]
    },
    {
      "cell_type": "code",
      "execution_count": 14,
      "metadata": {
        "application/vnd.databricks.v1+cell": {
          "inputWidgets": {},
          "nuid": "ccba6bf2-5333-4e5a-a3ad-ddf3bc818c02",
          "showTitle": false,
          "title": ""
        },
        "colab": {
          "base_uri": "https://localhost:8080/",
          "height": 36
        },
        "id": "Yo3-M47KSG1X",
        "outputId": "76ee5cec-93e2-438d-e4fb-3635db23caac"
      },
      "outputs": [
        {
          "output_type": "execute_result",
          "data": {
            "text/plain": [
              "'Mich'"
            ],
            "application/vnd.google.colaboratory.intrinsic+json": {
              "type": "string"
            }
          },
          "metadata": {},
          "execution_count": 14
        }
      ],
      "source": [
        "# Asigna una seccion de la cadena dentro de la variable Name usando los indices desde el 0 hasta el 3\n",
        "\n",
        "Name[0:4]"
      ]
    },
    {
      "cell_type": "code",
      "execution_count": 15,
      "metadata": {
        "application/vnd.databricks.v1+cell": {
          "inputWidgets": {},
          "nuid": "22f39e7a-d6ae-445a-b4fa-ec6faa54e047",
          "showTitle": false,
          "title": ""
        },
        "colab": {
          "base_uri": "https://localhost:8080/",
          "height": 36
        },
        "id": "dviP7_LZSG1Y",
        "outputId": "0d491240-8116-4937-8913-ff5d39f33998"
      },
      "outputs": [
        {
          "output_type": "execute_result",
          "data": {
            "text/plain": [
              "'Jack'"
            ],
            "application/vnd.google.colaboratory.intrinsic+json": {
              "type": "string"
            }
          },
          "metadata": {},
          "execution_count": 15
        }
      ],
      "source": [
        "# Asigna una seccion de la cadena dentro de la variable Name usando los indices desde el 8 hasta el 11\n",
        "\n",
        "Name[8:12]"
      ]
    },
    {
      "cell_type": "markdown",
      "metadata": {
        "application/vnd.databricks.v1+cell": {
          "inputWidgets": {},
          "nuid": "7e9cea89-8472-4e3e-8c7e-ae6be95be267",
          "showTitle": false,
          "title": ""
        },
        "id": "4oTTZFG-SG1Y"
      },
      "source": [
        "<h3 id=\"stride\">Stride</h3>"
      ]
    },
    {
      "cell_type": "markdown",
      "metadata": {
        "application/vnd.databricks.v1+cell": {
          "inputWidgets": {},
          "nuid": "9c07eeb9-1a6b-4c0e-9fad-001b24a65953",
          "showTitle": false,
          "title": ""
        },
        "id": "6kDww2EUSG1Y"
      },
      "source": [
        "Para usar la técnica del stride debemos asignar un valor que a continuación se explica, si usamos el '2' por ejemplo, estaremos indicando que queremos seleccionar solamente cada segundo elemento de la cadena:"
      ]
    },
    {
      "cell_type": "markdown",
      "metadata": {
        "application/vnd.databricks.v1+cell": {
          "inputWidgets": {},
          "nuid": "7c39cfc4-298c-43c4-99a1-b625967921ef",
          "showTitle": false,
          "title": ""
        },
        "id": "mJazJROVSG1Y"
      },
      "source": [
        "<img src=\"https://s3-api.us-geo.objectstorage.softlayer.net/cf-courses-data/CognitiveClass/PY0101EN/Chapter%201/Images/StringsStride.png\" width=\"600\" align=\"center\" />"
      ]
    },
    {
      "cell_type": "code",
      "execution_count": 16,
      "metadata": {
        "application/vnd.databricks.v1+cell": {
          "inputWidgets": {},
          "nuid": "fdaefc84-384d-415a-a079-123a601deeb1",
          "showTitle": false,
          "title": ""
        },
        "colab": {
          "base_uri": "https://localhost:8080/",
          "height": 36
        },
        "id": "HVQqAW05SG1Y",
        "outputId": "5438d12d-7e40-47d0-aa26-9c9e18c0a3e0"
      },
      "outputs": [
        {
          "output_type": "execute_result",
          "data": {
            "text/plain": [
              "'McalJcsn'"
            ],
            "application/vnd.google.colaboratory.intrinsic+json": {
              "type": "string"
            }
          },
          "metadata": {},
          "execution_count": 16
        }
      ],
      "source": [
        "# Toma cada segundo elemento. Los elementos con índice 1, 3, 5 ...\n",
        "\n",
        "Name[::2]"
      ]
    },
    {
      "cell_type": "markdown",
      "metadata": {
        "application/vnd.databricks.v1+cell": {
          "inputWidgets": {},
          "nuid": "05fb0838-a4de-486b-88e4-9834bc8e01d7",
          "showTitle": false,
          "title": ""
        },
        "id": "DmoIc3BDSG1Z"
      },
      "source": [
        "También Podemos combinar el slicing con el stride. Para este caso, seleccionamos los primeros cinco elementos y después aplicamos stride:"
      ]
    },
    {
      "cell_type": "code",
      "execution_count": 17,
      "metadata": {
        "application/vnd.databricks.v1+cell": {
          "inputWidgets": {},
          "nuid": "808f6d84-22b3-41a1-856c-94b54061aa71",
          "showTitle": false,
          "title": ""
        },
        "colab": {
          "base_uri": "https://localhost:8080/",
          "height": 36
        },
        "id": "Fn_GIWnCSG1Z",
        "outputId": "cf15a4e5-6941-4b53-f2a1-26717d0be5aa"
      },
      "outputs": [
        {
          "output_type": "execute_result",
          "data": {
            "text/plain": [
              "'Mca'"
            ],
            "application/vnd.google.colaboratory.intrinsic+json": {
              "type": "string"
            }
          },
          "metadata": {},
          "execution_count": 17
        }
      ],
      "source": [
        "# Toma cada segundo elemento desde el índice 0 al 4\n",
        "\n",
        "Name[0:5:2]"
      ]
    },
    {
      "cell_type": "markdown",
      "metadata": {
        "application/vnd.databricks.v1+cell": {
          "inputWidgets": {},
          "nuid": "9be577d4-4e55-4d17-8bcd-faf94f7d42b8",
          "showTitle": false,
          "title": ""
        },
        "id": "pETHQ-62SG1Z"
      },
      "source": [
        "<h3 id=\"concat\">Concatenar Cadenas</h3>"
      ]
    },
    {
      "cell_type": "markdown",
      "metadata": {
        "application/vnd.databricks.v1+cell": {
          "inputWidgets": {},
          "nuid": "ca9879b1-5dac-40ff-83b0-82c0e32e964e",
          "showTitle": false,
          "title": ""
        },
        "id": "x5eTe52GSG1Z"
      },
      "source": [
        "Podemos concatenar o combinar cadenas usando el símbolo de suma, el resultado será una nueva cadena que surge de la combinación de ambas:"
      ]
    },
    {
      "cell_type": "code",
      "execution_count": 18,
      "metadata": {
        "application/vnd.databricks.v1+cell": {
          "inputWidgets": {},
          "nuid": "fe24609a-7daa-4090-9c24-36571c5e61ea",
          "showTitle": false,
          "title": ""
        },
        "colab": {
          "base_uri": "https://localhost:8080/",
          "height": 36
        },
        "id": "TFdq1uk5SG1Z",
        "outputId": "02775c97-bb60-46e7-a356-56e415627504"
      },
      "outputs": [
        {
          "output_type": "execute_result",
          "data": {
            "text/plain": [
              "'Michael Jacksonis the best'"
            ],
            "application/vnd.google.colaboratory.intrinsic+json": {
              "type": "string"
            }
          },
          "metadata": {},
          "execution_count": 18
        }
      ],
      "source": [
        "# Concatenar dos cadenas\n",
        "\n",
        "Statement = Name + \"is the best\"\n",
        "Statement"
      ]
    },
    {
      "cell_type": "markdown",
      "metadata": {
        "application/vnd.databricks.v1+cell": {
          "inputWidgets": {},
          "nuid": "b0133664-e3e3-4d83-8c81-a8199b2a76cb",
          "showTitle": false,
          "title": ""
        },
        "id": "hpAem-mwSG1Z"
      },
      "source": [
        "Para replicar los valores en una cadena simplemente podemos multiplicarla por el numero de veces que deseemos. Para este caso, el numero de veces es tres. El resultado es una nueva cadena, la cual consiste en tres copias de la original:"
      ]
    },
    {
      "cell_type": "code",
      "execution_count": 19,
      "metadata": {
        "application/vnd.databricks.v1+cell": {
          "inputWidgets": {},
          "nuid": "5e196dbe-1920-4bb8-bb51-391ba73ec80e",
          "showTitle": false,
          "title": ""
        },
        "colab": {
          "base_uri": "https://localhost:8080/",
          "height": 36
        },
        "id": "s_KOSOSXSG1a",
        "outputId": "205bb8c6-3644-44d1-89c3-6902c4728303"
      },
      "outputs": [
        {
          "output_type": "execute_result",
          "data": {
            "text/plain": [
              "'Michael JacksonMichael JacksonMichael Jackson'"
            ],
            "application/vnd.google.colaboratory.intrinsic+json": {
              "type": "string"
            }
          },
          "metadata": {},
          "execution_count": 19
        }
      ],
      "source": [
        "# Imprime la cadena 3 veces\n",
        "\n",
        "3 * \"Michael Jackson\""
      ]
    },
    {
      "cell_type": "markdown",
      "metadata": {
        "application/vnd.databricks.v1+cell": {
          "inputWidgets": {},
          "nuid": "90c2c1d7-0c9c-46a5-ab5c-2d40eea40657",
          "showTitle": false,
          "title": ""
        },
        "id": "S_TZ2lR-SG1a"
      },
      "source": [
        "Se puede crear una nueva cadena añadiendo otra a la original contenida en la variable. Concatenada con una nueva cadena, el resultado es otra diferente, Michael Jackson pasó a ser “Michael Jackson is the best”."
      ]
    },
    {
      "cell_type": "code",
      "execution_count": 20,
      "metadata": {
        "application/vnd.databricks.v1+cell": {
          "inputWidgets": {},
          "nuid": "b575a573-242d-4252-a8c9-08e1c4923d06",
          "showTitle": false,
          "title": ""
        },
        "colab": {
          "base_uri": "https://localhost:8080/",
          "height": 36
        },
        "id": "b46AcPy2SG1a",
        "outputId": "0b67d712-25bc-400d-dc65-f58ef9f43af8"
      },
      "outputs": [
        {
          "output_type": "execute_result",
          "data": {
            "text/plain": [
              "'Michael Jackson is the best'"
            ],
            "application/vnd.google.colaboratory.intrinsic+json": {
              "type": "string"
            }
          },
          "metadata": {},
          "execution_count": 20
        }
      ],
      "source": [
        "# Concatenar cadenas\n",
        "\n",
        "Name = \"Michael Jackson\"\n",
        "Name = Name + \" is the best\"\n",
        "Name"
      ]
    },
    {
      "cell_type": "markdown",
      "metadata": {
        "application/vnd.databricks.v1+cell": {
          "inputWidgets": {},
          "nuid": "3d6fafbb-5f58-4dac-935d-53cee7005b15",
          "showTitle": false,
          "title": ""
        },
        "id": "mcbAuOEaSG1a"
      },
      "source": [
        "<h2 id=\"escape\">Secuencias de Escape</h2>"
      ]
    },
    {
      "cell_type": "markdown",
      "metadata": {
        "application/vnd.databricks.v1+cell": {
          "inputWidgets": {},
          "nuid": "c9b105cd-5a60-4dc0-895d-d44babb45a58",
          "showTitle": false,
          "title": ""
        },
        "id": "uNvD9HZMSG1a"
      },
      "source": [
        "Una barra invertida representa el inicio de una secuencia de escape. Estas representan cadenas que pudieran ser difíciles de introducir. Por ejemplo, una barra invertida seguida de una \"n\" representa un salto de línea. En la salida de pantalla tendremos un salto de línea cada vez que una barra invertida y la letra \"n\" sea encontrada."
      ]
    },
    {
      "cell_type": "code",
      "execution_count": 21,
      "metadata": {
        "application/vnd.databricks.v1+cell": {
          "inputWidgets": {},
          "nuid": "6c7578ab-35cd-4edc-8316-6a5bc0ddb17e",
          "showTitle": false,
          "title": ""
        },
        "colab": {
          "base_uri": "https://localhost:8080/"
        },
        "id": "xGuS7_gpSG1c",
        "outputId": "193f52a1-5e1b-4c74-9d77-94136e161196"
      },
      "outputs": [
        {
          "output_type": "stream",
          "name": "stdout",
          "text": [
            " Michael Jackson \n",
            " is the best\n"
          ]
        }
      ],
      "source": [
        "# Secuencia de escape para un Salto de línea\n",
        "\n",
        "print(\" Michael Jackson \\n is the best\" )"
      ]
    },
    {
      "cell_type": "markdown",
      "metadata": {
        "application/vnd.databricks.v1+cell": {
          "inputWidgets": {},
          "nuid": "6b374585-947b-44e0-992b-365e5327e30b",
          "showTitle": false,
          "title": ""
        },
        "id": "aqpqI1qTSG1c"
      },
      "source": [
        "De igual forma, barra invertida \"t\" aplicará un espacio de tabulación:"
      ]
    },
    {
      "cell_type": "code",
      "execution_count": 22,
      "metadata": {
        "application/vnd.databricks.v1+cell": {
          "inputWidgets": {},
          "nuid": "84df098e-dd52-4542-adef-519de5c326d3",
          "showTitle": false,
          "title": ""
        },
        "colab": {
          "base_uri": "https://localhost:8080/"
        },
        "id": "Zsh7vZpNSG1c",
        "outputId": "b21aafca-53c9-49ce-88f5-e3032083638c"
      },
      "outputs": [
        {
          "output_type": "stream",
          "name": "stdout",
          "text": [
            " Michael Jackson \t is the best\n"
          ]
        }
      ],
      "source": [
        "# Secuencia de escape para un espacio de tabulación\n",
        "\n",
        "print(\" Michael Jackson \\t is the best\" )"
      ]
    },
    {
      "cell_type": "markdown",
      "metadata": {
        "application/vnd.databricks.v1+cell": {
          "inputWidgets": {},
          "nuid": "5ef8b346-82cd-4bdc-8b5b-8001e827e6f1",
          "showTitle": false,
          "title": ""
        },
        "id": "6BfisB9GSG1c"
      },
      "source": [
        "En caso de quieras que una barra invertida forme parte de una cadena, utiliza una doble barra invertida:"
      ]
    },
    {
      "cell_type": "code",
      "execution_count": 23,
      "metadata": {
        "application/vnd.databricks.v1+cell": {
          "inputWidgets": {},
          "nuid": "677d6591-409e-4b00-86f6-1f5233f4eef4",
          "showTitle": false,
          "title": ""
        },
        "colab": {
          "base_uri": "https://localhost:8080/"
        },
        "id": "vYuN4MDMSG1c",
        "outputId": "3731d3d1-f181-4ebc-ce1a-c4e17b45acc5"
      },
      "outputs": [
        {
          "output_type": "stream",
          "name": "stdout",
          "text": [
            " Michael Jackson \\ is the best\n"
          ]
        }
      ],
      "source": [
        "# Incluir una barra invertida en una cadena\n",
        "\n",
        "print(\" Michael Jackson \\\\ is the best\" )"
      ]
    },
    {
      "cell_type": "markdown",
      "metadata": {
        "application/vnd.databricks.v1+cell": {
          "inputWidgets": {},
          "nuid": "540604f1-e9ef-4bcf-959c-20ba8ffd67c7",
          "showTitle": false,
          "title": ""
        },
        "id": "gCHT3yB4SG1d"
      },
      "source": [
        "Otra forma de hacer que se muestre la barra invertida de una cadena es colocando antes una “r”:"
      ]
    },
    {
      "cell_type": "code",
      "execution_count": 24,
      "metadata": {
        "application/vnd.databricks.v1+cell": {
          "inputWidgets": {},
          "nuid": "3c299dd8-0c47-4f4b-9642-028300059880",
          "showTitle": false,
          "title": ""
        },
        "colab": {
          "base_uri": "https://localhost:8080/"
        },
        "id": "E44slPDUSG1d",
        "outputId": "04e15dfb-3c71-4bb7-f3dc-d587b2533c91"
      },
      "outputs": [
        {
          "output_type": "stream",
          "name": "stdout",
          "text": [
            " Michael Jackson \\ is the best\n"
          ]
        }
      ],
      "source": [
        "# La letra r le dirá a python que muestre la cadena tal cual e ignore lo que haya despues de la barra invertida\n",
        "\n",
        "print(r\" Michael Jackson \\ is the best\" )"
      ]
    },
    {
      "cell_type": "markdown",
      "metadata": {
        "application/vnd.databricks.v1+cell": {
          "inputWidgets": {},
          "nuid": "aa0de817-641b-4893-a0ab-e0b7f66b5fbc",
          "showTitle": false,
          "title": ""
        },
        "id": "RC2qTrQQSG1d"
      },
      "source": [
        "<h2 id=\"operations\">Operaciones con Cadenas</h2>"
      ]
    },
    {
      "cell_type": "markdown",
      "metadata": {
        "application/vnd.databricks.v1+cell": {
          "inputWidgets": {},
          "nuid": "e9eb402f-2691-460d-a980-7d7e3ec1c89c",
          "showTitle": false,
          "title": ""
        },
        "id": "5tijiDF-SG1d"
      },
      "source": [
        "En Python existen muchos métodos para hacer operaciones con cadenas que pueden ser usados para manipular datos. Usaremos algunas operaciones básicas con cadenas."
      ]
    },
    {
      "cell_type": "markdown",
      "metadata": {
        "application/vnd.databricks.v1+cell": {
          "inputWidgets": {},
          "nuid": "17ffb4f6-e366-4b3e-9d21-a39d62b8f23c",
          "showTitle": false,
          "title": ""
        },
        "id": "Cmaje5tiSG1d"
      },
      "source": [
        "Usemos ahora el método <code>upper</code>; este método convierte los caracteres de minúsculas a mayúsculas:"
      ]
    },
    {
      "cell_type": "code",
      "execution_count": 25,
      "metadata": {
        "application/vnd.databricks.v1+cell": {
          "inputWidgets": {},
          "nuid": "05622a9b-5c39-4f3c-9e47-734de5018ce4",
          "showTitle": false,
          "title": ""
        },
        "colab": {
          "base_uri": "https://localhost:8080/"
        },
        "id": "H3Onx8EmSG1d",
        "outputId": "c42404cd-56dd-47a2-c7b2-8813ccf7aad1"
      },
      "outputs": [
        {
          "output_type": "stream",
          "name": "stdout",
          "text": [
            "before upper: Thriller is the sixth studio album\n",
            "After upper: THRILLER IS THE SIXTH STUDIO ALBUM\n"
          ]
        }
      ],
      "source": [
        "# Convertir todos los caracteres de la cadena en mayúsculas\n",
        "\n",
        "A = \"Thriller is the sixth studio album\"\n",
        "print(\"before upper:\", A)\n",
        "B = A.upper()\n",
        "print(\"After upper:\", B)"
      ]
    },
    {
      "cell_type": "markdown",
      "metadata": {
        "application/vnd.databricks.v1+cell": {
          "inputWidgets": {},
          "nuid": "dc45b42d-0846-4696-abc9-e99a68b2e1be",
          "showTitle": false,
          "title": ""
        },
        "id": "J8uYo5c5SG1d"
      },
      "source": [
        "El método <code>replace</code> reemplaza un segmento de la cadena, p.ej. una sub-cadena por una nueva. Introducimos primero la parte de la cadena que queremos cambiar. En el segundo argumento pondremos el segmento que reemplazara al anterior, el resultado será una nueva cadena con una de sus partes modificada:"
      ]
    },
    {
      "cell_type": "code",
      "execution_count": 26,
      "metadata": {
        "application/vnd.databricks.v1+cell": {
          "inputWidgets": {},
          "nuid": "8d0cdb35-4a72-42d7-a5d9-047a3daad3d4",
          "showTitle": false,
          "title": ""
        },
        "colab": {
          "base_uri": "https://localhost:8080/",
          "height": 36
        },
        "id": "vsogdYamSG1d",
        "outputId": "20b946fd-3341-4b14-c137-811b52b3361a"
      },
      "outputs": [
        {
          "output_type": "execute_result",
          "data": {
            "text/plain": [
              "'Janet Jackson is the best'"
            ],
            "application/vnd.google.colaboratory.intrinsic+json": {
              "type": "string"
            }
          },
          "metadata": {},
          "execution_count": 26
        }
      ],
      "source": [
        "# Reemplazar la vieja sub-cadena por una nueva\n",
        "\n",
        "A = \"Michael Jackson is the best\"\n",
        "B = A.replace('Michael', 'Janet')\n",
        "B"
      ]
    },
    {
      "cell_type": "markdown",
      "metadata": {
        "application/vnd.databricks.v1+cell": {
          "inputWidgets": {},
          "nuid": "b3577d50-6516-4fbf-8d4d-01639fc55e2f",
          "showTitle": false,
          "title": ""
        },
        "id": "lxg8rB1NSG1d"
      },
      "source": [
        "La función del método <code>find</code> es encontrar una sub-cadena. El argumento del método es la sub-cadena que deseas encontrar, y el resultado será el numero del índice perteneciente al primer carácter de la sub-cadena. Podemos encontrar la sub-cadena <code>jack</code> o <code>el</code>."
      ]
    },
    {
      "cell_type": "markdown",
      "metadata": {
        "application/vnd.databricks.v1+cell": {
          "inputWidgets": {},
          "nuid": "bd08cea0-0d32-4dee-a7f6-82e927a03bff",
          "showTitle": false,
          "title": ""
        },
        "id": "PQsovQ2DSG1d"
      },
      "source": [
        "<img src=\"https://s3-api.us-geo.objectstorage.softlayer.net/cf-courses-data/CognitiveClass/PY0101EN/Chapter%201/Images/StringsFind.png\" width=\"600\" align=\"center\" />"
      ]
    },
    {
      "cell_type": "code",
      "execution_count": 27,
      "metadata": {
        "application/vnd.databricks.v1+cell": {
          "inputWidgets": {},
          "nuid": "c28dcd0f-71bb-4c4a-bc7b-46e94156ff92",
          "showTitle": false,
          "title": ""
        },
        "colab": {
          "base_uri": "https://localhost:8080/"
        },
        "id": "MSJBSoDsSG1e",
        "outputId": "0cb7d2c8-6aa5-4fca-fb77-7890a76ce098"
      },
      "outputs": [
        {
          "output_type": "execute_result",
          "data": {
            "text/plain": [
              "5"
            ]
          },
          "metadata": {},
          "execution_count": 27
        }
      ],
      "source": [
        "# Encontrar la sub-cadena. El resultado será unicamente el índice del primer elemente de la sub-cadena dentro de la cadena principal.\n",
        "\n",
        "Name = \"Michael Jackson\"\n",
        "Name.find('el')"
      ]
    },
    {
      "cell_type": "code",
      "execution_count": 28,
      "metadata": {
        "application/vnd.databricks.v1+cell": {
          "inputWidgets": {},
          "nuid": "da2dc5bb-48b0-46d6-a5d6-c915ec0ab6e0",
          "showTitle": false,
          "title": ""
        },
        "colab": {
          "base_uri": "https://localhost:8080/"
        },
        "id": "dxVmkNxaSG1e",
        "outputId": "f2ec5e1a-cf07-4ce4-d4b4-367c2442865d"
      },
      "outputs": [
        {
          "output_type": "execute_result",
          "data": {
            "text/plain": [
              "8"
            ]
          },
          "metadata": {},
          "execution_count": 28
        }
      ],
      "source": [
        "# Encotrar la sub-cadena dentro de la cadena.\n",
        "\n",
        "Name.find('Jack')"
      ]
    },
    {
      "cell_type": "markdown",
      "metadata": {
        "application/vnd.databricks.v1+cell": {
          "inputWidgets": {},
          "nuid": "804d4f0e-acdc-4bba-bda1-49b2fb040bbd",
          "showTitle": false,
          "title": ""
        },
        "id": "yCRMmu4FSG1e"
      },
      "source": [
        "Si la sub-cadena no se encuentra en la cadena principal el resultado será -1. Por ejemplo, la cadena 'Jasdfasdasdf' no es una sub-cadena:"
      ]
    },
    {
      "cell_type": "code",
      "execution_count": 29,
      "metadata": {
        "application/vnd.databricks.v1+cell": {
          "inputWidgets": {},
          "nuid": "70870236-7a8c-456c-b2e4-6f7bb79f8cb3",
          "showTitle": false,
          "title": ""
        },
        "collapsed": true,
        "colab": {
          "base_uri": "https://localhost:8080/"
        },
        "id": "tdvtA_tHSG1e",
        "outputId": "f67c1f8a-6f95-4477-e02d-c03d27a994e9"
      },
      "outputs": [
        {
          "output_type": "execute_result",
          "data": {
            "text/plain": [
              "-1"
            ]
          },
          "metadata": {},
          "execution_count": 29
        }
      ],
      "source": [
        "# Si no se encuentra la sub-cadena en la cadena principal\n",
        "\n",
        "Name.find('Jasdfasdasdf')"
      ]
    },
    {
      "cell_type": "markdown",
      "metadata": {
        "application/vnd.databricks.v1+cell": {
          "inputWidgets": {},
          "nuid": "8cfcb624-f5f8-4433-b094-7ad339e9d7ae",
          "showTitle": false,
          "title": ""
        },
        "id": "SBwxhjD8SG1e"
      },
      "source": [
        "<h2 id=\"quiz\">Exámen sobre Cadenas</h2>"
      ]
    },
    {
      "cell_type": "markdown",
      "metadata": {
        "application/vnd.databricks.v1+cell": {
          "inputWidgets": {},
          "nuid": "8cac69a8-c656-4388-8e47-091031ce304e",
          "showTitle": false,
          "title": ""
        },
        "id": "qD3imnmNSG1f"
      },
      "source": [
        "¿Cual es el valor de la variable <code>A</code> después de ejecutar el siguiente código?"
      ]
    },
    {
      "cell_type": "code",
      "execution_count": 51,
      "metadata": {
        "application/vnd.databricks.v1+cell": {
          "inputWidgets": {},
          "nuid": "ddb3b91a-cb39-4ff4-a4a3-dedfe6fb5ed9",
          "showTitle": false,
          "title": ""
        },
        "collapsed": true,
        "id": "ASb5Ibr5SG1f",
        "colab": {
          "base_uri": "https://localhost:8080/"
        },
        "outputId": "6d6bdbfc-7d6f-41b0-814b-2db4a9c25f1d"
      },
      "outputs": [
        {
          "output_type": "stream",
          "name": "stdout",
          "text": [
            "1\n"
          ]
        }
      ],
      "source": [
        "# Escribe abajo tu código y presiona Shift+Enter para ejecutarlo\n",
        "A = \"1\"  # Variable A contiene el string '1'\n",
        "print(A)  # Salida: 1"
      ]
    },
    {
      "cell_type": "markdown",
      "metadata": {
        "application/vnd.databricks.v1+cell": {
          "inputWidgets": {},
          "nuid": "4a2b11b3-7994-4d9c-9c9c-fe09ff58516e",
          "showTitle": false,
          "title": ""
        },
        "id": "V4pTcr8lSG1f"
      },
      "source": [
        "¿Cual es el valor de la variable <code>B</code> después de ejecutar el siguiente código?"
      ]
    },
    {
      "cell_type": "code",
      "execution_count": 52,
      "metadata": {
        "application/vnd.databricks.v1+cell": {
          "inputWidgets": {},
          "nuid": "b7b54f58-f3b7-4e87-bbe9-84fa5ef80eb7",
          "showTitle": false,
          "title": ""
        },
        "collapsed": true,
        "id": "hxMv_2eHSG1f",
        "colab": {
          "base_uri": "https://localhost:8080/"
        },
        "outputId": "2aa26b6b-bd22-482a-be06-149691f542f1"
      },
      "outputs": [
        {
          "output_type": "stream",
          "name": "stdout",
          "text": [
            "2\n"
          ]
        }
      ],
      "source": [
        "# Escribe abajo tu código y presiona Shift+Enter para ejecutarlo\n",
        "B = \"2\"  # Variable B contiene el string '2'\n",
        "print(B)  # Salida: 2\n"
      ]
    },
    {
      "cell_type": "markdown",
      "metadata": {
        "application/vnd.databricks.v1+cell": {
          "inputWidgets": {},
          "nuid": "956a96c3-9fdd-45bf-95f4-3bb6b019a3be",
          "showTitle": false,
          "title": ""
        },
        "id": "nx3wNdYHSG1g"
      },
      "source": [
        "¿Cual es el valor de la variable <code>C</code> después de ejecutar el siguiente código?"
      ]
    },
    {
      "cell_type": "code",
      "execution_count": 53,
      "metadata": {
        "application/vnd.databricks.v1+cell": {
          "inputWidgets": {},
          "nuid": "33186c3e-73c4-4983-ad57-127675d91e4b",
          "showTitle": false,
          "title": ""
        },
        "id": "bAmK1loDSG1g",
        "colab": {
          "base_uri": "https://localhost:8080/"
        },
        "outputId": "02f1e090-2780-4bb3-8326-11b87b77b69a"
      },
      "outputs": [
        {
          "output_type": "stream",
          "name": "stdout",
          "text": [
            "12\n"
          ]
        }
      ],
      "source": [
        "# Escribe abajo tu código y presiona Shift+Enter para ejecutarlo\n",
        "\n",
        "C = A + B  # Concatenamos las cadenas '1' y '2', obteniendo '12'\n",
        "print(C)  # Salida: 12"
      ]
    },
    {
      "cell_type": "markdown",
      "metadata": {
        "application/vnd.databricks.v1+cell": {
          "inputWidgets": {},
          "nuid": "1ed60bff-748e-4c67-8307-04520da43b97",
          "showTitle": false,
          "title": ""
        },
        "id": "dmScRCi6SG1g"
      },
      "source": [
        "En la variable <code>D</code> haz uso del slicing para imprimir solo los primeros tres elementos:"
      ]
    },
    {
      "cell_type": "code",
      "execution_count": 54,
      "metadata": {
        "application/vnd.databricks.v1+cell": {
          "inputWidgets": {},
          "nuid": "0bbc3088-0e6a-4ef3-ae51-f776a7f079ad",
          "showTitle": false,
          "title": ""
        },
        "id": "OEjSM5KYSG1g",
        "colab": {
          "base_uri": "https://localhost:8080/"
        },
        "outputId": "8149adc4-64da-45c0-e837-f99dd4b39bd4"
      },
      "outputs": [
        {
          "output_type": "stream",
          "name": "stdout",
          "text": [
            "ABC\n"
          ]
        }
      ],
      "source": [
        "# Escribe abajo tu código y presiona Shift+Enter para ejecutarlo\n",
        "\n",
        "D = \"ABCDEFG\"\n",
        "print(D[0:3])  # Imprime los primeros tres caracteres: 'ABC'"
      ]
    },
    {
      "cell_type": "markdown",
      "metadata": {
        "application/vnd.databricks.v1+cell": {
          "inputWidgets": {},
          "nuid": "d4f53ebb-1961-48e4-9349-1a1cb3ed43ac",
          "showTitle": false,
          "title": ""
        },
        "id": "4tZrb2ioSG1h"
      },
      "source": [
        "Usa un valor de stride de 2 para imprimir cada segundo elemento de la cadena <code>E</code>:"
      ]
    },
    {
      "cell_type": "code",
      "execution_count": 55,
      "metadata": {
        "application/vnd.databricks.v1+cell": {
          "inputWidgets": {},
          "nuid": "f317b44a-0374-4bce-a3bc-6b0d29a1c342",
          "showTitle": false,
          "title": ""
        },
        "collapsed": true,
        "id": "vN19lxq9SG1i",
        "colab": {
          "base_uri": "https://localhost:8080/"
        },
        "outputId": "8c05fc4f-ce5f-498e-c319-ce84c95947a4"
      },
      "outputs": [
        {
          "output_type": "stream",
          "name": "stdout",
          "text": [
            "correct\n"
          ]
        }
      ],
      "source": [
        "# Escribe abajo tu código y presiona Shift+Enter para ejecutarlo\n",
        "\n",
        "E = 'clocrkr1e1c1t'\n",
        "print(E[::2])  # Empieza desde índice 0 y toma cada segundo carácter: 'correct'"
      ]
    },
    {
      "cell_type": "markdown",
      "metadata": {
        "application/vnd.databricks.v1+cell": {
          "inputWidgets": {},
          "nuid": "2169c64c-7206-4937-a581-0526a875b9d9",
          "showTitle": false,
          "title": ""
        },
        "id": "SdJuMLA6SG1i"
      },
      "source": [
        "Imprime una barra invertida:"
      ]
    },
    {
      "cell_type": "code",
      "execution_count": 56,
      "metadata": {
        "application/vnd.databricks.v1+cell": {
          "inputWidgets": {},
          "nuid": "87af61d8-086c-4ca5-8684-c5573bac909c",
          "showTitle": false,
          "title": ""
        },
        "id": "8Eh8RG32SG1i",
        "colab": {
          "base_uri": "https://localhost:8080/"
        },
        "outputId": "bbfb886e-f3fe-4e16-a864-f9e280e53eb0"
      },
      "outputs": [
        {
          "output_type": "stream",
          "name": "stdout",
          "text": [
            "\\\n"
          ]
        }
      ],
      "source": [
        "# Escribe abajo tu código y presiona Shift+Enter para ejecutarlo\n",
        "# La barra invertida es un carácter especial en strings, por lo que se debe escapar con otra barra invertida.\n",
        "print(\"\\\\\")\n"
      ]
    },
    {
      "cell_type": "markdown",
      "metadata": {
        "application/vnd.databricks.v1+cell": {
          "inputWidgets": {},
          "nuid": "6814f6cf-b035-4461-b318-7d7471cbcf94",
          "showTitle": false,
          "title": ""
        },
        "id": "fTsSw3P5SG1i"
      },
      "source": [
        "Convierte el mayúsculas el contenido de la variable <code>F</code>:"
      ]
    },
    {
      "cell_type": "code",
      "execution_count": 57,
      "metadata": {
        "application/vnd.databricks.v1+cell": {
          "inputWidgets": {},
          "nuid": "034ad3a9-1ef9-419d-9362-8fd0286e5f47",
          "showTitle": false,
          "title": ""
        },
        "id": "YNNtUsi6SG1j",
        "colab": {
          "base_uri": "https://localhost:8080/"
        },
        "outputId": "58e67aa1-dca4-4cd6-a264-b44098b47d9f"
      },
      "outputs": [
        {
          "output_type": "stream",
          "name": "stdout",
          "text": [
            "YOU ARE WRONG\n"
          ]
        }
      ],
      "source": [
        "# Escribe abajo tu código y presiona Shift+Enter para ejecutarlo\n",
        "\n",
        "F = \"You are wrong\"\n",
        "print(F.upper())  # Convierte todo a mayúsculas: 'YOU ARE WRONG'\n"
      ]
    },
    {
      "cell_type": "markdown",
      "metadata": {
        "application/vnd.databricks.v1+cell": {
          "inputWidgets": {},
          "nuid": "89af9572-7b2e-4344-b61b-e832bddb897c",
          "showTitle": false,
          "title": ""
        },
        "id": "zG4Qus-uSG1k"
      },
      "source": [
        "En la variable <code>G</code>, encuentra el primer índice de la sub-cadena <code>snow</code>:"
      ]
    },
    {
      "cell_type": "code",
      "execution_count": 58,
      "metadata": {
        "application/vnd.databricks.v1+cell": {
          "inputWidgets": {},
          "nuid": "721a128c-d297-4149-bbdd-646140d2dd59",
          "showTitle": false,
          "title": ""
        },
        "id": "0jq0BaQASG1k",
        "colab": {
          "base_uri": "https://localhost:8080/"
        },
        "outputId": "76d6eb02-48ea-4689-e361-eb640690e357"
      },
      "outputs": [
        {
          "output_type": "stream",
          "name": "stdout",
          "text": [
            "95\n"
          ]
        }
      ],
      "source": [
        "# Escribe abajo tu código y presiona Shift+Enter para ejecutarlo\n",
        "\n",
        "G = \"Mary had a little lamb Little lamb, little lamb Mary had a little lamb \\\n",
        "Its fleece was white as snow And everywhere that Mary went Mary went, Mary went \\\n",
        "Everywhere that Mary went The lamb was sure to go\"\n",
        " # Encuentra la posición inicial de la palabra 'snow': devuelve índice\n",
        "print(G.find(\"snow\"))"
      ]
    },
    {
      "cell_type": "markdown",
      "metadata": {
        "application/vnd.databricks.v1+cell": {
          "inputWidgets": {},
          "nuid": "157b212b-6b79-4fe4-9284-f9e0e1f3dcd1",
          "showTitle": false,
          "title": ""
        },
        "id": "55Cm_8ILSG1k"
      },
      "source": [
        "En la variable <code>G</code>, reemplaza la sub-cadena <code>Mary</code> con <code>Bob</code>:"
      ]
    },
    {
      "cell_type": "code",
      "execution_count": 59,
      "metadata": {
        "application/vnd.databricks.v1+cell": {
          "inputWidgets": {},
          "nuid": "ea8ee7aa-cedd-40c2-8d01-35f09d62109d",
          "showTitle": false,
          "title": ""
        },
        "id": "iJ0FdQXQSG1l",
        "colab": {
          "base_uri": "https://localhost:8080/"
        },
        "outputId": "2cffe8f0-cb51-46be-bc01-8141fd1e42f4"
      },
      "outputs": [
        {
          "output_type": "stream",
          "name": "stdout",
          "text": [
            "Bob had a little lamb Little lamb, little lamb Bob had a little lamb Its fleece was white as snow And everywhere that Bob went Bob went, Bob went Everywhere that Bob went The lamb was sure to go\n"
          ]
        }
      ],
      "source": [
        "# Escribe abajo tu código y presiona Shift+Enter para ejecutarlo\n",
        "print(G.replace(\"Mary\", \"Bob\"))   # Reemplaza todas las ocurrencias de 'Mary' por 'Bob'"
      ]
    }
  ],
  "metadata": {
    "application/vnd.databricks.v1+notebook": {
      "dashboards": [],
      "language": "python",
      "notebookMetadata": {
        "pythonIndentUnit": 2
      },
      "notebookName": "01-Python-Cadenas",
      "notebookOrigID": 3377342904741170,
      "widgets": {}
    },
    "kernelspec": {
      "display_name": "base",
      "language": "python",
      "name": "python3"
    },
    "language_info": {
      "codemirror_mode": {
        "name": "ipython",
        "version": 3
      },
      "file_extension": ".py",
      "mimetype": "text/x-python",
      "name": "python",
      "nbconvert_exporter": "python",
      "pygments_lexer": "ipython3",
      "version": "3.12.4"
    },
    "colab": {
      "provenance": []
    }
  },
  "nbformat": 4,
  "nbformat_minor": 0
}