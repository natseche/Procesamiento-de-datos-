{
  "cells": [
    {
      "cell_type": "markdown",
      "source": [
        "<h1>Procesamiento de Datos a Gran Escala</h1>"
      ],
      "metadata": {
        "application/vnd.databricks.v1+cell": {
          "title": "",
          "showTitle": false,
          "inputWidgets": {},
          "nuid": "6d434104-86b8-4c41-a59b-623f89a107cd"
        },
        "id": "-5pYcflWCWtu"
      }
    },
    {
      "cell_type": "markdown",
      "source": [
        "**Autor:** Natalia Echeverry Salcedo  \n",
        "\n",
        "**Fecha de Inicio:** 7/08/2025  \n",
        "**Fecha actual:** 11/08/2025  \n",
        "\n",
        "---\n",
        "\n",
        "## Descripción\n",
        "Este taller corresponde al **Ejercicio 5** del curso **Procesamiento de Datos** y tiene como objetivo comprender y manipular **diccionarios** (*dictionaries*) en Python.  \n",
        "Durante el ejercicio, el estudiante aprende a:\n",
        "\n",
        "- Crear diccionarios con pares clave–valor.\n",
        "- Acceder a elementos usando claves.\n",
        "- Modificar valores existentes.\n",
        "- Agregar nuevos pares clave–valor.\n",
        "- Eliminar elementos con `del` o `pop()`.\n",
        "- Comprobar la existencia de claves con el operador `in`.\n",
        "- Obtener listas de:\n",
        "  - **Claves** (`keys()`)\n",
        "  - **Valores** (`values()`)\n",
        "  - **Pares clave–valor** (`items()`)\n",
        "- Iterar sobre un diccionario.\n",
        "- Anidar estructuras (diccionarios dentro de diccionarios o listas).\n",
        "- Resolver un examen de práctica para reforzar los conceptos.\n",
        "\n",
        "El taller incluye ejemplos prácticos y comentarios explicativos para ilustrar el uso eficiente de diccionarios en Python.\n"
      ],
      "metadata": {
        "id": "0_pHPsiOCdz4"
      }
    },
    {
      "cell_type": "markdown",
      "source": [
        "<h2>Diccionarios en Python</h2>"
      ],
      "metadata": {
        "application/vnd.databricks.v1+cell": {
          "title": "",
          "showTitle": false,
          "inputWidgets": {},
          "nuid": "ca8a69a5-0b3b-47b8-a7f9-159a320590ba"
        },
        "id": "8apV9p-gCWtz"
      }
    },
    {
      "cell_type": "markdown",
      "source": [
        "<p><strong>¡Bienvenido!</strong> En este cuaderno aprenderás lo relacionado con los diccionarios en el Lenguaje de Programación Python. Al final de este laboratorio, conocerás las operaciones básicas con diccionarios en Python, incluyendo qué son, y las operaciones que puedes hacer con ellos.</p>"
      ],
      "metadata": {
        "application/vnd.databricks.v1+cell": {
          "title": "",
          "showTitle": false,
          "inputWidgets": {},
          "nuid": "f81050b8-e3d4-4c41-a99e-e25ea6f2a3e1"
        },
        "id": "VjpM2FR1CWtz"
      }
    },
    {
      "cell_type": "markdown",
      "source": [
        "<h2>Tabla de Contenido</h2>\n",
        "<div class=\"alert alert-block alert-info\" style=\"margin-top: 20px\">\n",
        "    <ul>\n",
        "        <li>\n",
        "            <a href=\"#dic\">Diccionarios</a>\n",
        "            <ul>\n",
        "                <li><a href=\"content\">¿Qué son los diccionarios?</a></li>\n",
        "                <li><a href=\"key\">Llaves</a></li>\n",
        "            </ul>\n",
        "        </li>\n",
        "        <li>\n",
        "            <a href=\"#quiz\">Cuestionario sobre Diccionarios</a>\n",
        "        </li>\n",
        "    </ul>\n",
        "    <p>\n",
        "        Tiempo Estimado: <strong>20 min</strong>\n",
        "    </p>\n",
        "</div>\n",
        "\n",
        "<hr>"
      ],
      "metadata": {
        "application/vnd.databricks.v1+cell": {
          "title": "",
          "showTitle": false,
          "inputWidgets": {},
          "nuid": "6fc64cb9-c451-43b4-af92-75438ee71b18"
        },
        "id": "BLUIxsDJCWtz"
      }
    },
    {
      "cell_type": "markdown",
      "source": [
        "<h2 id=\"Dic\">Diccionarios</h2>"
      ],
      "metadata": {
        "application/vnd.databricks.v1+cell": {
          "title": "",
          "showTitle": false,
          "inputWidgets": {},
          "nuid": "50a2ca48-45d6-4bab-9e95-c003257ef47e"
        },
        "id": "PlVRzydUCWt0"
      }
    },
    {
      "cell_type": "markdown",
      "source": [
        "<h3 id=\"content\">¿Qué son los diccionarios?</h3>"
      ],
      "metadata": {
        "application/vnd.databricks.v1+cell": {
          "title": "",
          "showTitle": false,
          "inputWidgets": {},
          "nuid": "748cb5ce-ab69-4151-83f9-48b0d6615d03"
        },
        "id": "e48QzuqrCWt0"
      }
    },
    {
      "cell_type": "markdown",
      "source": [
        "Un diccionario esta conformado por llaves y valores. Un diccionario puede compararse a una lista. En vez de índices numéricos como los de las listas, los diccionarios tienen llaves. Estas llaves son usadas para acceder a los valores dentro de los diccionarios."
      ],
      "metadata": {
        "application/vnd.databricks.v1+cell": {
          "title": "",
          "showTitle": false,
          "inputWidgets": {},
          "nuid": "c4e0370e-305b-426c-b96a-539867bba040"
        },
        "id": "LgRGFb6bCWt0"
      }
    },
    {
      "cell_type": "markdown",
      "source": [
        "<img src=\"https://s3-api.us-geo.objectstorage.softlayer.net/cf-courses-data/CognitiveClass/PY0101EN/Chapter%202/Images/DictsList.png\" width=\"650\" />"
      ],
      "metadata": {
        "application/vnd.databricks.v1+cell": {
          "title": "",
          "showTitle": false,
          "inputWidgets": {},
          "nuid": "de873c95-c9d1-4685-832e-db96cf0af97b"
        },
        "id": "V4eofpWLCWt1"
      }
    },
    {
      "cell_type": "markdown",
      "source": [
        "Un ejemplo de Diccionario <code>Dict</code>:"
      ],
      "metadata": {
        "application/vnd.databricks.v1+cell": {
          "title": "",
          "showTitle": false,
          "inputWidgets": {},
          "nuid": "a8add588-fdff-436a-bbdb-bf4c04f4d9a3"
        },
        "id": "vclS0xNCCWt1"
      }
    },
    {
      "cell_type": "code",
      "source": [
        "# Crear el diccionario\n",
        "\n",
        "Dict = {\"key1\": 1, \"key2\": \"2\", \"key3\": [3, 3, 3], \"key4\": (4, 4, 4), ('key5'): 5, (0, 1): 6}\n",
        "Dict"
      ],
      "metadata": {
        "application/vnd.databricks.v1+cell": {
          "title": "",
          "showTitle": false,
          "inputWidgets": {},
          "nuid": "d83789c3-6192-4fae-bf05-85f095d86624"
        },
        "colab": {
          "base_uri": "https://localhost:8080/"
        },
        "id": "-uBuko6GCWt1",
        "outputId": "2b975225-5bd9-4709-81c6-c13a57fed94d"
      },
      "outputs": [
        {
          "output_type": "execute_result",
          "data": {
            "text/plain": [
              "{'key1': 1,\n",
              " 'key2': '2',\n",
              " 'key3': [3, 3, 3],\n",
              " 'key4': (4, 4, 4),\n",
              " 'key5': 5,\n",
              " (0, 1): 6}"
            ]
          },
          "metadata": {},
          "execution_count": 22
        }
      ],
      "execution_count": 22
    },
    {
      "cell_type": "markdown",
      "source": [
        "Las llaves pueden ser cadenas:"
      ],
      "metadata": {
        "application/vnd.databricks.v1+cell": {
          "title": "",
          "showTitle": false,
          "inputWidgets": {},
          "nuid": "1187475d-05b4-43b2-9014-f31f857a3847"
        },
        "id": "H59c_v4ACWt4"
      }
    },
    {
      "cell_type": "code",
      "source": [
        "# Acceder a un valor mediante una llave\n",
        "\n",
        "Dict[\"key1\"]"
      ],
      "metadata": {
        "application/vnd.databricks.v1+cell": {
          "title": "",
          "showTitle": false,
          "inputWidgets": {},
          "nuid": "0252aeb9-ad5a-42fd-88dc-b9b8e4246056"
        },
        "colab": {
          "base_uri": "https://localhost:8080/"
        },
        "id": "CPeLfGWNCWt4",
        "outputId": "83a9af94-6bd4-480f-c9b4-47b44d42648a"
      },
      "outputs": [
        {
          "output_type": "execute_result",
          "data": {
            "text/plain": [
              "1"
            ]
          },
          "metadata": {},
          "execution_count": 23
        }
      ],
      "execution_count": 23
    },
    {
      "cell_type": "markdown",
      "source": [
        "Una llave puede ser cualquier tipo de objeto inmutable, pudiendo ser una tupla:"
      ],
      "metadata": {
        "application/vnd.databricks.v1+cell": {
          "title": "",
          "showTitle": false,
          "inputWidgets": {},
          "nuid": "6ad8c687-aef5-41c1-b1f9-7fd843b75511"
        },
        "id": "P7MQANieCWt5"
      }
    },
    {
      "cell_type": "code",
      "source": [
        "# Acceder a un valor mediante una llave\n",
        "\n",
        "Dict[(0, 1)]"
      ],
      "metadata": {
        "application/vnd.databricks.v1+cell": {
          "title": "",
          "showTitle": false,
          "inputWidgets": {},
          "nuid": "85f10128-d534-4eff-842b-3e66089b2e31"
        },
        "colab": {
          "base_uri": "https://localhost:8080/"
        },
        "id": "ItZlTC0aCWt5",
        "outputId": "829e0b62-7580-408a-c746-a37acbb35dee"
      },
      "outputs": [
        {
          "output_type": "execute_result",
          "data": {
            "text/plain": [
              "6"
            ]
          },
          "metadata": {},
          "execution_count": 24
        }
      ],
      "execution_count": 24
    },
    {
      "cell_type": "markdown",
      "source": [
        "Cada llave esta separada de su respectivo valor mediante dos puntos \"<code>:</code>\". Las comas separan los elementos y todo el diccionario esta encerrado usando llaves. Un diccionario vacío se representa escribiendo solo dos llaves, de esta forma \"<code>{}</code>\"."
      ],
      "metadata": {
        "application/vnd.databricks.v1+cell": {
          "title": "",
          "showTitle": false,
          "inputWidgets": {},
          "nuid": "2b5738af-d031-444c-b9d2-58134d4e3432"
        },
        "id": "DB5Lf4IVCWt5"
      }
    },
    {
      "cell_type": "code",
      "source": [
        "# Crear un ejemplo de diccionario\n",
        "\n",
        "release_year_dict = {\"Thriller\": \"1982\", \"Back in Black\": \"1980\", \\\n",
        "                    \"The Dark Side of the Moon\": \"1973\", \"The Bodyguard\": \"1992\", \\\n",
        "                    \"Bat Out of Hell\": \"1977\", \"Their Greatest Hits (1971-1975)\": \"1976\", \\\n",
        "                    \"Saturday Night Fever\": \"1977\", \"Rumours\": \"1977\"}\n",
        "release_year_dict"
      ],
      "metadata": {
        "application/vnd.databricks.v1+cell": {
          "title": "",
          "showTitle": false,
          "inputWidgets": {},
          "nuid": "85d281fa-253f-43ad-8eb3-d92278596a2a"
        },
        "colab": {
          "base_uri": "https://localhost:8080/"
        },
        "id": "6dflD_jvCWt5",
        "outputId": "83bdb81b-f10e-408d-f476-91ba36cd42e5"
      },
      "outputs": [
        {
          "output_type": "execute_result",
          "data": {
            "text/plain": [
              "{'Thriller': '1982',\n",
              " 'Back in Black': '1980',\n",
              " 'The Dark Side of the Moon': '1973',\n",
              " 'The Bodyguard': '1992',\n",
              " 'Bat Out of Hell': '1977',\n",
              " 'Their Greatest Hits (1971-1975)': '1976',\n",
              " 'Saturday Night Fever': '1977',\n",
              " 'Rumours': '1977'}"
            ]
          },
          "metadata": {},
          "execution_count": 25
        }
      ],
      "execution_count": 25
    },
    {
      "cell_type": "markdown",
      "source": [
        "Resumiendo, al igual que una lista, un diccionario guarda una secuencia de elementos. Cada uno es representado por una llave y su valor correspondiente. Los diccionarios se crean mediante dos llaves y estas contendrán las llaves y valores separados por una coma. A cada llave solo puede corresponderle un valor, sin embargo, múltiples llaves pueden tener el mismo. Las llaves solo pueden ser cadenas, números o tuplas, pero los valores pueden ser de cualquier tipo."
      ],
      "metadata": {
        "application/vnd.databricks.v1+cell": {
          "title": "",
          "showTitle": false,
          "inputWidgets": {},
          "nuid": "243896a2-fc31-40b6-a287-76bcf21116e2"
        },
        "id": "iRpfg9G_CWt5"
      }
    },
    {
      "cell_type": "markdown",
      "source": [
        "Es de ayuda visualizar un diccionario como una tabla, como se muestra en la imagen. La primera columna representa las llaves, la segunda los valores."
      ],
      "metadata": {
        "application/vnd.databricks.v1+cell": {
          "title": "",
          "showTitle": false,
          "inputWidgets": {},
          "nuid": "5d7fb19d-2ec4-484c-a114-019c150ca777"
        },
        "id": "qEHOYgJoCWt5"
      }
    },
    {
      "cell_type": "markdown",
      "source": [
        "<img src=\"https://s3-api.us-geo.objectstorage.softlayer.net/cf-courses-data/CognitiveClass/PY0101EN/Chapter%202/Images/DictsStructure.png\" width=\"650\" />"
      ],
      "metadata": {
        "application/vnd.databricks.v1+cell": {
          "title": "",
          "showTitle": false,
          "inputWidgets": {},
          "nuid": "89d4d643-72f4-43d8-93da-9173702b23a5"
        },
        "id": "KKvTVfcTCWt5"
      }
    },
    {
      "cell_type": "markdown",
      "source": [
        "<h3 id=\"key\">Llaves</h3>"
      ],
      "metadata": {
        "application/vnd.databricks.v1+cell": {
          "title": "",
          "showTitle": false,
          "inputWidgets": {},
          "nuid": "fe8f9f9c-7ab6-40d0-8f8d-105547850463"
        },
        "id": "2XbhXiLoCWt5"
      }
    },
    {
      "cell_type": "markdown",
      "source": [
        "Los valores se pueden obtener mediante nombres:"
      ],
      "metadata": {
        "application/vnd.databricks.v1+cell": {
          "title": "",
          "showTitle": false,
          "inputWidgets": {},
          "nuid": "e766a7da-57fb-4795-a6d3-b42ec52b2de3"
        },
        "id": "JwzzHKwrCWt5"
      }
    },
    {
      "cell_type": "code",
      "source": [
        "# Obtener el valor de las llaves\n",
        "\n",
        "release_year_dict['Thriller']"
      ],
      "metadata": {
        "application/vnd.databricks.v1+cell": {
          "title": "",
          "showTitle": false,
          "inputWidgets": {},
          "nuid": "6f527e58-7393-4f44-8ef5-fedbe8a26037"
        },
        "colab": {
          "base_uri": "https://localhost:8080/",
          "height": 36
        },
        "id": "lF77xzw6CWt5",
        "outputId": "42fc5f31-3c13-4795-99b4-427b7e278969"
      },
      "outputs": [
        {
          "output_type": "execute_result",
          "data": {
            "text/plain": [
              "'1982'"
            ],
            "application/vnd.google.colaboratory.intrinsic+json": {
              "type": "string"
            }
          },
          "metadata": {},
          "execution_count": 26
        }
      ],
      "execution_count": 26
    },
    {
      "cell_type": "markdown",
      "source": [
        "Esto corresponde a:"
      ],
      "metadata": {
        "application/vnd.databricks.v1+cell": {
          "title": "",
          "showTitle": false,
          "inputWidgets": {},
          "nuid": "2a09bdc1-2cd8-419e-88ae-6f47137f429e"
        },
        "id": "uf0Yrcs5CWt5"
      }
    },
    {
      "cell_type": "markdown",
      "source": [
        "<img src=\"https://s3-api.us-geo.objectstorage.softlayer.net/cf-courses-data/CognitiveClass/PY0101EN/Chapter%202/Images/DictsKeyOne.png\" width=\"500\" />"
      ],
      "metadata": {
        "application/vnd.databricks.v1+cell": {
          "title": "",
          "showTitle": false,
          "inputWidgets": {},
          "nuid": "9797f201-29ec-417a-8187-4e1410e60681"
        },
        "id": "yadpNfgECWt6"
      }
    },
    {
      "cell_type": "markdown",
      "source": [
        "De igual forma <b>The Bodyguard</b>"
      ],
      "metadata": {
        "application/vnd.databricks.v1+cell": {
          "title": "",
          "showTitle": false,
          "inputWidgets": {},
          "nuid": "7e886131-6584-45f9-a070-e74c1377c6a1"
        },
        "id": "MJQ-YfW3CWt6"
      }
    },
    {
      "cell_type": "code",
      "source": [
        "# Obtener el valor mediante la llave\n",
        "\n",
        "release_year_dict['The Bodyguard']"
      ],
      "metadata": {
        "application/vnd.databricks.v1+cell": {
          "title": "",
          "showTitle": false,
          "inputWidgets": {},
          "nuid": "693125b7-2d1d-4b17-8968-ea4909c0aa76"
        },
        "colab": {
          "base_uri": "https://localhost:8080/",
          "height": 36
        },
        "id": "_5gaVH5ACWt6",
        "outputId": "518a93d9-58b0-40e6-b1e6-e672a088335f"
      },
      "outputs": [
        {
          "output_type": "execute_result",
          "data": {
            "text/plain": [
              "'1992'"
            ],
            "application/vnd.google.colaboratory.intrinsic+json": {
              "type": "string"
            }
          },
          "metadata": {},
          "execution_count": 27
        }
      ],
      "execution_count": 27
    },
    {
      "cell_type": "markdown",
      "source": [
        "<img src=\"https://s3-api.us-geo.objectstorage.softlayer.net/cf-courses-data/CognitiveClass/PY0101EN/Chapter%202/Images/DictsKeyTwo.png\" width=\"500\" />"
      ],
      "metadata": {
        "application/vnd.databricks.v1+cell": {
          "title": "",
          "showTitle": false,
          "inputWidgets": {},
          "nuid": "5bf88a04-75d6-40b5-b5ac-a91f08be6402"
        },
        "id": "KTJiFKUcCWt6"
      }
    },
    {
      "cell_type": "markdown",
      "source": [
        "Ahora vamos a recuperar las llaves del diccionario mediante el método <code>release_year_dict()</code>:"
      ],
      "metadata": {
        "application/vnd.databricks.v1+cell": {
          "title": "",
          "showTitle": false,
          "inputWidgets": {},
          "nuid": "cc434575-f8fa-4d3c-80b8-a3e6587562e9"
        },
        "id": "uYBOelHOCWt6"
      }
    },
    {
      "cell_type": "code",
      "source": [
        "# Obtener todas las llaves del diccionario\n",
        "\n",
        "release_year_dict.keys()"
      ],
      "metadata": {
        "application/vnd.databricks.v1+cell": {
          "title": "",
          "showTitle": false,
          "inputWidgets": {},
          "nuid": "5cd4d636-6097-4864-abd2-ddc347d4f4b3"
        },
        "colab": {
          "base_uri": "https://localhost:8080/"
        },
        "id": "hPJzgSMwCWt6",
        "outputId": "2b6e3ffb-f161-4665-830b-89613814bf3b"
      },
      "outputs": [
        {
          "output_type": "execute_result",
          "data": {
            "text/plain": [
              "dict_keys(['Thriller', 'Back in Black', 'The Dark Side of the Moon', 'The Bodyguard', 'Bat Out of Hell', 'Their Greatest Hits (1971-1975)', 'Saturday Night Fever', 'Rumours'])"
            ]
          },
          "metadata": {},
          "execution_count": 28
        }
      ],
      "execution_count": 28
    },
    {
      "cell_type": "markdown",
      "source": [
        "Se puede obtener los valores mediante el método <code>values()</code>:"
      ],
      "metadata": {
        "application/vnd.databricks.v1+cell": {
          "title": "",
          "showTitle": false,
          "inputWidgets": {},
          "nuid": "a8d38355-3b24-4ca8-bfd2-8396dc992f46"
        },
        "id": "G7euV7SJCWt6"
      }
    },
    {
      "cell_type": "code",
      "source": [
        "# Obtener todos los valores del diccionario\n",
        "\n",
        "release_year_dict.values()"
      ],
      "metadata": {
        "application/vnd.databricks.v1+cell": {
          "title": "",
          "showTitle": false,
          "inputWidgets": {},
          "nuid": "d9da60da-943c-4927-91be-bade067249de"
        },
        "colab": {
          "base_uri": "https://localhost:8080/"
        },
        "id": "J6Yq6UTsCWt6",
        "outputId": "34573f25-f9cf-411a-df62-c96d68897ee9"
      },
      "outputs": [
        {
          "output_type": "execute_result",
          "data": {
            "text/plain": [
              "dict_values(['1982', '1980', '1973', '1992', '1977', '1976', '1977', '1977'])"
            ]
          },
          "metadata": {},
          "execution_count": 29
        }
      ],
      "execution_count": 29
    },
    {
      "cell_type": "markdown",
      "source": [
        "Podemos agregar una entrada:"
      ],
      "metadata": {
        "application/vnd.databricks.v1+cell": {
          "title": "",
          "showTitle": false,
          "inputWidgets": {},
          "nuid": "56ac7ab8-52ce-497b-8079-49cb717a2938"
        },
        "id": "zfZMjJJECWt6"
      }
    },
    {
      "cell_type": "code",
      "source": [
        "# Agregar un valor con su llave en el diccionario\n",
        "\n",
        "release_year_dict['Graduation'] = '2007'\n",
        "release_year_dict"
      ],
      "metadata": {
        "application/vnd.databricks.v1+cell": {
          "title": "",
          "showTitle": false,
          "inputWidgets": {},
          "nuid": "34df8115-0a96-45b0-bc2e-cfaa5d936ffd"
        },
        "colab": {
          "base_uri": "https://localhost:8080/"
        },
        "id": "pc-qJTBtCWt6",
        "outputId": "4a24f971-a9f9-4924-fe58-b2f7d73faed4"
      },
      "outputs": [
        {
          "output_type": "execute_result",
          "data": {
            "text/plain": [
              "{'Thriller': '1982',\n",
              " 'Back in Black': '1980',\n",
              " 'The Dark Side of the Moon': '1973',\n",
              " 'The Bodyguard': '1992',\n",
              " 'Bat Out of Hell': '1977',\n",
              " 'Their Greatest Hits (1971-1975)': '1976',\n",
              " 'Saturday Night Fever': '1977',\n",
              " 'Rumours': '1977',\n",
              " 'Graduation': '2007'}"
            ]
          },
          "metadata": {},
          "execution_count": 30
        }
      ],
      "execution_count": 30
    },
    {
      "cell_type": "markdown",
      "source": [
        "Tambien podemos borrar entradas:"
      ],
      "metadata": {
        "application/vnd.databricks.v1+cell": {
          "title": "",
          "showTitle": false,
          "inputWidgets": {},
          "nuid": "e3402c34-f8af-4a7f-a6e1-edf226849f1d"
        },
        "id": "Od8tKwqzCWt6"
      }
    },
    {
      "cell_type": "code",
      "source": [
        "# Borrar entradas mediante la llave\n",
        "\n",
        "del(release_year_dict['Thriller'])\n",
        "del(release_year_dict['Graduation'])\n",
        "release_year_dict"
      ],
      "metadata": {
        "application/vnd.databricks.v1+cell": {
          "title": "",
          "showTitle": false,
          "inputWidgets": {},
          "nuid": "6ba464e7-caff-4c9a-bc2d-b8312d7f9570"
        },
        "colab": {
          "base_uri": "https://localhost:8080/"
        },
        "id": "1Hd3bK6ECWt6",
        "outputId": "9c3efb47-9d43-4abf-929a-e9d3ec4766c3"
      },
      "outputs": [
        {
          "output_type": "execute_result",
          "data": {
            "text/plain": [
              "{'Back in Black': '1980',\n",
              " 'The Dark Side of the Moon': '1973',\n",
              " 'The Bodyguard': '1992',\n",
              " 'Bat Out of Hell': '1977',\n",
              " 'Their Greatest Hits (1971-1975)': '1976',\n",
              " 'Saturday Night Fever': '1977',\n",
              " 'Rumours': '1977'}"
            ]
          },
          "metadata": {},
          "execution_count": 31
        }
      ],
      "execution_count": 31
    },
    {
      "cell_type": "markdown",
      "source": [
        "Podemos verificar si existe un elemento en el diccionario:"
      ],
      "metadata": {
        "application/vnd.databricks.v1+cell": {
          "title": "",
          "showTitle": false,
          "inputWidgets": {},
          "nuid": "1306a96d-a6e4-48da-b125-499de7e3c68e"
        },
        "id": "hkebKxzgCWt7"
      }
    },
    {
      "cell_type": "code",
      "source": [
        "# Verificar si existe la llave en el diccionario\n",
        "\n",
        "'The Bodyguard' in release_year_dict"
      ],
      "metadata": {
        "application/vnd.databricks.v1+cell": {
          "title": "",
          "showTitle": false,
          "inputWidgets": {},
          "nuid": "4bdb460d-ffdb-4954-9b9f-8539414bc505"
        },
        "colab": {
          "base_uri": "https://localhost:8080/"
        },
        "id": "QJw3KhjACWt7",
        "outputId": "72414655-edc9-4f0d-9124-6bc5b883b958"
      },
      "outputs": [
        {
          "output_type": "execute_result",
          "data": {
            "text/plain": [
              "True"
            ]
          },
          "metadata": {},
          "execution_count": 32
        }
      ],
      "execution_count": 32
    },
    {
      "cell_type": "markdown",
      "source": [
        "<h2 id=\"quiz\">Cuestionario sobre Diccionarios</h2>"
      ],
      "metadata": {
        "application/vnd.databricks.v1+cell": {
          "title": "",
          "showTitle": false,
          "inputWidgets": {},
          "nuid": "0098716f-2f97-477a-af21-5cefd29b1f56"
        },
        "id": "PcAgJd91CWt7"
      }
    },
    {
      "cell_type": "markdown",
      "source": [
        "<b>Necesitarás este diccionario para las siguientes dos preguntas:</b>"
      ],
      "metadata": {
        "application/vnd.databricks.v1+cell": {
          "title": "",
          "showTitle": false,
          "inputWidgets": {},
          "nuid": "2f0c5b32-ce02-4963-ba6d-c43ce95feb45"
        },
        "id": "IhaNm542CWt7"
      }
    },
    {
      "cell_type": "code",
      "source": [
        "# Pregunta - Diccionario de ejemplo\n",
        "\n",
        "soundtrack_dic = {\"The Bodyguard\":\"1992\", \"Saturday Night Fever\":\"1977\"}\n",
        "soundtrack_dic\n",
        "# Mostramos el diccionario\n",
        "print(\"Diccionario de bandas sonoras:\", soundtrack_dic)"
      ],
      "metadata": {
        "application/vnd.databricks.v1+cell": {
          "title": "",
          "showTitle": false,
          "inputWidgets": {},
          "nuid": "7f3c4221-f50e-4854-a57c-671747557f93"
        },
        "colab": {
          "base_uri": "https://localhost:8080/"
        },
        "id": "e_ex6UE5CWt-",
        "outputId": "2d9d2bb0-167e-4461-d984-d0fafa674e02"
      },
      "outputs": [
        {
          "output_type": "stream",
          "name": "stdout",
          "text": [
            "Diccionario de bandas sonoras: {'The Bodyguard': '1992', 'Saturday Night Fever': '1977'}\n"
          ]
        }
      ],
      "execution_count": 33
    },
    {
      "cell_type": "markdown",
      "source": [
        "a) En el diccionario <code>soundtrack_dict</code>. ¿Cuáles son las llaves?"
      ],
      "metadata": {
        "application/vnd.databricks.v1+cell": {
          "title": "",
          "showTitle": false,
          "inputWidgets": {},
          "nuid": "221d2aad-a7e8-4b95-988d-86669961318f"
        },
        "id": "23juhG0PCWt_"
      }
    },
    {
      "cell_type": "code",
      "source": [
        "# Escribe abajo tu código y presiona Shift+Enter para ejecutarlo\n",
        "# Usamos el método .keys() para listar todas las llaves.\n",
        "print(\"Llaves del diccionario:\", soundtrack_dic.keys())"
      ],
      "metadata": {
        "application/vnd.databricks.v1+cell": {
          "title": "",
          "showTitle": false,
          "inputWidgets": {},
          "nuid": "bee1d6f8-5933-4079-81c6-ac56fa5e02f7"
        },
        "colab": {
          "base_uri": "https://localhost:8080/"
        },
        "id": "mmiY-xR2CWt_",
        "outputId": "a4cc5b21-0fe3-4cb5-9537-7f71d330839b"
      },
      "outputs": [
        {
          "output_type": "stream",
          "name": "stdout",
          "text": [
            "Llaves del diccionario: dict_keys(['The Bodyguard', 'Saturday Night Fever'])\n"
          ]
        }
      ],
      "execution_count": 34
    },
    {
      "cell_type": "markdown",
      "source": [
        "b) En el diccionario <code>soundtrack_dict</code>. ¿Cuáles son los valores?"
      ],
      "metadata": {
        "application/vnd.databricks.v1+cell": {
          "title": "",
          "showTitle": false,
          "inputWidgets": {},
          "nuid": "e277c4fd-98c0-4582-b8bc-5788994309a9"
        },
        "id": "Ip9DuM93CWt_"
      }
    },
    {
      "cell_type": "code",
      "source": [
        "# Escribe abajo tu código y presiona Shift+Enter para ejecutarlo\n",
        "# Usamos el método .values() para listar todos los valores.\n",
        "print(\"Valores del diccionario:\", soundtrack_dic.values())"
      ],
      "metadata": {
        "application/vnd.databricks.v1+cell": {
          "title": "",
          "showTitle": false,
          "inputWidgets": {},
          "nuid": "3ddfe078-6bbe-4c03-b823-2752fa3ad5c6"
        },
        "colab": {
          "base_uri": "https://localhost:8080/"
        },
        "id": "o2b4DzQUCWt_",
        "outputId": "408612b4-4300-4bc7-b858-808c38526a87"
      },
      "outputs": [
        {
          "output_type": "stream",
          "name": "stdout",
          "text": [
            "Valores del diccionario: dict_values(['1992', '1977'])\n"
          ]
        }
      ],
      "execution_count": 35
    },
    {
      "cell_type": "markdown",
      "source": [
        "<b>Necesitarás este diccionario para las siguientes preguntas:</b>"
      ],
      "metadata": {
        "application/vnd.databricks.v1+cell": {
          "title": "",
          "showTitle": false,
          "inputWidgets": {},
          "nuid": "d0517809-da4a-4990-8fc0-7c1b166b6527"
        },
        "id": "8_tYNq39CWt_"
      }
    },
    {
      "cell_type": "markdown",
      "source": [
        "Los discos <b>Back in Black</b>, <b>The Bodyguard</b> y <b>Thriller</b> poseen el siguiente record de ventas en millones, 50, 50 y 65 respectivamente:"
      ],
      "metadata": {
        "application/vnd.databricks.v1+cell": {
          "title": "",
          "showTitle": false,
          "inputWidgets": {},
          "nuid": "1cd9afbb-9c22-46e8-a6e4-241e77dfeff9"
        },
        "id": "TdeZOQTqCWt_"
      }
    },
    {
      "cell_type": "markdown",
      "source": [
        "a) Crea un diccionario <code>album_sales_dict</code> donde las llaves sean el nombre del disco y los valores la cantidad de ventas en millones."
      ],
      "metadata": {
        "application/vnd.databricks.v1+cell": {
          "title": "",
          "showTitle": false,
          "inputWidgets": {},
          "nuid": "b87e1dec-be77-4ae4-adb2-fcdfa4b952c3"
        },
        "id": "Tb0IaN9WCWt_"
      }
    },
    {
      "cell_type": "code",
      "source": [
        "# Escribe abajo tu código y presiona Shift+Enter para ejecutarlo\n",
        "# Creamos un diccionario con el nombre del álbum como llave\n",
        "# y el récord de ventas (en millones) como valor.\n",
        "album_sales_dict = {\n",
        "    \"Back in Black\": 50,\n",
        "    \"The Bodyguard\": 50,\n",
        "    \"Thriller\": 65\n",
        "}\n",
        "\n",
        "# Mostramos el diccionario creado\n",
        "print(\"Diccionario de ventas de álbumes:\", album_sales_dict)"
      ],
      "metadata": {
        "collapsed": true,
        "application/vnd.databricks.v1+cell": {
          "title": "",
          "showTitle": false,
          "inputWidgets": {},
          "nuid": "4e53f4f3-b253-4267-b7d7-a5935789ddfe"
        },
        "colab": {
          "base_uri": "https://localhost:8080/"
        },
        "id": "HMp55bsyCWt_",
        "outputId": "ad74224c-b6ea-4f3a-a349-0ab6123d4eed"
      },
      "outputs": [
        {
          "output_type": "stream",
          "name": "stdout",
          "text": [
            "Diccionario de ventas de álbumes: {'Back in Black': 50, 'The Bodyguard': 50, 'Thriller': 65}\n"
          ]
        }
      ],
      "execution_count": 36
    },
    {
      "cell_type": "markdown",
      "source": [
        "b) Usa el diccionario para encontrar las ventas totales de <b>Thriller</b>:"
      ],
      "metadata": {
        "application/vnd.databricks.v1+cell": {
          "title": "",
          "showTitle": false,
          "inputWidgets": {},
          "nuid": "a92ec325-9a51-4e7e-b91d-731d5bf8599d"
        },
        "id": "8iCSFmxmCWt_"
      }
    },
    {
      "cell_type": "code",
      "source": [
        "# Escribe abajo tu código y presiona Shift+Enter para ejecutarlo\n",
        "# Accedemos directamente al valor asociado a la llave \"Thriller\".\n",
        "print(\"Ventas de 'Thriller':\", album_sales_dict[\"Thriller\"], \"millones\")"
      ],
      "metadata": {
        "application/vnd.databricks.v1+cell": {
          "title": "",
          "showTitle": false,
          "inputWidgets": {},
          "nuid": "5ee6e52a-feff-44ae-9c56-16b9580e08c8"
        },
        "colab": {
          "base_uri": "https://localhost:8080/"
        },
        "id": "7_ImDTMACWt_",
        "outputId": "0a3399c8-9c94-4a70-f8a5-53f6279f501c"
      },
      "outputs": [
        {
          "output_type": "stream",
          "name": "stdout",
          "text": [
            "Ventas de 'Thriller': 65 millones\n"
          ]
        }
      ],
      "execution_count": 37
    },
    {
      "cell_type": "markdown",
      "source": [
        "c) Encuentra los nombres de los discos dentro del diccionario mediante el método <code>keys</code>:"
      ],
      "metadata": {
        "application/vnd.databricks.v1+cell": {
          "title": "",
          "showTitle": false,
          "inputWidgets": {},
          "nuid": "b2ad71a4-f523-4322-bd4a-3d8216c84574"
        },
        "id": "yfw-vFRlCWuA"
      }
    },
    {
      "cell_type": "code",
      "source": [
        "# Escribe abajo tu código y presiona Shift+Enter para ejecutarlo\n",
        "# Usamos .keys() para obtener los nombres de los discos.\n",
        "print(\"Nombres de los discos:\", album_sales_dict.keys())"
      ],
      "metadata": {
        "application/vnd.databricks.v1+cell": {
          "title": "",
          "showTitle": false,
          "inputWidgets": {},
          "nuid": "f6de55cb-c76f-4510-92ad-002dce6e9507"
        },
        "colab": {
          "base_uri": "https://localhost:8080/"
        },
        "id": "GBiWZxemCWuA",
        "outputId": "e6f65292-3371-4312-d5a7-94233df8472b"
      },
      "outputs": [
        {
          "output_type": "stream",
          "name": "stdout",
          "text": [
            "Nombres de los discos: dict_keys(['Back in Black', 'The Bodyguard', 'Thriller'])\n"
          ]
        }
      ],
      "execution_count": 38
    },
    {
      "cell_type": "markdown",
      "source": [
        "d) Encuentra los records de ventas dentro del diccionario mediante el método <code>values</code>:"
      ],
      "metadata": {
        "application/vnd.databricks.v1+cell": {
          "title": "",
          "showTitle": false,
          "inputWidgets": {},
          "nuid": "7666a119-1de4-4499-a376-84860b717e13"
        },
        "id": "fVl_868yCWuA"
      }
    },
    {
      "cell_type": "code",
      "source": [
        "# Escribe abajo tu código y presiona Shift+Enter para ejecutarlo\n",
        "# Usamos .values() para obtener las cifras de ventas.\n",
        "print(\"Ventas (en millones):\", album_sales_dict.values())"
      ],
      "metadata": {
        "application/vnd.databricks.v1+cell": {
          "title": "",
          "showTitle": false,
          "inputWidgets": {},
          "nuid": "8f112397-8882-46cc-b310-d8ff50f6e2d0"
        },
        "colab": {
          "base_uri": "https://localhost:8080/"
        },
        "id": "tV9ypTeYCWuA",
        "outputId": "193ed99a-e835-4d34-cae5-1ded65afb9c8"
      },
      "outputs": [
        {
          "output_type": "stream",
          "name": "stdout",
          "text": [
            "Ventas (en millones): dict_values([50, 50, 65])\n"
          ]
        }
      ],
      "execution_count": 39
    }
  ],
  "metadata": {
    "kernelspec": {
      "display_name": "Python 3",
      "language": "python",
      "name": "python3"
    },
    "language_info": {
      "mimetype": "text/x-python",
      "name": "python",
      "pygments_lexer": "ipython3",
      "codemirror_mode": {
        "name": "ipython",
        "version": 3
      },
      "version": "3.7.7",
      "nbconvert_exporter": "python",
      "file_extension": ".py"
    },
    "application/vnd.databricks.v1+notebook": {
      "notebookName": "05-Python-Diccionarios",
      "dashboards": [],
      "notebookMetadata": {
        "pythonIndentUnit": 2
      },
      "language": "python",
      "widgets": {},
      "notebookOrigID": 3296315911138096
    },
    "colab": {
      "provenance": []
    }
  },
  "nbformat": 4,
  "nbformat_minor": 0
}