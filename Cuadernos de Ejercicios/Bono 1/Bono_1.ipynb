{
  "cells": [
    {
      "cell_type": "markdown",
      "source": [
        "# Descripción\n",
        "**Autor:** Natalia Echeverry Salcedo  \n",
        "**Fecha de inicio:** 7/08/2025  \n",
        "**Fecha actual:** 11/08/2025  \n",
        "\n",
        "Este cuaderno contiene una serie de ejercicios prácticos de programación en Python que ponen a prueba conocimientos fundamentales del lenguaje.  \n",
        "Cada ejercicio está implementado como una función, siguiendo las instrucciones planteadas, e incluye comentarios explicativos sobre la lógica utilizada.\n",
        "\n",
        "**Contenido**\n",
        "\n",
        "1. **`lesser_of_two_evens(a, b)`**  \n",
        "   Retorna el menor de dos números si ambos son pares. En caso contrario, retorna el mayor.  \n",
        "   - **Ejemplo:** `lesser_of_two_evens(2, 4) -> 2`  \n",
        "   - **Ejemplo:** `lesser_of_two_evens(2, 5) -> 5`  \n",
        "\n",
        "2. **`animal_crackers(text)`**  \n",
        "   Verifica si dos palabras dadas comienzan con la misma letra, sin importar mayúsculas/minúsculas.  \n",
        "   - **Ejemplo:** `animal_crackers(\"Level Lens\") -> True`  \n",
        "\n",
        "3. **`makes_twenty(n1, n2)`**  \n",
        "   Retorna `True` si alguno de los dos números es igual a 20 o si su suma es 20.  \n",
        "   - **Ejemplo:** `makes_twenty(10, 10) -> True`  \n",
        "\n",
        "4. **`old_macdonald(name)`**  \n",
        "   Capitaliza la primera y la cuarta letra de un nombre si su longitud es mayor que 3.  \n",
        "   - **Ejemplo:** `old_macdonald(\"macdonald\") -> \"MacDonald\"`  \n",
        "\n",
        "5. **`master_yoda(text)`**  \n",
        "   Invierte el orden de las palabras en una frase.  \n",
        "   - **Ejemplo:** `master_yoda(\"I am home\") -> \"home am I\"`  \n",
        "\n",
        "6. **`has_33(nums)`**  \n",
        "   Verifica si en una lista existe al menos una secuencia de dos números 3 consecutivos.  \n",
        "   - **Ejemplo:** `has_33([1, 3, 3]) -> True`  \n",
        "\n",
        "7. **`paper_doll(text)`**  \n",
        "   Retorna una cadena donde cada carácter del texto original se repite 3 veces.  \n",
        "   - **Ejemplo:** `paper_doll(\"Hello\") -> \"HHHeeellllllooo\"`  \n",
        "\n",
        "8. **`blackjack(a, b, c)`**  \n",
        "   Simula una suma de cartas tipo blackjack:\n",
        "   - Si la suma es <= 21, retorna la suma.\n",
        "   - Si la suma es mayor a 21 pero existe un 11 y restar 10 lo deja en <= 21, retorna la suma ajustada.\n",
        "   - Si la suma excede 21 en cualquier otro caso, retorna `'BUST'`.  \n",
        "   - **Ejemplo:** `blackjack(5, 6, 7) -> 18`\n",
        "\n",
        "**Observaciones**\n",
        "\n",
        "- El cuaderno incluye **comentarios detallados** en cada función para facilitar su comprensión.\n",
        "- Los ejemplos proporcionados permiten verificar rápidamente el comportamiento esperado.\n",
        "- Se hace uso de **estructuras condicionales**, **bucles**, **manipulación de cadenas** y **listas**.\n",
        "\n",
        "---\n",
        "\n"
      ],
      "metadata": {
        "id": "fOoriq2tUKGw"
      }
    },
    {
      "cell_type": "markdown",
      "metadata": {
        "id": "dkfTfb7kKfO8"
      },
      "source": [
        "## CALENTAMIENTO:"
      ]
    },
    {
      "cell_type": "markdown",
      "metadata": {
        "id": "jKNiFouRKfO8"
      },
      "source": [
        "#### MENOR DE DOS PARES: Escriba una función que devuelva el menor de dos números dados *si* ambos números son pares, pero devuelva el mayor si uno o ambos números son impares\n",
        "    lesser_of_two_evens(2,4) --> 2\n",
        "    lesser_of_two_evens(2,5) --> 5"
      ]
    },
    {
      "cell_type": "code",
      "execution_count": 247,
      "metadata": {
        "id": "HF8_a_2IKfO8"
      },
      "outputs": [],
      "source": [
        "# Definimos una función llamada lesser_of_two_evens que recibe dos parámetros: a y b\n",
        "def lesser_of_two_evens(a, b):\n",
        "    # Verificamos si ambos números son pares\n",
        "    if a % 2 == 0 and b % 2 == 0:\n",
        "        # Si ambos son pares, retornamos el menor de los dos\n",
        "        return min(a, b)\n",
        "    else:\n",
        "        # Si al menos uno es impar, retornamos el mayor de los dos\n",
        "        return max(a, b)\n"
      ]
    },
    {
      "cell_type": "code",
      "execution_count": 248,
      "metadata": {
        "id": "fOv0K9mXKfO9",
        "outputId": "44275d7f-b7c2-4abe-89d2-bb8b780ce534",
        "colab": {
          "base_uri": "https://localhost:8080/"
        }
      },
      "outputs": [
        {
          "output_type": "execute_result",
          "data": {
            "text/plain": [
              "2"
            ]
          },
          "metadata": {},
          "execution_count": 248
        }
      ],
      "source": [
        "# Revisión\n",
        "lesser_of_two_evens(2,4)"
      ]
    },
    {
      "cell_type": "code",
      "execution_count": 249,
      "metadata": {
        "id": "UMKYl4NgKfO-",
        "outputId": "ae72369a-e39a-4623-e184-019d3f9d7c71",
        "colab": {
          "base_uri": "https://localhost:8080/"
        }
      },
      "outputs": [
        {
          "output_type": "execute_result",
          "data": {
            "text/plain": [
              "5"
            ]
          },
          "metadata": {},
          "execution_count": 249
        }
      ],
      "source": [
        "# Revisión\n",
        "lesser_of_two_evens(2,5)"
      ]
    },
    {
      "cell_type": "markdown",
      "metadata": {
        "id": "ZdEE37WBKfO-"
      },
      "source": [
        "#### GALLETAS DE ANIMALES: Escribir una función que toma una cadena de dos palabras y devuelve True si ambas palabras comienzan con la misma letra\n",
        "    animal_crackers('Ciudad Calor') --> True\n",
        "    animal_crackers('Lugar Frio') --> False"
      ]
    },
    {
      "cell_type": "code",
      "execution_count": 250,
      "metadata": {
        "id": "6JEJK4lcKfO_"
      },
      "outputs": [],
      "source": [
        "# Definimos una función llamada animal_crackers que recibe un parámetro 'text'\n",
        "def animal_crackers(text):\n",
        "    # Dividimos la cadena 'text' en una lista de palabras separadas por espacios\n",
        "    palabras = text.split()\n",
        "    # Retornamos True si la primera letra de la primera palabra y la primera letra de la segunda palabra\n",
        "    # (convertidas a minúsculas) son iguales; de lo contrario, retorna False\n",
        "    return palabras[0][0].lower() == palabras[1][0].lower()\n"
      ]
    },
    {
      "cell_type": "code",
      "execution_count": 251,
      "metadata": {
        "id": "RZp5N4-6KfO_",
        "outputId": "70dbe111-a692-46ad-bc3c-a892f5c7b697",
        "colab": {
          "base_uri": "https://localhost:8080/"
        }
      },
      "outputs": [
        {
          "output_type": "execute_result",
          "data": {
            "text/plain": [
              "True"
            ]
          },
          "metadata": {},
          "execution_count": 251
        }
      ],
      "source": [
        "# Revisión\n",
        "animal_crackers('Ciudad Calor')"
      ]
    },
    {
      "cell_type": "code",
      "execution_count": 252,
      "metadata": {
        "id": "zaGYt5L8KfO_",
        "outputId": "b69c8aae-2f81-4579-b35f-365dfd319b9f",
        "colab": {
          "base_uri": "https://localhost:8080/"
        }
      },
      "outputs": [
        {
          "output_type": "execute_result",
          "data": {
            "text/plain": [
              "False"
            ]
          },
          "metadata": {},
          "execution_count": 252
        }
      ],
      "source": [
        "# Revisión\n",
        "animal_crackers('Lugar Frio')"
      ]
    },
    {
      "cell_type": "markdown",
      "metadata": {
        "id": "Xln0rzZ3KfPA"
      },
      "source": [
        "#### HACE VEINTE: dados dos enteros, devuelve True si la suma de los enteros es 20 o si uno de los enteros es 20. De lo contrario, devuelve False\n",
        "\n",
        "    makes_twenty(20,10) --> True\n",
        "    makes_twenty(12,8) --> True\n",
        "    makes_twenty(2,3) --> False"
      ]
    },
    {
      "cell_type": "code",
      "execution_count": 253,
      "metadata": {
        "id": "wBbR7Xx_KfPA"
      },
      "outputs": [],
      "source": [
        "# Definimos una función llamada makes_twenty que recibe dos parámetros: n1 y n2\n",
        "def makes_twenty(n1, n2):\n",
        "    # Retorna True si:\n",
        "    # - n1 es igual a 20\n",
        "    # - o n2 es igual a 20\n",
        "    # - o la suma de n1 y n2 es igual a 20\n",
        "    # En cualquier otro caso, retorna False\n",
        "    return n1 == 20 or n2 == 20 or (n1 + n2 == 20)\n"
      ]
    },
    {
      "cell_type": "code",
      "execution_count": 254,
      "metadata": {
        "id": "6jHiJxnwKfPA",
        "outputId": "218ce006-d988-4655-fb3e-2fb00de92d3c",
        "colab": {
          "base_uri": "https://localhost:8080/"
        }
      },
      "outputs": [
        {
          "output_type": "execute_result",
          "data": {
            "text/plain": [
              "True"
            ]
          },
          "metadata": {},
          "execution_count": 254
        }
      ],
      "source": [
        "# Revisión\n",
        "makes_twenty(20,10)"
      ]
    },
    {
      "cell_type": "code",
      "execution_count": 255,
      "metadata": {
        "id": "zZIdlGLeKfPA",
        "outputId": "0983871c-10a9-48f8-ef4e-1ab68186c2b1",
        "colab": {
          "base_uri": "https://localhost:8080/"
        }
      },
      "outputs": [
        {
          "output_type": "execute_result",
          "data": {
            "text/plain": [
              "False"
            ]
          },
          "metadata": {},
          "execution_count": 255
        }
      ],
      "source": [
        "# Revisión\n",
        "makes_twenty(2,3)"
      ]
    },
    {
      "cell_type": "code",
      "execution_count": 256,
      "metadata": {
        "id": "BlJKTZX9KfPA",
        "outputId": "7d886cb0-cb42-4248-f1dc-5f1441b27dd0",
        "colab": {
          "base_uri": "https://localhost:8080/"
        }
      },
      "outputs": [
        {
          "output_type": "execute_result",
          "data": {
            "text/plain": [
              "True"
            ]
          },
          "metadata": {},
          "execution_count": 256
        }
      ],
      "source": [
        "makes_twenty(12,8)"
      ]
    },
    {
      "cell_type": "markdown",
      "metadata": {
        "id": "d3Fka2vRKfPB"
      },
      "source": [
        "# Nivel 1"
      ]
    },
    {
      "cell_type": "markdown",
      "metadata": {
        "id": "H_e_DMbnKfPB"
      },
      "source": [
        "#### MAYÚSCULAS: Escribir una función que haga mayúscula la primera y cuarta letra de una cadena de texto\n",
        "     \n",
        "    old_macdonald('macdonald') --> MacDonald\n",
        "    \n",
        "Note: `'macdonald'.capitalize()` returns `'Macdonald'`"
      ]
    },
    {
      "cell_type": "code",
      "execution_count": 257,
      "metadata": {
        "id": "ZiXJrY8uKfPB"
      },
      "outputs": [],
      "source": [
        "# Definimos una función llamada old_macdonald que recibe un parámetro: name\n",
        "def old_macdonald(name):\n",
        "    # Si la longitud del nombre es mayor que 3 caracteres\n",
        "    if len(name) > 3:\n",
        "        # Retorna el nombre con la primera letra y la cuarta letra en mayúscula.\n",
        "        # name[:3] → toma los primeros 3 caracteres\n",
        "        # .capitalize() → pone en mayúscula la primera letra de esa parte\n",
        "        # name[3:] → toma el resto de la cadena desde el cuarto carácter\n",
        "        # .capitalize() → pone en mayúscula la primera letra de esa parte\n",
        "        return name[:3].capitalize() + name[3:].capitalize()\n",
        "    else:\n",
        "        # Si el nombre tiene 3 caracteres o menos, simplemente capitaliza la primera letra\n",
        "        return name.capitalize()\n"
      ]
    },
    {
      "cell_type": "code",
      "execution_count": 258,
      "metadata": {
        "id": "wtu_baYIKfPB",
        "outputId": "5e8203ed-471d-4a32-b999-b5413dd0dc47",
        "colab": {
          "base_uri": "https://localhost:8080/",
          "height": 36
        }
      },
      "outputs": [
        {
          "output_type": "execute_result",
          "data": {
            "text/plain": [
              "'MacDonald'"
            ],
            "application/vnd.google.colaboratory.intrinsic+json": {
              "type": "string"
            }
          },
          "metadata": {},
          "execution_count": 258
        }
      ],
      "source": [
        "# Check\n",
        "old_macdonald('macdonald')"
      ]
    },
    {
      "cell_type": "markdown",
      "metadata": {
        "id": "E24LlJo1KfPC"
      },
      "source": [
        "#### REVERSA: Dada una oración, retornar la misma oración pero en reversa\n",
        "\n",
        "    master_yoda('I am home') --> 'home am I'\n",
        "    master_yoda('We are ready') --> 'ready are We'\n",
        "    \n",
        "Note: Revisar método .join()\n",
        "\n",
        "    >>> \"--\".join(['a','b','c'])\n",
        "    >>> 'a--b--c'\n",
        "\n",
        "Resultado de .join():\n",
        "\n",
        "    >>> \" \".join(['Hello','world'])\n",
        "    >>> \"Hello world\""
      ]
    },
    {
      "cell_type": "code",
      "execution_count": 259,
      "metadata": {
        "id": "6K4nw15nKfPC"
      },
      "outputs": [],
      "source": [
        "# Definimos una función llamada master_yoda que recibe un parámetro: text\n",
        "def master_yoda(text):\n",
        "    # text.split() → divide el texto en una lista de palabras separadas por espacios\n",
        "    # [::-1] → invierte el orden de la lista de palabras\n",
        "    # ' '.join(...) → une las palabras invertidas en una sola cadena, separándolas con un espacio\n",
        "    return ' '.join(text.split()[::-1])\n"
      ]
    },
    {
      "cell_type": "code",
      "execution_count": 260,
      "metadata": {
        "id": "BXdDWf0BKfPC"
      },
      "outputs": [],
      "source": [
        "######"
      ]
    },
    {
      "cell_type": "code",
      "execution_count": 261,
      "metadata": {
        "id": "2DqSErszKfPD",
        "outputId": "9b1282a6-eebc-4bd2-acaf-b43c0b7f5291",
        "colab": {
          "base_uri": "https://localhost:8080/",
          "height": 36
        }
      },
      "outputs": [
        {
          "output_type": "execute_result",
          "data": {
            "text/plain": [
              "'home am I'"
            ],
            "application/vnd.google.colaboratory.intrinsic+json": {
              "type": "string"
            }
          },
          "metadata": {},
          "execution_count": 261
        }
      ],
      "source": [
        "# Revisión\n",
        "master_yoda('I am home')"
      ]
    },
    {
      "cell_type": "code",
      "execution_count": 262,
      "metadata": {
        "id": "efa9vdLSKfPD",
        "outputId": "8c90cddf-55ce-438c-cfeb-f41b32d56f7a",
        "colab": {
          "base_uri": "https://localhost:8080/",
          "height": 36
        }
      },
      "outputs": [
        {
          "output_type": "execute_result",
          "data": {
            "text/plain": [
              "'ready are We'"
            ],
            "application/vnd.google.colaboratory.intrinsic+json": {
              "type": "string"
            }
          },
          "metadata": {},
          "execution_count": 262
        }
      ],
      "source": [
        "# Revisión\n",
        "master_yoda('We are ready')"
      ]
    },
    {
      "cell_type": "markdown",
      "metadata": {
        "id": "9jquqRm7KfPE"
      },
      "source": [
        "# Nivel 2"
      ]
    },
    {
      "cell_type": "markdown",
      "metadata": {
        "id": "S5V3SVDGKfPE"
      },
      "source": [
        "#### PROBLEMA 33:\n",
        "\n",
        "Dada una lista de enteros, retornar True si el arreglo tinene un  3  seguido por un  3 .\n",
        "\n",
        "    has_33([1, 3, 3]) → True\n",
        "    has_33([1, 3, 1, 3]) → False\n",
        "    has_33([3, 1, 3]) → False"
      ]
    },
    {
      "cell_type": "code",
      "execution_count": 263,
      "metadata": {
        "id": "9eU2-UZvKfPE"
      },
      "outputs": [],
      "source": [
        "# Definimos la función has_33 que recibe una lista de números llamada nums\n",
        "def has_33(nums):\n",
        "    # Recorremos la lista usando un índice desde 0 hasta el penúltimo elemento\n",
        "    # Usamos len(nums) - 1 porque vamos a comparar cada elemento con el siguiente\n",
        "    for i in range(len(nums) - 1):\n",
        "        # Verificamos si el elemento actual (nums[i]) es igual a 3\n",
        "        # y si el siguiente elemento (nums[i + 1]) también es igual a 3\n",
        "        if nums[i] == 3 and nums[i + 1] == 3:\n",
        "            # Si encontramos dos 3 seguidos, devolvemos True\n",
        "            return True\n",
        "    # Si termina el bucle sin encontrar dos 3 seguidos, devolvemos False\n",
        "    return False\n"
      ]
    },
    {
      "cell_type": "code",
      "execution_count": 264,
      "metadata": {
        "id": "Yca9X7MAKfPE",
        "outputId": "f03eff51-94f5-4abf-fcee-8eb0cefc0b5e",
        "colab": {
          "base_uri": "https://localhost:8080/"
        }
      },
      "outputs": [
        {
          "output_type": "execute_result",
          "data": {
            "text/plain": [
              "True"
            ]
          },
          "metadata": {},
          "execution_count": 264
        }
      ],
      "source": [
        "# Revisión\n",
        "has_33([1, 3, 3])"
      ]
    },
    {
      "cell_type": "code",
      "execution_count": 265,
      "metadata": {
        "id": "XSw1ml9dKfPE",
        "outputId": "0b7650b6-44e1-4f09-afc4-db6e6bf14b1e",
        "colab": {
          "base_uri": "https://localhost:8080/"
        }
      },
      "outputs": [
        {
          "output_type": "execute_result",
          "data": {
            "text/plain": [
              "False"
            ]
          },
          "metadata": {},
          "execution_count": 265
        }
      ],
      "source": [
        "# Revisión\n",
        "has_33([1, 3, 1, 3])"
      ]
    },
    {
      "cell_type": "code",
      "execution_count": 266,
      "metadata": {
        "id": "ZKcJgxc5KfPF",
        "outputId": "962ebba9-a5df-46cb-ba24-eda4d44d2bce",
        "colab": {
          "base_uri": "https://localhost:8080/"
        }
      },
      "outputs": [
        {
          "output_type": "execute_result",
          "data": {
            "text/plain": [
              "False"
            ]
          },
          "metadata": {},
          "execution_count": 266
        }
      ],
      "source": [
        "# Revisión\n",
        "has_33([3, 1, 3])"
      ]
    },
    {
      "cell_type": "markdown",
      "metadata": {
        "id": "n-Vj63BpKfPF"
      },
      "source": [
        "#### REPLICADOR: Dada una cadena, devuelve una cadena donde por cada carácter en el original hay tres caracteres REPETIDOS\n",
        "    paper_doll('Hello') --> 'HHHeeellllllooo'\n",
        "    paper_doll('Mississippi') --> 'MMMiiissssssiiippppppiii'"
      ]
    },
    {
      "cell_type": "code",
      "execution_count": 267,
      "metadata": {
        "id": "F6ivbyiXKfPF"
      },
      "outputs": [],
      "source": [
        "# Definimos la función paper_doll que recibe un texto (string) como parámetro\n",
        "def paper_doll(text):\n",
        "    # Usamos una lista por comprensión para recorrer cada carácter (ch) en el texto\n",
        "    # Por cada carácter, lo repetimos 3 veces con ch * 3\n",
        "    # Ejemplo: si ch = 'a', se convierte en 'aaa'\n",
        "    # Luego usamos ''.join(...) para unir todos los caracteres repetidos en una sola cadena\n",
        "    return ''.join([ch * 3 for ch in text])\n"
      ]
    },
    {
      "cell_type": "code",
      "execution_count": 268,
      "metadata": {
        "id": "h330yUbKKfPF",
        "outputId": "456c682c-3045-4f75-f4a7-ac6ac7844d68",
        "colab": {
          "base_uri": "https://localhost:8080/",
          "height": 36
        }
      },
      "outputs": [
        {
          "output_type": "execute_result",
          "data": {
            "text/plain": [
              "'HHHeeellllllooo'"
            ],
            "application/vnd.google.colaboratory.intrinsic+json": {
              "type": "string"
            }
          },
          "metadata": {},
          "execution_count": 268
        }
      ],
      "source": [
        "# Check\n",
        "paper_doll('Hello')"
      ]
    },
    {
      "cell_type": "code",
      "execution_count": 269,
      "metadata": {
        "id": "sZTw8FlZKfPF",
        "outputId": "a32fea9b-1185-4c86-914c-8a77a36c8ad6",
        "colab": {
          "base_uri": "https://localhost:8080/",
          "height": 36
        }
      },
      "outputs": [
        {
          "output_type": "execute_result",
          "data": {
            "text/plain": [
              "'MMMiiissssssiiissssssiiippppppiii'"
            ],
            "application/vnd.google.colaboratory.intrinsic+json": {
              "type": "string"
            }
          },
          "metadata": {},
          "execution_count": 269
        }
      ],
      "source": [
        "# Check\n",
        "paper_doll('Mississippi')"
      ]
    },
    {
      "cell_type": "markdown",
      "metadata": {
        "id": "OJfMlQRcKfPF"
      },
      "source": [
        "#### BLACKJACK: Dados tres enteros entre 1 y 11, si su suma es menor o igual a 21, devuelve su suma. Si su suma excede 21 *y* hay un once, reduce la suma total en 10. Finalmente, si la suma (incluso después del ajuste) excede 21, devuelve 'BUST'\n",
        "    blackjack(5,6,7) --> 18\n",
        "    blackjack(9,9,9) --> 'BUST'\n",
        "    blackjack(9,9,11) --> 19"
      ]
    },
    {
      "cell_type": "code",
      "execution_count": 270,
      "metadata": {
        "id": "REJRcYJmKfPF"
      },
      "outputs": [],
      "source": [
        "# Definimos la función blackjack que recibe tres números (a, b, c)\n",
        "# Representan cartas y la función sigue reglas similares al juego Blackjack.\n",
        "def blackjack(a, b, c):\n",
        "    # Calculamos el total sumando las tres cartas\n",
        "    total = a + b + c\n",
        "\n",
        "    # Si el total es menor o igual a 21, no hay problema: devolvemos el total.\n",
        "    if total <= 21:\n",
        "        return total\n",
        "\n",
        "    # Si el total es mayor que 21 pero hay un As (representado con 11),\n",
        "    # restamos 10 (porque el As puede valer 1 en lugar de 11)\n",
        "    # y comprobamos si con eso el total baja a 21 o menos.\n",
        "    elif 11 in (a, b, c) and total - 10 <= 21:\n",
        "        return total - 10\n",
        "\n",
        "    # Si ninguna de las condiciones anteriores se cumple, el jugador se pasa (BUST).\n",
        "    else:\n",
        "        return 'BUST'\n"
      ]
    },
    {
      "cell_type": "code",
      "execution_count": 271,
      "metadata": {
        "id": "D_sHnddYKfPF",
        "outputId": "ae8407eb-30f0-4d0a-d2a3-ded5501f7c52",
        "colab": {
          "base_uri": "https://localhost:8080/"
        }
      },
      "outputs": [
        {
          "output_type": "execute_result",
          "data": {
            "text/plain": [
              "18"
            ]
          },
          "metadata": {},
          "execution_count": 271
        }
      ],
      "source": [
        "# Revisión\n",
        "blackjack(5,6,7)"
      ]
    },
    {
      "cell_type": "code",
      "execution_count": 272,
      "metadata": {
        "id": "y0713b36KfPF",
        "outputId": "6e7df572-fd8a-40d4-e8b8-8a8d6c40e8ed",
        "colab": {
          "base_uri": "https://localhost:8080/",
          "height": 36
        }
      },
      "outputs": [
        {
          "output_type": "execute_result",
          "data": {
            "text/plain": [
              "'BUST'"
            ],
            "application/vnd.google.colaboratory.intrinsic+json": {
              "type": "string"
            }
          },
          "metadata": {},
          "execution_count": 272
        }
      ],
      "source": [
        "# Revisión\n",
        "blackjack(9,9,9)"
      ]
    },
    {
      "cell_type": "code",
      "execution_count": 273,
      "metadata": {
        "id": "6eijyrH-KfPG",
        "outputId": "0b4a8383-f157-45af-e880-afbcb26486ff",
        "colab": {
          "base_uri": "https://localhost:8080/"
        }
      },
      "outputs": [
        {
          "output_type": "execute_result",
          "data": {
            "text/plain": [
              "19"
            ]
          },
          "metadata": {},
          "execution_count": 273
        }
      ],
      "source": [
        "# Revisión\n",
        "blackjack(9,9,11)"
      ]
    },
    {
      "cell_type": "markdown",
      "metadata": {
        "id": "6S22_l6xKfPI"
      },
      "source": [
        "## Suerte!"
      ]
    }
  ],
  "metadata": {
    "kernelspec": {
      "display_name": "Python 3 (ipykernel)",
      "language": "python",
      "name": "python3"
    },
    "language_info": {
      "codemirror_mode": {
        "name": "ipython",
        "version": 3
      },
      "file_extension": ".py",
      "mimetype": "text/x-python",
      "name": "python",
      "nbconvert_exporter": "python",
      "pygments_lexer": "ipython3",
      "version": "3.10.4"
    },
    "colab": {
      "provenance": []
    }
  },
  "nbformat": 4,
  "nbformat_minor": 0
}