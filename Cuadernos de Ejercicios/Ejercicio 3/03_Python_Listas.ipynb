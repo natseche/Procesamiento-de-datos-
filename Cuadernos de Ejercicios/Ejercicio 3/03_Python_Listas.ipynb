{
  "cells": [
    {
      "cell_type": "markdown",
      "source": [
        "<h1>Procesamiento de Datos a Gran Escala</h1>"
      ],
      "metadata": {
        "application/vnd.databricks.v1+cell": {
          "title": "",
          "showTitle": false,
          "inputWidgets": {},
          "nuid": "79586205-0213-4e86-8654-a53385ebe980"
        },
        "id": "uGKAcvov74RR"
      }
    },
    {
      "cell_type": "markdown",
      "source": [
        "<h2>Listas en Python</h2>"
      ],
      "metadata": {
        "application/vnd.databricks.v1+cell": {
          "title": "",
          "showTitle": false,
          "inputWidgets": {},
          "nuid": "cd31e3ba-2783-4032-8aad-0319254e18db"
        },
        "id": "H857XDU874RU"
      }
    },
    {
      "cell_type": "markdown",
      "source": [
        "Autor: Natalia Echeverry Salcedo\n",
        "\n",
        "Fecha de Inicio: 7/08/2025\n",
        "\n",
        "Fecha actual: 11/08/2025\n",
        "\n",
        "#**Descripción**\n",
        "Este taller corresponde al Ejercicio 3 del curso Procesamiento de Datos y tiene como objetivo comprender y manipular listas en Python.\n",
        "Durante el desarrollo, el estudiante aprende a:\n",
        "\n",
        "- Crear listas y trabajar con diferentes tipos de datos dentro de ellas.\n",
        "\n",
        "- Acceder a elementos individuales o subconjuntos mediante indexación y slicing.\n",
        "\n",
        "- Modificar elementos de una lista.\n",
        "\n",
        "- Utilizar métodos integrados:\n",
        "\n",
            "- .append() para agregar elementos.\n",
        "\n",
        "- .extend() para unir listas.\n",
        "\n",
        "- .insert() para insertar en posiciones específicas.\n",
        "\n",
        "- .remove() y .pop() para eliminar elementos.\n",
        "\n",
        "- .index() y .count() para búsqueda.\n",
        "\n",
        "- .sort() y .reverse() para ordenar e invertir listas.\n",
        "\n",
        "- Diferencias clave entre listas y tuplas.\n",
        "\n",
        "- Resolver un examen de práctica aplicando estos conceptos.\n",
        "\n",
        "El taller está documentado con comentarios explicativos en cada paso y salidas esperadas, reforzando el aprendizaje de este tipo de estructura de datos.\n",
        "\n"
      ],
      "metadata": {
        "id": "EC9QSGIN8SwT"
      }
    },
    {
      "cell_type": "markdown",
      "source": [
        "<p><strong>¡Bienvenido!</strong> En este cuaderno aprenderás sobre las listas en el Lenguaje de Programación Python. Al final de este laboratorio, conocerás lo básico sobre las operaciones sobre listas en Python, esto incluye la indexación, el copiado y clonación de listas.</p>"
      ],
      "metadata": {
        "application/vnd.databricks.v1+cell": {
          "title": "",
          "showTitle": false,
          "inputWidgets": {},
          "nuid": "7874d843-8660-4b61-953a-b27ed47f2b31"
        },
        "id": "NO7MxaYC74RV"
      }
    },
    {
      "cell_type": "markdown",
      "source": [
        "<h2>Tabla de Contenido</h2>\n",
        "<div class=\"alert alert-block alert-info\" style=\"margin-top: 20px\">\n",
        "    <ul>\n",
        "        <li>\n",
        "            <a href=\"#dataset\">Acerca de los conjuntos de datos (Dataset)</a>\n",
        "        </li>\n",
        "        <li>\n",
        "            <a href=\"#list\">Listas</a>\n",
        "            <ul>\n",
        "                <li><a href=\"index\">Indexación</a></li>\n",
        "                <li><a href=\"content\">Contenido de la Lista</a></li>\n",
        "                <li><a href=\"op\">Operaciones con Listas</a></li>\n",
        "                <li><a href=\"co\">Copiado y Clonación de Listas</a></li>\n",
        "            </ul>\n",
        "        </li>\n",
        "        <li>\n",
        "            <a href=\"#quiz\">Exámen sobre Listas</a>\n",
        "        </li>\n",
        "    </ul>\n",
        "    <p>\n",
        "        Tiempo Estimado: <strong>15 min</strong>\n",
        "    </p>\n",
        "</div>\n",
        "\n",
        "<hr>"
      ],
      "metadata": {
        "application/vnd.databricks.v1+cell": {
          "title": "",
          "showTitle": false,
          "inputWidgets": {},
          "nuid": "3bbdfb73-08a2-4f2b-ad5d-4f711060d557"
        },
        "id": "HSoc-VJT74RV"
      }
    },
    {
      "cell_type": "markdown",
      "source": [
        "<h2 id=\"#dataset\">Acerca de los conjuntos de datos (Dataset)</h2>"
      ],
      "metadata": {
        "application/vnd.databricks.v1+cell": {
          "title": "",
          "showTitle": false,
          "inputWidgets": {},
          "nuid": "17c12db3-f5d4-4e34-ba74-630391067594"
        },
        "id": "HBnXMNAv74RW"
      }
    },
    {
      "cell_type": "markdown",
      "source": [
        "Imagina que obtienes de tus amigos algunas recomendaciones sobre discos de música y las compilas en una tabla con información específica de cada disco.\n",
        "\n",
        "La tabla tiene una fila para cada disco y algunas columnas:\n",
        "\n",
        "- **artist** - Nombre del artista\n",
        "- **album** - Nombre del disco\n",
        "- **released_year** - Año de estreno\n",
        "- **length_min_sec** - Duración del disco (horas, minutos,segundos)\n",
        "- **genre** - Género del disco\n",
        "- **music_recording_sales_millions** - Ventas registradas (en millones de USD) on [SONG://DATABASE](https://cocl.us/hZvV8)\n",
        "- **claimed_sales_millions** - Ventas reportadas (en millones de USD) on [SONG://DATABASE](https://cocl.us/hZvV8)\n",
        "- **date_released** - Fecha del estreno\n",
        "- **soundtrack** - Indica si el disco pertenece a la banda sonoro de alguna película (Y) o (N)\n",
        "- **rating_of_friends** - Indica la calificación de tus amigos del 1 al 10\n",
        "<br>\n",
        "<br>\n",
        "\n",
        "El conjunto de datos se muestra a continuación:\n",
        "\n",
        "<font size=\"1\">\n",
        "<table font-size:xx-small style=\"width:25%\">\n",
        "  <tr>\n",
        "    <th>Artist</th>\n",
        "    <th>Album</th>\n",
        "    <th>Released</th>\n",
        "    <th>Length</th>\n",
        "    <th>Genre</th>\n",
        "    <th>Music recording sales (millions)</th>\n",
        "    <th>Claimed sales (millions)</th>\n",
        "    <th>Released</th>\n",
        "    <th>Soundtrack</th>\n",
        "    <th>Rating (friends)</th>\n",
        "  </tr>\n",
        "  <tr>\n",
        "    <td>Michael Jackson</td>\n",
        "    <td>Thriller</td>\n",
        "    <td>1982</td>\n",
        "    <td>00:42:19</td>\n",
        "    <td>Pop, rock, R&B</td>\n",
        "    <td>46</td>\n",
        "    <td>65</td>\n",
        "    <td>30-Nov-82</td>\n",
        "    <td></td>\n",
        "    <td>10.0</td>\n",
        "  </tr>\n",
        "  <tr>\n",
        "    <td>AC/DC</td>\n",
        "    <td>Back in Black</td>\n",
        "    <td>1980</td>\n",
        "    <td>00:42:11</td>\n",
        "    <td>Hard rock</td>\n",
        "    <td>26.1</td>\n",
        "    <td>50</td>\n",
        "    <td>25-Jul-80</td>\n",
        "    <td></td>\n",
        "    <td>8.5</td>\n",
        "  </tr>\n",
        "    <tr>\n",
        "    <td>Pink Floyd</td>\n",
        "    <td>The Dark Side of the Moon</td>\n",
        "    <td>1973</td>\n",
        "    <td>00:42:49</td>\n",
        "    <td>Progressive rock</td>\n",
        "    <td>24.2</td>\n",
        "    <td>45</td>\n",
        "    <td>01-Mar-73</td>\n",
        "    <td></td>\n",
        "    <td>9.5</td>\n",
        "  </tr>\n",
        "    <tr>\n",
        "    <td>Whitney Houston</td>\n",
        "    <td>The Bodyguard</td>\n",
        "    <td>1992</td>\n",
        "    <td>00:57:44</td>\n",
        "    <td>Soundtrack/R&B, soul, pop</td>\n",
        "    <td>26.1</td>\n",
        "    <td>50</td>\n",
        "    <td>25-Jul-80</td>\n",
        "    <td>Y</td>\n",
        "    <td>7.0</td>\n",
        "  </tr>\n",
        "    <tr>\n",
        "    <td>Meat Loaf</td>\n",
        "    <td>Bat Out of Hell</td>\n",
        "    <td>1977</td>\n",
        "    <td>00:46:33</td>\n",
        "    <td>Hard rock, progressive rock</td>\n",
        "    <td>20.6</td>\n",
        "    <td>43</td>\n",
        "    <td>21-Oct-77</td>\n",
        "    <td></td>\n",
        "    <td>7.0</td>\n",
        "  </tr>\n",
        "    <tr>\n",
        "    <td>Eagles</td>\n",
        "    <td>Their Greatest Hits (1971-1975)</td>\n",
        "    <td>1976</td>\n",
        "    <td>00:43:08</td>\n",
        "    <td>Rock, soft rock, folk rock</td>\n",
        "    <td>32.2</td>\n",
        "    <td>42</td>\n",
        "    <td>17-Feb-76</td>\n",
        "    <td></td>\n",
        "    <td>9.5</td>\n",
        "  </tr>\n",
        "    <tr>\n",
        "    <td>Bee Gees</td>\n",
        "    <td>Saturday Night Fever</td>\n",
        "    <td>1977</td>\n",
        "    <td>1:15:54</td>\n",
        "    <td>Disco</td>\n",
        "    <td>20.6</td>\n",
        "    <td>40</td>\n",
        "    <td>15-Nov-77</td>\n",
        "    <td>Y</td>\n",
        "    <td>9.0</td>\n",
        "  </tr>\n",
        "    <tr>\n",
        "    <td>Fleetwood Mac</td>\n",
        "    <td>Rumours</td>\n",
        "    <td>1977</td>\n",
        "    <td>00:40:01</td>\n",
        "    <td>Soft rock</td>\n",
        "    <td>27.9</td>\n",
        "    <td>40</td>\n",
        "    <td>04-Feb-77</td>\n",
        "    <td></td>\n",
        "    <td>9.5</td>\n",
        "  </tr>\n",
        "</table></font>"
      ],
      "metadata": {
        "application/vnd.databricks.v1+cell": {
          "title": "",
          "showTitle": false,
          "inputWidgets": {},
          "nuid": "fe318611-43e3-48cb-a5fc-e2d9832e1a2d"
        },
        "id": "hBbFg5lv74RW"
      }
    },
    {
      "cell_type": "markdown",
      "source": [
        "<h2 id=\"list\">Listas</h2>"
      ],
      "metadata": {
        "application/vnd.databricks.v1+cell": {
          "title": "",
          "showTitle": false,
          "inputWidgets": {},
          "nuid": "e1738141-a1cf-402c-8bfc-4188fa340886"
        },
        "id": "7J0MxkcX74RX"
      }
    },
    {
      "cell_type": "markdown",
      "source": [
        "<h3 id=\"index\">Indexación</h3>"
      ],
      "metadata": {
        "application/vnd.databricks.v1+cell": {
          "title": "",
          "showTitle": false,
          "inputWidgets": {},
          "nuid": "5d76858d-7c3b-4e89-8a3c-ff5aa047e21a"
        },
        "id": "GuUxddvA74RX"
      }
    },
    {
      "cell_type": "markdown",
      "source": [
        "Vamos a ver un poco mas sobre las listas en Python. Una lista es una colección ordenada de distintos objetos tales como enteros, cadenas e incluso otras listas. La dirección de cada elemento dentro de una lista se llama <b>índice</b>. El índice se usa para acceder o referirse a un objeto dentro de la lista."
      ],
      "metadata": {
        "application/vnd.databricks.v1+cell": {
          "title": "",
          "showTitle": false,
          "inputWidgets": {},
          "nuid": "7f1a9316-9609-4e47-b7a2-c5dd43fe1754"
        },
        "id": "THq_pkB774RX"
      }
    },
    {
      "cell_type": "markdown",
      "source": [
        "<img src=\"https://s3-api.us-geo.objectstorage.softlayer.net/cf-courses-data/CognitiveClass/PY0101EN/Chapter%202/Images/ListsIndex.png\" width=\"1000\" />"
      ],
      "metadata": {
        "application/vnd.databricks.v1+cell": {
          "title": "",
          "showTitle": false,
          "inputWidgets": {},
          "nuid": "52c20f89-9072-4ee2-b4de-b63194d1568b"
        },
        "id": "SNCjgz8o74RX"
      }
    },
    {
      "cell_type": "markdown",
      "source": [
        "Para crear una lista, se escribe cada elemento dentro de <b>[ ]</b>, separado cada uno por comas. ¡Vamos a probar!"
      ],
      "metadata": {
        "application/vnd.databricks.v1+cell": {
          "title": "",
          "showTitle": false,
          "inputWidgets": {},
          "nuid": "79aec274-6ed0-4ad7-84e2-f3331a3cf050"
        },
        "id": "pdUqdnwC74RY"
      }
    },
    {
      "cell_type": "code",
      "source": [
        "# Crear una lista\n",
        "\n",
        "L = [\"Michael Jackson\", 10.1, 1982]\n",
        "L"
      ],
      "metadata": {
        "application/vnd.databricks.v1+cell": {
          "title": "",
          "showTitle": false,
          "inputWidgets": {},
          "nuid": "dde309dc-4665-49c7-9d71-bea571cccc22"
        },
        "colab": {
          "base_uri": "https://localhost:8080/"
        },
        "id": "RdJTEahr74RY",
        "outputId": "ead18f70-0f4e-4748-8996-eab9b8ec55da"
      },
      "outputs": [
        {
          "output_type": "execute_result",
          "data": {
            "text/plain": [
              "['Michael Jackson', 10.1, 1982]"
            ]
          },
          "metadata": {},
          "execution_count": 2
        }
      ],
      "execution_count": 2
    },
    {
      "cell_type": "markdown",
      "source": [
        "Podemos usar en una lista la indexación regular o negativa:"
      ],
      "metadata": {
        "application/vnd.databricks.v1+cell": {
          "title": "",
          "showTitle": false,
          "inputWidgets": {},
          "nuid": "c2192bac-9b53-41a7-ac78-9f6ee0931a90"
        },
        "id": "jdxkYpi474RZ"
      }
    },
    {
      "cell_type": "markdown",
      "source": [
        "<img src=\"https://s3-api.us-geo.objectstorage.softlayer.net/cf-courses-data/CognitiveClass/PY0101EN/Chapter%202/Images/ListsNeg.png\" width=\"1000\" />"
      ],
      "metadata": {
        "application/vnd.databricks.v1+cell": {
          "title": "",
          "showTitle": false,
          "inputWidgets": {},
          "nuid": "a008138e-c6b0-492b-8612-a48413996125"
        },
        "id": "Dx3VfCU-74RZ"
      }
    },
    {
      "cell_type": "code",
      "source": [
        "# Imprime los elementos de cada índice\n",
        "\n",
        "print('the same element using negative and positive indexing:\\n Postive:',L[0],\n",
        "'\\n Negative:' , L[-3]  )\n",
        "print('the same element using negative and positive indexing:\\n Postive:',L[1],\n",
        "'\\n Negative:' , L[-2]  )\n",
        "print('the same element using negative and positive indexing:\\n Postive:',L[2],\n",
        "'\\n Negative:' , L[-1]  )"
      ],
      "metadata": {
        "application/vnd.databricks.v1+cell": {
          "title": "",
          "showTitle": false,
          "inputWidgets": {},
          "nuid": "fc240da8-3efe-4e53-8197-43c86f348f31"
        },
        "colab": {
          "base_uri": "https://localhost:8080/"
        },
        "id": "tPQZScgz74Ra",
        "outputId": "b2fb8077-8e9f-442f-a240-1df06d89b0bb"
      },
      "outputs": [
        {
          "output_type": "stream",
          "name": "stdout",
          "text": [
            "the same element using negative and positive indexing:\n",
            " Postive: Michael Jackson \n",
            " Negative: Michael Jackson\n",
            "the same element using negative and positive indexing:\n",
            " Postive: 10.1 \n",
            " Negative: 10.1\n",
            "the same element using negative and positive indexing:\n",
            " Postive: 1982 \n",
            " Negative: 1982\n"
          ]
        }
      ],
      "execution_count": 3
    },
    {
      "cell_type": "markdown",
      "source": [
        "<h3 id=\"content\">Contenido de la Lista</h3>"
      ],
      "metadata": {
        "application/vnd.databricks.v1+cell": {
          "title": "",
          "showTitle": false,
          "inputWidgets": {},
          "nuid": "67a71dc3-04ae-4b89-a80b-ee5e9b29e885"
        },
        "id": "MyCzjyBx74Ra"
      }
    },
    {
      "cell_type": "markdown",
      "source": [
        "Las listas pueden contener cadenas, números enteros y en punto flotante. Podemos anidar otras listas y además tuplas u otros tipos de estructuras de datos. Para el anidado se siguen las mismas reglas:"
      ],
      "metadata": {
        "application/vnd.databricks.v1+cell": {
          "title": "",
          "showTitle": false,
          "inputWidgets": {},
          "nuid": "a5795f1e-5d83-4611-bea1-d68238da3f43"
        },
        "id": "4ABW-bnr74Ra"
      }
    },
    {
      "cell_type": "code",
      "source": [
        "# Lista de ejemplo\n",
        "\n",
        "[\"Michael Jackson\", 10.1, 1982, [1, 2], (\"A\", 1)]"
      ],
      "metadata": {
        "application/vnd.databricks.v1+cell": {
          "title": "",
          "showTitle": false,
          "inputWidgets": {},
          "nuid": "dc4f74f8-2289-4597-a7cf-641558c63784"
        },
        "colab": {
          "base_uri": "https://localhost:8080/"
        },
        "id": "6T_F_Al174Ra",
        "outputId": "903102c0-db02-4049-af69-fedc1f228913"
      },
      "outputs": [
        {
          "output_type": "execute_result",
          "data": {
            "text/plain": [
              "['Michael Jackson', 10.1, 1982, [1, 2], ('A', 1)]"
            ]
          },
          "metadata": {},
          "execution_count": 4
        }
      ],
      "execution_count": 4
    },
    {
      "cell_type": "markdown",
      "source": [
        "<h3 id=\"op\">Operaciones con Listas</h3>"
      ],
      "metadata": {
        "application/vnd.databricks.v1+cell": {
          "title": "",
          "showTitle": false,
          "inputWidgets": {},
          "nuid": "e6a96f2e-244e-4801-a18d-58588cfc7dc4"
        },
        "id": "PI5KXn7C74Ra"
      }
    },
    {
      "cell_type": "markdown",
      "source": [
        "También podemos aplicar el slicing en las listas. Por ejemplo, si queremos obtener los últimos dos elementos, usamos el siguiente comando:"
      ],
      "metadata": {
        "application/vnd.databricks.v1+cell": {
          "title": "",
          "showTitle": false,
          "inputWidgets": {},
          "nuid": "36d14f6c-c547-4113-ba1b-815dd0e09604"
        },
        "id": "5AyBknoM74Ra"
      }
    },
    {
      "cell_type": "code",
      "source": [
        "# Lista de ejemplo\n",
        "\n",
        "L = [\"Michael Jackson\", 10.1,1982,\"MJ\",1]\n",
        "L"
      ],
      "metadata": {
        "application/vnd.databricks.v1+cell": {
          "title": "",
          "showTitle": false,
          "inputWidgets": {},
          "nuid": "77064762-f060-42cc-8c45-22b7d3f3ae34"
        },
        "colab": {
          "base_uri": "https://localhost:8080/"
        },
        "id": "4u5RaiTX74Rb",
        "outputId": "14ab4335-bd61-4c0a-f328-1a5655e66b2a"
      },
      "outputs": [
        {
          "output_type": "execute_result",
          "data": {
            "text/plain": [
              "['Michael Jackson', 10.1, 1982, 'MJ', 1]"
            ]
          },
          "metadata": {},
          "execution_count": 5
        }
      ],
      "execution_count": 5
    },
    {
      "cell_type": "markdown",
      "source": [
        "<img src=\"https://s3-api.us-geo.objectstorage.softlayer.net/cf-courses-data/CognitiveClass/PY0101EN/Chapter%202/Images/ListsSlice.png\" width=\"1000\">"
      ],
      "metadata": {
        "application/vnd.databricks.v1+cell": {
          "title": "",
          "showTitle": false,
          "inputWidgets": {},
          "nuid": "ac2561c5-2bfe-4f3d-a6f9-4728e6522211"
        },
        "id": "99fNh7vD74Rb"
      }
    },
    {
      "cell_type": "code",
      "source": [
        "# Slicing en una lista\n",
        "\n",
        "L[3:5]"
      ],
      "metadata": {
        "application/vnd.databricks.v1+cell": {
          "title": "",
          "showTitle": false,
          "inputWidgets": {},
          "nuid": "ec5b39d9-a384-4e68-ab5b-b7c4baa0b834"
        },
        "colab": {
          "base_uri": "https://localhost:8080/"
        },
        "id": "2v0ctjHu74Rb",
        "outputId": "b47e06fd-768e-4734-80dd-baddf85e3930"
      },
      "outputs": [
        {
          "output_type": "execute_result",
          "data": {
            "text/plain": [
              "['MJ', 1]"
            ]
          },
          "metadata": {},
          "execution_count": 6
        }
      ],
      "execution_count": 6
    },
    {
      "cell_type": "markdown",
      "source": [
        "Podemos usar el método <code>extend</code> para añadir elementos a la lista:"
      ],
      "metadata": {
        "application/vnd.databricks.v1+cell": {
          "title": "",
          "showTitle": false,
          "inputWidgets": {},
          "nuid": "840f108e-bacb-4ebb-b1d0-9a29802bd4d8"
        },
        "id": "DLx78-fv74Rb"
      }
    },
    {
      "cell_type": "code",
      "source": [
        "# Aplica el método extend para añadir elementos\n",
        "\n",
        "L = [ \"Michael Jackson\", 10.2]\n",
        "L.extend(['pop', 10])\n",
        "L"
      ],
      "metadata": {
        "application/vnd.databricks.v1+cell": {
          "title": "",
          "showTitle": false,
          "inputWidgets": {},
          "nuid": "ba176860-76c9-4a2a-b635-201f1b572a0e"
        },
        "colab": {
          "base_uri": "https://localhost:8080/"
        },
        "id": "ajfH9Ddl74Rb",
        "outputId": "efe4e450-36c9-4b43-abd9-182d9fc002f8"
      },
      "outputs": [
        {
          "output_type": "execute_result",
          "data": {
            "text/plain": [
              "['Michael Jackson', 10.2, 'pop', 10]"
            ]
          },
          "metadata": {},
          "execution_count": 7
        }
      ],
      "execution_count": 7
    },
    {
      "cell_type": "markdown",
      "source": [
        "Otro método similar es <code>append</code>. Si usamos <code>append</code> en vez de <code>extend</code>, añadimos un elemento a a la lista:"
      ],
      "metadata": {
        "application/vnd.databricks.v1+cell": {
          "title": "",
          "showTitle": false,
          "inputWidgets": {},
          "nuid": "e14c4fac-8121-4e54-89d4-33ee43b1f2bc"
        },
        "id": "QjQKuHk074Rb"
      }
    },
    {
      "cell_type": "code",
      "source": [
        "# Aplica el método append para añadir elementos\n",
        "\n",
        "L = [ \"Michael Jackson\", 10.2]\n",
        "L.append(['pop', 10])\n",
        "L"
      ],
      "metadata": {
        "application/vnd.databricks.v1+cell": {
          "title": "",
          "showTitle": false,
          "inputWidgets": {},
          "nuid": "f55ab3a7-5237-4390-b7a7-975af4fd5fd2"
        },
        "colab": {
          "base_uri": "https://localhost:8080/"
        },
        "id": "c34l9I1w74Rc",
        "outputId": "f6089a12-e583-4f5c-90c5-08348297441b"
      },
      "outputs": [
        {
          "output_type": "execute_result",
          "data": {
            "text/plain": [
              "['Michael Jackson', 10.2, ['pop', 10]]"
            ]
          },
          "metadata": {},
          "execution_count": 8
        }
      ],
      "execution_count": 8
    },
    {
      "cell_type": "markdown",
      "source": [
        "Cada vez que un método es aplicado, la lista cambia. Al usar <code>extend</code> estamos añadiendo dos nuevos elementos. La lista <code>L</code> es entonces modificada con dos nuevos elementos."
      ],
      "metadata": {
        "application/vnd.databricks.v1+cell": {
          "title": "",
          "showTitle": false,
          "inputWidgets": {},
          "nuid": "3dee19c9-0b6c-4daf-bf86-3c1a07c45fb6"
        },
        "id": "8NIsqTHp74Rc"
      }
    },
    {
      "cell_type": "code",
      "source": [
        "# Aplica el método extend para añadir elementos\n",
        "\n",
        "L = [ \"Michael Jackson\", 10.2]\n",
        "L.extend(['pop', 10])\n",
        "L"
      ],
      "metadata": {
        "application/vnd.databricks.v1+cell": {
          "title": "",
          "showTitle": false,
          "inputWidgets": {},
          "nuid": "54ec3596-95a8-4922-87c3-999606521446"
        },
        "colab": {
          "base_uri": "https://localhost:8080/"
        },
        "id": "crtkWJuD74Rc",
        "outputId": "db9e0b4f-9e73-4f8c-becf-b1d3dd92e90b"
      },
      "outputs": [
        {
          "output_type": "execute_result",
          "data": {
            "text/plain": [
              "['Michael Jackson', 10.2, 'pop', 10]"
            ]
          },
          "metadata": {},
          "execution_count": 9
        }
      ],
      "execution_count": 9
    },
    {
      "cell_type": "markdown",
      "source": [
        "Si añadimos a la lista <code>['a','b']</code> tendremos un nuevo elemento conformado por una lista anidada:"
      ],
      "metadata": {
        "application/vnd.databricks.v1+cell": {
          "title": "",
          "showTitle": false,
          "inputWidgets": {},
          "nuid": "3b046001-0285-4e00-b224-05fe1e5a8e3c"
        },
        "id": "ABgwoGx374Rc"
      }
    },
    {
      "cell_type": "code",
      "source": [
        "# Aplica el método append para añadir elementos\n",
        "\n",
        "L.append(['a','b'])\n",
        "L"
      ],
      "metadata": {
        "application/vnd.databricks.v1+cell": {
          "title": "",
          "showTitle": false,
          "inputWidgets": {},
          "nuid": "c08d39ad-c82c-44fc-8afe-5e6e10a63afc"
        },
        "colab": {
          "base_uri": "https://localhost:8080/"
        },
        "id": "ffFMZdK874Rc",
        "outputId": "edaf9b0c-a4f6-4c86-ab31-8fc20b3dbc04"
      },
      "outputs": [
        {
          "output_type": "execute_result",
          "data": {
            "text/plain": [
              "['Michael Jackson', 10.2, 'pop', 10, ['a', 'b']]"
            ]
          },
          "metadata": {},
          "execution_count": 10
        }
      ],
      "execution_count": 10
    },
    {
      "cell_type": "markdown",
      "source": [
        "Las listas son estructuras que pueden cambiar con el tiempo. Por ejemplo, cambiemos el primer elemento de una lista de la siguiente manera:"
      ],
      "metadata": {
        "application/vnd.databricks.v1+cell": {
          "title": "",
          "showTitle": false,
          "inputWidgets": {},
          "nuid": "68641ebd-e43c-4cce-b03c-52fb4930dc37"
        },
        "id": "aBE8Ax-f74Rc"
      }
    },
    {
      "cell_type": "code",
      "source": [
        "# Cambia el elemento usando el índice\n",
        "\n",
        "A = [\"disco\", 10, 1.2]\n",
        "print('Before change:', A)\n",
        "A[0] = 'hard rock'\n",
        "print('After change:', A)"
      ],
      "metadata": {
        "application/vnd.databricks.v1+cell": {
          "title": "",
          "showTitle": false,
          "inputWidgets": {},
          "nuid": "df3c87f5-146a-4883-91c6-2cd97c02c745"
        },
        "colab": {
          "base_uri": "https://localhost:8080/"
        },
        "id": "IcirCXiq74Rc",
        "outputId": "9c7a088a-f66d-4a9d-a728-26b61097ee70"
      },
      "outputs": [
        {
          "output_type": "stream",
          "name": "stdout",
          "text": [
            "Before change: ['disco', 10, 1.2]\n",
            "After change: ['hard rock', 10, 1.2]\n"
          ]
        }
      ],
      "execution_count": 11
    },
    {
      "cell_type": "markdown",
      "source": [
        "Para borrar un elemento de la lista, usamos el comando <code>del</code>:"
      ],
      "metadata": {
        "application/vnd.databricks.v1+cell": {
          "title": "",
          "showTitle": false,
          "inputWidgets": {},
          "nuid": "226e5f01-6019-4acf-bed0-8065de5540e7"
        },
        "id": "GtJ8RdRQ74Rc"
      }
    },
    {
      "cell_type": "code",
      "source": [
        "# Borra el elemento usando el índice\n",
        "\n",
        "print('Before change:', A)\n",
        "del(A[0])\n",
        "print('After change:', A)"
      ],
      "metadata": {
        "application/vnd.databricks.v1+cell": {
          "title": "",
          "showTitle": false,
          "inputWidgets": {},
          "nuid": "6c3fd0f7-d69f-44e2-9102-b13f130465cd"
        },
        "colab": {
          "base_uri": "https://localhost:8080/"
        },
        "id": "zpFsPA2674Rc",
        "outputId": "d65b3f1a-4a8e-4137-d1d1-ba765023d655"
      },
      "outputs": [
        {
          "output_type": "stream",
          "name": "stdout",
          "text": [
            "Before change: ['hard rock', 10, 1.2]\n",
            "After change: [10, 1.2]\n"
          ]
        }
      ],
      "execution_count": 12
    },
    {
      "cell_type": "markdown",
      "source": [
        "Podemos transformar una cadena en una lista con <code>split</code>. Por ejemplo, el método <code>split</code> convierte cada grupo de caracteres separados por un espacio en blanco, en un elemento de la lista:"
      ],
      "metadata": {
        "application/vnd.databricks.v1+cell": {
          "title": "",
          "showTitle": false,
          "inputWidgets": {},
          "nuid": "76b9967f-c656-4b5f-b9a4-31a7a65c121a"
        },
        "id": "zbxKMgnq74Rd"
      }
    },
    {
      "cell_type": "code",
      "source": [
        "# Divide la cadena\n",
        "\n",
        "'hard rock'.split()"
      ],
      "metadata": {
        "application/vnd.databricks.v1+cell": {
          "title": "",
          "showTitle": false,
          "inputWidgets": {},
          "nuid": "0f57adac-4c39-438b-bc19-e5c98e8fd03f"
        },
        "colab": {
          "base_uri": "https://localhost:8080/"
        },
        "id": "El2B3OpE74Rd",
        "outputId": "8f1c6d2a-9a6d-48d7-fdc5-e874c2fde48c"
      },
      "outputs": [
        {
          "output_type": "execute_result",
          "data": {
            "text/plain": [
              "['hard', 'rock']"
            ]
          },
          "metadata": {},
          "execution_count": 13
        }
      ],
      "execution_count": 13
    },
    {
      "cell_type": "markdown",
      "source": [
        "Podemos utilizar la función split para separar distintas cadenas usando algún carácter especifico. Pasamos en el argumento el carácter que queremos usar como separador, en este caso será una coma. El resultado es una lista, y cada elemento corresponderá a un grupo de caracteres separados por una coma:"
      ],
      "metadata": {
        "application/vnd.databricks.v1+cell": {
          "title": "",
          "showTitle": false,
          "inputWidgets": {},
          "nuid": "3447b9c8-5a18-405e-984c-76f0cb7dce2e"
        },
        "id": "XnKNuhFk74Rd"
      }
    },
    {
      "cell_type": "code",
      "source": [
        "# Separa la cadena usando comas\n",
        "\n",
        "'A,B,C,D'.split(',')"
      ],
      "metadata": {
        "application/vnd.databricks.v1+cell": {
          "title": "",
          "showTitle": false,
          "inputWidgets": {},
          "nuid": "17f24008-7e8f-4878-a2e8-12bda40c5bae"
        },
        "colab": {
          "base_uri": "https://localhost:8080/"
        },
        "id": "pbEHHaGb74Rd",
        "outputId": "28330c76-1058-451a-d446-7d5999dea878"
      },
      "outputs": [
        {
          "output_type": "execute_result",
          "data": {
            "text/plain": [
              "['A', 'B', 'C', 'D']"
            ]
          },
          "metadata": {},
          "execution_count": 14
        }
      ],
      "execution_count": 14
    },
    {
      "cell_type": "markdown",
      "source": [
        "<h3 id=\"co\">Copiado y Clonación de Listas</h3>"
      ],
      "metadata": {
        "application/vnd.databricks.v1+cell": {
          "title": "",
          "showTitle": false,
          "inputWidgets": {},
          "nuid": "67551bdc-72b7-48a8-ad90-ce30f9aef963"
        },
        "id": "xEnl_JHY74Rj"
      }
    },
    {
      "cell_type": "markdown",
      "source": [
        "Cuando asignamos el valor de la variable <b>B</b> igual a <b>A</b>; ambas están haciendo referencia a la misma lista guardada en memoria:"
      ],
      "metadata": {
        "application/vnd.databricks.v1+cell": {
          "title": "",
          "showTitle": false,
          "inputWidgets": {},
          "nuid": "16e9d2c7-366e-4cbd-b402-399f5938f5f9"
        },
        "id": "DSoBp6SA74Rj"
      }
    },
    {
      "cell_type": "code",
      "source": [
        "# Copiar (por referencia) la lista A\n",
        "\n",
        "A = [\"hard rock\", 10, 1.2]\n",
        "B = A\n",
        "print('A:', A)\n",
        "print('B:', B)"
      ],
      "metadata": {
        "application/vnd.databricks.v1+cell": {
          "title": "",
          "showTitle": false,
          "inputWidgets": {},
          "nuid": "b5901fe9-35cd-4047-be92-85653e557d4a"
        },
        "colab": {
          "base_uri": "https://localhost:8080/"
        },
        "id": "qwmvgLUR74Rj",
        "outputId": "9c0e4456-4d53-4e07-ac03-f1af59bb3c77"
      },
      "outputs": [
        {
          "output_type": "stream",
          "name": "stdout",
          "text": [
            "A: ['hard rock', 10, 1.2]\n",
            "B: ['hard rock', 10, 1.2]\n"
          ]
        }
      ],
      "execution_count": 15
    },
    {
      "cell_type": "markdown",
      "source": [
        "<img src=\"https://s3-api.us-geo.objectstorage.softlayer.net/cf-courses-data/CognitiveClass/PY0101EN/Chapter%202/Images/ListsRef.png\" width=\"1000\" align=\"center\">"
      ],
      "metadata": {
        "application/vnd.databricks.v1+cell": {
          "title": "",
          "showTitle": false,
          "inputWidgets": {},
          "nuid": "d66254c6-956b-4834-9de4-949c412a8f67"
        },
        "id": "XIIXnzCJ74Rj"
      }
    },
    {
      "cell_type": "markdown",
      "source": [
        "En un principio, el valor del primer elemento en <b>B</b> es asignado como hard rock. Si modificamos el primer elemento en <b>A</b> por <b>banana</b>, obtendremos un efecto inesperado. Debido a que <b>A</b> y <b>B</b> hacen referencia a la mima lista, si cambiamos <b>A</b>, entonces cambiamos también a <b>B</b>. Al revisar el primer elemento de <b>B</b> veremos banana en vez de hard rock:"
      ],
      "metadata": {
        "application/vnd.databricks.v1+cell": {
          "title": "",
          "showTitle": false,
          "inputWidgets": {},
          "nuid": "77d2bd70-2753-48c3-960d-e06936bc1395"
        },
        "id": "1hvLNTgL74Rj"
      }
    },
    {
      "cell_type": "code",
      "source": [
        "# Examinar la copia hecha por referencia\n",
        "\n",
        "print('B[0]:', B[0])\n",
        "A[0] = \"banana\"\n",
        "print('B[0]:', B[0])"
      ],
      "metadata": {
        "application/vnd.databricks.v1+cell": {
          "title": "",
          "showTitle": false,
          "inputWidgets": {},
          "nuid": "588651ff-2bae-4706-a1cb-c0f4c74b8591"
        },
        "colab": {
          "base_uri": "https://localhost:8080/"
        },
        "id": "o7IK3RYl74Rj",
        "outputId": "c398aa5f-921c-493e-b14e-cf135c5d407b"
      },
      "outputs": [
        {
          "output_type": "stream",
          "name": "stdout",
          "text": [
            "B[0]: hard rock\n",
            "B[0]: banana\n"
          ]
        }
      ],
      "execution_count": 16
    },
    {
      "cell_type": "markdown",
      "source": [
        "Se muestra esto en la siguiente imagen:"
      ],
      "metadata": {
        "application/vnd.databricks.v1+cell": {
          "title": "",
          "showTitle": false,
          "inputWidgets": {},
          "nuid": "5b166d82-a8cf-48d5-bd62-f69a6a347dde"
        },
        "id": "lNNkI4P374Rj"
      }
    },
    {
      "cell_type": "markdown",
      "source": [
        "<img src = \"https://s3-api.us-geo.objectstorage.softlayer.net/cf-courses-data/CognitiveClass/PY0101EN/Chapter%202/Images/ListsRefGif.gif\" width=\"1000\" />"
      ],
      "metadata": {
        "application/vnd.databricks.v1+cell": {
          "title": "",
          "showTitle": false,
          "inputWidgets": {},
          "nuid": "36909e50-1ad4-432b-a65d-401f42389219"
        },
        "id": "aE749o6P74Rk"
      }
    },
    {
      "cell_type": "markdown",
      "source": [
        "Se puede clonar la lista **A** haciendo uso de la siguiente sintaxis:"
      ],
      "metadata": {
        "application/vnd.databricks.v1+cell": {
          "title": "",
          "showTitle": false,
          "inputWidgets": {},
          "nuid": "c3238e64-fba3-47ff-9ee8-583ebd2a785a"
        },
        "id": "Yhrgc5y174Rk"
      }
    },
    {
      "cell_type": "code",
      "source": [
        "# Clonar la lista A\n",
        "\n",
        "B = A[:]\n",
        "B"
      ],
      "metadata": {
        "application/vnd.databricks.v1+cell": {
          "title": "",
          "showTitle": false,
          "inputWidgets": {},
          "nuid": "a1bbb9c4-42a2-4937-b5a7-f335a71d71fd"
        },
        "colab": {
          "base_uri": "https://localhost:8080/"
        },
        "id": "OuMHrljC74Rk",
        "outputId": "361242a2-5e67-43ac-dc34-19137f625474"
      },
      "outputs": [
        {
          "output_type": "execute_result",
          "data": {
            "text/plain": [
              "['banana', 10, 1.2]"
            ]
          },
          "metadata": {},
          "execution_count": 17
        }
      ],
      "execution_count": 17
    },
    {
      "cell_type": "markdown",
      "source": [
        "La variable **B** es una copia o clon por valor de la lista original; esto se puede demostrar en la siguiente imagen:"
      ],
      "metadata": {
        "application/vnd.databricks.v1+cell": {
          "title": "",
          "showTitle": false,
          "inputWidgets": {},
          "nuid": "67439e3d-8dd0-4448-a3d2-5404ffcc9bd7"
        },
        "id": "3-FRyOSb74Rk"
      }
    },
    {
      "cell_type": "markdown",
      "source": [
        "<img src=\"https://s3-api.us-geo.objectstorage.softlayer.net/cf-courses-data/CognitiveClass/PY0101EN/Chapter%202/Images/ListsVal.gif\" width=\"1000\" />"
      ],
      "metadata": {
        "application/vnd.databricks.v1+cell": {
          "title": "",
          "showTitle": false,
          "inputWidgets": {},
          "nuid": "47b7ab3c-950d-4a06-8b05-8826da861d11"
        },
        "id": "KzN7HLR674Rk"
      }
    },
    {
      "cell_type": "markdown",
      "source": [
        "Ahora cualquier cambio en <b>A<b/>, no será aplicado a <b>B</b>:"
      ],
      "metadata": {
        "application/vnd.databricks.v1+cell": {
          "title": "",
          "showTitle": false,
          "inputWidgets": {},
          "nuid": "4221c2cb-3981-4be4-8606-c01fc286c8cb"
        },
        "id": "3BSyUN8k74Rk"
      }
    },
    {
      "cell_type": "code",
      "source": [
        "print('B[0]:', B[0])\n",
        "A[0] = \"hard rock\"\n",
        "print('B[0]:', B[0])"
      ],
      "metadata": {
        "application/vnd.databricks.v1+cell": {
          "title": "",
          "showTitle": false,
          "inputWidgets": {},
          "nuid": "28e01b74-c2b9-489e-bdcf-2d8dece57bbe"
        },
        "colab": {
          "base_uri": "https://localhost:8080/"
        },
        "id": "MCOYyxKJ74Rk",
        "outputId": "b5974ea2-34b2-4c74-f81e-2a6c8d288277"
      },
      "outputs": [
        {
          "output_type": "stream",
          "name": "stdout",
          "text": [
            "B[0]: banana\n",
            "B[0]: banana\n"
          ]
        }
      ],
      "execution_count": 18
    },
    {
      "cell_type": "markdown",
      "source": [
        "<h2 id=\"quiz\">Exámen sobre Listas</h2>"
      ],
      "metadata": {
        "application/vnd.databricks.v1+cell": {
          "title": "",
          "showTitle": false,
          "inputWidgets": {},
          "nuid": "e9517faa-54c0-4502-817d-5a74d2d2f0ce"
        },
        "id": "7cz-_CwX74Rk"
      }
    },
    {
      "cell_type": "markdown",
      "source": [
        "Crea una lista <code>a_lit</code> con los siguientes elementos <code>1</code>, <code>hello</code>, <code>[1,2,3]</code> y <code>True</code>."
      ],
      "metadata": {
        "application/vnd.databricks.v1+cell": {
          "title": "",
          "showTitle": false,
          "inputWidgets": {},
          "nuid": "e959dcb7-8cc6-4dad-ac2a-d90817d8b477"
        },
        "id": "YY6AKct174Rl"
      }
    },
    {
      "cell_type": "code",
      "source": [
        "# Escribe abajo tu código y presiona Shift+Enter para ejecutarlo\n",
        "# La lista puede contener elementos de diferentes tipos: enteros, cadenas, listas y booleanos.\n",
        "a_list = [1, \"hello\", [1, 2, 3], True]\n",
        "print(a_list)\n",
        "# Salida: [1, 'hello', [1, 2, 3], True]"
      ],
      "metadata": {
        "application/vnd.databricks.v1+cell": {
          "title": "",
          "showTitle": false,
          "inputWidgets": {},
          "nuid": "2b05e525-1c9a-4434-a8eb-9472b237230d"
        },
        "colab": {
          "base_uri": "https://localhost:8080/"
        },
        "id": "8SODd7s474Rl",
        "outputId": "e87666bb-2459-4159-e721-d14e275e1a09"
      },
      "outputs": [
        {
          "output_type": "stream",
          "name": "stdout",
          "text": [
            "[1, 'hello', [1, 2, 3], True]\n"
          ]
        }
      ],
      "execution_count": 1
    },
    {
      "cell_type": "markdown",
      "source": [
        "Encuentra el valor almacenado en el índice 1 de <code>a_list</code>."
      ],
      "metadata": {
        "application/vnd.databricks.v1+cell": {
          "title": "",
          "showTitle": false,
          "inputWidgets": {},
          "nuid": "4d33d3b9-bdbe-4cf4-afcd-093f45ec86a8"
        },
        "id": "dLOTeMWD74Rl"
      }
    },
    {
      "cell_type": "code",
      "source": [
        "# Escribe abajo tu código y presiona Shift+Enter para ejecutarlo\n",
        "# Recordar que los índices comienzan en 0, por lo que índice 1 corresponde al segundo elemento.\n",
        "print(a_list[1])  # Salida: 'hello'"
      ],
      "metadata": {
        "application/vnd.databricks.v1+cell": {
          "title": "",
          "showTitle": false,
          "inputWidgets": {},
          "nuid": "d1eeb457-bca6-4817-8a3d-4acfe46030df"
        },
        "colab": {
          "base_uri": "https://localhost:8080/"
        },
        "id": "22C2cIoY74Rl",
        "outputId": "8ffe303f-d314-470c-fd2d-667a8589eab9"
      },
      "outputs": [
        {
          "output_type": "stream",
          "name": "stdout",
          "text": [
            "hello\n"
          ]
        }
      ],
      "execution_count": 22
    },
    {
      "cell_type": "markdown",
      "source": [
        "Obtén el elemento almacenado en el índice 1, 2 y 3 de <code>a_list</code>."
      ],
      "metadata": {
        "application/vnd.databricks.v1+cell": {
          "title": "",
          "showTitle": false,
          "inputWidgets": {},
          "nuid": "2d48cb35-3d90-400e-a747-559646dd5adb"
        },
        "id": "jbCTrDTG74Rl"
      }
    },
    {
      "cell_type": "code",
      "source": [
        "# Escribe abajo tu código y presiona Shift+Enter para ejecutarlo\n",
        "# Usamos slicing para obtener un subconjunto de la lista: desde índice 1 hasta el 3 incluido.\n",
        "print(a_list[1:4])  # Salida: ['hello', [1, 2, 3], True]"
      ],
      "metadata": {
        "application/vnd.databricks.v1+cell": {
          "title": "",
          "showTitle": false,
          "inputWidgets": {},
          "nuid": "ffa9204d-0567-403c-a18e-464daa7af74b"
        },
        "colab": {
          "base_uri": "https://localhost:8080/"
        },
        "id": "49VtILTZ74Rl",
        "outputId": "9212bf90-d18d-4354-d0c4-bd8cdfa2f934"
      },
      "outputs": [
        {
          "output_type": "stream",
          "name": "stdout",
          "text": [
            "['hello', [1, 2, 3], True]\n"
          ]
        }
      ],
      "execution_count": 23
    },
    {
      "cell_type": "markdown",
      "source": [
        "Concatena las siguientes listas <code>A = [1, 'a']</code> y <code>B = [2, 1, 'd']</code>:"
      ],
      "metadata": {
        "application/vnd.databricks.v1+cell": {
          "title": "",
          "showTitle": false,
          "inputWidgets": {},
          "nuid": "eaa4cf31-327b-4378-887b-ba6c61fee135"
        },
        "id": "TVltMYqk74Rm"
      }
    },
    {
      "cell_type": "code",
      "source": [
        "# Escribe abajo tu código y presiona Shift+Enter para ejecutarlo\n",
        "A = [1, 'a']\n",
        "B = [2, 1, 'd']\n",
        "# El operador + concatena las listas creando una nueva.\n",
        "print(A + B)  # Salida: [1, 'a', 2, 1, 'd']"
      ],
      "metadata": {
        "collapsed": true,
        "application/vnd.databricks.v1+cell": {
          "title": "",
          "showTitle": false,
          "inputWidgets": {},
          "nuid": "6e9b33eb-9517-4bd5-958d-16da802ebd0e"
        },
        "colab": {
          "base_uri": "https://localhost:8080/"
        },
        "id": "lWCtF2c274Rm",
        "outputId": "6c165a17-688e-4199-c32e-a88c9a51b9d1"
      },
      "outputs": [
        {
          "output_type": "stream",
          "name": "stdout",
          "text": [
            "[1, 'a', 2, 1, 'd']\n"
          ]
        }
      ],
      "execution_count": 24
    }
  ],
  "metadata": {
    "kernelspec": {
      "display_name": "Python 3",
      "language": "python",
      "name": "python3"
    },
    "language_info": {
      "mimetype": "text/x-python",
      "name": "python",
      "pygments_lexer": "ipython3",
      "codemirror_mode": {
        "name": "ipython",
        "version": 3
      },
      "version": "3.8.3",
      "nbconvert_exporter": "python",
      "file_extension": ".py"
    },
    "application/vnd.databricks.v1+notebook": {
      "notebookName": "03-Python-Listas",
      "dashboards": [],
      "notebookMetadata": {
        "pythonIndentUnit": 2
      },
      "language": "python",
      "widgets": {},
      "notebookOrigID": 3296315911137787
    },
    "colab": {
      "provenance": []
    }
  },
  "nbformat": 4,
  "nbformat_minor": 0
}
