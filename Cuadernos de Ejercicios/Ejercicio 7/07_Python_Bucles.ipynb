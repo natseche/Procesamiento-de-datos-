{
  "cells": [
    {
      "cell_type": "markdown",
      "source": [
        "<h1>Procesamiento de Datos a Gran Escala</h1>"
      ],
      "metadata": {
        "application/vnd.databricks.v1+cell": {
          "title": "",
          "showTitle": false,
          "inputWidgets": {},
          "nuid": "2d81f983-1431-4f32-a6ba-a1e1e71a1639"
        },
        "id": "lrl3r1TWGIol"
      }
    },
    {
      "cell_type": "markdown",
      "source": [
        "\n",
        "\n",
        "**Autor:** Natalia Echeverry Salcedo  \n",
        "**Fecha de Inicio:** 07/08/2025  \n",
        "**Fecha Actual:** 11/08/2025  \n",
        "\n",
        "##**Descripción**\n",
        "Este taller corresponde al **Ejercicio 7** del curso **Procesamiento de Datos** y tiene como objetivo comprender y utilizar **bucles en Python** para iterar sobre secuencias y repetir instrucciones de manera controlada.\n",
        "\n",
        "Durante el ejercicio, el estudiante aprende a:\n",
        "\n",
        "- Utilizar el bucle `for` para recorrer listas, tuplas, cadenas y otros iterables.\n",
        "- Emplear el bucle `while` para ejecutar código mientras una condición sea verdadera.\n",
        "- Controlar el flujo de ejecución de bucles mediante:\n",
        "  - `break`: finalizar el bucle antes de que termine la iteración completa.\n",
        "  - `continue`: saltar a la siguiente iteración sin ejecutar el resto del código en la actual.\n",
        "  - `pass`: mantener un bloque vacío sin generar errores de sintaxis.\n",
        "- Usar funciones como `range()` para generar secuencias numéricas en bucles.\n",
        "- Iterar sobre diccionarios accediendo a llaves y valores.\n",
        "\n",
        "El taller incluye ejemplos prácticos y un cuestionario final para reforzar los conceptos aprendidos, con comentarios explicativos en cada bloque de código.\n",
        "\n",
        "---\n",
        " **Nota:** Este ejercicio es fundamental para dominar el flujo de control en Python, ya que los bucles son esenciales para procesar grandes volúmenes de datos y automatizar tareas repetitivas.\n"
      ],
      "metadata": {
        "id": "ol6h1yQoGOVZ"
      }
    },
    {
      "cell_type": "markdown",
      "source": [
        "<h2>Bucles en Python</h2>"
      ],
      "metadata": {
        "application/vnd.databricks.v1+cell": {
          "title": "",
          "showTitle": false,
          "inputWidgets": {},
          "nuid": "b18fe3a8-27b0-48ca-97ca-658fb8af5763"
        },
        "id": "1-BNpZ2FGIon"
      }
    },
    {
      "cell_type": "markdown",
      "source": [
        "<p><strong>¡Bienvenido!</strong> En este cuaderno aprenderás acerca de los bucles en el Lenguaje de Programacion Python. Al finalizar este laboratorio sabras como usar las sentencias de ciclado en Pyhon, incluidos los for y los while.</p>"
      ],
      "metadata": {
        "application/vnd.databricks.v1+cell": {
          "title": "",
          "showTitle": false,
          "inputWidgets": {},
          "nuid": "e6dc6cf7-ac99-4a2e-a9d2-b18cbcc8c1c6"
        },
        "id": "cLEMD9tXGIon"
      }
    },
    {
      "cell_type": "markdown",
      "source": [
        "<h2>Tabla de Contenido</h2>\n",
        "<div class=\"alert alert-block alert-info\" style=\"margin-top: 20px\">\n",
        "    <ul>\n",
        "        <li>\n",
        "            <a href=\"#loop\">Bucles</a>\n",
        "            <ul>\n",
        "                <li><a href=\"range\">Rango</a></li>\n",
        "                <li><a href=\"for\">¿Qué es el bucle <code>for</code>?</a></li>\n",
        "                <li><a href=\"while\">¿Qué es el bucle <code>while</code>?</a></li>\n",
        "            </ul>\n",
        "        </li>\n",
        "        <li>\n",
        "            <a href=\"#quiz\">Cuestionario sobre Bucles</a>\n",
        "        </li>\n",
        "    </ul>\n",
        "    <p>\n",
        "        Tiempo Estimado: <strong>20 min</strong>\n",
        "    </p>\n",
        "</div>\n",
        "\n",
        "<hr>"
      ],
      "metadata": {
        "application/vnd.databricks.v1+cell": {
          "title": "",
          "showTitle": false,
          "inputWidgets": {},
          "nuid": "dbf1bb1d-5789-4510-bc7a-ebaf901f0a31"
        },
        "id": "RLk0ysYNGIoo"
      }
    },
    {
      "cell_type": "markdown",
      "source": [
        "<h2 id=\"loop\">Bucles</h2>"
      ],
      "metadata": {
        "application/vnd.databricks.v1+cell": {
          "title": "",
          "showTitle": false,
          "inputWidgets": {},
          "nuid": "d519dc22-23c7-4b9e-961f-474a743e26af"
        },
        "id": "xUjUJI5fGIoo"
      }
    },
    {
      "cell_type": "markdown",
      "source": [
        "<h3 id=\"range\">Rango</h3>"
      ],
      "metadata": {
        "application/vnd.databricks.v1+cell": {
          "title": "",
          "showTitle": false,
          "inputWidgets": {},
          "nuid": "3f1041cb-11a1-4c2d-9a87-98f21c2c6924"
        },
        "id": "o_M542S7GIop"
      }
    },
    {
      "cell_type": "markdown",
      "source": [
        "En ocasiones, es necesario repetir la misma operación varias veces. La repetición de operaciones es una tarea de la que se encargan los <b>bucles</b>. Veremos dos tipos, el <code>for</code> y el <code>while</code>.\n",
        "\n",
        "Antes de discutir el tema de los bucles, hablemos primero del <code>range</code>. Es útil pensar en el rango como una lista ordenada. Por ahora, veamos un caso sencillo. Si quisiéramos generar una secuencia que contenga tres elementos ordenados desde 0 hasta 2 usaríamos este comando:"
      ],
      "metadata": {
        "application/vnd.databricks.v1+cell": {
          "title": "",
          "showTitle": false,
          "inputWidgets": {},
          "nuid": "d3e99b66-5550-4a82-9c99-9ed8acd57fc2"
        },
        "id": "YgCOJol2GIop"
      }
    },
    {
      "cell_type": "code",
      "source": [
        "# Usar el rango\n",
        "\n",
        "range(3)"
      ],
      "metadata": {
        "application/vnd.databricks.v1+cell": {
          "title": "",
          "showTitle": false,
          "inputWidgets": {},
          "nuid": "a03ac8ea-e31f-4522-98b8-489ed323991e"
        },
        "colab": {
          "base_uri": "https://localhost:8080/"
        },
        "id": "cMgwOPoqGIoq",
        "outputId": "0071fd4c-4809-43b9-8acb-50f2463002ad"
      },
      "outputs": [
        {
          "output_type": "execute_result",
          "data": {
            "text/plain": [
              "range(0, 3)"
            ]
          },
          "metadata": {},
          "execution_count": 1
        }
      ],
      "execution_count": 1
    },
    {
      "cell_type": "markdown",
      "source": [
        "<img src=\"https://s3-api.us-geo.objectstorage.softlayer.net/cf-courses-data/CognitiveClass/PY0101EN/Chapter%203/Images/LoopsRange.png\" width=\"300\" />"
      ],
      "metadata": {
        "application/vnd.databricks.v1+cell": {
          "title": "",
          "showTitle": false,
          "inputWidgets": {},
          "nuid": "daacd919-13b5-4b17-918f-92b01953210f"
        },
        "id": "TWoHZV-fGIos"
      }
    },
    {
      "cell_type": "markdown",
      "source": [
        "<h3 id=\"for\">¿Qué es el bucle <code>for</code>?</h3>"
      ],
      "metadata": {
        "application/vnd.databricks.v1+cell": {
          "title": "",
          "showTitle": false,
          "inputWidgets": {},
          "nuid": "d2738d17-085f-47c7-aaf0-7d887c6b4adc"
        },
        "id": "Qt-etLv1GIos"
      }
    },
    {
      "cell_type": "markdown",
      "source": [
        "El bucle <code>for</code> permite ejecutar un bloque de código múltiples veces. Por ejemplo, podrías usarlo si quisieras imprimir cada elemento en una lista. Usemos el bucle <code>for</code> para imprimir todos los años presentes en la lista <code>dates</code>:"
      ],
      "metadata": {
        "application/vnd.databricks.v1+cell": {
          "title": "",
          "showTitle": false,
          "inputWidgets": {},
          "nuid": "78284539-4bd6-41d4-a325-39fe28ff3139"
        },
        "id": "f2OU0wVxGIos"
      }
    },
    {
      "cell_type": "markdown",
      "source": [
        "Esto puede hacerse de la siguiente forma:"
      ],
      "metadata": {
        "application/vnd.databricks.v1+cell": {
          "title": "",
          "showTitle": false,
          "inputWidgets": {},
          "nuid": "8151bf25-35a9-4d7c-ad00-b5f27194abae"
        },
        "id": "4ji1c1GHGIos"
      }
    },
    {
      "cell_type": "code",
      "source": [
        "# Ejemplo de un bucle for\n",
        "\n",
        "dates = [1982,1980,1973]\n",
        "N = len(dates)\n",
        "\n",
        "for i in range(N):\n",
        "    print(dates[i])"
      ],
      "metadata": {
        "application/vnd.databricks.v1+cell": {
          "title": "",
          "showTitle": false,
          "inputWidgets": {},
          "nuid": "40c42def-e235-447a-80a3-2faffef0c8dd"
        },
        "colab": {
          "base_uri": "https://localhost:8080/"
        },
        "id": "Yt6zNpYlGIos",
        "outputId": "8d5dc261-4713-41a8-aa5d-b9b0673eaebe"
      },
      "outputs": [
        {
          "output_type": "stream",
          "name": "stdout",
          "text": [
            "1982\n",
            "1980\n",
            "1973\n"
          ]
        }
      ],
      "execution_count": 2
    },
    {
      "cell_type": "markdown",
      "source": [
        "El código con sangría es ejecutado <code>N</code> veces, el valor de <code>i</code> se incrementa en 1 por cada ejecución. La sentencia para ejecutar es <code>imprimir</code> el valor de la lista de acuerdo con el índice <code>i</code> como se muestra aquí:"
      ],
      "metadata": {
        "application/vnd.databricks.v1+cell": {
          "title": "",
          "showTitle": false,
          "inputWidgets": {},
          "nuid": "bddd74b7-179b-413e-a33f-c057be676a06"
        },
        "id": "ihkWIxz8GIot"
      }
    },
    {
      "cell_type": "markdown",
      "source": [
        "<img src=\"https://s3-api.us-geo.objectstorage.softlayer.net/cf-courses-data/CognitiveClass/PY0101EN/Chapter%203/Images/LoopsForRange.gif\" width=\"800\" />"
      ],
      "metadata": {
        "application/vnd.databricks.v1+cell": {
          "title": "",
          "showTitle": false,
          "inputWidgets": {},
          "nuid": "603d1038-e4cf-495f-a260-61563a66375b"
        },
        "id": "nSXpAkInGIot"
      }
    },
    {
      "cell_type": "markdown",
      "source": [
        "En este ejemplo imprimiremos una secuencia de números del 0 al 7:"
      ],
      "metadata": {
        "application/vnd.databricks.v1+cell": {
          "title": "",
          "showTitle": false,
          "inputWidgets": {},
          "nuid": "273470fb-8c71-450b-8a10-cd45696ec480"
        },
        "id": "zXOKZCu8GIot"
      }
    },
    {
      "cell_type": "code",
      "source": [
        "# Ejemplo de un bucle for\n",
        "\n",
        "for i in range(0, 8):\n",
        "    print(i)"
      ],
      "metadata": {
        "application/vnd.databricks.v1+cell": {
          "title": "",
          "showTitle": false,
          "inputWidgets": {},
          "nuid": "822a2b77-b767-4460-bcd0-a24149bbc361"
        },
        "colab": {
          "base_uri": "https://localhost:8080/"
        },
        "id": "7u1_USwqGIot",
        "outputId": "67e5bd4a-6470-4480-9e20-5eeccc3d28c8"
      },
      "outputs": [
        {
          "output_type": "stream",
          "name": "stdout",
          "text": [
            "0\n",
            "1\n",
            "2\n",
            "3\n",
            "4\n",
            "5\n",
            "6\n",
            "7\n"
          ]
        }
      ],
      "execution_count": 3
    },
    {
      "cell_type": "markdown",
      "source": [
        "En Python podemos acceder directamente a los elementos de la lista de la siguiente forma:"
      ],
      "metadata": {
        "application/vnd.databricks.v1+cell": {
          "title": "",
          "showTitle": false,
          "inputWidgets": {},
          "nuid": "0817d502-0bc4-4acd-9e6b-55ad3b4c2f4c"
        },
        "id": "XpgcGGYVGIot"
      }
    },
    {
      "cell_type": "code",
      "source": [
        "# Ejemplo de un bucle for en una lista\n",
        "\n",
        "for year in dates:\n",
        "    print(year)"
      ],
      "metadata": {
        "application/vnd.databricks.v1+cell": {
          "title": "",
          "showTitle": false,
          "inputWidgets": {},
          "nuid": "f3d3247c-9983-4092-b281-b2b118dadbc0"
        },
        "colab": {
          "base_uri": "https://localhost:8080/"
        },
        "id": "hiwMDssKGIot",
        "outputId": "737496f8-81ec-4c96-e2f0-ace9f9500ad3"
      },
      "outputs": [
        {
          "output_type": "stream",
          "name": "stdout",
          "text": [
            "1982\n",
            "1980\n",
            "1973\n"
          ]
        }
      ],
      "execution_count": 4
    },
    {
      "cell_type": "markdown",
      "source": [
        "Por cada iteración, el valor de la variable <code>years</code> se comporta de forma parecida al valor de <code>dates[i]</code> del primer ejemplo:"
      ],
      "metadata": {
        "application/vnd.databricks.v1+cell": {
          "title": "",
          "showTitle": false,
          "inputWidgets": {},
          "nuid": "ab377bcb-fb9a-4ca0-a967-df890a0cc2e9"
        },
        "id": "z0TYoIXEGIot"
      }
    },
    {
      "cell_type": "markdown",
      "source": [
        "<img src=\"https://s3-api.us-geo.objectstorage.softlayer.net/cf-courses-data/CognitiveClass/PY0101EN/Chapter%203/Images/LoopsForList.gif\" width=\"800\">"
      ],
      "metadata": {
        "application/vnd.databricks.v1+cell": {
          "title": "",
          "showTitle": false,
          "inputWidgets": {},
          "nuid": "82b252e5-706a-4d33-af2d-191cfcedb7ea"
        },
        "id": "iswaYcm2GIou"
      }
    },
    {
      "cell_type": "markdown",
      "source": [
        "Podemos modificar los elementos en una lista:"
      ],
      "metadata": {
        "application/vnd.databricks.v1+cell": {
          "title": "",
          "showTitle": false,
          "inputWidgets": {},
          "nuid": "24b9470e-60f0-4edf-a0ad-05511e45f219"
        },
        "id": "5vQEstnSGIou"
      }
    },
    {
      "cell_type": "code",
      "source": [
        "# Usar el bucle for para cambiar los elementos de la lista\n",
        "\n",
        "squares = ['red', 'yellow', 'green', 'purple', 'blue']\n",
        "\n",
        "for i in range(0, 5):\n",
        "    print(\"Before square \", i, 'is',  squares[i])\n",
        "    squares[i] = 'weight'\n",
        "    print(\"After square \", i, 'is',  squares[i])"
      ],
      "metadata": {
        "application/vnd.databricks.v1+cell": {
          "title": "",
          "showTitle": false,
          "inputWidgets": {},
          "nuid": "f6338931-0f14-4101-8766-094b69653cb0"
        },
        "colab": {
          "base_uri": "https://localhost:8080/"
        },
        "id": "HVNSjeM6GIou",
        "outputId": "c74ff32c-df6c-4a3e-ebec-8101add326ac"
      },
      "outputs": [
        {
          "output_type": "stream",
          "name": "stdout",
          "text": [
            "Before square  0 is red\n",
            "After square  0 is weight\n",
            "Before square  1 is yellow\n",
            "After square  1 is weight\n",
            "Before square  2 is green\n",
            "After square  2 is weight\n",
            "Before square  3 is purple\n",
            "After square  3 is weight\n",
            "Before square  4 is blue\n",
            "After square  4 is weight\n"
          ]
        }
      ],
      "execution_count": 5
    },
    {
      "cell_type": "markdown",
      "source": [
        "Podemos acceder al índice y los elementos de una lista de la siguiente manera:"
      ],
      "metadata": {
        "application/vnd.databricks.v1+cell": {
          "title": "",
          "showTitle": false,
          "inputWidgets": {},
          "nuid": "cd745203-fab1-4dfd-96e9-68a538d07396"
        },
        "id": "AJHcA1pdGIou"
      }
    },
    {
      "cell_type": "code",
      "source": [
        "# Bucle for en una lista haciendo iteraciones con el valor del índice y el elemento de la lista\n",
        "\n",
        "squares=['red', 'yellow', 'green', 'purple', 'blue']\n",
        "\n",
        "for i, square in enumerate(squares):\n",
        "    print(i, square)"
      ],
      "metadata": {
        "application/vnd.databricks.v1+cell": {
          "title": "",
          "showTitle": false,
          "inputWidgets": {},
          "nuid": "016c4c7a-69c8-444d-8912-cf4146543340"
        },
        "colab": {
          "base_uri": "https://localhost:8080/"
        },
        "id": "Wi3RRDuFGIou",
        "outputId": "7a12005f-86f5-4d04-b69b-b82ac3914f5d"
      },
      "outputs": [
        {
          "output_type": "stream",
          "name": "stdout",
          "text": [
            "0 red\n",
            "1 yellow\n",
            "2 green\n",
            "3 purple\n",
            "4 blue\n"
          ]
        }
      ],
      "execution_count": 6
    },
    {
      "cell_type": "markdown",
      "source": [
        "<h3 id=\"while\">¿Qué es el bucle <code>while</code>?</h3>"
      ],
      "metadata": {
        "application/vnd.databricks.v1+cell": {
          "title": "",
          "showTitle": false,
          "inputWidgets": {},
          "nuid": "4b9eb619-a696-426e-9a33-bb3e6176cac1"
        },
        "id": "eurfwVvKGIov"
      }
    },
    {
      "cell_type": "markdown",
      "source": [
        "Como puedes observar, el bucle <code>for</code> es utilizado para controlar el flujo de la repetición. Sin embargo, ¿Qué pasa cuando no sabemos en que momento detener el bucle? ¿Y si queremos mantener la ejecución de un bloque de código hasta que se cumpla cierta condición? El bucle <code>while</code> es una herramienta para ejecutar repetidamente en base a una condición. El bloque de código seguirá ejecutándose hasta que la condición lógica dada regresa un valor **Falso**."
      ],
      "metadata": {
        "application/vnd.databricks.v1+cell": {
          "title": "",
          "showTitle": false,
          "inputWidgets": {},
          "nuid": "4ac03115-70f1-4082-988f-3cd86c01df0d"
        },
        "id": "ApRm5qOXGIov"
      }
    },
    {
      "cell_type": "markdown",
      "source": [
        "Supongamos que deseamos interactuar sobre la lista <code>dates</code> y detenernos en el año 1973, después imprimir el numero de iteraciones. Esto puede realizarse con el siguiente bloque de código:"
      ],
      "metadata": {
        "application/vnd.databricks.v1+cell": {
          "title": "",
          "showTitle": false,
          "inputWidgets": {},
          "nuid": "aa3bf35b-40bf-42b6-83a5-1813ee654667"
        },
        "id": "Oor63122GIov"
      }
    },
    {
      "cell_type": "code",
      "source": [
        "# Ejemplo de Bucle While\n",
        "\n",
        "dates = [1982, 1980, 1973, 2000]\n",
        "\n",
        "i = 0\n",
        "year = 0\n",
        "\n",
        "while(year != 1973):\n",
        "    year = dates[i]\n",
        "    i = i + 1\n",
        "    print(year)\n",
        "\n",
        "print(\"It took \", i ,\"repetitions to get out of loop.\")"
      ],
      "metadata": {
        "application/vnd.databricks.v1+cell": {
          "title": "",
          "showTitle": false,
          "inputWidgets": {},
          "nuid": "e38de729-ffb3-4c52-8d2a-5363691268c0"
        },
        "colab": {
          "base_uri": "https://localhost:8080/"
        },
        "id": "M9_6CeOeGIov",
        "outputId": "5d580068-7b93-4a0a-851a-42f1f7b0de2d"
      },
      "outputs": [
        {
          "output_type": "stream",
          "name": "stdout",
          "text": [
            "1982\n",
            "1980\n",
            "1973\n",
            "It took  3 repetitions to get out of loop.\n"
          ]
        }
      ],
      "execution_count": 7
    },
    {
      "cell_type": "markdown",
      "source": [
        "Un bucle while interactua hasta que la condición en el argumento no es alcanzada, como se muestra en la imagen siguiente:"
      ],
      "metadata": {
        "application/vnd.databricks.v1+cell": {
          "title": "",
          "showTitle": false,
          "inputWidgets": {},
          "nuid": "a87ecef8-6365-4657-bf58-3fd71cf5560a"
        },
        "id": "yIAGBMiYGIov"
      }
    },
    {
      "cell_type": "markdown",
      "source": [
        "<img src=\"https://s3-api.us-geo.objectstorage.softlayer.net/cf-courses-data/CognitiveClass/PY0101EN/Chapter%203/Images/LoopsWhile.gif\" width=\"650\" />"
      ],
      "metadata": {
        "application/vnd.databricks.v1+cell": {
          "title": "",
          "showTitle": false,
          "inputWidgets": {},
          "nuid": "cf88527f-6595-496e-8f69-9c9fc99c59d0"
        },
        "id": "773SzS4xGIov"
      }
    },
    {
      "cell_type": "markdown",
      "source": [
        "<h2 id=\"quiz\">Cuestionario sobre Bucles</h2>"
      ],
      "metadata": {
        "application/vnd.databricks.v1+cell": {
          "title": "",
          "showTitle": false,
          "inputWidgets": {},
          "nuid": "13dd742a-1af0-44d0-b0e9-14c1dd99c385"
        },
        "id": "Zbh8BG43GIov"
      }
    },
    {
      "cell_type": "markdown",
      "source": [
        "Escribe un bucle <code>for</code> que imprima todos los elementos entre <b>-5</b> y <b>5</b> usando la función range."
      ],
      "metadata": {
        "application/vnd.databricks.v1+cell": {
          "title": "",
          "showTitle": false,
          "inputWidgets": {},
          "nuid": "81af31ba-7a10-493e-b23f-9b12105dcaa7"
        },
        "id": "phkIQ2t9GIov"
      }
    },
    {
      "cell_type": "code",
      "source": [
        "# Escribe abajo tu código y presiona Shift+Enter para ejecutarlo\n",
        "# Bucle for que recorre los números del -5 al 5 (incluyendo ambos extremos)\n",
        "# range(-5, 6) genera la secuencia: -5, -4, -3, -2, -1, 0, 1, 2, 3, 4, 5\n",
        "for i in range(-5, 6):\n",
        "    # Imprime el valor actual de 'i'\n",
        "    print(i)\n"
      ],
      "metadata": {
        "application/vnd.databricks.v1+cell": {
          "title": "",
          "showTitle": false,
          "inputWidgets": {},
          "nuid": "72142fee-fe84-4eba-a564-289b7e841eb6"
        },
        "colab": {
          "base_uri": "https://localhost:8080/"
        },
        "id": "ysI7YhQTGIov",
        "outputId": "2f45cfdd-40ca-4344-ea2b-d0613e63edbc"
      },
      "outputs": [
        {
          "output_type": "stream",
          "name": "stdout",
          "text": [
            "-5\n",
            "-4\n",
            "-3\n",
            "-2\n",
            "-1\n",
            "0\n",
            "1\n",
            "2\n",
            "3\n",
            "4\n",
            "5\n"
          ]
        }
      ],
      "execution_count": 18
    },
    {
      "cell_type": "markdown",
      "source": [
        "Imprime los elementos de la siguiente lista:\n",
        "<code>Genres=[ 'rock', 'R&B', 'Soundtrack', 'R&B', 'soul', 'pop']</code>\n",
        "Y asegúrate de seguir las convenciones del lenguaje Python"
      ],
      "metadata": {
        "application/vnd.databricks.v1+cell": {
          "title": "",
          "showTitle": false,
          "inputWidgets": {},
          "nuid": "3da3d294-9b49-405c-8e26-a05da1df7abf"
        },
        "id": "4mgiZTCFGIov"
      }
    },
    {
      "cell_type": "code",
      "source": [
        "# Escribe abajo tu código y presiona Shift+Enter para ejecutarlo\n",
        "# Lista de géneros musicales\n",
        "Genres = ['rock', 'R&B', 'Soundtrack', 'R&B', 'soul', 'pop']\n",
        "\n",
        "# Bucle for que recorre cada elemento de la lista 'Genres'\n",
        "for Genre in Genres:\n",
        "    # Imprime el género actual\n",
        "    print(Genre)\n"
      ],
      "metadata": {
        "application/vnd.databricks.v1+cell": {
          "title": "",
          "showTitle": false,
          "inputWidgets": {},
          "nuid": "83783312-04ee-4cc1-a8fa-c4ad3ac3d6c4"
        },
        "colab": {
          "base_uri": "https://localhost:8080/"
        },
        "id": "7lZXrn_XGIow",
        "outputId": "4cb4bb41-c94c-4bd3-c977-e3e2f6302d87"
      },
      "outputs": [
        {
          "output_type": "stream",
          "name": "stdout",
          "text": [
            "rock\n",
            "R&B\n",
            "Soundtrack\n",
            "R&B\n",
            "soul\n",
            "pop\n"
          ]
        }
      ],
      "execution_count": 17
    },
    {
      "cell_type": "markdown",
      "source": [
        "Escribe un bucle for que imprima la siguiente lista: <code>squares=['red', 'yellow', 'green', 'purple', 'blue']</code>"
      ],
      "metadata": {
        "application/vnd.databricks.v1+cell": {
          "title": "",
          "showTitle": false,
          "inputWidgets": {},
          "nuid": "dbe6652e-ecbe-4853-b580-d7a59de1c638"
        },
        "id": "8Txn-tKSGIo3"
      }
    },
    {
      "cell_type": "code",
      "source": [
        "# Escribe abajo tu código y presiona Shift+Enter para ejecutarlo\n",
        "# Lista con colores\n",
        "squares = ['red', 'yellow', 'green', 'purple', 'blue']\n",
        "\n",
        "# Bucle for que recorre cada elemento de la lista 'squares'\n",
        "for square in squares:\n",
        "    # Imprime el color actual\n",
        "    print(square)\n"
      ],
      "metadata": {
        "application/vnd.databricks.v1+cell": {
          "title": "",
          "showTitle": false,
          "inputWidgets": {},
          "nuid": "9cd58c3a-0f2c-498d-8617-f9fcf3f4cade"
        },
        "colab": {
          "base_uri": "https://localhost:8080/"
        },
        "id": "u-PrdA_cGIo3",
        "outputId": "ac66a60b-097d-480f-9cf2-60972cfe90dc"
      },
      "outputs": [
        {
          "output_type": "stream",
          "name": "stdout",
          "text": [
            "red\n",
            "yellow\n",
            "green\n",
            "purple\n",
            "blue\n"
          ]
        }
      ],
      "execution_count": 16
    },
    {
      "cell_type": "markdown",
      "source": [
        "Escribe un bucle while que muestre los valores de la calificación de las canciones de un disco almacenados en la lista <code>PlayListRatings</code>. Si la calificación es menor a 6, sal del bucle. La lista <code>PlayListRatings</code> esta compuesta por: <code>PlayListRatings = [10, 9.5, 10, 8, 7.5, 5, 10, 10]</code>"
      ],
      "metadata": {
        "application/vnd.databricks.v1+cell": {
          "title": "",
          "showTitle": false,
          "inputWidgets": {},
          "nuid": "70563c85-00cd-44c5-81b2-a9497b12f7ab"
        },
        "id": "FENpUGO9GIo3"
      }
    },
    {
      "cell_type": "code",
      "source": [
        "# Escribe abajo tu código y presiona Shift+Enter para ejecutarlo\n",
        "# Lista con las calificaciones de las canciones de un disco\n",
        "PlayListRatings = [10, 9.5, 10, 8, 7.5, 5, 10, 10]\n",
        "\n",
        "# Inicializamos el índice en 1 (comenzaremos desde la segunda posición en el bucle)\n",
        "i = 1\n",
        "\n",
        "# Guardamos en la variable 'Rating' la primera calificación de la lista (índice 0)\n",
        "Rating = PlayListRatings[0]\n",
        "\n",
        "# Mientras la calificación actual sea mayor o igual a 6, el bucle seguirá ejecutándose\n",
        "while (Rating >= 6):\n",
        "    # Imprime la calificación actual\n",
        "    print(Rating)\n",
        "\n",
        "    # Cambiamos la calificación a la siguiente en la lista\n",
        "    Rating = PlayListRatings[i]\n",
        "\n",
        "    # Avanzamos al siguiente índice\n",
        "    i = i + 1\n"
      ],
      "metadata": {
        "collapsed": true,
        "application/vnd.databricks.v1+cell": {
          "title": "",
          "showTitle": false,
          "inputWidgets": {},
          "nuid": "236b2d5d-3544-4c9f-9609-bd1f57362965"
        },
        "colab": {
          "base_uri": "https://localhost:8080/"
        },
        "id": "-r0qaeMhGIo3",
        "outputId": "e54aeee2-1de7-4dca-f655-59a7d339f270"
      },
      "outputs": [
        {
          "output_type": "stream",
          "name": "stdout",
          "text": [
            "10\n",
            "9.5\n",
            "10\n",
            "8\n",
            "7.5\n"
          ]
        }
      ],
      "execution_count": 15
    },
    {
      "cell_type": "markdown",
      "source": [
        "Escribe un bucle while que copie las cadenas <code>'orange'</code> de la lista <code>squares</code> a la lista <code>new_squares</code>. Detente y sal del ciclo si el valor en la lista no es <code>'orange'</code>:"
      ],
      "metadata": {
        "application/vnd.databricks.v1+cell": {
          "title": "",
          "showTitle": false,
          "inputWidgets": {},
          "nuid": "f96aefc1-4d11-4084-a79d-03e337af70aa"
        },
        "id": "0PvN0ygzGIo4"
      }
    },
    {
      "cell_type": "code",
      "source": [
        "# Lista inicial con varios colores, incluyendo 'orange' al inicio\n",
        "squares = ['orange', 'orange', 'purple', 'blue ', 'orange']\n",
        "\n",
        "# Lista vacía donde copiaremos los valores 'orange'\n",
        "new_squares = []\n",
        "\n",
        "# Variable de control para recorrer la lista\n",
        "i = 0\n",
        "\n",
        "# Bucle while: se ejecuta mientras el elemento actual sea 'orange'\n",
        "while (squares[i] == 'orange'):\n",
        "    # Agrega el elemento 'orange' a la lista new_squares\n",
        "    new_squares.append(squares[i])\n",
        "\n",
        "    # Avanza al siguiente índice\n",
        "    i = i + 1\n",
        "\n",
        "# Imprime la lista resultante con solo los 'orange' copiados antes de encontrar otro color\n",
        "print(new_squares)\n"
      ],
      "metadata": {
        "application/vnd.databricks.v1+cell": {
          "title": "",
          "showTitle": false,
          "inputWidgets": {},
          "nuid": "acdff223-9bed-4ac4-b095-fdbbe2a10b0f"
        },
        "colab": {
          "base_uri": "https://localhost:8080/"
        },
        "id": "-v2XeSmAGIo4",
        "outputId": "ce850919-3abc-4b51-f0d7-318c50e0e98d"
      },
      "outputs": [
        {
          "output_type": "stream",
          "name": "stdout",
          "text": [
            "['orange', 'orange']\n"
          ]
        }
      ],
      "execution_count": 14
    }
  ],
  "metadata": {
    "kernelspec": {
      "display_name": "Python 3",
      "language": "python",
      "name": "python3"
    },
    "language_info": {
      "mimetype": "text/x-python",
      "name": "python",
      "pygments_lexer": "ipython3",
      "codemirror_mode": {
        "name": "ipython",
        "version": 3
      },
      "version": "3.7.7",
      "nbconvert_exporter": "python",
      "file_extension": ".py"
    },
    "application/vnd.databricks.v1+notebook": {
      "notebookName": "07-Python-Bucles",
      "dashboards": [],
      "notebookMetadata": {
        "pythonIndentUnit": 2
      },
      "language": "python",
      "widgets": {},
      "notebookOrigID": 3296315911138751
    },
    "colab": {
      "provenance": []
    }
  },
  "nbformat": 4,
  "nbformat_minor": 0
}