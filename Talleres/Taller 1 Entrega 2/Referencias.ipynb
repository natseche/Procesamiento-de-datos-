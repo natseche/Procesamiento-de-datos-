{
  "nbformat": 4,
  "nbformat_minor": 0,
  "metadata": {
    "colab": {
      "provenance": []
    },
    "kernelspec": {
      "name": "python3",
      "display_name": "Python 3"
    },
    "language_info": {
      "name": "python"
    }
  },
  "cells": [
    {
      "cell_type": "markdown",
      "source": [
        "## Referencias\n",
        "\n",
        "- [**Keras Documentation (2024).** *Sequential Models and Dense Layers.*](https://keras.io/guides/sequential_model/)  \n",
        "  Guía oficial de Keras sobre el uso del modelo `Sequential`, la configuración de capas densas (`Dense`) y la optimización de tensores en redes neuronales profundas.\n",
        "\n",
        "- [**Scikit-learn Developers (2024).** *Logistic Regression and Linear Models.*](https://scikit-learn.org/stable/modules/linear_model.html#logistic-regression)  \n",
        "  Documentación oficial del modelo de regresión logística en `scikit-learn`, utilizada para problemas de clasificación binaria y multiclase.\n",
        "\n",
        "- [**IBM Cloud Education (2023).** *What is Logistic Regression?*](https://www.ibm.com/think/topics/logistic-regression)  \n",
        "  Explicación conceptual y aplicada de la regresión logística, incluyendo su interpretación estadística y casos de uso en machine learning.\n",
        "\n",
        "- [**IntechOpen (2020).** *Assessment of Water Quality Index and Its Effect on Human Health in India.*](https://www.intechopen.com/chapters/69568)  \n",
        "  Referencia científica utilizada como base para definir los rangos del Índice de Calidad del Agua (WQI) y su clasificación en categorías (“Excelente”, “Buena”, “Baja”, etc.).\n",
        "\n",
        "- [**Apache Spark™ (2024).** *MLlib: Machine Learning Library.*](https://spark.apache.org/mllib/)  \n",
        "  Librería oficial de aprendizaje automático de Spark. Proporciona herramientas para implementar modelos de regresión, clasificación y clustering sobre grandes volúmenes de datos distribuidos.\n"
      ],
      "metadata": {
        "id": "jcTT7IqM_iEc"
      }
    }
  ]
}