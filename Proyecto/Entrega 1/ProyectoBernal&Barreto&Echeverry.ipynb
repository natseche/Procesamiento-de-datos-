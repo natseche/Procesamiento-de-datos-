{
 "cells": [
  {
   "cell_type": "markdown",
   "id": "84fc5335-d214-4df3-ae23-72f0d27fea0d",
   "metadata": {},
   "source": [
    "#Proyecto de Procesamiento de Alto Volumen de Datos  \n",
    "## **Análisis de Seguridad, Pobreza y Educación en la Ciudad de Nueva York**\n",
    "\n",
    "**Pontificia Universidad Javeriana – Facultad de Ingeniería**  \n",
    "**Departamento de Ingeniería de Sistemas**  \n",
    "**Asignatura:** Procesamiento de Alto Volumen de Datos  \n",
    "**Docente:** John Corredor Franco, PhD  \n",
    "**Periodo:** 2025-2  \n",
    "\n",
    "---\n",
    "\n",
    "### **Contexto del proyecto**\n",
    "\n",
    "Este proyecto se desarrolla bajo la metodología **CRISP-DM (Cross Industry Standard Process for Data Mining)**, la cual guía el proceso de análisis de datos en seis fases:  \n",
    "1. Entendimiento del negocio  \n",
    "2. Entendimiento de los datos  \n",
    "3. Preparación de los datos  \n",
    "4. Modelado  \n",
    "5. Evaluación  \n",
    "6. Despliegue  \n",
    "\n",
    "La presente entrega aborda las dos primeras fases, centradas en el **entendimiento del negocio y de los datos**, mediante la integración de información pública proveniente del portal [NYC Open Data](https://data.cityofnewyork.us/).  \n",
    "\n",
    "El objetivo principal es **analizar la relación entre las condiciones socioeconómicas, educativas y los indicadores de seguridad (arrestos y accidentes viales)**, empleando **Apache Spark** como herramienta de procesamiento distribuido.\n",
    "\n",
    "---\n",
    "\n",
    "### **Objetivo del notebook**\n",
    "\n",
    "Este notebook tiene como propósito documentar paso a paso el proceso de **configuración del entorno Spark**, **carga de los datasets seleccionados**, y la **descripción técnica inicial de los datos** utilizados en el proyecto:\n",
    "\n",
    "- **NYPD Arrest Data (Year-to-Date)**  \n",
    "  [https://data.cityofnewyork.us/Public-Safety/NYPD-Arrest-Data-Year-to-Date-/uip8-fykc](https://data.cityofnewyork.us/Public-Safety/NYPD-Arrest-Data-Year-to-Date-/uip8-fykc)\n",
    "\n",
    "- **Motor Vehicle Collisions – Vehicles**  \n",
    "  [https://data.cityofnewyork.us/Public-Safety/Motor-Vehicle-Collisions-Vehicles/bm4k-52h4](https://data.cityofnewyork.us/Public-Safety/Motor-Vehicle-Collisions-Vehicles/bm4k-52h4)\n",
    "\n",
    "- **NYCgov Poverty Measure Data**  \n",
    "  [https://data.cityofnewyork.us/City-Government/NYCgov-Poverty-Measure-Data/ct7s-vksw](https://data.cityofnewyork.us/City-Government/NYCgov-Poverty-Measure-Data/ct7s-vksw)\n",
    "\n",
    "- **SAT Results (NYC Department of Education)**  \n",
    "  [https://data.cityofnewyork.us/Education/2012-SAT-Results/zt9s-n5aj](https://data.cityofnewyork.us/Education/2012-SAT-Results/zt9s-n5aj)\n",
    "\n",
    "---\n",
    "\n",
    "### **Estructura del notebook**\n",
    "\n",
    "1. **Configuración del entorno Spark**  \n",
    "   - Creación de la sesión Spark.  \n",
    "   - Verificación de instalación y recursos del cluster.  \n",
    "\n",
    "2. **Carga de datasets en formato distribuido**  \n",
    "   - Lectura de archivos CSV desde el entorno local o HDFS.  \n",
    "   - Inspección de las primeras filas de cada dataset.  \n",
    "\n",
    "3. **Descripción técnica y validación**  \n",
    "   - Estructura de los datos (`printSchema()`).  \n",
    "   - Conteo de registros y revisión general de atributos.  \n",
    "\n",
    "4. **Exploración preliminar (EDA inicial)**  \n",
    "   - Estadísticas descriptivas (`describe()`).  \n",
    "   - Conteo de valores nulos y duplicados.  \n",
    "\n",
    "5. **Conclusiones parciales**  \n",
    "   - Observaciones sobre la calidad y completitud de los datos.  \n",
    "   - Propuesta de próximos pasos (limpieza, integración y modelado).  \n",
    "\n",
    "---\n",
    "\n",
    "### **Equipo consultor**\n",
    "\n",
    "- *Natalia Echeverry Salcedo*  \n",
    "- *Sergio Felipe Barreto Cifuentes* \n",
    "- *Juan Diego Bernal Piñeros*  \n",
    "\n",
    "---\n"
   ]
  },
  {
   "cell_type": "code",
   "execution_count": 1,
   "id": "d6c27db5-2f0e-4af1-83b3-c1cfb6a7f07d",
   "metadata": {},
   "outputs": [],
   "source": [
    "# Módulos del sistema para manejo de rutas y paquetes.\n",
    "import os\n",
    "import sys\n",
    "sys.path.append('/usr/lib/python3/dist-packages/')\n",
    "\n",
    "# Librerías para análisis y visualización de datos.\n",
    "import numpy as np\n",
    "import pandas as pd\n",
    "import seaborn as sns\n",
    "import matplotlib.pyplot as plt\n",
    "from pylab import *\n",
    "\n",
    "# Inicialización del entorno Spark.\n",
    "import findspark\n",
    "findspark.init()\n",
    "\n",
    "# Funciones y estructuras principales de PySpark.\n",
    "import pyspark.sql.functions as F\n",
    "from pyspark.sql.functions import input_file_name, mean, col, split, regexp_extract, when, lit, isnan, count\n",
    "from pyspark import SparkConf, SparkContext\n",
    "from pyspark.sql import SQLContext, SparkSession\n",
    "from pyspark.sql.types import *"
   ]
  },
  {
   "cell_type": "code",
   "execution_count": 2,
   "id": "88fa0240-4b32-4bc8-b194-67424abe296c",
   "metadata": {},
   "outputs": [
    {
     "name": "stderr",
     "output_type": "stream",
     "text": [
      "Setting default log level to \"WARN\".\n",
      "To adjust logging level use sc.setLogLevel(newLevel). For SparkR, use setLogLevel(newLevel).\n",
      "25/10/20 17:42:53 WARN NativeCodeLoader: Unable to load native-hadoop library for your platform... using builtin-java classes where applicable\n",
      "25/10/20 17:42:53 WARN Utils: Service 'SparkUI' could not bind on port 4040. Attempting port 4041.\n",
      "25/10/20 17:42:53 WARN Utils: Service 'SparkUI' could not bind on port 4041. Attempting port 4042.\n"
     ]
    },
    {
     "name": "stdout",
     "output_type": "stream",
     "text": [
      "Sesión creada: HPC004\n"
     ]
    },
    {
     "data": {
      "text/html": [
       "\n",
       "            <div>\n",
       "                <p><b>SparkSession - in-memory</b></p>\n",
       "                \n",
       "        <div>\n",
       "            <p><b>SparkContext</b></p>\n",
       "\n",
       "            <p><a href=\"http://clusterhpc:4042\">Spark UI</a></p>\n",
       "\n",
       "            <dl>\n",
       "              <dt>Version</dt>\n",
       "                <dd><code>v3.5.5</code></dd>\n",
       "              <dt>Master</dt>\n",
       "                <dd><code>spark://10.195.34.34:7077</code></dd>\n",
       "              <dt>AppName</dt>\n",
       "                <dd><code>Proyecto_NY_BigData</code></dd>\n",
       "            </dl>\n",
       "        </div>\n",
       "        \n",
       "            </div>\n",
       "        "
      ],
      "text/plain": [
       "<pyspark.sql.session.SparkSession at 0x7eb96d7e6b70>"
      ]
     },
     "execution_count": 2,
     "metadata": {},
     "output_type": "execute_result"
    }
   ],
   "source": [
    "# Se define la configuración básica de la aplicación en Spark.\n",
    "configura = SparkConf()\n",
    "configura.setAppName(\"Proyecto_NY_BigData\")  # Nombre asignado a la sesión de Spark.\n",
    "\n",
    "# Creación de la sesión principal de Spark.\n",
    "# SparkSession es el punto de entrada para trabajar con DataFrames distribuidos.\n",
    "spark03 = SparkSession.builder.config(conf=configura).getOrCreate()\n",
    "\n",
    "# Inicializa el contexto SQL asociado a la sesión.\n",
    "SQLContext(sparkContext=spark03.sparkContext, sparkSession=spark03)\n",
    "\n",
    "# Obtiene o crea el contexto principal de Spark.\n",
    "sparkContexto03 = spark03.sparkContext.getOrCreate()\n",
    "\n",
    "# Confirmación en consola de la sesión activa.\n",
    "print(\"Sesión creada: HPC004\")\n",
    "spark03  # Muestra información de la sesión activa.\n"
   ]
  },
  {
   "cell_type": "markdown",
   "id": "04585a53-55b0-4c87-9ac3-6f9afe2767db",
   "metadata": {},
   "source": [
    "**Carga de los datasets del proyecto**"
   ]
  },
  {
   "cell_type": "code",
   "execution_count": 3,
   "id": "6d865502-8458-479b-b383-8365a2d5f010",
   "metadata": {},
   "outputs": [],
   "source": [
    "import pandas as pd\n",
    "\n",
    "# Arrestos del NYPD\n",
    "arrestos_pd = pd.read_excel(\"NYPD_Arrest_Data_(Year_to_Date)_20251020.xlsx\")\n",
    "arrestos_df = spark03.createDataFrame(arrestos_pd)"
   ]
  },
  {
   "cell_type": "code",
   "execution_count": 4,
   "id": "0de83249-d5bd-4c46-9db8-db81443a79eb",
   "metadata": {},
   "outputs": [],
   "source": [
    "# Colisiones vehiculares\n",
    "colisiones_pd = pd.read_excel(\n",
    "    \"Motor_Vehicle_Collisions_-_Vehicles_20251020.xlsx\",\n",
    "    nrows=10000  # Solo las primeras 10k filas\n",
    ")\n",
    "colisiones_df = spark03.createDataFrame(colisiones_pd)"
   ]
  },
  {
   "cell_type": "code",
   "execution_count": 5,
   "id": "03742cf8-a119-414e-b0cb-d6b83f69e4fe",
   "metadata": {},
   "outputs": [],
   "source": [
    "# Medición de pobreza\n",
    "pobreza_pd = pd.read_excel(\"NYCgov_Poverty_Measure_Data_(2018)_20251020.xlsx\")\n",
    "pobreza_df = spark03.createDataFrame(pobreza_pd)"
   ]
  },
  {
   "cell_type": "code",
   "execution_count": 6,
   "id": "5df81f8f-eff1-426e-9455-b167868015fa",
   "metadata": {},
   "outputs": [],
   "source": [
    "# Resultados SAT (educación)\n",
    "sat_pd = pd.read_excel(\"SAT_Results.xlsx\")\n",
    "sat_df = spark03.createDataFrame(sat_pd)"
   ]
  },
  {
   "cell_type": "code",
   "execution_count": 7,
   "id": "b73b6ab4-9de2-4fdd-9045-e8597b134d86",
   "metadata": {},
   "outputs": [
    {
     "name": "stderr",
     "output_type": "stream",
     "text": [
      "                                                                                "
     ]
    },
    {
     "name": "stdout",
     "output_type": "stream",
     "text": [
      "Registros en arrestos: 143494\n"
     ]
    },
    {
     "name": "stderr",
     "output_type": "stream",
     "text": [
      "25/10/20 17:49:02 WARN SparkStringUtils: Truncated the string representation of a plan since it was too large. This behavior can be adjusted by setting 'spark.sql.debug.maxToStringFields'.\n"
     ]
    },
    {
     "name": "stdout",
     "output_type": "stream",
     "text": [
      "Registros en colisiones: 10000\n",
      "Registros en pobreza: 68273\n",
      "Registros en SAT: 16\n"
     ]
    }
   ],
   "source": [
    "# Verificación de carga\n",
    "print(\"Registros en arrestos:\", arrestos_df.count())\n",
    "print(\"Registros en colisiones:\", colisiones_df.count())\n",
    "print(\"Registros en pobreza:\", pobreza_df.count())\n",
    "print(\"Registros en SAT:\", sat_df.count())"
   ]
  },
  {
   "cell_type": "code",
   "execution_count": 13,
   "id": "36ce88e2-8933-4328-a8d3-f59d5ee3dc60",
   "metadata": {},
   "outputs": [
    {
     "name": "stdout",
     "output_type": "stream",
     "text": [
      "+--------------------+--------------------+\n",
      "|          Unnamed: 0|          Unnamed: 1|\n",
      "+--------------------+--------------------+\n",
      "|Data Dictionary -...|                 NaN|\n",
      "|                 NaN|                 NaN|\n",
      "|             General|                 NaN|\n",
      "|        Dataset Name|         SAT Results|\n",
      "|         Agency Name|New York City Dep...|\n",
      "+--------------------+--------------------+\n",
      "only showing top 5 rows\n",
      "\n",
      "+----------+-------------------+-----+--------------------+-----+--------------------+----------+----------+-----------+---------------+-----------------+---------+--------+--------------+----------+----------+----------------+-----------------+------------------------+\n",
      "|ARREST_KEY|        ARREST_DATE|PD_CD|             PD_DESC|KY_CD|           OFNS_DESC|  LAW_CODE|LAW_CAT_CD|ARREST_BORO|ARREST_PRECINCT|JURISDICTION_CODE|AGE_GROUP|PERP_SEX|     PERP_RACE|X_COORD_CD|Y_COORD_CD|        Latitude|        Longitude|New Georeferenced Column|\n",
      "+----------+-------------------+-----+--------------------+-----+--------------------+----------+----------+-----------+---------------+-----------------+---------+--------+--------------+----------+----------+----------------+-----------------+------------------------+\n",
      "| 298748497|2025-01-01 00:00:00|  153|              RAPE 3|104.0|                RAPE|PL 1302501|         F|          M|             28|                0|      65+|       M|         WHITE|    997407|    233806|40.8084177460021|-73.9524740603515|    POINT (-73.952474...|\n",
      "| 298909765|2025-01-05 00:00:00|  729|FORGERY,ETC.,UNCL...|113.0|             FORGERY|PL 1702500|         F|          Q|            115|                0|    25-44|       M|         BLACK|         0|         0|             0.0|              0.0|             POINT (0 0)|\n",
      "| 300825973|2025-02-09 00:00:00|  153|              RAPE 3|104.0|                RAPE|PL 1302507|         F|          K|             69|                0|    25-44|       M|         BLACK|   1010541|    175595|40.6486135510607|-73.9052572032302|    POINT (-73.905257...|\n",
      "| 299987678|2025-01-24 00:00:00|  101|           ASSAULT 3|344.0|ASSAULT 3 & RELAT...|PL 1200001|         M|          M|              7|                2|    18-24|       F|WHITE HISPANIC|         0|         0|             0.0|              0.0|             POINT (0 0)|\n",
      "| 299731638|2025-01-20 00:00:00|  105|   STRANGULATION 1ST|106.0|      FELONY ASSAULT|PL 1211200|         F|          K|             73|                0|    25-44|       M|         BLACK|   1010654|    185578|       40.676015|       -73.904808|    POINT (-73.904808...|\n",
      "+----------+-------------------+-----+--------------------+-----+--------------------+----------+----------+-----------+---------------+-----------------+---------+--------+--------------+----------+----------+----------------+-----------------+------------------------+\n",
      "only showing top 5 rows\n",
      "\n",
      "+---------+------------+-------------------+----------+--------------------+------------------+--------------------+-------------+-------------+------------+----------------+-----------------+----------+---------------------+---------------------------+--------------------+-----------------+--------------------+----------------+----------------+----------------+----------------------+---------------------------+---------------------+---------------------+\n",
      "|UNIQUE_ID|COLLISION_ID|         CRASH_DATE|CRASH_TIME|          VEHICLE_ID|STATE_REGISTRATION|        VEHICLE_TYPE| VEHICLE_MAKE|VEHICLE_MODEL|VEHICLE_YEAR|TRAVEL_DIRECTION|VEHICLE_OCCUPANTS|DRIVER_SEX|DRIVER_LICENSE_STATUS|DRIVER_LICENSE_JURISDICTION|           PRE_CRASH|  POINT_OF_IMPACT|      VEHICLE_DAMAGE|VEHICLE_DAMAGE_1|VEHICLE_DAMAGE_2|VEHICLE_DAMAGE_3|PUBLIC_PROPERTY_DAMAGE|PUBLIC_PROPERTY_DAMAGE_TYPE|CONTRIBUTING_FACTOR_1|CONTRIBUTING_FACTOR_2|\n",
      "+---------+------------+-------------------+----------+--------------------+------------------+--------------------+-------------+-------------+------------+----------------+-----------------+----------+---------------------+---------------------------+--------------------+-----------------+--------------------+----------------+----------------+----------------+----------------------+---------------------------+---------------------+---------------------+\n",
      "| 10385780|      100201|2012-09-07 00:00:00|      9:03|                   1|                NY|   PASSENGER VEHICLE|          NaN|          NaN|         NaN|             NaN|              NaN|       NaN|                  NaN|                        NaN|                 NaN|              NaN|                 NaN|             NaN|             NaN|             NaN|                   NaN|                        NaN|          Unspecified|                  NaN|\n",
      "| 19140702|     4213082|2019-09-23 00:00:00|      8:15|0553ab4d-9500-4cb...|                NY|Station Wagon/Spo...|TOYT -CAR/SUV|          NaN|      2002.0|           North|              1.0|         M|             Licensed|                         NY|Going Straight Ahead|Left Front Bumper|Left Front Quarte...|             NaN|             NaN|             NaN|                     N|                        NaN| Driver Inattentio...|          Unspecified|\n",
      "| 14887647|     3307608|2015-10-02 00:00:00|     17:18|                   2|                NY|                TAXI|          NaN|          NaN|         NaN|             NaN|              NaN|       NaN|                  NaN|                        NaN|Going Straight Ahead|              NaN|                 NaN|             NaN|             NaN|             NaN|                   NaN|                        NaN| Driver Inattentio...|                  NaN|\n",
      "| 14889754|     3308693|2015-10-04 00:00:00|     20:34|                   1|                NY|   PASSENGER VEHICLE|          NaN|          NaN|         NaN|             NaN|              NaN|       NaN|                  NaN|                        NaN|              Parked|              NaN|                 NaN|             NaN|             NaN|             NaN|                   NaN|                        NaN|          Unspecified|                  NaN|\n",
      "| 14400270|      297666|2013-04-25 00:00:00|     21:15|                   1|                NY|   PASSENGER VEHICLE|          NaN|          NaN|         NaN|             NaN|              NaN|       NaN|                  NaN|                        NaN|                 NaN|              NaN|                 NaN|             NaN|             NaN|             NaN|                   NaN|                        NaN|      Other Vehicular|                  NaN|\n",
      "+---------+------------+-------------------+----------+--------------------+------------------+--------------------+-------------+-------------+------------+----------------+-----------------+----------+---------------------+---------------------------+--------------------+-----------------+--------------------+----------------+----------------+----------------+----------------------+---------------------------+---------------------+---------------------+\n",
      "only showing top 5 rows\n",
      "\n",
      "+--------+-------+-----+----+----+---+---+---+----+----+---+---+----+---+---+---+---+----+---+----+---+---+---+--------+----+-------------+----------+-------------+-------------+--------+-----------+--------+-----------+-------------+---------+-------------+----------+---------------+---------+----------+--------+---------+---------+-------------+---------------+----------+----------------+------------+-------------+------+------+----------+-----------+---------------+--------+--------+--------+--------+---------+---------------+---------+\n",
      "|SERIALNO|SPORDER|PWGTP|WGTP|AGEP|CIT|REL|SCH|SCHG|SCHL|SEX|ESR|LANX|ENG|MSP|MAR|WKW|WKHP|DIS|JWTR| NP|TEN|HHT|AgeCateg|Boro|CitizenStatus|EducAttain|EST_Childcare|EST_Commuting|EST_EITC|EST_FICAtax|EST_HEAP|EST_Housing|EST_IncomeTax| EST_MOOP|EST_Nutrition|EST_PovGap|EST_PovGapIndex|Ethnicity|FamType_PU|FTPTWork| INTP_adj| MRGP_adj|NYCgov_Income|NYCgov_Pov_Stat|NYCgov_REL|NYCgov_Threshold|Off_Pov_Stat|Off_Threshold|OI_adj|PA_adj|Povunit_ID|Povunit_Rel|PreTaxIncome_PU|RETP_adj|RNTP_adj|SEMP_adj|SSIP_adj|  SSP_adj|TotalWorkHrs_PU| WAGP_adj|\n",
      "+--------+-------+-----+----+----+---+---+---+----+----+---+---+----+---+---+---+---+----+---+----+---+---+---+--------+----+-------------+----------+-------------+-------------+--------+-----------+--------+-----------+-------------+---------+-------------+----------+---------------+---------+----------+--------+---------+---------+-------------+---------------+----------+----------------+------------+-------------+------+------+----------+-----------+---------------+--------+--------+--------+--------+---------+---------------+---------+\n",
      "|       1|      1|   95|  95|  31|  1|  0|  1|   0|22.0|  2|1.0| 2.0|NaN|6.0|  5|1.0|  60|  2|12.0|  1|  2|  6|       2|   2|            1|       4.0|          0.0|       1722.0|     0.0|  9765.2422|     0.0|  1478.3278|    33580.543|   2642.8|          0.0|       0.0|            0.0|        4|         8|       1|      0.0|      0.0|    81417.961|              2|         0|         16241.6|           2|        13064|   0.0|   0.0|         1|          1|      127650.22|     0.0|     0.0|     0.0|     0.0|      0.0|              2|127650.22|\n",
      "|      16|      1|  181| 181|  63|  1|  0|  1|   0|22.0|  2|1.0| 2.0|NaN|1.0|  1|1.0|  60|  2| 1.0|  2|  1|  1|       2|   3|            1|       4.0|          0.0|    3840.8416|     0.0|  13950.346|     0.0|        0.0|    95503.234|4766.7998|          0.0|       0.0|            0.0|        1|         2|       1| 101309.7|2532.7424|    228417.95|              2|         0|       22900.654|           2|        16815|   0.0|   0.0|         1|          1|      346479.19|     0.0|     0.0|     0.0|     0.0|      0.0|              2|182357.45|\n",
      "|      16|      2|  210| 181|  65|  1|  1|  1|   0|19.0|  1|6.0| 2.0|NaN|1.0|  1|NaN|   0|  2| NaN|  2|  1|  1|       3|   3|            1|       3.0|          0.0|    3840.8416|     0.0|  13950.346|     0.0|        0.0|    95503.234|4766.7998|          0.0|       0.0|            0.0|        1|         2|       3|50654.852|2532.7424|    228417.95|              2|         1|       22900.654|           2|        16815|   0.0|   0.0|         1|          2|      346479.19|     0.0|     0.0|     0.0|     0.0|12157.164|              2|      0.0|\n",
      "|      47|      1|   62|  62|  68|  4|  0|  1|   0| 1.0|  1|1.0| 1.0|2.0|1.0|  1|1.0|  40|  2|10.0|  2|  2|  1|       3|   2|            2|       1.0|          0.0|          0.0|     0.0|  9765.2422|     0.0|  2612.8022|    27574.365|   3218.8|          0.0|       0.0|            0.0|        1|         2|       1|      0.0|      0.0|    117058.23|              2|         0|       22900.654|           2|        15178|   0.0|   0.0|         1|          1|      155003.84|     0.0|     0.0|     0.0|     0.0|27353.619|              1|91178.727|\n",
      "|      47|      2|   71|  62|  63|  4|  1|  1|   0| 1.0|  2|1.0| 1.0|1.0|1.0|  1|1.0|  40|  2|10.0|  2|  2|  1|       2|   2|            2|       1.0|          0.0|          0.0|     0.0|  9765.2422|     0.0|  2612.8022|    27574.365|   3218.8|          0.0|       0.0|            0.0|        1|         2|       1|      0.0|      0.0|    117058.23|              2|         1|       22900.654|           2|        15178|   0.0|   0.0|         1|          2|      155003.84|     0.0|     0.0|     0.0|     0.0|      0.0|              1|36471.492|\n",
      "+--------+-------+-----+----+----+---+---+---+----+----+---+---+----+---+---+---+---+----+---+----+---+---+---+--------+----+-------------+----------+-------------+-------------+--------+-----------+--------+-----------+-------------+---------+-------------+----------+---------------+---------+----------+--------+---------+---------+-------------+---------------+----------+----------------+------------+-------------+------+------+----------+-----------+---------------+--------+--------+--------+--------+---------+---------------+---------+\n",
      "only showing top 5 rows\n",
      "\n"
     ]
    }
   ],
   "source": [
    "sat_df.show(5)\n",
    "arrestos_df.show(5)\n",
    "colisiones_df.show(5)\n",
    "pobreza_df.show(5)"
   ]
  },
  {
   "cell_type": "markdown",
   "id": "7e4763b5-bec5-4699-8c37-1fe6e000fced",
   "metadata": {},
   "source": [
    "**Carga del dataset real del SAT (resultados 2012)**"
   ]
  },
  {
   "cell_type": "code",
   "execution_count": 10,
   "id": "5793f276-6d31-460a-8586-21370407d25c",
   "metadata": {},
   "outputs": [
    {
     "name": "stdout",
     "output_type": "stream",
     "text": [
      "Registros en SAT real: 460\n",
      "Columnas en SAT real: 6\n",
      "\n",
      "=== Columnas del dataset SAT real ===\n",
      "['DBN', 'School Name', 'Number of Test Takers', 'Critical Reading Mean', 'Mathematics Mean', 'Writing Mean']\n",
      "+------+--------------------+---------------------+---------------------+----------------+------------+\n",
      "|   DBN|         School Name|Number of Test Takers|Critical Reading Mean|Mathematics Mean|Writing Mean|\n",
      "+------+--------------------+---------------------+---------------------+----------------+------------+\n",
      "|01M292|Henry Street Scho...|                 31.0|                391.0|           425.0|       385.0|\n",
      "|01M448|University Neighb...|                 60.0|                394.0|           419.0|       387.0|\n",
      "|01M450|East Side Communi...|                 69.0|                418.0|           431.0|       402.0|\n",
      "|01M458|SATELLITE ACADEMY...|                 26.0|                385.0|           370.0|       378.0|\n",
      "|01M509|   CMSP HIGH SCHOOL |                  NaN|                  NaN|             NaN|         NaN|\n",
      "+------+--------------------+---------------------+---------------------+----------------+------------+\n",
      "only showing top 5 rows\n",
      "\n"
     ]
    }
   ],
   "source": [
    "# El dataset real contiene los puntajes promedio de lectura, matemáticas y escritura por escuela.\n",
    "# Fuente oficial: NYC Department of Education (2012)\n",
    "# https://data.cityofnewyork.us/Education/SAT-College-Board-2010-School-Level-Results/zt9s-n5aj/about_data\n",
    "\n",
    "# Leer el archivo Excel real con pandas\n",
    "sat_real_pd = pd.read_excel(\"SAT_(College_Board)_2010_School_Level_Results_20251020.xlsx\")  \n",
    "\n",
    "# Convertirlo a DataFrame de Spark\n",
    "sat_real_df = spark03.createDataFrame(sat_real_pd)\n",
    "\n",
    "print(\"Registros en SAT real:\", sat_real_df.count())\n",
    "print(\"Columnas en SAT real:\", len(sat_real_df.columns))\n",
    "print(\"\\n=== Columnas del dataset SAT real ===\")\n",
    "print(sat_real_df.columns)\n",
    "\n",
    "sat_real_df.show(5)"
   ]
  },
  {
   "cell_type": "markdown",
   "id": "0db3dada-9203-4b05-a1d7-44dd583cbde3",
   "metadata": {},
   "source": [
    "**Descripción técnica de los datasets**"
   ]
  },
  {
   "cell_type": "code",
   "execution_count": 14,
   "id": "48f5e364-46fd-47a3-a55d-26ae041d7897",
   "metadata": {},
   "outputs": [
    {
     "name": "stdout",
     "output_type": "stream",
     "text": [
      "=== Estructura de Arrestos ===\n",
      "root\n",
      " |-- ARREST_KEY: long (nullable = true)\n",
      " |-- ARREST_DATE: timestamp (nullable = true)\n",
      " |-- PD_CD: long (nullable = true)\n",
      " |-- PD_DESC: string (nullable = true)\n",
      " |-- KY_CD: double (nullable = true)\n",
      " |-- OFNS_DESC: string (nullable = true)\n",
      " |-- LAW_CODE: string (nullable = true)\n",
      " |-- LAW_CAT_CD: string (nullable = true)\n",
      " |-- ARREST_BORO: string (nullable = true)\n",
      " |-- ARREST_PRECINCT: long (nullable = true)\n",
      " |-- JURISDICTION_CODE: long (nullable = true)\n",
      " |-- AGE_GROUP: string (nullable = true)\n",
      " |-- PERP_SEX: string (nullable = true)\n",
      " |-- PERP_RACE: string (nullable = true)\n",
      " |-- X_COORD_CD: long (nullable = true)\n",
      " |-- Y_COORD_CD: long (nullable = true)\n",
      " |-- Latitude: double (nullable = true)\n",
      " |-- Longitude: double (nullable = true)\n",
      " |-- New Georeferenced Column: string (nullable = true)\n",
      "\n",
      "+----------+-------------------+-----+--------------------+-----+--------------------+----------+----------+-----------+---------------+-----------------+---------+--------+--------------+----------+----------+----------------+-----------------+------------------------+\n",
      "|ARREST_KEY|        ARREST_DATE|PD_CD|             PD_DESC|KY_CD|           OFNS_DESC|  LAW_CODE|LAW_CAT_CD|ARREST_BORO|ARREST_PRECINCT|JURISDICTION_CODE|AGE_GROUP|PERP_SEX|     PERP_RACE|X_COORD_CD|Y_COORD_CD|        Latitude|        Longitude|New Georeferenced Column|\n",
      "+----------+-------------------+-----+--------------------+-----+--------------------+----------+----------+-----------+---------------+-----------------+---------+--------+--------------+----------+----------+----------------+-----------------+------------------------+\n",
      "| 298748497|2025-01-01 00:00:00|  153|              RAPE 3|104.0|                RAPE|PL 1302501|         F|          M|             28|                0|      65+|       M|         WHITE|    997407|    233806|40.8084177460021|-73.9524740603515|    POINT (-73.952474...|\n",
      "| 298909765|2025-01-05 00:00:00|  729|FORGERY,ETC.,UNCL...|113.0|             FORGERY|PL 1702500|         F|          Q|            115|                0|    25-44|       M|         BLACK|         0|         0|             0.0|              0.0|             POINT (0 0)|\n",
      "| 300825973|2025-02-09 00:00:00|  153|              RAPE 3|104.0|                RAPE|PL 1302507|         F|          K|             69|                0|    25-44|       M|         BLACK|   1010541|    175595|40.6486135510607|-73.9052572032302|    POINT (-73.905257...|\n",
      "| 299987678|2025-01-24 00:00:00|  101|           ASSAULT 3|344.0|ASSAULT 3 & RELAT...|PL 1200001|         M|          M|              7|                2|    18-24|       F|WHITE HISPANIC|         0|         0|             0.0|              0.0|             POINT (0 0)|\n",
      "| 299731638|2025-01-20 00:00:00|  105|   STRANGULATION 1ST|106.0|      FELONY ASSAULT|PL 1211200|         F|          K|             73|                0|    25-44|       M|         BLACK|   1010654|    185578|       40.676015|       -73.904808|    POINT (-73.904808...|\n",
      "+----------+-------------------+-----+--------------------+-----+--------------------+----------+----------+-----------+---------------+-----------------+---------+--------+--------------+----------+----------+----------------+-----------------+------------------------+\n",
      "only showing top 5 rows\n",
      "\n",
      "=== Estructura de Colisiones ===\n",
      "root\n",
      " |-- UNIQUE_ID: long (nullable = true)\n",
      " |-- COLLISION_ID: long (nullable = true)\n",
      " |-- CRASH_DATE: timestamp (nullable = true)\n",
      " |-- CRASH_TIME: string (nullable = true)\n",
      " |-- VEHICLE_ID: string (nullable = true)\n",
      " |-- STATE_REGISTRATION: string (nullable = true)\n",
      " |-- VEHICLE_TYPE: string (nullable = true)\n",
      " |-- VEHICLE_MAKE: string (nullable = true)\n",
      " |-- VEHICLE_MODEL: string (nullable = true)\n",
      " |-- VEHICLE_YEAR: double (nullable = true)\n",
      " |-- TRAVEL_DIRECTION: string (nullable = true)\n",
      " |-- VEHICLE_OCCUPANTS: double (nullable = true)\n",
      " |-- DRIVER_SEX: string (nullable = true)\n",
      " |-- DRIVER_LICENSE_STATUS: string (nullable = true)\n",
      " |-- DRIVER_LICENSE_JURISDICTION: string (nullable = true)\n",
      " |-- PRE_CRASH: string (nullable = true)\n",
      " |-- POINT_OF_IMPACT: string (nullable = true)\n",
      " |-- VEHICLE_DAMAGE: string (nullable = true)\n",
      " |-- VEHICLE_DAMAGE_1: string (nullable = true)\n",
      " |-- VEHICLE_DAMAGE_2: string (nullable = true)\n",
      " |-- VEHICLE_DAMAGE_3: string (nullable = true)\n",
      " |-- PUBLIC_PROPERTY_DAMAGE: string (nullable = true)\n",
      " |-- PUBLIC_PROPERTY_DAMAGE_TYPE: string (nullable = true)\n",
      " |-- CONTRIBUTING_FACTOR_1: string (nullable = true)\n",
      " |-- CONTRIBUTING_FACTOR_2: string (nullable = true)\n",
      "\n",
      "+---------+------------+-------------------+----------+--------------------+------------------+--------------------+-------------+-------------+------------+----------------+-----------------+----------+---------------------+---------------------------+--------------------+-----------------+--------------------+----------------+----------------+----------------+----------------------+---------------------------+---------------------+---------------------+\n",
      "|UNIQUE_ID|COLLISION_ID|         CRASH_DATE|CRASH_TIME|          VEHICLE_ID|STATE_REGISTRATION|        VEHICLE_TYPE| VEHICLE_MAKE|VEHICLE_MODEL|VEHICLE_YEAR|TRAVEL_DIRECTION|VEHICLE_OCCUPANTS|DRIVER_SEX|DRIVER_LICENSE_STATUS|DRIVER_LICENSE_JURISDICTION|           PRE_CRASH|  POINT_OF_IMPACT|      VEHICLE_DAMAGE|VEHICLE_DAMAGE_1|VEHICLE_DAMAGE_2|VEHICLE_DAMAGE_3|PUBLIC_PROPERTY_DAMAGE|PUBLIC_PROPERTY_DAMAGE_TYPE|CONTRIBUTING_FACTOR_1|CONTRIBUTING_FACTOR_2|\n",
      "+---------+------------+-------------------+----------+--------------------+------------------+--------------------+-------------+-------------+------------+----------------+-----------------+----------+---------------------+---------------------------+--------------------+-----------------+--------------------+----------------+----------------+----------------+----------------------+---------------------------+---------------------+---------------------+\n",
      "| 10385780|      100201|2012-09-07 00:00:00|      9:03|                   1|                NY|   PASSENGER VEHICLE|          NaN|          NaN|         NaN|             NaN|              NaN|       NaN|                  NaN|                        NaN|                 NaN|              NaN|                 NaN|             NaN|             NaN|             NaN|                   NaN|                        NaN|          Unspecified|                  NaN|\n",
      "| 19140702|     4213082|2019-09-23 00:00:00|      8:15|0553ab4d-9500-4cb...|                NY|Station Wagon/Spo...|TOYT -CAR/SUV|          NaN|      2002.0|           North|              1.0|         M|             Licensed|                         NY|Going Straight Ahead|Left Front Bumper|Left Front Quarte...|             NaN|             NaN|             NaN|                     N|                        NaN| Driver Inattentio...|          Unspecified|\n",
      "| 14887647|     3307608|2015-10-02 00:00:00|     17:18|                   2|                NY|                TAXI|          NaN|          NaN|         NaN|             NaN|              NaN|       NaN|                  NaN|                        NaN|Going Straight Ahead|              NaN|                 NaN|             NaN|             NaN|             NaN|                   NaN|                        NaN| Driver Inattentio...|                  NaN|\n",
      "| 14889754|     3308693|2015-10-04 00:00:00|     20:34|                   1|                NY|   PASSENGER VEHICLE|          NaN|          NaN|         NaN|             NaN|              NaN|       NaN|                  NaN|                        NaN|              Parked|              NaN|                 NaN|             NaN|             NaN|             NaN|                   NaN|                        NaN|          Unspecified|                  NaN|\n",
      "| 14400270|      297666|2013-04-25 00:00:00|     21:15|                   1|                NY|   PASSENGER VEHICLE|          NaN|          NaN|         NaN|             NaN|              NaN|       NaN|                  NaN|                        NaN|                 NaN|              NaN|                 NaN|             NaN|             NaN|             NaN|                   NaN|                        NaN|      Other Vehicular|                  NaN|\n",
      "+---------+------------+-------------------+----------+--------------------+------------------+--------------------+-------------+-------------+------------+----------------+-----------------+----------+---------------------+---------------------------+--------------------+-----------------+--------------------+----------------+----------------+----------------+----------------------+---------------------------+---------------------+---------------------+\n",
      "only showing top 5 rows\n",
      "\n",
      "=== Estructura de Pobreza ===\n",
      "root\n",
      " |-- SERIALNO: long (nullable = true)\n",
      " |-- SPORDER: long (nullable = true)\n",
      " |-- PWGTP: long (nullable = true)\n",
      " |-- WGTP: long (nullable = true)\n",
      " |-- AGEP: long (nullable = true)\n",
      " |-- CIT: long (nullable = true)\n",
      " |-- REL: long (nullable = true)\n",
      " |-- SCH: long (nullable = true)\n",
      " |-- SCHG: long (nullable = true)\n",
      " |-- SCHL: double (nullable = true)\n",
      " |-- SEX: long (nullable = true)\n",
      " |-- ESR: double (nullable = true)\n",
      " |-- LANX: double (nullable = true)\n",
      " |-- ENG: double (nullable = true)\n",
      " |-- MSP: double (nullable = true)\n",
      " |-- MAR: long (nullable = true)\n",
      " |-- WKW: double (nullable = true)\n",
      " |-- WKHP: long (nullable = true)\n",
      " |-- DIS: long (nullable = true)\n",
      " |-- JWTR: double (nullable = true)\n",
      " |-- NP: long (nullable = true)\n",
      " |-- TEN: long (nullable = true)\n",
      " |-- HHT: long (nullable = true)\n",
      " |-- AgeCateg: long (nullable = true)\n",
      " |-- Boro: long (nullable = true)\n",
      " |-- CitizenStatus: long (nullable = true)\n",
      " |-- EducAttain: double (nullable = true)\n",
      " |-- EST_Childcare: double (nullable = true)\n",
      " |-- EST_Commuting: double (nullable = true)\n",
      " |-- EST_EITC: double (nullable = true)\n",
      " |-- EST_FICAtax: double (nullable = true)\n",
      " |-- EST_HEAP: double (nullable = true)\n",
      " |-- EST_Housing: double (nullable = true)\n",
      " |-- EST_IncomeTax: double (nullable = true)\n",
      " |-- EST_MOOP: double (nullable = true)\n",
      " |-- EST_Nutrition: double (nullable = true)\n",
      " |-- EST_PovGap: double (nullable = true)\n",
      " |-- EST_PovGapIndex: double (nullable = true)\n",
      " |-- Ethnicity: long (nullable = true)\n",
      " |-- FamType_PU: long (nullable = true)\n",
      " |-- FTPTWork: long (nullable = true)\n",
      " |-- INTP_adj: double (nullable = true)\n",
      " |-- MRGP_adj: double (nullable = true)\n",
      " |-- NYCgov_Income: double (nullable = true)\n",
      " |-- NYCgov_Pov_Stat: long (nullable = true)\n",
      " |-- NYCgov_REL: long (nullable = true)\n",
      " |-- NYCgov_Threshold: double (nullable = true)\n",
      " |-- Off_Pov_Stat: long (nullable = true)\n",
      " |-- Off_Threshold: long (nullable = true)\n",
      " |-- OI_adj: double (nullable = true)\n",
      " |-- PA_adj: double (nullable = true)\n",
      " |-- Povunit_ID: long (nullable = true)\n",
      " |-- Povunit_Rel: long (nullable = true)\n",
      " |-- PreTaxIncome_PU: double (nullable = true)\n",
      " |-- RETP_adj: double (nullable = true)\n",
      " |-- RNTP_adj: double (nullable = true)\n",
      " |-- SEMP_adj: double (nullable = true)\n",
      " |-- SSIP_adj: double (nullable = true)\n",
      " |-- SSP_adj: double (nullable = true)\n",
      " |-- TotalWorkHrs_PU: long (nullable = true)\n",
      " |-- WAGP_adj: double (nullable = true)\n",
      "\n",
      "+--------+-------+-----+----+----+---+---+---+----+----+---+---+----+---+---+---+---+----+---+----+---+---+---+--------+----+-------------+----------+-------------+-------------+--------+-----------+--------+-----------+-------------+---------+-------------+----------+---------------+---------+----------+--------+---------+---------+-------------+---------------+----------+----------------+------------+-------------+------+------+----------+-----------+---------------+--------+--------+--------+--------+---------+---------------+---------+\n",
      "|SERIALNO|SPORDER|PWGTP|WGTP|AGEP|CIT|REL|SCH|SCHG|SCHL|SEX|ESR|LANX|ENG|MSP|MAR|WKW|WKHP|DIS|JWTR| NP|TEN|HHT|AgeCateg|Boro|CitizenStatus|EducAttain|EST_Childcare|EST_Commuting|EST_EITC|EST_FICAtax|EST_HEAP|EST_Housing|EST_IncomeTax| EST_MOOP|EST_Nutrition|EST_PovGap|EST_PovGapIndex|Ethnicity|FamType_PU|FTPTWork| INTP_adj| MRGP_adj|NYCgov_Income|NYCgov_Pov_Stat|NYCgov_REL|NYCgov_Threshold|Off_Pov_Stat|Off_Threshold|OI_adj|PA_adj|Povunit_ID|Povunit_Rel|PreTaxIncome_PU|RETP_adj|RNTP_adj|SEMP_adj|SSIP_adj|  SSP_adj|TotalWorkHrs_PU| WAGP_adj|\n",
      "+--------+-------+-----+----+----+---+---+---+----+----+---+---+----+---+---+---+---+----+---+----+---+---+---+--------+----+-------------+----------+-------------+-------------+--------+-----------+--------+-----------+-------------+---------+-------------+----------+---------------+---------+----------+--------+---------+---------+-------------+---------------+----------+----------------+------------+-------------+------+------+----------+-----------+---------------+--------+--------+--------+--------+---------+---------------+---------+\n",
      "|       1|      1|   95|  95|  31|  1|  0|  1|   0|22.0|  2|1.0| 2.0|NaN|6.0|  5|1.0|  60|  2|12.0|  1|  2|  6|       2|   2|            1|       4.0|          0.0|       1722.0|     0.0|  9765.2422|     0.0|  1478.3278|    33580.543|   2642.8|          0.0|       0.0|            0.0|        4|         8|       1|      0.0|      0.0|    81417.961|              2|         0|         16241.6|           2|        13064|   0.0|   0.0|         1|          1|      127650.22|     0.0|     0.0|     0.0|     0.0|      0.0|              2|127650.22|\n",
      "|      16|      1|  181| 181|  63|  1|  0|  1|   0|22.0|  2|1.0| 2.0|NaN|1.0|  1|1.0|  60|  2| 1.0|  2|  1|  1|       2|   3|            1|       4.0|          0.0|    3840.8416|     0.0|  13950.346|     0.0|        0.0|    95503.234|4766.7998|          0.0|       0.0|            0.0|        1|         2|       1| 101309.7|2532.7424|    228417.95|              2|         0|       22900.654|           2|        16815|   0.0|   0.0|         1|          1|      346479.19|     0.0|     0.0|     0.0|     0.0|      0.0|              2|182357.45|\n",
      "|      16|      2|  210| 181|  65|  1|  1|  1|   0|19.0|  1|6.0| 2.0|NaN|1.0|  1|NaN|   0|  2| NaN|  2|  1|  1|       3|   3|            1|       3.0|          0.0|    3840.8416|     0.0|  13950.346|     0.0|        0.0|    95503.234|4766.7998|          0.0|       0.0|            0.0|        1|         2|       3|50654.852|2532.7424|    228417.95|              2|         1|       22900.654|           2|        16815|   0.0|   0.0|         1|          2|      346479.19|     0.0|     0.0|     0.0|     0.0|12157.164|              2|      0.0|\n",
      "|      47|      1|   62|  62|  68|  4|  0|  1|   0| 1.0|  1|1.0| 1.0|2.0|1.0|  1|1.0|  40|  2|10.0|  2|  2|  1|       3|   2|            2|       1.0|          0.0|          0.0|     0.0|  9765.2422|     0.0|  2612.8022|    27574.365|   3218.8|          0.0|       0.0|            0.0|        1|         2|       1|      0.0|      0.0|    117058.23|              2|         0|       22900.654|           2|        15178|   0.0|   0.0|         1|          1|      155003.84|     0.0|     0.0|     0.0|     0.0|27353.619|              1|91178.727|\n",
      "|      47|      2|   71|  62|  63|  4|  1|  1|   0| 1.0|  2|1.0| 1.0|1.0|1.0|  1|1.0|  40|  2|10.0|  2|  2|  1|       2|   2|            2|       1.0|          0.0|          0.0|     0.0|  9765.2422|     0.0|  2612.8022|    27574.365|   3218.8|          0.0|       0.0|            0.0|        1|         2|       1|      0.0|      0.0|    117058.23|              2|         1|       22900.654|           2|        15178|   0.0|   0.0|         1|          2|      155003.84|     0.0|     0.0|     0.0|     0.0|      0.0|              1|36471.492|\n",
      "+--------+-------+-----+----+----+---+---+---+----+----+---+---+----+---+---+---+---+----+---+----+---+---+---+--------+----+-------------+----------+-------------+-------------+--------+-----------+--------+-----------+-------------+---------+-------------+----------+---------------+---------+----------+--------+---------+---------+-------------+---------------+----------+----------------+------------+-------------+------+------+----------+-----------+---------------+--------+--------+--------+--------+---------+---------------+---------+\n",
      "only showing top 5 rows\n",
      "\n",
      "=== Estructura de SAT (Educación) ===\n",
      "root\n",
      " |-- Unnamed: 0: string (nullable = true)\n",
      " |-- Unnamed: 1: string (nullable = true)\n",
      "\n",
      "+--------------------+--------------------+\n",
      "|          Unnamed: 0|          Unnamed: 1|\n",
      "+--------------------+--------------------+\n",
      "|Data Dictionary -...|                 NaN|\n",
      "|                 NaN|                 NaN|\n",
      "|             General|                 NaN|\n",
      "|        Dataset Name|         SAT Results|\n",
      "|         Agency Name|New York City Dep...|\n",
      "+--------------------+--------------------+\n",
      "only showing top 5 rows\n",
      "\n",
      "=== Estructura de SAT 2012 (Educación) ===\n",
      "root\n",
      " |-- DBN: string (nullable = true)\n",
      " |-- School Name: string (nullable = true)\n",
      " |-- Number of Test Takers: double (nullable = true)\n",
      " |-- Critical Reading Mean: double (nullable = true)\n",
      " |-- Mathematics Mean: double (nullable = true)\n",
      " |-- Writing Mean: double (nullable = true)\n",
      "\n",
      "+------+--------------------+---------------------+---------------------+----------------+------------+\n",
      "|   DBN|         School Name|Number of Test Takers|Critical Reading Mean|Mathematics Mean|Writing Mean|\n",
      "+------+--------------------+---------------------+---------------------+----------------+------------+\n",
      "|01M292|Henry Street Scho...|                 31.0|                391.0|           425.0|       385.0|\n",
      "|01M448|University Neighb...|                 60.0|                394.0|           419.0|       387.0|\n",
      "|01M450|East Side Communi...|                 69.0|                418.0|           431.0|       402.0|\n",
      "|01M458|SATELLITE ACADEMY...|                 26.0|                385.0|           370.0|       378.0|\n",
      "|01M509|   CMSP HIGH SCHOOL |                  NaN|                  NaN|             NaN|         NaN|\n",
      "+------+--------------------+---------------------+---------------------+----------------+------------+\n",
      "only showing top 5 rows\n",
      "\n"
     ]
    }
   ],
   "source": [
    "print(\"=== Estructura de Arrestos ===\")\n",
    "arrestos_df.printSchema()\n",
    "arrestos_df.show(5)\n",
    "\n",
    "print(\"=== Estructura de Colisiones ===\")\n",
    "colisiones_df.printSchema()\n",
    "colisiones_df.show(5)\n",
    "\n",
    "print(\"=== Estructura de Pobreza ===\")\n",
    "pobreza_df.printSchema()\n",
    "pobreza_df.show(5)\n",
    "\n",
    "print(\"=== Estructura de SAT (Educación) ===\")\n",
    "sat_df.printSchema()\n",
    "sat_df.show(5)\n",
    "\n",
    "print(\"=== Estructura de SAT 2012 (Educación) ===\")\n",
    "sat_real_df.printSchema()\n",
    "sat_real_df.show(5)"
   ]
  },
  {
   "cell_type": "markdown",
   "id": "27215e3b-c9de-4888-a6c0-32fdbadcfdfb",
   "metadata": {},
   "source": [
    "**Análisis descriptivo inicial**"
   ]
  },
  {
   "cell_type": "code",
   "execution_count": 20,
   "id": "8fe5008f-34ec-474f-a3a5-0a12bd0dd89b",
   "metadata": {},
   "outputs": [
    {
     "name": "stdout",
     "output_type": "stream",
     "text": [
      "Columnas en Arrestos: 19\n",
      "Columnas en Colisiones: 25\n",
      "Columnas en Pobreza: 61\n",
      "Columnas en SAT: 2\n",
      "\n",
      "=== Columnas de Arrestos ===\n",
      "['ARREST_KEY', 'ARREST_DATE', 'PD_CD', 'PD_DESC', 'KY_CD', 'OFNS_DESC', 'LAW_CODE', 'LAW_CAT_CD', 'ARREST_BORO', 'ARREST_PRECINCT', 'JURISDICTION_CODE', 'AGE_GROUP', 'PERP_SEX', 'PERP_RACE', 'X_COORD_CD', 'Y_COORD_CD', 'Latitude', 'Longitude', 'New Georeferenced Column']\n",
      "\n",
      "=== Columnas de Colisiones ===\n",
      "['UNIQUE_ID', 'COLLISION_ID', 'CRASH_DATE', 'CRASH_TIME', 'VEHICLE_ID', 'STATE_REGISTRATION', 'VEHICLE_TYPE', 'VEHICLE_MAKE', 'VEHICLE_MODEL', 'VEHICLE_YEAR', 'TRAVEL_DIRECTION', 'VEHICLE_OCCUPANTS', 'DRIVER_SEX', 'DRIVER_LICENSE_STATUS', 'DRIVER_LICENSE_JURISDICTION', 'PRE_CRASH', 'POINT_OF_IMPACT', 'VEHICLE_DAMAGE', 'VEHICLE_DAMAGE_1', 'VEHICLE_DAMAGE_2', 'VEHICLE_DAMAGE_3', 'PUBLIC_PROPERTY_DAMAGE', 'PUBLIC_PROPERTY_DAMAGE_TYPE', 'CONTRIBUTING_FACTOR_1', 'CONTRIBUTING_FACTOR_2']\n",
      "\n",
      "=== Columnas de Pobreza ===\n",
      "['SERIALNO', 'SPORDER', 'PWGTP', 'WGTP', 'AGEP', 'CIT', 'REL', 'SCH', 'SCHG', 'SCHL', 'SEX', 'ESR', 'LANX', 'ENG', 'MSP', 'MAR', 'WKW', 'WKHP', 'DIS', 'JWTR', 'NP', 'TEN', 'HHT', 'AgeCateg', 'Boro', 'CitizenStatus', 'EducAttain', 'EST_Childcare', 'EST_Commuting', 'EST_EITC', 'EST_FICAtax', 'EST_HEAP', 'EST_Housing', 'EST_IncomeTax', 'EST_MOOP', 'EST_Nutrition', 'EST_PovGap', 'EST_PovGapIndex', 'Ethnicity', 'FamType_PU', 'FTPTWork', 'INTP_adj', 'MRGP_adj', 'NYCgov_Income', 'NYCgov_Pov_Stat', 'NYCgov_REL', 'NYCgov_Threshold', 'Off_Pov_Stat', 'Off_Threshold', 'OI_adj', 'PA_adj', 'Povunit_ID', 'Povunit_Rel', 'PreTaxIncome_PU', 'RETP_adj', 'RNTP_adj', 'SEMP_adj', 'SSIP_adj', 'SSP_adj', 'TotalWorkHrs_PU', 'WAGP_adj']\n",
      "\n",
      "=== Columnas de SAT ===\n",
      "['Unnamed: 0', 'Unnamed: 1']\n",
      "\n",
      "=== Columnas de SAT 2012 ===\n",
      "['DBN', 'School Name', 'Number of Test Takers', 'Critical Reading Mean', 'Mathematics Mean', 'Writing Mean']\n",
      "\n",
      "=== Valores nulos en Arrestos ===\n",
      "+----------+-----------+-----+-------+-----+---------+--------+----------+-----------+---------------+-----------------+---------+--------+---------+----------+----------+--------+---------+------------------------+\n",
      "|ARREST_KEY|ARREST_DATE|PD_CD|PD_DESC|KY_CD|OFNS_DESC|LAW_CODE|LAW_CAT_CD|ARREST_BORO|ARREST_PRECINCT|JURISDICTION_CODE|AGE_GROUP|PERP_SEX|PERP_RACE|X_COORD_CD|Y_COORD_CD|Latitude|Longitude|New Georeferenced Column|\n",
      "+----------+-----------+-----+-------+-----+---------+--------+----------+-----------+---------------+-----------------+---------+--------+---------+----------+----------+--------+---------+------------------------+\n",
      "|         0|          0|    0|      0|    0|        0|       0|         0|          0|              0|                0|        0|       0|        0|         0|         0|       0|        0|                       0|\n",
      "+----------+-----------+-----+-------+-----+---------+--------+----------+-----------+---------------+-----------------+---------+--------+---------+----------+----------+--------+---------+------------------------+\n",
      "\n",
      "\n",
      "=== Valores nulos en Colisiones ===\n",
      "+---------+------------+----------+----------+----------+------------------+------------+------------+-------------+------------+----------------+-----------------+----------+---------------------+---------------------------+---------+---------------+--------------+----------------+----------------+----------------+----------------------+---------------------------+---------------------+---------------------+\n",
      "|UNIQUE_ID|COLLISION_ID|CRASH_DATE|CRASH_TIME|VEHICLE_ID|STATE_REGISTRATION|VEHICLE_TYPE|VEHICLE_MAKE|VEHICLE_MODEL|VEHICLE_YEAR|TRAVEL_DIRECTION|VEHICLE_OCCUPANTS|DRIVER_SEX|DRIVER_LICENSE_STATUS|DRIVER_LICENSE_JURISDICTION|PRE_CRASH|POINT_OF_IMPACT|VEHICLE_DAMAGE|VEHICLE_DAMAGE_1|VEHICLE_DAMAGE_2|VEHICLE_DAMAGE_3|PUBLIC_PROPERTY_DAMAGE|PUBLIC_PROPERTY_DAMAGE_TYPE|CONTRIBUTING_FACTOR_1|CONTRIBUTING_FACTOR_2|\n",
      "+---------+------------+----------+----------+----------+------------------+------------+------------+-------------+------------+----------------+-----------------+----------+---------------------+---------------------------+---------+---------------+--------------+----------------+----------------+----------------+----------------------+---------------------------+---------------------+---------------------+\n",
      "|        0|           0|         0|         0|         0|                 0|           0|           0|            0|           0|               0|                0|         0|                    0|                          0|        0|              0|             0|               0|               0|               0|                     0|                          0|                    0|                    0|\n",
      "+---------+------------+----------+----------+----------+------------------+------------+------------+-------------+------------+----------------+-----------------+----------+---------------------+---------------------------+---------+---------------+--------------+----------------+----------------+----------------+----------------------+---------------------------+---------------------+---------------------+\n",
      "\n",
      "\n",
      "=== Valores nulos en Pobreza ===\n"
     ]
    },
    {
     "name": "stderr",
     "output_type": "stream",
     "text": [
      "                                                                                "
     ]
    },
    {
     "name": "stdout",
     "output_type": "stream",
     "text": [
      "+--------+-------+-----+----+----+---+---+---+----+----+---+---+----+---+---+---+---+----+---+----+---+---+---+--------+----+-------------+----------+-------------+-------------+--------+-----------+--------+-----------+-------------+--------+-------------+----------+---------------+---------+----------+--------+--------+--------+-------------+---------------+----------+----------------+------------+-------------+------+------+----------+-----------+---------------+--------+--------+--------+--------+-------+---------------+--------+\n",
      "|SERIALNO|SPORDER|PWGTP|WGTP|AGEP|CIT|REL|SCH|SCHG|SCHL|SEX|ESR|LANX|ENG|MSP|MAR|WKW|WKHP|DIS|JWTR| NP|TEN|HHT|AgeCateg|Boro|CitizenStatus|EducAttain|EST_Childcare|EST_Commuting|EST_EITC|EST_FICAtax|EST_HEAP|EST_Housing|EST_IncomeTax|EST_MOOP|EST_Nutrition|EST_PovGap|EST_PovGapIndex|Ethnicity|FamType_PU|FTPTWork|INTP_adj|MRGP_adj|NYCgov_Income|NYCgov_Pov_Stat|NYCgov_REL|NYCgov_Threshold|Off_Pov_Stat|Off_Threshold|OI_adj|PA_adj|Povunit_ID|Povunit_Rel|PreTaxIncome_PU|RETP_adj|RNTP_adj|SEMP_adj|SSIP_adj|SSP_adj|TotalWorkHrs_PU|WAGP_adj|\n",
      "+--------+-------+-----+----+----+---+---+---+----+----+---+---+----+---+---+---+---+----+---+----+---+---+---+--------+----+-------------+----------+-------------+-------------+--------+-----------+--------+-----------+-------------+--------+-------------+----------+---------------+---------+----------+--------+--------+--------+-------------+---------------+----------+----------------+------------+-------------+------+------+----------+-----------+---------------+--------+--------+--------+--------+-------+---------------+--------+\n",
      "|       0|      0|    0|   0|   0|  0|  0|  0|   0|   0|  0|  0|   0|  0|  0|  0|  0|   0|  0|   0|  0|  0|  0|       0|   0|            0|         0|            0|            0|       0|          0|       0|          0|            0|       0|            0|         0|              0|        0|         0|       0|       0|       0|            0|              0|         0|               0|           0|            0|     0|     0|         0|          0|              0|       0|       0|       0|       0|      0|              0|       0|\n",
      "+--------+-------+-----+----+----+---+---+---+----+----+---+---+----+---+---+---+---+----+---+----+---+---+---+--------+----+-------------+----------+-------------+-------------+--------+-----------+--------+-----------+-------------+--------+-------------+----------+---------------+---------+----------+--------+--------+--------+-------------+---------------+----------+----------------+------------+-------------+------+------+----------+-----------+---------------+--------+--------+--------+--------+-------+---------------+--------+\n",
      "\n",
      "\n",
      "=== Valores nulos en SAT ===\n",
      "+----------+----------+\n",
      "|Unnamed: 0|Unnamed: 1|\n",
      "+----------+----------+\n",
      "|         0|         0|\n",
      "+----------+----------+\n",
      "\n",
      "\n",
      "=== Valores nulos en SAT 2012 ===\n",
      "+---+-----------+---------------------+---------------------+----------------+------------+\n",
      "|DBN|School Name|Number of Test Takers|Critical Reading Mean|Mathematics Mean|Writing Mean|\n",
      "+---+-----------+---------------------+---------------------+----------------+------------+\n",
      "|  0|          0|                    0|                    0|               0|           0|\n",
      "+---+-----------+---------------------+---------------------+----------------+------------+\n",
      "\n"
     ]
    },
    {
     "name": "stderr",
     "output_type": "stream",
     "text": [
      "                                                                                "
     ]
    }
   ],
   "source": [
    "# Número de columnas por dataset\n",
    "print(\"Columnas en Arrestos:\", len(arrestos_df.columns))\n",
    "print(\"Columnas en Colisiones:\", len(colisiones_df.columns))\n",
    "print(\"Columnas en Pobreza:\", len(pobreza_df.columns))\n",
    "print(\"Columnas en SAT:\", len(sat_df.columns))\n",
    "\n",
    "# Nombres de columnas (útil para revisión)\n",
    "print(\"\\n=== Columnas de Arrestos ===\")\n",
    "print(arrestos_df.columns)\n",
    "\n",
    "print(\"\\n=== Columnas de Colisiones ===\")\n",
    "print(colisiones_df.columns)\n",
    "\n",
    "print(\"\\n=== Columnas de Pobreza ===\")\n",
    "print(pobreza_df.columns)\n",
    "\n",
    "print(\"\\n=== Columnas de SAT ===\")\n",
    "print(sat_df.columns)\n",
    "\n",
    "print(\"\\n=== Columnas de SAT 2012 ===\")\n",
    "print(sat_real_df.columns)\n",
    "\n",
    "\n",
    "# Conteo de valores nulos (por columna)\n",
    "from pyspark.sql.functions import col, sum\n",
    "\n",
    "def contar_nulos(df):\n",
    "    return df.select([sum(col(c).isNull().cast(\"int\")).alias(c) for c in df.columns])\n",
    "\n",
    "print(\"\\n=== Valores nulos en Arrestos ===\")\n",
    "contar_nulos(arrestos_df).show()\n",
    "\n",
    "print(\"\\n=== Valores nulos en Colisiones ===\")\n",
    "contar_nulos(colisiones_df).show()\n",
    "\n",
    "print(\"\\n=== Valores nulos en Pobreza ===\")\n",
    "contar_nulos(pobreza_df).show()\n",
    "\n",
    "print(\"\\n=== Valores nulos en SAT ===\")\n",
    "contar_nulos(sat_df).show()\n",
    "\n",
    "print(\"\\n=== Valores nulos en SAT 2012 ===\")\n",
    "contar_nulos(sat_real_df).show()\n"
   ]
  },
  {
   "cell_type": "markdown",
   "id": "59a5517b-81df-4341-8bbd-43f2e4d8a11a",
   "metadata": {},
   "source": [
    "**Análisis exploratorio del dataset SAT (Educación)**"
   ]
  },
  {
   "cell_type": "code",
   "execution_count": 24,
   "id": "d9854725-4351-4976-89f9-7038329e9c5a",
   "metadata": {},
   "outputs": [
    {
     "name": "stdout",
     "output_type": "stream",
     "text": [
      "=== Columnas del dataset SAT ===\n",
      "['DBN', 'School Name', 'Number of Test Takers', 'Critical Reading Mean', 'Mathematics Mean', 'Writing Mean']\n",
      "\n",
      "=== Vista previa del dataset SAT ===\n",
      "+------+--------------------+---------------------+---------------------+----------------+------------+\n",
      "|   DBN|         School Name|Number of Test Takers|Critical Reading Mean|Mathematics Mean|Writing Mean|\n",
      "+------+--------------------+---------------------+---------------------+----------------+------------+\n",
      "|01M292|Henry Street Scho...|                 31.0|                391.0|           425.0|       385.0|\n",
      "|01M448|University Neighb...|                 60.0|                394.0|           419.0|       387.0|\n",
      "|01M450|East Side Communi...|                 69.0|                418.0|           431.0|       402.0|\n",
      "|01M458|SATELLITE ACADEMY...|                 26.0|                385.0|           370.0|       378.0|\n",
      "|01M509|   CMSP HIGH SCHOOL |                  NaN|                  NaN|             NaN|         NaN|\n",
      "|01M515|Lower East Side P...|                154.0|                314.0|           532.0|       314.0|\n",
      "|01M539|New Explorations ...|                 47.0|                568.0|           583.0|       568.0|\n",
      "|01M650|CASCADES HIGH SCH...|                 35.0|                411.0|           401.0|       401.0|\n",
      "|01M696|BARD HIGH SCHOOL ...|                138.0|                630.0|           608.0|       630.0|\n",
      "|02M047|AMERICAN SIGN LAN...|                 11.0|                405.0|           415.0|       385.0|\n",
      "+------+--------------------+---------------------+---------------------+----------------+------------+\n",
      "only showing top 10 rows\n",
      "\n"
     ]
    }
   ],
   "source": [
    "# Mostrar estructura y columnas del dataset SAT\n",
    "print(\"=== Columnas del dataset SAT ===\")\n",
    "print(sat_real_df.columns)\n",
    "\n",
    "# Mostrar las primeras filas (para revisar qué variables numéricas tiene)\n",
    "print(\"\\n=== Vista previa del dataset SAT ===\")\n",
    "sat_real_df.show(10)"
   ]
  },
  {
   "cell_type": "markdown",
   "id": "4acbec5c-df92-4ce5-958d-fa740d901a86",
   "metadata": {},
   "source": [
    "**Promedios generales del SAT (Lectura, Matemáticas, Escritura)**"
   ]
  },
  {
   "cell_type": "code",
   "execution_count": 25,
   "id": "de6d1a95-49c0-4164-8939-586bfd426e5a",
   "metadata": {},
   "outputs": [
    {
     "name": "stdout",
     "output_type": "stream",
     "text": [
      "=== Tipos de datos en el dataset SAT real ===\n",
      "root\n",
      " |-- DBN: string (nullable = true)\n",
      " |-- School Name: string (nullable = true)\n",
      " |-- Number of Test Takers: double (nullable = true)\n",
      " |-- Critical Reading Mean: float (nullable = true)\n",
      " |-- Mathematics Mean: float (nullable = true)\n",
      " |-- Writing Mean: float (nullable = true)\n",
      "\n"
     ]
    }
   ],
   "source": [
    "# Verificar tipos de datos de cada columna\n",
    "print(\"=== Tipos de datos en el dataset SAT real ===\")\n",
    "sat_real_df.printSchema()\n"
   ]
  },
  {
   "cell_type": "code",
   "execution_count": 26,
   "id": "bf2d17a8-8485-4981-88bb-f5e615428e67",
   "metadata": {},
   "outputs": [],
   "source": [
    "from pyspark.sql.functions import col\n",
    "\n",
    "# Convertir columnas a tipo numérico\n",
    "sat_real_df = sat_real_df.withColumn(\"Critical Reading Mean\", col(\"Critical Reading Mean\").cast(\"float\")) \\\n",
    "                         .withColumn(\"Mathematics Mean\", col(\"Mathematics Mean\").cast(\"float\")) \\\n",
    "                         .withColumn(\"Writing Mean\", col(\"Writing Mean\").cast(\"float\"))\n"
   ]
  },
  {
   "cell_type": "code",
   "execution_count": 28,
   "id": "d7eb367b-1e4e-4795-aca8-10c241e977ad",
   "metadata": {},
   "outputs": [
    {
     "name": "stdout",
     "output_type": "stream",
     "text": [
      "Filas antes: 460\n",
      "Filas después de limpiar: 386\n"
     ]
    }
   ],
   "source": [
    "# Limpiar filas con valores nulos en las columnas numéricas\n",
    "sat_real_df_limpio = sat_real_df.na.drop(subset=[\"Critical Reading Mean\", \"Mathematics Mean\", \"Writing Mean\"])\n",
    "\n",
    "# Confirmar número de filas antes y después de limpiar\n",
    "print(\"Filas antes:\", sat_real_df.count())\n",
    "print(\"Filas después de limpiar:\", sat_real_df_limpio.count())\n"
   ]
  },
  {
   "cell_type": "code",
   "execution_count": 29,
   "id": "dbf8d574-0f77-4dfe-9af2-3e23077342d4",
   "metadata": {},
   "outputs": [
    {
     "name": "stdout",
     "output_type": "stream",
     "text": [
      "Total: 460 | Sin nulos: 386 | Pérdidas: 74\n"
     ]
    }
   ],
   "source": [
    "filas_totales = sat_real_df.count()\n",
    "filas_validas = sat_real_df.na.drop(subset=[\"Critical Reading Mean\", \"Mathematics Mean\", \"Writing Mean\"]).count()\n",
    "\n",
    "print(f\"Total: {filas_totales} | Sin nulos: {filas_validas} | Pérdidas: {filas_totales - filas_validas}\")"
   ]
  },
  {
   "cell_type": "code",
   "execution_count": 30,
   "id": "cc69b9b9-35c1-4f9c-b3ce-04a3afe873fc",
   "metadata": {},
   "outputs": [
    {
     "name": "stdout",
     "output_type": "stream",
     "text": [
      "=== Promedios generales del SAT 2012 ===\n",
      "+----------------+--------------------+------------------+\n",
      "|Promedio Lectura|Promedio Matemáticas|Promedio Escritura|\n",
      "+----------------+--------------------+------------------+\n",
      "|          404.25|              412.94|            397.69|\n",
      "+----------------+--------------------+------------------+\n",
      "\n"
     ]
    }
   ],
   "source": [
    "from pyspark.sql.functions import avg, round\n",
    "\n",
    "promedios_sat = sat_real_df_limpio.select(\n",
    "    round(avg(col(\"Critical Reading Mean\")), 2).alias(\"Promedio Lectura\"),\n",
    "    round(avg(col(\"Mathematics Mean\")), 2).alias(\"Promedio Matemáticas\"),\n",
    "    round(avg(col(\"Writing Mean\")), 2).alias(\"Promedio Escritura\")\n",
    ")\n",
    "\n",
    "print(\"=== Promedios generales del SAT 2012 ===\")\n",
    "promedios_sat.show()"
   ]
  },
  {
   "cell_type": "code",
   "execution_count": 35,
   "id": "685f50b4-09d4-4e1c-a1fa-966629b2a9a3",
   "metadata": {},
   "outputs": [
    {
     "name": "stdout",
     "output_type": "stream",
     "text": [
      "=== Selección final de datasets a utilizar ===\n",
      "\n"
     ]
    },
    {
     "name": "stderr",
     "output_type": "stream",
     "text": [
      "                                                                                "
     ]
    },
    {
     "name": "stdout",
     "output_type": "stream",
     "text": [
      "Arrestos: 143494 registros, 19 columnas\n",
      "root\n",
      " |-- ARREST_KEY: long (nullable = true)\n",
      " |-- ARREST_DATE: timestamp (nullable = true)\n",
      " |-- PD_CD: long (nullable = true)\n",
      " |-- PD_DESC: string (nullable = true)\n",
      " |-- KY_CD: double (nullable = true)\n",
      " |-- OFNS_DESC: string (nullable = true)\n",
      " |-- LAW_CODE: string (nullable = true)\n",
      " |-- LAW_CAT_CD: string (nullable = true)\n",
      " |-- ARREST_BORO: string (nullable = true)\n",
      " |-- ARREST_PRECINCT: long (nullable = true)\n",
      " |-- JURISDICTION_CODE: long (nullable = true)\n",
      " |-- AGE_GROUP: string (nullable = true)\n",
      " |-- PERP_SEX: string (nullable = true)\n",
      " |-- PERP_RACE: string (nullable = true)\n",
      " |-- X_COORD_CD: long (nullable = true)\n",
      " |-- Y_COORD_CD: long (nullable = true)\n",
      " |-- Latitude: double (nullable = true)\n",
      " |-- Longitude: double (nullable = true)\n",
      " |-- New Georeferenced Column: string (nullable = true)\n",
      "\n",
      "---------------------------------------------\n",
      "Colisiones: 10000 registros, 25 columnas\n",
      "root\n",
      " |-- UNIQUE_ID: long (nullable = true)\n",
      " |-- COLLISION_ID: long (nullable = true)\n",
      " |-- CRASH_DATE: timestamp (nullable = true)\n",
      " |-- CRASH_TIME: string (nullable = true)\n",
      " |-- VEHICLE_ID: string (nullable = true)\n",
      " |-- STATE_REGISTRATION: string (nullable = true)\n",
      " |-- VEHICLE_TYPE: string (nullable = true)\n",
      " |-- VEHICLE_MAKE: string (nullable = true)\n",
      " |-- VEHICLE_MODEL: string (nullable = true)\n",
      " |-- VEHICLE_YEAR: double (nullable = true)\n",
      " |-- TRAVEL_DIRECTION: string (nullable = true)\n",
      " |-- VEHICLE_OCCUPANTS: double (nullable = true)\n",
      " |-- DRIVER_SEX: string (nullable = true)\n",
      " |-- DRIVER_LICENSE_STATUS: string (nullable = true)\n",
      " |-- DRIVER_LICENSE_JURISDICTION: string (nullable = true)\n",
      " |-- PRE_CRASH: string (nullable = true)\n",
      " |-- POINT_OF_IMPACT: string (nullable = true)\n",
      " |-- VEHICLE_DAMAGE: string (nullable = true)\n",
      " |-- VEHICLE_DAMAGE_1: string (nullable = true)\n",
      " |-- VEHICLE_DAMAGE_2: string (nullable = true)\n",
      " |-- VEHICLE_DAMAGE_3: string (nullable = true)\n",
      " |-- PUBLIC_PROPERTY_DAMAGE: string (nullable = true)\n",
      " |-- PUBLIC_PROPERTY_DAMAGE_TYPE: string (nullable = true)\n",
      " |-- CONTRIBUTING_FACTOR_1: string (nullable = true)\n",
      " |-- CONTRIBUTING_FACTOR_2: string (nullable = true)\n",
      "\n",
      "---------------------------------------------\n",
      "Pobreza: 68273 registros, 61 columnas\n",
      "root\n",
      " |-- SERIALNO: long (nullable = true)\n",
      " |-- SPORDER: long (nullable = true)\n",
      " |-- PWGTP: long (nullable = true)\n",
      " |-- WGTP: long (nullable = true)\n",
      " |-- AGEP: long (nullable = true)\n",
      " |-- CIT: long (nullable = true)\n",
      " |-- REL: long (nullable = true)\n",
      " |-- SCH: long (nullable = true)\n",
      " |-- SCHG: long (nullable = true)\n",
      " |-- SCHL: double (nullable = true)\n",
      " |-- SEX: long (nullable = true)\n",
      " |-- ESR: double (nullable = true)\n",
      " |-- LANX: double (nullable = true)\n",
      " |-- ENG: double (nullable = true)\n",
      " |-- MSP: double (nullable = true)\n",
      " |-- MAR: long (nullable = true)\n",
      " |-- WKW: double (nullable = true)\n",
      " |-- WKHP: long (nullable = true)\n",
      " |-- DIS: long (nullable = true)\n",
      " |-- JWTR: double (nullable = true)\n",
      " |-- NP: long (nullable = true)\n",
      " |-- TEN: long (nullable = true)\n",
      " |-- HHT: long (nullable = true)\n",
      " |-- AgeCateg: long (nullable = true)\n",
      " |-- Boro: long (nullable = true)\n",
      " |-- CitizenStatus: long (nullable = true)\n",
      " |-- EducAttain: double (nullable = true)\n",
      " |-- EST_Childcare: double (nullable = true)\n",
      " |-- EST_Commuting: double (nullable = true)\n",
      " |-- EST_EITC: double (nullable = true)\n",
      " |-- EST_FICAtax: double (nullable = true)\n",
      " |-- EST_HEAP: double (nullable = true)\n",
      " |-- EST_Housing: double (nullable = true)\n",
      " |-- EST_IncomeTax: double (nullable = true)\n",
      " |-- EST_MOOP: double (nullable = true)\n",
      " |-- EST_Nutrition: double (nullable = true)\n",
      " |-- EST_PovGap: double (nullable = true)\n",
      " |-- EST_PovGapIndex: double (nullable = true)\n",
      " |-- Ethnicity: long (nullable = true)\n",
      " |-- FamType_PU: long (nullable = true)\n",
      " |-- FTPTWork: long (nullable = true)\n",
      " |-- INTP_adj: double (nullable = true)\n",
      " |-- MRGP_adj: double (nullable = true)\n",
      " |-- NYCgov_Income: double (nullable = true)\n",
      " |-- NYCgov_Pov_Stat: long (nullable = true)\n",
      " |-- NYCgov_REL: long (nullable = true)\n",
      " |-- NYCgov_Threshold: double (nullable = true)\n",
      " |-- Off_Pov_Stat: long (nullable = true)\n",
      " |-- Off_Threshold: long (nullable = true)\n",
      " |-- OI_adj: double (nullable = true)\n",
      " |-- PA_adj: double (nullable = true)\n",
      " |-- Povunit_ID: long (nullable = true)\n",
      " |-- Povunit_Rel: long (nullable = true)\n",
      " |-- PreTaxIncome_PU: double (nullable = true)\n",
      " |-- RETP_adj: double (nullable = true)\n",
      " |-- RNTP_adj: double (nullable = true)\n",
      " |-- SEMP_adj: double (nullable = true)\n",
      " |-- SSIP_adj: double (nullable = true)\n",
      " |-- SSP_adj: double (nullable = true)\n",
      " |-- TotalWorkHrs_PU: long (nullable = true)\n",
      " |-- WAGP_adj: double (nullable = true)\n",
      "\n",
      "---------------------------------------------\n",
      "SAT (Educación): 16 registros, 2 columnas\n",
      "root\n",
      " |-- Unnamed: 0: string (nullable = true)\n",
      " |-- Unnamed: 1: string (nullable = true)\n",
      "\n",
      "---------------------------------------------\n"
     ]
    }
   ],
   "source": [
    "# ===============================================================\n",
    "# 4. Selección de datos a utilizar\n",
    "# ===============================================================\n",
    "\n",
    "from pyspark.sql import DataFrame\n",
    "\n",
    "# Diccionario con los datasets seleccionados\n",
    "datasets_info = {\n",
    "    \"NYPD Arrest Data (Year-to-Date)\": \"NYPD_Arrest_Data_(Year_to_Date)_20251020.xlsx\",\n",
    "    \"Motor Vehicle Collisions – Vehicles\": \"Motor_Vehicle_Collisions_-_Vehicles_20251020.xlsx\",\n",
    "    \"NYCgov Poverty Measure Data\": \"NYCgov_Poverty_Measure_Data_(2018)_20251020.xlsx\",\n",
    "    \"SAT Results (Education)\": \"SAT_Results.xlsx\"\n",
    "}\n",
    "\n",
    "# Cargar los archivos seleccionados como DataFrames de PySpark\n",
    "arrestos_df = spark03.createDataFrame(pd.read_excel(datasets_info[\"NYPD Arrest Data (Year-to-Date)\"]))\n",
    "colisiones_df = spark03.createDataFrame(pd.read_excel(datasets_info[\"Motor Vehicle Collisions – Vehicles\"],nrows=10000))\n",
    "pobreza_df = spark03.createDataFrame(pd.read_excel(datasets_info[\"NYCgov Poverty Measure Data\"]))\n",
    "sat_df = spark03.createDataFrame(pd.read_excel(datasets_info[\"SAT Results (Education)\"]))\n",
    "\n",
    "# Verificar estructura general de los datasets seleccionados\n",
    "print(\"=== Selección final de datasets a utilizar ===\\n\")\n",
    "for nombre, df in {\n",
    "    \"Arrestos\": arrestos_df,\n",
    "    \"Colisiones\": colisiones_df,\n",
    "    \"Pobreza\": pobreza_df,\n",
    "    \"SAT (Educación)\": sat_df\n",
    "}.items():\n",
    "    print(f\"{nombre}: {df.count()} registros, {len(df.columns)} columnas\")\n",
    "    df.printSchema()\n",
    "    print(\"---------------------------------------------\")\n",
    "\n"
   ]
  },
  {
   "cell_type": "markdown",
   "id": "b85a332c-baeb-41dd-b403-3c30859b592f",
   "metadata": {},
   "source": [
    "**Exploración de los Datos**"
   ]
  },
  {
   "cell_type": "code",
   "execution_count": 52,
   "id": "26aa731f-1bf5-433f-a6e3-c201f3eea17e",
   "metadata": {},
   "outputs": [
    {
     "name": "stdout",
     "output_type": "stream",
     "text": [
      "\n",
      "=== Estructura del dataset Arrestos ===\n",
      "root\n",
      " |-- ARREST_KEY: long (nullable = true)\n",
      " |-- ARREST_DATE: timestamp (nullable = true)\n",
      " |-- PD_CD: long (nullable = true)\n",
      " |-- PD_DESC: string (nullable = true)\n",
      " |-- KY_CD: double (nullable = true)\n",
      " |-- OFNS_DESC: string (nullable = true)\n",
      " |-- LAW_CODE: string (nullable = true)\n",
      " |-- LAW_CAT_CD: string (nullable = true)\n",
      " |-- ARREST_BORO: string (nullable = true)\n",
      " |-- ARREST_PRECINCT: long (nullable = true)\n",
      " |-- JURISDICTION_CODE: long (nullable = true)\n",
      " |-- AGE_GROUP: string (nullable = true)\n",
      " |-- PERP_SEX: string (nullable = true)\n",
      " |-- PERP_RACE: string (nullable = true)\n",
      " |-- X_COORD_CD: long (nullable = true)\n",
      " |-- Y_COORD_CD: long (nullable = true)\n",
      " |-- Latitude: double (nullable = true)\n",
      " |-- Longitude: double (nullable = true)\n",
      " |-- New Georeferenced Column: string (nullable = true)\n",
      "\n",
      "\n",
      "Columnas: ['ARREST_KEY', 'ARREST_DATE', 'PD_CD', 'PD_DESC', 'KY_CD', 'OFNS_DESC', 'LAW_CODE', 'LAW_CAT_CD', 'ARREST_BORO', 'ARREST_PRECINCT', 'JURISDICTION_CODE', 'AGE_GROUP', 'PERP_SEX', 'PERP_RACE', 'X_COORD_CD', 'Y_COORD_CD', 'Latitude', 'Longitude', 'New Georeferenced Column']\n",
      "\n",
      "Vista previa:\n",
      "+----------+-------------------+-----+--------------------+-----+--------------------+----------+----------+-----------+---------------+-----------------+---------+--------+--------------+----------+----------+----------------+-----------------+------------------------+\n",
      "|ARREST_KEY|        ARREST_DATE|PD_CD|             PD_DESC|KY_CD|           OFNS_DESC|  LAW_CODE|LAW_CAT_CD|ARREST_BORO|ARREST_PRECINCT|JURISDICTION_CODE|AGE_GROUP|PERP_SEX|     PERP_RACE|X_COORD_CD|Y_COORD_CD|        Latitude|        Longitude|New Georeferenced Column|\n",
      "+----------+-------------------+-----+--------------------+-----+--------------------+----------+----------+-----------+---------------+-----------------+---------+--------+--------------+----------+----------+----------------+-----------------+------------------------+\n",
      "| 298748497|2025-01-01 00:00:00|  153|              RAPE 3|104.0|                RAPE|PL 1302501|         F|          M|             28|                0|      65+|       M|         WHITE|    997407|    233806|40.8084177460021|-73.9524740603515|    POINT (-73.952474...|\n",
      "| 298909765|2025-01-05 00:00:00|  729|FORGERY,ETC.,UNCL...|113.0|             FORGERY|PL 1702500|         F|          Q|            115|                0|    25-44|       M|         BLACK|         0|         0|             0.0|              0.0|             POINT (0 0)|\n",
      "| 300825973|2025-02-09 00:00:00|  153|              RAPE 3|104.0|                RAPE|PL 1302507|         F|          K|             69|                0|    25-44|       M|         BLACK|   1010541|    175595|40.6486135510607|-73.9052572032302|    POINT (-73.905257...|\n",
      "| 299987678|2025-01-24 00:00:00|  101|           ASSAULT 3|344.0|ASSAULT 3 & RELAT...|PL 1200001|         M|          M|              7|                2|    18-24|       F|WHITE HISPANIC|         0|         0|             0.0|              0.0|             POINT (0 0)|\n",
      "| 299731638|2025-01-20 00:00:00|  105|   STRANGULATION 1ST|106.0|      FELONY ASSAULT|PL 1211200|         F|          K|             73|                0|    25-44|       M|         BLACK|   1010654|    185578|       40.676015|       -73.904808|    POINT (-73.904808...|\n",
      "+----------+-------------------+-----+--------------------+-----+--------------------+----------+----------+-----------+---------------+-----------------+---------+--------+--------------+----------+----------+----------------+-----------------+------------------------+\n",
      "only showing top 5 rows\n",
      "\n",
      "\n",
      "=== Valores nulos en Arrestos ===\n"
     ]
    },
    {
     "name": "stderr",
     "output_type": "stream",
     "text": [
      "                                                                                "
     ]
    },
    {
     "name": "stdout",
     "output_type": "stream",
     "text": [
      "+----------+-----------+-----+-------+-----+---------+--------+----------+-----------+---------------+-----------------+---------+--------+---------+----------+----------+--------+---------+------------------------+\n",
      "|ARREST_KEY|ARREST_DATE|PD_CD|PD_DESC|KY_CD|OFNS_DESC|LAW_CODE|LAW_CAT_CD|ARREST_BORO|ARREST_PRECINCT|JURISDICTION_CODE|AGE_GROUP|PERP_SEX|PERP_RACE|X_COORD_CD|Y_COORD_CD|Latitude|Longitude|New Georeferenced Column|\n",
      "+----------+-----------+-----+-------+-----+---------+--------+----------+-----------+---------------+-----------------+---------+--------+---------+----------+----------+--------+---------+------------------------+\n",
      "|         0|          0|    0|      0|    0|        0|       0|         0|          0|              0|                0|        0|       0|        0|         0|         0|       0|        0|                       0|\n",
      "+----------+-----------+-----+-------+-----+---------+--------+----------+-----------+---------------+-----------------+---------+--------+---------+----------+----------+--------+---------+------------------------+\n",
      "\n",
      "\n",
      "=== Estructura del dataset Colisiones ===\n",
      "root\n",
      " |-- UNIQUE_ID: long (nullable = true)\n",
      " |-- COLLISION_ID: long (nullable = true)\n",
      " |-- CRASH_DATE: timestamp (nullable = true)\n",
      " |-- CRASH_TIME: string (nullable = true)\n",
      " |-- VEHICLE_ID: string (nullable = true)\n",
      " |-- STATE_REGISTRATION: string (nullable = true)\n",
      " |-- VEHICLE_TYPE: string (nullable = true)\n",
      " |-- VEHICLE_MAKE: string (nullable = true)\n",
      " |-- VEHICLE_MODEL: string (nullable = true)\n",
      " |-- VEHICLE_YEAR: double (nullable = true)\n",
      " |-- TRAVEL_DIRECTION: string (nullable = true)\n",
      " |-- VEHICLE_OCCUPANTS: double (nullable = true)\n",
      " |-- DRIVER_SEX: string (nullable = true)\n",
      " |-- DRIVER_LICENSE_STATUS: string (nullable = true)\n",
      " |-- DRIVER_LICENSE_JURISDICTION: string (nullable = true)\n",
      " |-- PRE_CRASH: string (nullable = true)\n",
      " |-- POINT_OF_IMPACT: string (nullable = true)\n",
      " |-- VEHICLE_DAMAGE: string (nullable = true)\n",
      " |-- VEHICLE_DAMAGE_1: string (nullable = true)\n",
      " |-- VEHICLE_DAMAGE_2: string (nullable = true)\n",
      " |-- VEHICLE_DAMAGE_3: string (nullable = true)\n",
      " |-- PUBLIC_PROPERTY_DAMAGE: string (nullable = true)\n",
      " |-- PUBLIC_PROPERTY_DAMAGE_TYPE: string (nullable = true)\n",
      " |-- CONTRIBUTING_FACTOR_1: string (nullable = true)\n",
      " |-- CONTRIBUTING_FACTOR_2: string (nullable = true)\n",
      "\n",
      "\n",
      "Columnas: ['UNIQUE_ID', 'COLLISION_ID', 'CRASH_DATE', 'CRASH_TIME', 'VEHICLE_ID', 'STATE_REGISTRATION', 'VEHICLE_TYPE', 'VEHICLE_MAKE', 'VEHICLE_MODEL', 'VEHICLE_YEAR', 'TRAVEL_DIRECTION', 'VEHICLE_OCCUPANTS', 'DRIVER_SEX', 'DRIVER_LICENSE_STATUS', 'DRIVER_LICENSE_JURISDICTION', 'PRE_CRASH', 'POINT_OF_IMPACT', 'VEHICLE_DAMAGE', 'VEHICLE_DAMAGE_1', 'VEHICLE_DAMAGE_2', 'VEHICLE_DAMAGE_3', 'PUBLIC_PROPERTY_DAMAGE', 'PUBLIC_PROPERTY_DAMAGE_TYPE', 'CONTRIBUTING_FACTOR_1', 'CONTRIBUTING_FACTOR_2']\n",
      "\n",
      "Vista previa:\n",
      "+---------+------------+-------------------+----------+--------------------+------------------+--------------------+-------------+-------------+------------+----------------+-----------------+----------+---------------------+---------------------------+--------------------+-----------------+--------------------+----------------+----------------+----------------+----------------------+---------------------------+---------------------+---------------------+\n",
      "|UNIQUE_ID|COLLISION_ID|         CRASH_DATE|CRASH_TIME|          VEHICLE_ID|STATE_REGISTRATION|        VEHICLE_TYPE| VEHICLE_MAKE|VEHICLE_MODEL|VEHICLE_YEAR|TRAVEL_DIRECTION|VEHICLE_OCCUPANTS|DRIVER_SEX|DRIVER_LICENSE_STATUS|DRIVER_LICENSE_JURISDICTION|           PRE_CRASH|  POINT_OF_IMPACT|      VEHICLE_DAMAGE|VEHICLE_DAMAGE_1|VEHICLE_DAMAGE_2|VEHICLE_DAMAGE_3|PUBLIC_PROPERTY_DAMAGE|PUBLIC_PROPERTY_DAMAGE_TYPE|CONTRIBUTING_FACTOR_1|CONTRIBUTING_FACTOR_2|\n",
      "+---------+------------+-------------------+----------+--------------------+------------------+--------------------+-------------+-------------+------------+----------------+-----------------+----------+---------------------+---------------------------+--------------------+-----------------+--------------------+----------------+----------------+----------------+----------------------+---------------------------+---------------------+---------------------+\n",
      "| 10385780|      100201|2012-09-07 00:00:00|      9:03|                   1|                NY|   PASSENGER VEHICLE|          NaN|          NaN|         NaN|             NaN|              NaN|       NaN|                  NaN|                        NaN|                 NaN|              NaN|                 NaN|             NaN|             NaN|             NaN|                   NaN|                        NaN|          Unspecified|                  NaN|\n",
      "| 19140702|     4213082|2019-09-23 00:00:00|      8:15|0553ab4d-9500-4cb...|                NY|Station Wagon/Spo...|TOYT -CAR/SUV|          NaN|      2002.0|           North|              1.0|         M|             Licensed|                         NY|Going Straight Ahead|Left Front Bumper|Left Front Quarte...|             NaN|             NaN|             NaN|                     N|                        NaN| Driver Inattentio...|          Unspecified|\n",
      "| 14887647|     3307608|2015-10-02 00:00:00|     17:18|                   2|                NY|                TAXI|          NaN|          NaN|         NaN|             NaN|              NaN|       NaN|                  NaN|                        NaN|Going Straight Ahead|              NaN|                 NaN|             NaN|             NaN|             NaN|                   NaN|                        NaN| Driver Inattentio...|                  NaN|\n",
      "| 14889754|     3308693|2015-10-04 00:00:00|     20:34|                   1|                NY|   PASSENGER VEHICLE|          NaN|          NaN|         NaN|             NaN|              NaN|       NaN|                  NaN|                        NaN|              Parked|              NaN|                 NaN|             NaN|             NaN|             NaN|                   NaN|                        NaN|          Unspecified|                  NaN|\n",
      "| 14400270|      297666|2013-04-25 00:00:00|     21:15|                   1|                NY|   PASSENGER VEHICLE|          NaN|          NaN|         NaN|             NaN|              NaN|       NaN|                  NaN|                        NaN|                 NaN|              NaN|                 NaN|             NaN|             NaN|             NaN|                   NaN|                        NaN|      Other Vehicular|                  NaN|\n",
      "+---------+------------+-------------------+----------+--------------------+------------------+--------------------+-------------+-------------+------------+----------------+-----------------+----------+---------------------+---------------------------+--------------------+-----------------+--------------------+----------------+----------------+----------------+----------------------+---------------------------+---------------------+---------------------+\n",
      "only showing top 5 rows\n",
      "\n",
      "\n",
      "=== Valores nulos en Colisiones ===\n"
     ]
    },
    {
     "name": "stderr",
     "output_type": "stream",
     "text": [
      "                                                                                "
     ]
    },
    {
     "name": "stdout",
     "output_type": "stream",
     "text": [
      "+---------+------------+----------+----------+----------+------------------+------------+------------+-------------+------------+----------------+-----------------+----------+---------------------+---------------------------+---------+---------------+--------------+----------------+----------------+----------------+----------------------+---------------------------+---------------------+---------------------+\n",
      "|UNIQUE_ID|COLLISION_ID|CRASH_DATE|CRASH_TIME|VEHICLE_ID|STATE_REGISTRATION|VEHICLE_TYPE|VEHICLE_MAKE|VEHICLE_MODEL|VEHICLE_YEAR|TRAVEL_DIRECTION|VEHICLE_OCCUPANTS|DRIVER_SEX|DRIVER_LICENSE_STATUS|DRIVER_LICENSE_JURISDICTION|PRE_CRASH|POINT_OF_IMPACT|VEHICLE_DAMAGE|VEHICLE_DAMAGE_1|VEHICLE_DAMAGE_2|VEHICLE_DAMAGE_3|PUBLIC_PROPERTY_DAMAGE|PUBLIC_PROPERTY_DAMAGE_TYPE|CONTRIBUTING_FACTOR_1|CONTRIBUTING_FACTOR_2|\n",
      "+---------+------------+----------+----------+----------+------------------+------------+------------+-------------+------------+----------------+-----------------+----------+---------------------+---------------------------+---------+---------------+--------------+----------------+----------------+----------------+----------------------+---------------------------+---------------------+---------------------+\n",
      "|        0|           0|         0|         0|         0|                 0|           0|           0|            0|           0|               0|                0|         0|                    0|                          0|        0|              0|             0|               0|               0|               0|                     0|                          0|                    0|                    0|\n",
      "+---------+------------+----------+----------+----------+------------------+------------+------------+-------------+------------+----------------+-----------------+----------+---------------------+---------------------------+---------+---------------+--------------+----------------+----------------+----------------+----------------------+---------------------------+---------------------+---------------------+\n",
      "\n",
      "\n",
      "=== Estructura del dataset Pobreza ===\n",
      "root\n",
      " |-- SERIALNO: long (nullable = true)\n",
      " |-- SPORDER: long (nullable = true)\n",
      " |-- PWGTP: long (nullable = true)\n",
      " |-- WGTP: long (nullable = true)\n",
      " |-- AGEP: long (nullable = true)\n",
      " |-- CIT: long (nullable = true)\n",
      " |-- REL: long (nullable = true)\n",
      " |-- SCH: long (nullable = true)\n",
      " |-- SCHG: long (nullable = true)\n",
      " |-- SCHL: double (nullable = true)\n",
      " |-- SEX: long (nullable = true)\n",
      " |-- ESR: double (nullable = true)\n",
      " |-- LANX: double (nullable = true)\n",
      " |-- ENG: double (nullable = true)\n",
      " |-- MSP: double (nullable = true)\n",
      " |-- MAR: long (nullable = true)\n",
      " |-- WKW: double (nullable = true)\n",
      " |-- WKHP: long (nullable = true)\n",
      " |-- DIS: long (nullable = true)\n",
      " |-- JWTR: double (nullable = true)\n",
      " |-- NP: long (nullable = true)\n",
      " |-- TEN: long (nullable = true)\n",
      " |-- HHT: long (nullable = true)\n",
      " |-- AgeCateg: long (nullable = true)\n",
      " |-- Boro: long (nullable = true)\n",
      " |-- CitizenStatus: long (nullable = true)\n",
      " |-- EducAttain: double (nullable = true)\n",
      " |-- EST_Childcare: double (nullable = true)\n",
      " |-- EST_Commuting: double (nullable = true)\n",
      " |-- EST_EITC: double (nullable = true)\n",
      " |-- EST_FICAtax: double (nullable = true)\n",
      " |-- EST_HEAP: double (nullable = true)\n",
      " |-- EST_Housing: double (nullable = true)\n",
      " |-- EST_IncomeTax: double (nullable = true)\n",
      " |-- EST_MOOP: double (nullable = true)\n",
      " |-- EST_Nutrition: double (nullable = true)\n",
      " |-- EST_PovGap: double (nullable = true)\n",
      " |-- EST_PovGapIndex: double (nullable = true)\n",
      " |-- Ethnicity: long (nullable = true)\n",
      " |-- FamType_PU: long (nullable = true)\n",
      " |-- FTPTWork: long (nullable = true)\n",
      " |-- INTP_adj: double (nullable = true)\n",
      " |-- MRGP_adj: double (nullable = true)\n",
      " |-- NYCgov_Income: double (nullable = true)\n",
      " |-- NYCgov_Pov_Stat: long (nullable = true)\n",
      " |-- NYCgov_REL: long (nullable = true)\n",
      " |-- NYCgov_Threshold: double (nullable = true)\n",
      " |-- Off_Pov_Stat: long (nullable = true)\n",
      " |-- Off_Threshold: long (nullable = true)\n",
      " |-- OI_adj: double (nullable = true)\n",
      " |-- PA_adj: double (nullable = true)\n",
      " |-- Povunit_ID: long (nullable = true)\n",
      " |-- Povunit_Rel: long (nullable = true)\n",
      " |-- PreTaxIncome_PU: double (nullable = true)\n",
      " |-- RETP_adj: double (nullable = true)\n",
      " |-- RNTP_adj: double (nullable = true)\n",
      " |-- SEMP_adj: double (nullable = true)\n",
      " |-- SSIP_adj: double (nullable = true)\n",
      " |-- SSP_adj: double (nullable = true)\n",
      " |-- TotalWorkHrs_PU: long (nullable = true)\n",
      " |-- WAGP_adj: double (nullable = true)\n",
      "\n",
      "\n",
      "Columnas: ['SERIALNO', 'SPORDER', 'PWGTP', 'WGTP', 'AGEP', 'CIT', 'REL', 'SCH', 'SCHG', 'SCHL', 'SEX', 'ESR', 'LANX', 'ENG', 'MSP', 'MAR', 'WKW', 'WKHP', 'DIS', 'JWTR', 'NP', 'TEN', 'HHT', 'AgeCateg', 'Boro', 'CitizenStatus', 'EducAttain', 'EST_Childcare', 'EST_Commuting', 'EST_EITC', 'EST_FICAtax', 'EST_HEAP', 'EST_Housing', 'EST_IncomeTax', 'EST_MOOP', 'EST_Nutrition', 'EST_PovGap', 'EST_PovGapIndex', 'Ethnicity', 'FamType_PU', 'FTPTWork', 'INTP_adj', 'MRGP_adj', 'NYCgov_Income', 'NYCgov_Pov_Stat', 'NYCgov_REL', 'NYCgov_Threshold', 'Off_Pov_Stat', 'Off_Threshold', 'OI_adj', 'PA_adj', 'Povunit_ID', 'Povunit_Rel', 'PreTaxIncome_PU', 'RETP_adj', 'RNTP_adj', 'SEMP_adj', 'SSIP_adj', 'SSP_adj', 'TotalWorkHrs_PU', 'WAGP_adj']\n",
      "\n",
      "Vista previa:\n",
      "+--------+-------+-----+----+----+---+---+---+----+----+---+---+----+---+---+---+---+----+---+----+---+---+---+--------+----+-------------+----------+-------------+-------------+--------+-----------+--------+-----------+-------------+---------+-------------+----------+---------------+---------+----------+--------+---------+---------+-------------+---------------+----------+----------------+------------+-------------+------+------+----------+-----------+---------------+--------+--------+--------+--------+---------+---------------+---------+\n",
      "|SERIALNO|SPORDER|PWGTP|WGTP|AGEP|CIT|REL|SCH|SCHG|SCHL|SEX|ESR|LANX|ENG|MSP|MAR|WKW|WKHP|DIS|JWTR| NP|TEN|HHT|AgeCateg|Boro|CitizenStatus|EducAttain|EST_Childcare|EST_Commuting|EST_EITC|EST_FICAtax|EST_HEAP|EST_Housing|EST_IncomeTax| EST_MOOP|EST_Nutrition|EST_PovGap|EST_PovGapIndex|Ethnicity|FamType_PU|FTPTWork| INTP_adj| MRGP_adj|NYCgov_Income|NYCgov_Pov_Stat|NYCgov_REL|NYCgov_Threshold|Off_Pov_Stat|Off_Threshold|OI_adj|PA_adj|Povunit_ID|Povunit_Rel|PreTaxIncome_PU|RETP_adj|RNTP_adj|SEMP_adj|SSIP_adj|  SSP_adj|TotalWorkHrs_PU| WAGP_adj|\n",
      "+--------+-------+-----+----+----+---+---+---+----+----+---+---+----+---+---+---+---+----+---+----+---+---+---+--------+----+-------------+----------+-------------+-------------+--------+-----------+--------+-----------+-------------+---------+-------------+----------+---------------+---------+----------+--------+---------+---------+-------------+---------------+----------+----------------+------------+-------------+------+------+----------+-----------+---------------+--------+--------+--------+--------+---------+---------------+---------+\n",
      "|       1|      1|   95|  95|  31|  1|  0|  1|   0|22.0|  2|1.0| 2.0|NaN|6.0|  5|1.0|  60|  2|12.0|  1|  2|  6|       2|   2|            1|       4.0|          0.0|       1722.0|     0.0|  9765.2422|     0.0|  1478.3278|    33580.543|   2642.8|          0.0|       0.0|            0.0|        4|         8|       1|      0.0|      0.0|    81417.961|              2|         0|         16241.6|           2|        13064|   0.0|   0.0|         1|          1|      127650.22|     0.0|     0.0|     0.0|     0.0|      0.0|              2|127650.22|\n",
      "|      16|      1|  181| 181|  63|  1|  0|  1|   0|22.0|  2|1.0| 2.0|NaN|1.0|  1|1.0|  60|  2| 1.0|  2|  1|  1|       2|   3|            1|       4.0|          0.0|    3840.8416|     0.0|  13950.346|     0.0|        0.0|    95503.234|4766.7998|          0.0|       0.0|            0.0|        1|         2|       1| 101309.7|2532.7424|    228417.95|              2|         0|       22900.654|           2|        16815|   0.0|   0.0|         1|          1|      346479.19|     0.0|     0.0|     0.0|     0.0|      0.0|              2|182357.45|\n",
      "|      16|      2|  210| 181|  65|  1|  1|  1|   0|19.0|  1|6.0| 2.0|NaN|1.0|  1|NaN|   0|  2| NaN|  2|  1|  1|       3|   3|            1|       3.0|          0.0|    3840.8416|     0.0|  13950.346|     0.0|        0.0|    95503.234|4766.7998|          0.0|       0.0|            0.0|        1|         2|       3|50654.852|2532.7424|    228417.95|              2|         1|       22900.654|           2|        16815|   0.0|   0.0|         1|          2|      346479.19|     0.0|     0.0|     0.0|     0.0|12157.164|              2|      0.0|\n",
      "|      47|      1|   62|  62|  68|  4|  0|  1|   0| 1.0|  1|1.0| 1.0|2.0|1.0|  1|1.0|  40|  2|10.0|  2|  2|  1|       3|   2|            2|       1.0|          0.0|          0.0|     0.0|  9765.2422|     0.0|  2612.8022|    27574.365|   3218.8|          0.0|       0.0|            0.0|        1|         2|       1|      0.0|      0.0|    117058.23|              2|         0|       22900.654|           2|        15178|   0.0|   0.0|         1|          1|      155003.84|     0.0|     0.0|     0.0|     0.0|27353.619|              1|91178.727|\n",
      "|      47|      2|   71|  62|  63|  4|  1|  1|   0| 1.0|  2|1.0| 1.0|1.0|1.0|  1|1.0|  40|  2|10.0|  2|  2|  1|       2|   2|            2|       1.0|          0.0|          0.0|     0.0|  9765.2422|     0.0|  2612.8022|    27574.365|   3218.8|          0.0|       0.0|            0.0|        1|         2|       1|      0.0|      0.0|    117058.23|              2|         1|       22900.654|           2|        15178|   0.0|   0.0|         1|          2|      155003.84|     0.0|     0.0|     0.0|     0.0|      0.0|              1|36471.492|\n",
      "+--------+-------+-----+----+----+---+---+---+----+----+---+---+----+---+---+---+---+----+---+----+---+---+---+--------+----+-------------+----------+-------------+-------------+--------+-----------+--------+-----------+-------------+---------+-------------+----------+---------------+---------+----------+--------+---------+---------+-------------+---------------+----------+----------------+------------+-------------+------+------+----------+-----------+---------------+--------+--------+--------+--------+---------+---------------+---------+\n",
      "only showing top 5 rows\n",
      "\n",
      "\n",
      "=== Valores nulos en Pobreza ===\n"
     ]
    },
    {
     "name": "stderr",
     "output_type": "stream",
     "text": [
      "                                                                                "
     ]
    },
    {
     "name": "stdout",
     "output_type": "stream",
     "text": [
      "+--------+-------+-----+----+----+---+---+---+----+----+---+---+----+---+---+---+---+----+---+----+---+---+---+--------+----+-------------+----------+-------------+-------------+--------+-----------+--------+-----------+-------------+--------+-------------+----------+---------------+---------+----------+--------+--------+--------+-------------+---------------+----------+----------------+------------+-------------+------+------+----------+-----------+---------------+--------+--------+--------+--------+-------+---------------+--------+\n",
      "|SERIALNO|SPORDER|PWGTP|WGTP|AGEP|CIT|REL|SCH|SCHG|SCHL|SEX|ESR|LANX|ENG|MSP|MAR|WKW|WKHP|DIS|JWTR| NP|TEN|HHT|AgeCateg|Boro|CitizenStatus|EducAttain|EST_Childcare|EST_Commuting|EST_EITC|EST_FICAtax|EST_HEAP|EST_Housing|EST_IncomeTax|EST_MOOP|EST_Nutrition|EST_PovGap|EST_PovGapIndex|Ethnicity|FamType_PU|FTPTWork|INTP_adj|MRGP_adj|NYCgov_Income|NYCgov_Pov_Stat|NYCgov_REL|NYCgov_Threshold|Off_Pov_Stat|Off_Threshold|OI_adj|PA_adj|Povunit_ID|Povunit_Rel|PreTaxIncome_PU|RETP_adj|RNTP_adj|SEMP_adj|SSIP_adj|SSP_adj|TotalWorkHrs_PU|WAGP_adj|\n",
      "+--------+-------+-----+----+----+---+---+---+----+----+---+---+----+---+---+---+---+----+---+----+---+---+---+--------+----+-------------+----------+-------------+-------------+--------+-----------+--------+-----------+-------------+--------+-------------+----------+---------------+---------+----------+--------+--------+--------+-------------+---------------+----------+----------------+------------+-------------+------+------+----------+-----------+---------------+--------+--------+--------+--------+-------+---------------+--------+\n",
      "|       0|      0|    0|   0|   0|  0|  0|  0|   0|   0|  0|  0|   0|  0|  0|  0|  0|   0|  0|   0|  0|  0|  0|       0|   0|            0|         0|            0|            0|       0|          0|       0|          0|            0|       0|            0|         0|              0|        0|         0|       0|       0|       0|            0|              0|         0|               0|           0|            0|     0|     0|         0|          0|              0|       0|       0|       0|       0|      0|              0|       0|\n",
      "+--------+-------+-----+----+----+---+---+---+----+----+---+---+----+---+---+---+---+----+---+----+---+---+---+--------+----+-------------+----------+-------------+-------------+--------+-----------+--------+-----------+-------------+--------+-------------+----------+---------------+---------+----------+--------+--------+--------+-------------+---------------+----------+----------------+------------+-------------+------+------+----------+-----------+---------------+--------+--------+--------+--------+-------+---------------+--------+\n",
      "\n",
      "\n",
      "=== Estructura del dataset SAT (Educación) ===\n",
      "root\n",
      " |-- DBN: string (nullable = true)\n",
      " |-- School Name: string (nullable = true)\n",
      " |-- Number of Test Takers: double (nullable = true)\n",
      " |-- Critical Reading Mean: float (nullable = true)\n",
      " |-- Mathematics Mean: float (nullable = true)\n",
      " |-- Writing Mean: float (nullable = true)\n",
      "\n",
      "\n",
      "Columnas: ['DBN', 'School Name', 'Number of Test Takers', 'Critical Reading Mean', 'Mathematics Mean', 'Writing Mean']\n",
      "\n",
      "Vista previa:\n",
      "+------+--------------------+---------------------+---------------------+----------------+------------+\n",
      "|   DBN|         School Name|Number of Test Takers|Critical Reading Mean|Mathematics Mean|Writing Mean|\n",
      "+------+--------------------+---------------------+---------------------+----------------+------------+\n",
      "|01M292|Henry Street Scho...|                 31.0|                391.0|           425.0|       385.0|\n",
      "|01M448|University Neighb...|                 60.0|                394.0|           419.0|       387.0|\n",
      "|01M450|East Side Communi...|                 69.0|                418.0|           431.0|       402.0|\n",
      "|01M458|SATELLITE ACADEMY...|                 26.0|                385.0|           370.0|       378.0|\n",
      "|01M509|   CMSP HIGH SCHOOL |                  NaN|                  NaN|             NaN|         NaN|\n",
      "+------+--------------------+---------------------+---------------------+----------------+------------+\n",
      "only showing top 5 rows\n",
      "\n",
      "\n",
      "=== Valores nulos en SAT (Educación) ===\n",
      "+---+-----------+---------------------+---------------------+----------------+------------+\n",
      "|DBN|School Name|Number of Test Takers|Critical Reading Mean|Mathematics Mean|Writing Mean|\n",
      "+---+-----------+---------------------+---------------------+----------------+------------+\n",
      "|  0|          0|                    0|                    0|               0|           0|\n",
      "+---+-----------+---------------------+---------------------+----------------+------------+\n",
      "\n"
     ]
    }
   ],
   "source": [
    "# Exploración de los datasets\n",
    "for nombre, df in {\n",
    "    \"Arrestos\": arrestos_df,\n",
    "    \"Colisiones\": colisiones_df,\n",
    "    \"Pobreza\": pobreza_df,\n",
    "    \"SAT (Educación)\": sat_real_df\n",
    "}.items():\n",
    "    print(f\"\\n=== Estructura del dataset {nombre} ===\")\n",
    "    df.printSchema()\n",
    "    print(\"\\nColumnas:\", df.columns)\n",
    "    print(\"\\nVista previa:\")\n",
    "    df.show(5)\n",
    "    \n",
    "    print(\"\\n=== Valores nulos en\", nombre, \"===\")\n",
    "    df.select([F.count(F.when(F.col(c).isNull(), c)).alias(c) for c in df.columns]).show()"
   ]
  },
  {
   "cell_type": "markdown",
   "id": "fd71d4e1-2f30-4cf7-842c-547d5deac9b9",
   "metadata": {},
   "source": [
    "Se identifican falsos positivos en la identificacion de valores nulos en la tabla SAT"
   ]
  },
  {
   "cell_type": "markdown",
   "id": "0dd52251-1b58-4061-8f4d-cd8beb4e0639",
   "metadata": {},
   "source": []
  },
  {
   "cell_type": "markdown",
   "id": "5b7e61e4-fb50-4bf4-a9ff-6f070e912139",
   "metadata": {},
   "source": [
    "**Reporte de Calidad de Datos**"
   ]
  },
  {
   "cell_type": "code",
   "execution_count": 37,
   "id": "c3d5fae6-1a4e-4e85-b0e0-5ffb4ee6e802",
   "metadata": {},
   "outputs": [
    {
     "name": "stdout",
     "output_type": "stream",
     "text": [
      "\n",
      "=== Reporte de calidad del dataset Arrestos ===\n"
     ]
    },
    {
     "name": "stderr",
     "output_type": "stream",
     "text": [
      "                                                                                "
     ]
    },
    {
     "name": "stdout",
     "output_type": "stream",
     "text": [
      "Total de filas: 143494\n",
      "Registros duplicados: 0\n",
      "\n",
      "Valores nulos por columna:\n"
     ]
    },
    {
     "name": "stderr",
     "output_type": "stream",
     "text": [
      "                                                                                "
     ]
    },
    {
     "name": "stdout",
     "output_type": "stream",
     "text": [
      "+----------+-----------+-----+-------+-----+---------+--------+----------+-----------+---------------+-----------------+---------+--------+---------+----------+----------+--------+---------+------------------------+\n",
      "|ARREST_KEY|ARREST_DATE|PD_CD|PD_DESC|KY_CD|OFNS_DESC|LAW_CODE|LAW_CAT_CD|ARREST_BORO|ARREST_PRECINCT|JURISDICTION_CODE|AGE_GROUP|PERP_SEX|PERP_RACE|X_COORD_CD|Y_COORD_CD|Latitude|Longitude|New Georeferenced Column|\n",
      "+----------+-----------+-----+-------+-----+---------+--------+----------+-----------+---------------+-----------------+---------+--------+---------+----------+----------+--------+---------+------------------------+\n",
      "|         0|          0|    0|      0|    0|        0|       0|         0|          0|              0|                0|        0|       0|        0|         0|         0|       0|        0|                       0|\n",
      "+----------+-----------+-----+-------+-----+---------+--------+----------+-----------+---------------+-----------------+---------+--------+---------+----------+----------+--------+---------+------------------------+\n",
      "\n",
      "------------------------------------------------------------\n",
      "\n",
      "=== Reporte de calidad del dataset Colisiones ===\n"
     ]
    },
    {
     "name": "stderr",
     "output_type": "stream",
     "text": [
      "                                                                                "
     ]
    },
    {
     "name": "stdout",
     "output_type": "stream",
     "text": [
      "Total de filas: 10000\n",
      "Registros duplicados: 0\n",
      "\n",
      "Valores nulos por columna:\n",
      "+---------+------------+----------+----------+----------+------------------+------------+------------+-------------+------------+----------------+-----------------+----------+---------------------+---------------------------+---------+---------------+--------------+----------------+----------------+----------------+----------------------+---------------------------+---------------------+---------------------+\n",
      "|UNIQUE_ID|COLLISION_ID|CRASH_DATE|CRASH_TIME|VEHICLE_ID|STATE_REGISTRATION|VEHICLE_TYPE|VEHICLE_MAKE|VEHICLE_MODEL|VEHICLE_YEAR|TRAVEL_DIRECTION|VEHICLE_OCCUPANTS|DRIVER_SEX|DRIVER_LICENSE_STATUS|DRIVER_LICENSE_JURISDICTION|PRE_CRASH|POINT_OF_IMPACT|VEHICLE_DAMAGE|VEHICLE_DAMAGE_1|VEHICLE_DAMAGE_2|VEHICLE_DAMAGE_3|PUBLIC_PROPERTY_DAMAGE|PUBLIC_PROPERTY_DAMAGE_TYPE|CONTRIBUTING_FACTOR_1|CONTRIBUTING_FACTOR_2|\n",
      "+---------+------------+----------+----------+----------+------------------+------------+------------+-------------+------------+----------------+-----------------+----------+---------------------+---------------------------+---------+---------------+--------------+----------------+----------------+----------------+----------------------+---------------------------+---------------------+---------------------+\n",
      "|        0|           0|         0|         0|         0|                 0|           0|           0|            0|           0|               0|                0|         0|                    0|                          0|        0|              0|             0|               0|               0|               0|                     0|                          0|                    0|                    0|\n",
      "+---------+------------+----------+----------+----------+------------------+------------+------------+-------------+------------+----------------+-----------------+----------+---------------------+---------------------------+---------+---------------+--------------+----------------+----------------+----------------+----------------------+---------------------------+---------------------+---------------------+\n",
      "\n",
      "------------------------------------------------------------\n",
      "\n",
      "=== Reporte de calidad del dataset Pobreza ===\n"
     ]
    },
    {
     "name": "stderr",
     "output_type": "stream",
     "text": [
      "                                                                                "
     ]
    },
    {
     "name": "stdout",
     "output_type": "stream",
     "text": [
      "Total de filas: 68273\n",
      "Registros duplicados: 0\n",
      "\n",
      "Valores nulos por columna:\n",
      "+--------+-------+-----+----+----+---+---+---+----+----+---+---+----+---+---+---+---+----+---+----+---+---+---+--------+----+-------------+----------+-------------+-------------+--------+-----------+--------+-----------+-------------+--------+-------------+----------+---------------+---------+----------+--------+--------+--------+-------------+---------------+----------+----------------+------------+-------------+------+------+----------+-----------+---------------+--------+--------+--------+--------+-------+---------------+--------+\n",
      "|SERIALNO|SPORDER|PWGTP|WGTP|AGEP|CIT|REL|SCH|SCHG|SCHL|SEX|ESR|LANX|ENG|MSP|MAR|WKW|WKHP|DIS|JWTR| NP|TEN|HHT|AgeCateg|Boro|CitizenStatus|EducAttain|EST_Childcare|EST_Commuting|EST_EITC|EST_FICAtax|EST_HEAP|EST_Housing|EST_IncomeTax|EST_MOOP|EST_Nutrition|EST_PovGap|EST_PovGapIndex|Ethnicity|FamType_PU|FTPTWork|INTP_adj|MRGP_adj|NYCgov_Income|NYCgov_Pov_Stat|NYCgov_REL|NYCgov_Threshold|Off_Pov_Stat|Off_Threshold|OI_adj|PA_adj|Povunit_ID|Povunit_Rel|PreTaxIncome_PU|RETP_adj|RNTP_adj|SEMP_adj|SSIP_adj|SSP_adj|TotalWorkHrs_PU|WAGP_adj|\n",
      "+--------+-------+-----+----+----+---+---+---+----+----+---+---+----+---+---+---+---+----+---+----+---+---+---+--------+----+-------------+----------+-------------+-------------+--------+-----------+--------+-----------+-------------+--------+-------------+----------+---------------+---------+----------+--------+--------+--------+-------------+---------------+----------+----------------+------------+-------------+------+------+----------+-----------+---------------+--------+--------+--------+--------+-------+---------------+--------+\n",
      "|       0|      0|    0|   0|   0|  0|  0|  0|   0|   0|  0|  0|   0|  0|  0|  0|  0|   0|  0|   0|  0|  0|  0|       0|   0|            0|         0|            0|            0|       0|          0|       0|          0|            0|       0|            0|         0|              0|        0|         0|       0|       0|       0|            0|              0|         0|               0|           0|            0|     0|     0|         0|          0|              0|       0|       0|       0|       0|      0|              0|       0|\n",
      "+--------+-------+-----+----+----+---+---+---+----+----+---+---+----+---+---+---+---+----+---+----+---+---+---+--------+----+-------------+----------+-------------+-------------+--------+-----------+--------+-----------+-------------+--------+-------------+----------+---------------+---------+----------+--------+--------+--------+-------------+---------------+----------+----------------+------------+-------------+------+------+----------+-----------+---------------+--------+--------+--------+--------+-------+---------------+--------+\n",
      "\n",
      "------------------------------------------------------------\n",
      "\n",
      "=== Reporte de calidad del dataset SAT (Educación) ===\n",
      "Total de filas: 16\n",
      "Registros duplicados: 3\n",
      "\n",
      "Valores nulos por columna:\n",
      "+----------+----------+\n",
      "|Unnamed: 0|Unnamed: 1|\n",
      "+----------+----------+\n",
      "|         0|         0|\n",
      "+----------+----------+\n",
      "\n",
      "------------------------------------------------------------\n"
     ]
    }
   ],
   "source": [
    "from pyspark.sql import functions as F\n",
    "\n",
    "# Revisión de duplicados y valores nulos\n",
    "for nombre, df in {\n",
    "    \"Arrestos\": arrestos_df,\n",
    "    \"Colisiones\": colisiones_df,\n",
    "    \"Pobreza\": pobreza_df,\n",
    "    \"SAT (Educación)\": sat_df\n",
    "}.items():\n",
    "    print(f\"\\n=== Reporte de calidad del dataset {nombre} ===\")\n",
    "    \n",
    "    # Número total de filas\n",
    "    total = df.count()\n",
    "    \n",
    "    # Duplicados\n",
    "    duplicados = df.count() - df.dropDuplicates().count()\n",
    "    \n",
    "    # Valores nulos\n",
    "    nulos = df.select([\n",
    "        F.count(F.when(F.col(c).isNull(), c)).alias(c) for c in df.columns\n",
    "    ])\n",
    "    \n",
    "    print(f\"Total de filas: {total}\")\n",
    "    print(f\"Registros duplicados: {duplicados}\")\n",
    "    print(\"\\nValores nulos por columna:\")\n",
    "    nulos.show()\n",
    "    print(\"-\" * 60)"
   ]
  },
  {
   "cell_type": "markdown",
   "id": "ef30a4ab-1ae9-41e0-b2ab-50b7352d1a6e",
   "metadata": {},
   "source": [
    "**Filtros, Limpieza y Transformaciones Iniciales**"
   ]
  },
  {
   "cell_type": "code",
   "execution_count": 38,
   "id": "e6a90db8-9d99-468e-885b-c486926b934b",
   "metadata": {},
   "outputs": [
    {
     "name": "stderr",
     "output_type": "stream",
     "text": [
      "[Stage 204:====================================================>(165 + 3) / 168]"
     ]
    },
    {
     "name": "stdout",
     "output_type": "stream",
     "text": [
      "Registros totales: 143494\n",
      "Registros únicos:  143494\n",
      "Duplicados:        0\n"
     ]
    },
    {
     "name": "stderr",
     "output_type": "stream",
     "text": [
      "                                                                                "
     ]
    }
   ],
   "source": [
    "total = arrestos_df.count()\n",
    "sin_duplicados = arrestos_df.dropDuplicates().count()\n",
    "\n",
    "print(f\"Registros totales: {total}\")\n",
    "print(f\"Registros únicos:  {sin_duplicados}\")\n",
    "print(f\"Duplicados:        {total - sin_duplicados}\")"
   ]
  },
  {
   "cell_type": "code",
   "execution_count": 39,
   "id": "1b4ae767-8276-4ef5-9765-6b51fa90ebd1",
   "metadata": {},
   "outputs": [
    {
     "name": "stdout",
     "output_type": "stream",
     "text": [
      "Registros totales: 10000\n",
      "Registros únicos:  10000\n",
      "Duplicados:        0\n"
     ]
    }
   ],
   "source": [
    "total = colisiones_df.count()\n",
    "sin_duplicados = colisiones_df.dropDuplicates().count()\n",
    "\n",
    "print(f\"Registros totales: {total}\")\n",
    "print(f\"Registros únicos:  {sin_duplicados}\")\n",
    "print(f\"Duplicados:        {total - sin_duplicados}\")"
   ]
  },
  {
   "cell_type": "code",
   "execution_count": 40,
   "id": "ab4bf8a8-375e-46f7-85a0-65e8bbc04f5c",
   "metadata": {},
   "outputs": [
    {
     "name": "stderr",
     "output_type": "stream",
     "text": [
      "[Stage 222:====================================================>(167 + 1) / 168]"
     ]
    },
    {
     "name": "stdout",
     "output_type": "stream",
     "text": [
      "Registros totales: 68273\n",
      "Registros únicos:  68273\n",
      "Duplicados:        0\n"
     ]
    },
    {
     "name": "stderr",
     "output_type": "stream",
     "text": [
      "                                                                                "
     ]
    }
   ],
   "source": [
    "total = pobreza_df.count()\n",
    "sin_duplicados = pobreza_df.dropDuplicates().count()\n",
    "\n",
    "print(f\"Registros totales: {total}\")\n",
    "print(f\"Registros únicos:  {sin_duplicados}\")\n",
    "print(f\"Duplicados:        {total - sin_duplicados}\")"
   ]
  },
  {
   "cell_type": "code",
   "execution_count": 71,
   "id": "67c8dccc-6381-432a-a77d-090c77356df6",
   "metadata": {},
   "outputs": [
    {
     "name": "stderr",
     "output_type": "stream",
     "text": [
      "[Stage 350:===================================>                (114 + 24) / 168]"
     ]
    },
    {
     "name": "stdout",
     "output_type": "stream",
     "text": [
      "Registros totales: 460\n",
      "Registros únicos:  13\n",
      "Duplicados:        447\n"
     ]
    },
    {
     "name": "stderr",
     "output_type": "stream",
     "text": [
      "                                                                                "
     ]
    }
   ],
   "source": [
    "total = sat_real_df.count()\n",
    "sin_duplicados = sat_df.dropDuplicates().count()\n",
    "\n",
    "print(f\"Registros totales: {total}\")\n",
    "print(f\"Registros únicos:  {sin_duplicados}\")\n",
    "print(f\"Duplicados:        {total - sin_duplicados}\")"
   ]
  },
  {
   "cell_type": "code",
   "execution_count": 61,
   "id": "5956f26c-4d9d-4161-b3f8-3fbe2d3381d5",
   "metadata": {},
   "outputs": [],
   "source": [
    "#Verificar la calidad de los nulos y evitar falsos positivo\n",
    "from pyspark.sql.functions import when, col, trim, lower\n",
    "\n",
    "def normalizar_nulos(df):\n",
    "    for c in df.columns:\n",
    "        df = df.withColumn(\n",
    "            c,\n",
    "            when(\n",
    "                (trim(lower(col(c))).isin(\"\", \"na\", \"n/a\", \"null\", \"none\", \"NaN\")), None\n",
    "            ).otherwise(col(c))\n",
    "        )\n",
    "    return df\n",
    "\n",
    "arrestos_df = normalizar_nulos(arrestos_df)\n",
    "pobreza_df = normalizar_nulos(pobreza_df)\n",
    "colisiones_df = normalizar_nulos(colisiones_df)\n",
    "sat_real_df = normalizar_nulos(sat_real_df)"
   ]
  },
  {
   "cell_type": "code",
   "execution_count": 70,
   "id": "5d4927cb-257e-4a9a-80fa-4e1faa206806",
   "metadata": {},
   "outputs": [
    {
     "name": "stdout",
     "output_type": "stream",
     "text": [
      "=== Conteo de nulos reales SAT===\n"
     ]
    },
    {
     "name": "stderr",
     "output_type": "stream",
     "text": [
      "                                                                                "
     ]
    },
    {
     "name": "stdout",
     "output_type": "stream",
     "text": [
      "-RECORD 0--------------------\n",
      " DBN                   | 0   \n",
      " School Name           | 0   \n",
      " Number of Test Takers | 74  \n",
      " Critical Reading Mean | 74  \n",
      " Mathematics Mean      | 74  \n",
      " Writing Mean          | 74  \n",
      "\n",
      "=== Conteo de nulos reales Pobreza===\n"
     ]
    },
    {
     "name": "stderr",
     "output_type": "stream",
     "text": [
      "25/10/20 19:43:51 WARN DAGScheduler: Broadcasting large task binary with size 1120.1 KiB\n",
      "[Stage 344:===================================================> (163 + 5) / 168]"
     ]
    },
    {
     "name": "stdout",
     "output_type": "stream",
     "text": [
      "-RECORD 0-----------------\n",
      " SERIALNO         | 0     \n",
      " SPORDER          | 0     \n",
      " PWGTP            | 0     \n",
      " WGTP             | 0     \n",
      " AGEP             | 0     \n",
      " CIT              | 0     \n",
      " REL              | 0     \n",
      " SCH              | 0     \n",
      " SCHG             | 0     \n",
      " SCHL             | 2107  \n",
      " SEX              | 0     \n",
      " ESR              | 11798 \n",
      " LANX             | 3533  \n",
      " ENG              | 37557 \n",
      " MSP              | 11021 \n",
      " MAR              | 0     \n",
      " WKW              | 31394 \n",
      " WKHP             | 0     \n",
      " DIS              | 0     \n",
      " JWTR             | 34956 \n",
      " NP               | 0     \n",
      " TEN              | 0     \n",
      " HHT              | 0     \n",
      " AgeCateg         | 0     \n",
      " Boro             | 0     \n",
      " CitizenStatus    | 0     \n",
      " EducAttain       | 2107  \n",
      " EST_Childcare    | 0     \n",
      " EST_Commuting    | 0     \n",
      " EST_EITC         | 0     \n",
      " EST_FICAtax      | 0     \n",
      " EST_HEAP         | 0     \n",
      " EST_Housing      | 0     \n",
      " EST_IncomeTax    | 0     \n",
      " EST_MOOP         | 0     \n",
      " EST_Nutrition    | 0     \n",
      " EST_PovGap       | 0     \n",
      " EST_PovGapIndex  | 0     \n",
      " Ethnicity        | 0     \n",
      " FamType_PU       | 0     \n",
      " FTPTWork         | 0     \n",
      " INTP_adj         | 0     \n",
      " MRGP_adj         | 0     \n",
      " NYCgov_Income    | 0     \n",
      " NYCgov_Pov_Stat  | 0     \n",
      " NYCgov_REL       | 0     \n",
      " NYCgov_Threshold | 0     \n",
      " Off_Pov_Stat     | 0     \n",
      " Off_Threshold    | 0     \n",
      " OI_adj           | 0     \n",
      " PA_adj           | 0     \n",
      " Povunit_ID       | 0     \n",
      " Povunit_Rel      | 0     \n",
      " PreTaxIncome_PU  | 0     \n",
      " RETP_adj         | 0     \n",
      " RNTP_adj         | 0     \n",
      " SEMP_adj         | 0     \n",
      " SSIP_adj         | 0     \n",
      " SSP_adj          | 0     \n",
      " TotalWorkHrs_PU  | 0     \n",
      " WAGP_adj         | 0     \n",
      "\n"
     ]
    },
    {
     "name": "stderr",
     "output_type": "stream",
     "text": [
      "                                                                                "
     ]
    }
   ],
   "source": [
    "from pyspark.sql.functions import col, sum, isnan\n",
    "\n",
    "def contar_nulos_completo(df):\n",
    "    return df.select([\n",
    "        sum((col(c).isNull() | isnan(col(c))).cast(\"int\")).alias(c)\n",
    "        for c in df.columns\n",
    "    ])\n",
    "\n",
    "# Ejemplo con tu dataset SAT\n",
    "print(\"=== Conteo de nulos reales SAT===\")\n",
    "contar_nulos_completo(sat_real_df).show(vertical=True)\n",
    "\n",
    "print(\"=== Conteo de nulos reales Pobreza===\")\n",
    "contar_nulos_completo(pobreza_df).show(vertical=True)\n"
   ]
  },
  {
   "cell_type": "code",
   "execution_count": 89,
   "id": "cc27adaa-8006-476f-b4e5-59740ca7534f",
   "metadata": {},
   "outputs": [
    {
     "name": "stderr",
     "output_type": "stream",
     "text": [
      "                                                                                "
     ]
    },
    {
     "name": "stdout",
     "output_type": "stream",
     "text": [
      "Filas antes: 68273\n"
     ]
    },
    {
     "name": "stderr",
     "output_type": "stream",
     "text": [
      "[Stage 425:==================================================>  (160 + 8) / 168]"
     ]
    },
    {
     "name": "stdout",
     "output_type": "stream",
     "text": [
      "Filas después de limpiar: 33317\n"
     ]
    },
    {
     "name": "stderr",
     "output_type": "stream",
     "text": [
      "                                                                                "
     ]
    }
   ],
   "source": [
    "# Limpiar filas con valores nulos en las columnas numéricas\n",
    "pobreza_df_limpio = pobreza_df.na.drop(subset=[\"WKW\", \"JWTR\", \"EducAttain\"])\n",
    "\n",
    "# Confirmar número de filas antes y después de limpiar\n",
    "print(\"Filas antes:\", pobreza_df.count())\n",
    "print(\"Filas después de limpiar:\", pobreza_df_limpio.count())"
   ]
  },
  {
   "cell_type": "markdown",
   "id": "acfa10ee-99ca-4820-8de1-8859c8050d63",
   "metadata": {},
   "source": [
    "Con los valores nulos normalizados se toma la decision de no borrar o llenar la informacion de forma precipitada y en su lugar transformar atributos valiosos para representarlos y sugerir preguntas de negocio"
   ]
  },
  {
   "cell_type": "code",
   "execution_count": 107,
   "id": "d8a817a4-edca-4286-b45a-7fe8c14d716c",
   "metadata": {},
   "outputs": [],
   "source": [
    "pobreza_df02 = pobreza_df.withColumn(\"Sexo\", F.when((pobreza_df.SEX == 2),'Female')\n",
    "    .when((pobreza_df.SEX == 1),'Male')\n",
    "    .otherwise('NI')\n",
    "                      )"
   ]
  },
  {
   "cell_type": "code",
   "execution_count": 102,
   "id": "332ec39d-3eb2-4397-8829-fc7ef85370ba",
   "metadata": {},
   "outputs": [],
   "source": [
    "pobreza_df03 = pobreza_df02.withColumn(\"Matriculado\", F.when((pobreza_df02.SCH == 1),'No asistio')\n",
    "    .when((pobreza_df02.SCH == 2),'Publica')\n",
    "    .when((pobreza_df02.SCH == 3),'Privada')\n",
    "    .otherwise('N/A')\n",
    "                      )"
   ]
  },
  {
   "cell_type": "code",
   "execution_count": 103,
   "id": "13b85475-7c07-4b41-b499-2d56017497bd",
   "metadata": {},
   "outputs": [],
   "source": [
    "pobreza_df04 = pobreza_df03.withColumn(\"Estado Civil\", F.when((pobreza_df03.MAR == 1),'Casado')\n",
    "    .when((pobreza_df03.MAR== 2),'Viudo')\n",
    "    .when((pobreza_df03.MAR== 3),'Divorciado')\n",
    "    .when((pobreza_df03.MAR== 4),'Separado')\n",
    "    .otherwise('Nunca se caso')\n",
    "                      )"
   ]
  },
  {
   "cell_type": "code",
   "execution_count": 104,
   "id": "1e5ecd60-81b8-4304-8d72-474f3db5b372",
   "metadata": {},
   "outputs": [],
   "source": [
    "pobreza_df05 = pobreza_df04.withColumn(\"Etnicidad\", F.when((pobreza_df04.Ethnicity == 1),'Blanco')\n",
    "    .when((pobreza_df04.Ethnicity== 2),'Negro')\n",
    "    .when((pobreza_df04.Ethnicity== 3),'Asiatico')\n",
    "    .when((pobreza_df04.Ethnicity== 4),'Hispano')\n",
    "    .otherwise('Otro')\n",
    "                      )"
   ]
  },
  {
   "cell_type": "code",
   "execution_count": 121,
   "id": "c85f26b1-07d4-4e29-b316-b100b2e6941a",
   "metadata": {},
   "outputs": [
    {
     "name": "stdout",
     "output_type": "stream",
     "text": [
      "+--------+-------+-----+----+----+---+---+---+----+----+---+---+----+---+---+---+---+----+---+----+---+---+---+--------+----+-------------+----------+-------------+-------------+--------+-----------+--------+-----------+-------------+---------+-------------+----------+---------------+---------+----------+--------+---------+---------+-------------+---------------+----------+----------------+------------+-------------+------+------+----------+-----------+---------------+--------+--------+--------+--------+---------+---------------+---------+------+-----------+-------------+---------+\n",
      "|SERIALNO|SPORDER|PWGTP|WGTP|AGEP|CIT|REL|SCH|SCHG|SCHL|SEX|ESR|LANX|ENG|MSP|MAR|WKW|WKHP|DIS|JWTR| NP|TEN|HHT|AgeCateg|Boro|CitizenStatus|EducAttain|EST_Childcare|EST_Commuting|EST_EITC|EST_FICAtax|EST_HEAP|EST_Housing|EST_IncomeTax| EST_MOOP|EST_Nutrition|EST_PovGap|EST_PovGapIndex|Ethnicity|FamType_PU|FTPTWork| INTP_adj| MRGP_adj|NYCgov_Income|NYCgov_Pov_Stat|NYCgov_REL|NYCgov_Threshold|Off_Pov_Stat|Off_Threshold|OI_adj|PA_adj|Povunit_ID|Povunit_Rel|PreTaxIncome_PU|RETP_adj|RNTP_adj|SEMP_adj|SSIP_adj|  SSP_adj|TotalWorkHrs_PU| WAGP_adj|  Sexo|Matriculado| Estado Civil|Etnicidad|\n",
      "+--------+-------+-----+----+----+---+---+---+----+----+---+---+----+---+---+---+---+----+---+----+---+---+---+--------+----+-------------+----------+-------------+-------------+--------+-----------+--------+-----------+-------------+---------+-------------+----------+---------------+---------+----------+--------+---------+---------+-------------+---------------+----------+----------------+------------+-------------+------+------+----------+-----------+---------------+--------+--------+--------+--------+---------+---------------+---------+------+-----------+-------------+---------+\n",
      "|       1|      1|   95|  95|  31|  1|  0|  1|   0|22.0|  2|1.0| 2.0|NaN|6.0|  5|1.0|  60|  2|12.0|  1|  2|  6|       2|   2|            1|       4.0|          0.0|       1722.0|     0.0|  9765.2422|     0.0|  1478.3278|    33580.543|   2642.8|          0.0|       0.0|            0.0|        4|         8|       1|      0.0|      0.0|    81417.961|              2|         0|         16241.6|           2|        13064|   0.0|   0.0|         1|          1|      127650.22|     0.0|     0.0|     0.0|     0.0|      0.0|              2|127650.22|Female| No asistio|Nunca se caso|  Hispano|\n",
      "|      16|      1|  181| 181|  63|  1|  0|  1|   0|22.0|  2|1.0| 2.0|NaN|1.0|  1|1.0|  60|  2| 1.0|  2|  1|  1|       2|   3|            1|       4.0|          0.0|    3840.8416|     0.0|  13950.346|     0.0|        0.0|    95503.234|4766.7998|          0.0|       0.0|            0.0|        1|         2|       1| 101309.7|2532.7424|    228417.95|              2|         0|       22900.654|           2|        16815|   0.0|   0.0|         1|          1|      346479.19|     0.0|     0.0|     0.0|     0.0|      0.0|              2|182357.45|Female| No asistio|       Casado|   Blanco|\n",
      "|      16|      2|  210| 181|  65|  1|  1|  1|   0|19.0|  1|6.0| 2.0|NaN|1.0|  1|NaN|   0|  2| NaN|  2|  1|  1|       3|   3|            1|       3.0|          0.0|    3840.8416|     0.0|  13950.346|     0.0|        0.0|    95503.234|4766.7998|          0.0|       0.0|            0.0|        1|         2|       3|50654.852|2532.7424|    228417.95|              2|         1|       22900.654|           2|        16815|   0.0|   0.0|         1|          2|      346479.19|     0.0|     0.0|     0.0|     0.0|12157.164|              2|      0.0|  Male| No asistio|       Casado|   Blanco|\n",
      "|      47|      1|   62|  62|  68|  4|  0|  1|   0| 1.0|  1|1.0| 1.0|2.0|1.0|  1|1.0|  40|  2|10.0|  2|  2|  1|       3|   2|            2|       1.0|          0.0|          0.0|     0.0|  9765.2422|     0.0|  2612.8022|    27574.365|   3218.8|          0.0|       0.0|            0.0|        1|         2|       1|      0.0|      0.0|    117058.23|              2|         0|       22900.654|           2|        15178|   0.0|   0.0|         1|          1|      155003.84|     0.0|     0.0|     0.0|     0.0|27353.619|              1|91178.727|  Male| No asistio|       Casado|   Blanco|\n",
      "|      47|      2|   71|  62|  63|  4|  1|  1|   0| 1.0|  2|1.0| 1.0|1.0|1.0|  1|1.0|  40|  2|10.0|  2|  2|  1|       2|   2|            2|       1.0|          0.0|          0.0|     0.0|  9765.2422|     0.0|  2612.8022|    27574.365|   3218.8|          0.0|       0.0|            0.0|        1|         2|       1|      0.0|      0.0|    117058.23|              2|         1|       22900.654|           2|        15178|   0.0|   0.0|         1|          2|      155003.84|     0.0|     0.0|     0.0|     0.0|      0.0|              1|36471.492|Female| No asistio|       Casado|   Blanco|\n",
      "+--------+-------+-----+----+----+---+---+---+----+----+---+---+----+---+---+---+---+----+---+----+---+---+---+--------+----+-------------+----------+-------------+-------------+--------+-----------+--------+-----------+-------------+---------+-------------+----------+---------------+---------+----------+--------+---------+---------+-------------+---------------+----------+----------------+------------+-------------+------+------+----------+-----------+---------------+--------+--------+--------+--------+---------+---------------+---------+------+-----------+-------------+---------+\n",
      "only showing top 5 rows\n",
      "\n"
     ]
    },
    {
     "name": "stderr",
     "output_type": "stream",
     "text": [
      "25/10/20 20:35:18 WARN DAGScheduler: Broadcasting large task binary with size 1036.2 KiB\n"
     ]
    }
   ],
   "source": [
    "pobreza_df05.show(5)\n"
   ]
  },
  {
   "cell_type": "code",
   "execution_count": 122,
   "id": "35a11433-5b7a-4df3-aa3d-11695266e4ce",
   "metadata": {},
   "outputs": [],
   "source": [
    "#Se define un grafico para evaluar la distribucion de ciertas variables claves y se evalua sobre las tranformaciones de la tabla de pobreza\n",
    "def grafico_distribucion(df, columna, top_n=10):\n",
    "    \"\"\"\n",
    "    Muestra un gráfico de barras con la distribución de una columna cualitativa.\n",
    "    \n",
    "    Args:\n",
    "        df (DataFrame): DataFrame de Spark\n",
    "        columna (str): nombre de la columna a graficar\n",
    "        top_n (int): número de categorías más frecuentes a mostrar\n",
    "    \"\"\"\n",
    "    # 1️⃣ Contar las frecuencias en Spark\n",
    "    conteo = (\n",
    "        df.groupBy(columna)\n",
    "          .agg(count(\"*\").alias(\"Frecuencia\"))\n",
    "          .orderBy(col(\"Frecuencia\").desc())\n",
    "          .limit(top_n)\n",
    "    )\n",
    "    \n",
    "    # 2️⃣ Convertir a Pandas para graficar\n",
    "    conteo_pd = conteo.toPandas()\n",
    "    \n",
    "    # 3️⃣ Crear el gráfico\n",
    "    plt.figure(figsize=(10, 6))\n",
    "    sns.barplot(data=conteo_pd, x=\"Frecuencia\", y=columna, palette=\"viridis\")\n",
    "    plt.title(f\"Distribución de '{columna}' \")\n",
    "    plt.xlabel(\"Frecuencia\")\n",
    "    plt.ylabel(columna)\n",
    "    plt.tight_layout()\n",
    "    plt.show()"
   ]
  },
  {
   "cell_type": "code",
   "execution_count": 123,
   "id": "d85ceab8-fba5-48ee-b020-bbbb8070fc17",
   "metadata": {},
   "outputs": [
    {
     "name": "stderr",
     "output_type": "stream",
     "text": [
      "/tmp/ipykernel_3081455/18107117.py:24: FutureWarning:                           \n",
      "\n",
      "Passing `palette` without assigning `hue` is deprecated and will be removed in v0.14.0. Assign the `y` variable to `hue` and set `legend=False` for the same effect.\n",
      "\n",
      "  sns.barplot(data=conteo_pd, x=\"Frecuencia\", y=columna, palette=\"viridis\")\n"
     ]
    },
    {
     "data": {
      "image/png": "[encoded data removed]",
      "text/plain": [
       "<Figure size 1000x600 with 1 Axes>"
      ]
     },
     "metadata": {},
     "output_type": "display_data"
    }
   ],
   "source": [
    "grafico_distribucion(pobreza_df05, \"Sexo\", top_n=3)"
   ]
  },
  {
   "cell_type": "code",
   "execution_count": 124,
   "id": "b12cd22c-1803-49cb-a89b-3eab2bdb9b40",
   "metadata": {},
   "outputs": [
    {
     "name": "stderr",
     "output_type": "stream",
     "text": [
      "/tmp/ipykernel_3081455/18107117.py:24: FutureWarning:                           \n",
      "\n",
      "Passing `palette` without assigning `hue` is deprecated and will be removed in v0.14.0. Assign the `y` variable to `hue` and set `legend=False` for the same effect.\n",
      "\n",
      "  sns.barplot(data=conteo_pd, x=\"Frecuencia\", y=columna, palette=\"viridis\")\n"
     ]
    },
    {
     "data": {
      "image/png": "[encoded data removed]",
      "text/plain": [
       "<Figure size 1000x600 with 1 Axes>"
      ]
     },
     "metadata": {},
     "output_type": "display_data"
    }
   ],
   "source": [
    "grafico_distribucion(pobreza_df05, \"Matriculado\", top_n=4)"
   ]
  },
  {
   "cell_type": "code",
   "execution_count": 125,
   "id": "a4c6b614-2e3a-4cd4-a209-eee55cab8e7c",
   "metadata": {},
   "outputs": [
    {
     "name": "stderr",
     "output_type": "stream",
     "text": [
      "/tmp/ipykernel_3081455/18107117.py:24: FutureWarning:                           \n",
      "\n",
      "Passing `palette` without assigning `hue` is deprecated and will be removed in v0.14.0. Assign the `y` variable to `hue` and set `legend=False` for the same effect.\n",
      "\n",
      "  sns.barplot(data=conteo_pd, x=\"Frecuencia\", y=columna, palette=\"viridis\")\n"
     ]
    },
    {
     "data": {
      "image/png": "[encoded data removed]",
      "text/plain": [
       "<Figure size 1000x600 with 1 Axes>"
      ]
     },
     "metadata": {},
     "output_type": "display_data"
    }
   ],
   "source": [
    "grafico_distribucion(pobreza_df05, \"Estado Civil\", top_n=5)"
   ]
  },
  {
   "cell_type": "code",
   "execution_count": 126,
   "id": "c6839b4a-a867-45c9-b903-1e88697638f8",
   "metadata": {},
   "outputs": [
    {
     "name": "stderr",
     "output_type": "stream",
     "text": [
      "/tmp/ipykernel_3081455/18107117.py:24: FutureWarning:                           \n",
      "\n",
      "Passing `palette` without assigning `hue` is deprecated and will be removed in v0.14.0. Assign the `y` variable to `hue` and set `legend=False` for the same effect.\n",
      "\n",
      "  sns.barplot(data=conteo_pd, x=\"Frecuencia\", y=columna, palette=\"viridis\")\n"
     ]
    },
    {
     "data": {
      "image/png": "[encoded data removed]",
      "text/plain": [
       "<Figure size 1000x600 with 1 Axes>"
      ]
     },
     "metadata": {},
     "output_type": "display_data"
    }
   ],
   "source": [
    "grafico_distribucion(pobreza_df05, \"Etnicidad\", top_n=5)"
   ]
  },
  {
   "cell_type": "code",
   "execution_count": null,
   "id": "bec20ffa-3903-4842-ab37-becefc3ed697",
   "metadata": {},
   "outputs": [],
   "source": []
  }
 ],
 "metadata": {
  "kernelspec": {
   "display_name": "rapKernel_v4",
   "language": "python",
   "name": "rapkernel_v4"
  },
  "language_info": {
   "codemirror_mode": {
    "name": "ipython",
    "version": 3
   },
   "file_extension": ".py",
   "mimetype": "text/x-python",
   "name": "python",
   "nbconvert_exporter": "python",
   "pygments_lexer": "ipython3",
   "version": "3.12.3"
  }
 },
 "nbformat": 4,
 "nbformat_minor": 5
}
